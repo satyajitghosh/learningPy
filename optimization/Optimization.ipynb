{
 "cells": [
  {
   "cell_type": "code",
   "execution_count": 1,
   "id": "fb5e300a",
   "metadata": {},
   "outputs": [],
   "source": [
    "# Linear Programming Example"
   ]
  },
  {
   "cell_type": "code",
   "execution_count": 2,
   "id": "ac37e831",
   "metadata": {},
   "outputs": [
    {
     "data": {
      "text/plain": [
       "'\\nMaximize 100G + 125H\\nsubject to\\n3G + 6H <= 30\\n8G + 4H <= 44\\nG,H > =0\\n'"
      ]
     },
     "execution_count": 2,
     "metadata": {},
     "output_type": "execute_result"
    }
   ],
   "source": [
    "# Problem Statement\n",
    "'''\n",
    "Maximize 100G + 125H\n",
    "subject to\n",
    "3G + 6H <= 30\n",
    "8G + 4H <= 44\n",
    "G,H > =0\n",
    "'''"
   ]
  },
  {
   "cell_type": "code",
   "execution_count": 3,
   "id": "6c8a3da9",
   "metadata": {},
   "outputs": [],
   "source": [
    "from scipy.optimize import linprog\n",
    "C = [-100,-125]\n",
    "A = [[3,6],[8,4]]\n",
    "b=  [30,44]\n",
    "bound = (0,None)\n",
    "res = linprog(C,A_ub=A,b_ub=b,bounds=[bound,bound],method='highs')"
   ]
  },
  {
   "cell_type": "code",
   "execution_count": 4,
   "id": "b25f6d4b",
   "metadata": {},
   "outputs": [
    {
     "name": "stdout",
     "output_type": "stream",
     "text": [
      "Optimal Solution : G = 4.0, H = 3.0\n"
     ]
    }
   ],
   "source": [
    "print(f'Optimal Solution : G = {res.x[0]}, H = {res.x[1]}')"
   ]
  },
  {
   "cell_type": "code",
   "execution_count": 5,
   "id": "50224cb0",
   "metadata": {},
   "outputs": [
    {
     "name": "stdout",
     "output_type": "stream",
     "text": [
      "Max Value = 775.0\n"
     ]
    }
   ],
   "source": [
    "print(f'Max Value = {-res.fun}')"
   ]
  },
  {
   "cell_type": "code",
   "execution_count": 6,
   "id": "4adc19e7",
   "metadata": {},
   "outputs": [],
   "source": [
    "## Quadratic Programming (with Linear constraints)"
   ]
  },
  {
   "cell_type": "code",
   "execution_count": 7,
   "id": "4db5c41d",
   "metadata": {},
   "outputs": [
    {
     "data": {
      "text/plain": [
       "'\\nMinimize 0.5 X.T*Q*X + PX\\nsubject to GX >= H\\n'"
      ]
     },
     "execution_count": 7,
     "metadata": {},
     "output_type": "execute_result"
    }
   ],
   "source": [
    "# Problem statement\n",
    "'''\n",
    "Minimize 0.5 X.T*Q*X + PX\n",
    "subject to GX >= H\n",
    "'''"
   ]
  },
  {
   "cell_type": "code",
   "execution_count": 8,
   "id": "bbe8b243",
   "metadata": {},
   "outputs": [],
   "source": [
    "import numpy as np\n",
    "Q = np.array([[1,0],[0,2]])\n",
    "P = np.array([1,2])\n",
    "G = np.array([[1,1],[1,2],[2,1]])\n",
    "H = np.array([3,4,5])\n",
    "x0 = np.array([0,0])"
   ]
  },
  {
   "cell_type": "code",
   "execution_count": 9,
   "id": "4fa87519",
   "metadata": {},
   "outputs": [
    {
     "name": "stdout",
     "output_type": "stream",
     "text": [
      "Optimal Solution = [2. 1.]\n",
      "Function value = 7.000000000000006\n"
     ]
    }
   ],
   "source": [
    "from scipy.optimize import minimize\n",
    "\n",
    "def objective_function(X):\n",
    "    return 0.5* X @ Q @ X + P @ X\n",
    "def constraint(X):\n",
    "    return G @ X - H\n",
    "\n",
    "con = {'type':'ineq','fun': constraint}\n",
    "b = (0,10) \n",
    "bnds = (b,b)\n",
    "opt = {'maxiter':1000}\n",
    "\n",
    "res = minimize(objective_function,x0,constraints=con,bounds=bnds,options=opt,method='SLSQP')\n",
    "print(f'Optimal Solution = {res.x}')\n",
    "print(f'Function value = {res.fun}')"
   ]
  },
  {
   "cell_type": "code",
   "execution_count": 10,
   "id": "392acf10",
   "metadata": {},
   "outputs": [],
   "source": [
    "# Non Linear Programming"
   ]
  },
  {
   "cell_type": "code",
   "execution_count": 11,
   "id": "2c57a90c",
   "metadata": {},
   "outputs": [
    {
     "data": {
      "text/plain": [
       "'\\nminimize x0*x3*(x0 + x1 + x2) + x2\\n\\nsubject to:\\nx0 * x1 * x2 *x3 >= 25\\nx0^2 + x1^2 + x2^2 + x3^2 = 40\\n\\n1 <= X <=5\\nx_init = (1,5,5,1)\\n\\n'"
      ]
     },
     "execution_count": 11,
     "metadata": {},
     "output_type": "execute_result"
    }
   ],
   "source": [
    "'''\n",
    "minimize x0*x3*(x0 + x1 + x2) + x2\n",
    "\n",
    "subject to:\n",
    "x0 * x1 * x2 *x3 >= 25\n",
    "x0^2 + x1^2 + x2^2 + x3^2 = 40\n",
    "\n",
    "1 <= X <=5\n",
    "x_init = (1,5,5,1)\n",
    "\n",
    "''' "
   ]
  },
  {
   "cell_type": "code",
   "execution_count": 12,
   "id": "e6e02a1a",
   "metadata": {},
   "outputs": [
    {
     "name": "stdout",
     "output_type": "stream",
     "text": [
      "Optimal Solution = [1.         4.7429961  3.82115462 1.37940765]\n",
      "Function value = 17.01401724563517\n"
     ]
    }
   ],
   "source": [
    "from scipy.optimize import minimize\n",
    "def objective_function(x):\n",
    "    return x[0]*x[3]*(x[0]+x[1]+x[2]) +x[2]\n",
    "def constraint1(x):\n",
    "    return x[0]*x[1]*x[2]*x[3] - 25.0\n",
    "def constraint2(x):\n",
    "    sum_eq = 40.0\n",
    "    for i in range(len(x)):\n",
    "        sum_eq = sum_eq - x[i]**2\n",
    "    return sum_eq\n",
    "# optimize\n",
    "b = (1.0,5.0)\n",
    "x0 = [1,5,5,1]\n",
    "bnds = (b,b,b,b)\n",
    "con1 = {'type':'ineq','fun':constraint1}\n",
    "con2 = {'type':'eq','fun':constraint2}\n",
    "cons = ([con1,con2])\n",
    "solution = minimize(objective_function,x0,method='SLSQP',bounds=bnds,constraints=cons)\n",
    "\n",
    "print(f'Optimal Solution = {solution.x}')\n",
    "print(f'Function value = {solution.fun}')"
   ]
  },
  {
   "cell_type": "code",
   "execution_count": 13,
   "id": "67db6be1",
   "metadata": {},
   "outputs": [],
   "source": [
    "## Mixed Integer Linear Programming#\n",
    "## Basically we say that some or all of the variables X can take only certain discrete values..\n",
    "## Examples x in [0,1,2,3...] | x in [0,0.5,1,1.5,2,...]"
   ]
  },
  {
   "cell_type": "code",
   "execution_count": 14,
   "id": "f0c1f88f",
   "metadata": {},
   "outputs": [],
   "source": [
    "from scipy.optimize import linprog\n",
    "\n",
    "# Define the objective function\n",
    "c = [-1,4] # minimize fn: -x + 4y\n",
    "\n",
    "# Define the constraints\n",
    "A_u = np.array([[3,2],[1,5]])\n",
    "b_u = np.array([10,10])\n",
    "# Define the bounds\n",
    "b = (0,10)\n",
    "res = linprog(c,A_ub=A_u,b_ub=b_u,bounds=(b,b),integrality=[1,1])"
   ]
  },
  {
   "cell_type": "code",
   "execution_count": 15,
   "id": "49919c82",
   "metadata": {},
   "outputs": [
    {
     "name": "stdout",
     "output_type": "stream",
     "text": [
      "Optimal Solution = [3. 0.]\n",
      "Function value = -3.0\n"
     ]
    }
   ],
   "source": [
    "print(f'Optimal Solution = {res.x}')\n",
    "print(f'Function value = {res.fun}')"
   ]
  },
  {
   "cell_type": "code",
   "execution_count": 16,
   "id": "ae86587b",
   "metadata": {},
   "outputs": [],
   "source": [
    "# Mixed Integer Non Linear Programming\n",
    "# This functionality is not available in scipy optimize yet.\n",
    "# May be availabe in future. Need to check."
   ]
  },
  {
   "cell_type": "code",
   "execution_count": 22,
   "id": "8a70919f",
   "metadata": {
    "scrolled": true
   },
   "outputs": [
    {
     "name": "stdout",
     "output_type": "stream",
     "text": [
      "x1 = 10.0\n",
      "x2 = 2.0\n",
      "x3 = 0.5\n"
     ]
    }
   ],
   "source": [
    "from gekko import GEKKO\n",
    "m = GEKKO()\n",
    "x1 = m.Var(integer=True,lb=-5,ub=10)\n",
    "x2 = m.Var(integer=True,lb=-1,ub=2)\n",
    "x3 = m.Var(lb=0)\n",
    "m.Minimize(4*x1**2-4*x2*x1**2+x2**2+x1**2-x1+x3**2)\n",
    "m.Equation(x3*x2>=1)\n",
    "m.options.SOLVER=1\n",
    "m.solve(disp=False)\n",
    "print(f'x1 = {x1.value[0]}')\n",
    "print(f'x2 = {x2.value[0]}')\n",
    "print(f'x3 = {x3.value[0]}')"
   ]
  },
  {
   "cell_type": "code",
   "execution_count": null,
   "id": "55eedcdf",
   "metadata": {},
   "outputs": [],
   "source": []
  }
 ],
 "metadata": {
  "kernelspec": {
   "display_name": "Python 3",
   "language": "python",
   "name": "python3"
  },
  "language_info": {
   "codemirror_mode": {
    "name": "ipython",
    "version": 3
   },
   "file_extension": ".py",
   "mimetype": "text/x-python",
   "name": "python",
   "nbconvert_exporter": "python",
   "pygments_lexer": "ipython3",
   "version": "3.8.17"
  }
 },
 "nbformat": 4,
 "nbformat_minor": 5
}
