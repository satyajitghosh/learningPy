{
 "cells": [
  {
   "cell_type": "markdown",
   "id": "216434a3",
   "metadata": {},
   "source": [
    "### Numpy, Pandas and Matplotlib"
   ]
  },
  {
   "cell_type": "markdown",
   "id": "9848f6b3",
   "metadata": {},
   "source": [
    "We have a simple example, where we try to compute the yield per hectare of apples, using the values of three variables - temperature, rainfall, and humidity. The weights for each variable are stored in a separate list."
   ]
  },
  {
   "cell_type": "code",
   "execution_count": 1,
   "id": "63e89a0c",
   "metadata": {},
   "outputs": [],
   "source": [
    "weights = [0.3, 0.2, 0.5]\n",
    "kanto = [73,67,43]\n",
    "johto = [91,88,64]\n",
    "hoen = [87,134,58]\n",
    "sinnoh = [102,43,37]\n",
    "unova = [69,96,70]\n",
    "\n",
    "def crop_yield(region,weights):\n",
    "    result = 0\n",
    "    for x,w in zip(region,weights):\n",
    "        result += x*w\n",
    "    return(result)"
   ]
  },
  {
   "cell_type": "code",
   "execution_count": 2,
   "id": "19e4ee5b",
   "metadata": {},
   "outputs": [
    {
     "data": {
      "text/plain": [
       "56.8"
      ]
     },
     "execution_count": 2,
     "metadata": {},
     "output_type": "execute_result"
    }
   ],
   "source": [
    "crop_yield(kanto,weights)"
   ]
  },
  {
   "cell_type": "code",
   "execution_count": 3,
   "id": "98be9e8d",
   "metadata": {},
   "outputs": [
    {
     "data": {
      "text/plain": [
       "57.699999999999996"
      ]
     },
     "execution_count": 3,
     "metadata": {},
     "output_type": "execute_result"
    }
   ],
   "source": [
    "crop_yield(sinnoh,weights)"
   ]
  },
  {
   "cell_type": "markdown",
   "id": "dc4bbb3a",
   "metadata": {},
   "source": [
    "Note that the zip function returns pairs of tuples, with the first element of the pair taken from the first list and the second taken from the second list. In short, it computes the dot product of the two lists."
   ]
  },
  {
   "cell_type": "code",
   "execution_count": 4,
   "id": "9d47a64a",
   "metadata": {},
   "outputs": [],
   "source": [
    "import numpy as np\n",
    "kanto = np.array(kanto)\n",
    "weights = np.array(weights)"
   ]
  },
  {
   "cell_type": "code",
   "execution_count": 5,
   "id": "ceb85ecc",
   "metadata": {},
   "outputs": [
    {
     "data": {
      "text/plain": [
       "numpy.ndarray"
      ]
     },
     "execution_count": 5,
     "metadata": {},
     "output_type": "execute_result"
    }
   ],
   "source": [
    "type(kanto)"
   ]
  },
  {
   "cell_type": "code",
   "execution_count": 6,
   "id": "f424ab77",
   "metadata": {},
   "outputs": [
    {
     "data": {
      "text/plain": [
       "numpy.ndarray"
      ]
     },
     "execution_count": 6,
     "metadata": {},
     "output_type": "execute_result"
    }
   ],
   "source": [
    "type(weights)"
   ]
  },
  {
   "cell_type": "markdown",
   "id": "3e674c93",
   "metadata": {},
   "source": [
    "Next, we can use the np.dot function to compute the dot product of the two np arrrays we created."
   ]
  },
  {
   "cell_type": "code",
   "execution_count": 7,
   "id": "460921b9",
   "metadata": {},
   "outputs": [
    {
     "data": {
      "text/plain": [
       "56.8"
      ]
     },
     "execution_count": 7,
     "metadata": {},
     "output_type": "execute_result"
    }
   ],
   "source": [
    "np.dot(kanto,weights)"
   ]
  },
  {
   "cell_type": "code",
   "execution_count": 8,
   "id": "547ad7d1",
   "metadata": {},
   "outputs": [
    {
     "data": {
      "text/plain": [
       "56.8"
      ]
     },
     "execution_count": 8,
     "metadata": {},
     "output_type": "execute_result"
    }
   ],
   "source": [
    "(kanto*weights).sum()"
   ]
  },
  {
   "cell_type": "markdown",
   "id": "2a6bb580",
   "metadata": {},
   "source": [
    "### Examples to check the performance of numpy arrays vs lists"
   ]
  },
  {
   "cell_type": "code",
   "execution_count": 9,
   "id": "5a586936",
   "metadata": {},
   "outputs": [],
   "source": [
    "arr1 = list(range(1000000))\n",
    "arr2 = list(range(1000000,2000000))\n",
    "arr1_np = np.array(arr1)\n",
    "arr2_np = np.array(arr2)"
   ]
  },
  {
   "cell_type": "code",
   "execution_count": 10,
   "id": "aa22f3fe",
   "metadata": {},
   "outputs": [
    {
     "name": "stdout",
     "output_type": "stream",
     "text": [
      "Wall time: 268 ms\n"
     ]
    },
    {
     "data": {
      "text/plain": [
       "833332333333500000"
      ]
     },
     "execution_count": 10,
     "metadata": {},
     "output_type": "execute_result"
    }
   ],
   "source": [
    "%%time\n",
    "result = 0\n",
    "for x1,x2 in zip(arr1,arr2):\n",
    "    result += x1*x2\n",
    "result"
   ]
  },
  {
   "cell_type": "code",
   "execution_count": 11,
   "id": "83f63a82",
   "metadata": {},
   "outputs": [
    {
     "name": "stdout",
     "output_type": "stream",
     "text": [
      "Wall time: 2 ms\n"
     ]
    },
    {
     "data": {
      "text/plain": [
       "-1942957984"
      ]
     },
     "execution_count": 11,
     "metadata": {},
     "output_type": "execute_result"
    }
   ],
   "source": [
    "%%time\n",
    "np.dot(arr1_np,arr2_np)"
   ]
  },
  {
   "cell_type": "markdown",
   "id": "3982ad97",
   "metadata": {},
   "source": [
    "### Multi Deimensional Numpy Arrays"
   ]
  },
  {
   "cell_type": "code",
   "execution_count": 13,
   "id": "f93599b4",
   "metadata": {},
   "outputs": [],
   "source": [
    "climate_data = np.array(\n",
    "                        [[73,67,43],\n",
    "                        [91,88,64],\n",
    "                        [87,134,58],\n",
    "                        [102,43,37],\n",
    "                        [69,96,70]]\n",
    "                        )"
   ]
  },
  {
   "cell_type": "code",
   "execution_count": 14,
   "id": "f653e45c",
   "metadata": {},
   "outputs": [
    {
     "data": {
      "text/plain": [
       "array([[ 73,  67,  43],\n",
       "       [ 91,  88,  64],\n",
       "       [ 87, 134,  58],\n",
       "       [102,  43,  37],\n",
       "       [ 69,  96,  70]])"
      ]
     },
     "execution_count": 14,
     "metadata": {},
     "output_type": "execute_result"
    }
   ],
   "source": [
    "climate_data"
   ]
  },
  {
   "cell_type": "code",
   "execution_count": 15,
   "id": "f1b6e50a",
   "metadata": {},
   "outputs": [
    {
     "data": {
      "text/plain": [
       "(5, 3)"
      ]
     },
     "execution_count": 15,
     "metadata": {},
     "output_type": "execute_result"
    }
   ],
   "source": [
    "climate_data.shape"
   ]
  },
  {
   "cell_type": "code",
   "execution_count": 16,
   "id": "e5a23580",
   "metadata": {},
   "outputs": [
    {
     "data": {
      "text/plain": [
       "dtype('int32')"
      ]
     },
     "execution_count": 16,
     "metadata": {},
     "output_type": "execute_result"
    }
   ],
   "source": [
    "climate_data.dtype"
   ]
  },
  {
   "cell_type": "code",
   "execution_count": 17,
   "id": "df4c5a66",
   "metadata": {},
   "outputs": [
    {
     "data": {
      "text/plain": [
       "array([56.8, 76.9, 81.9, 57.7, 74.9])"
      ]
     },
     "execution_count": 17,
     "metadata": {},
     "output_type": "execute_result"
    }
   ],
   "source": [
    "np.matmul(climate_data,weights)"
   ]
  },
  {
   "cell_type": "code",
   "execution_count": 18,
   "id": "9a3a324d",
   "metadata": {},
   "outputs": [
    {
     "data": {
      "text/plain": [
       "array([56.8, 76.9, 81.9, 57.7, 74.9])"
      ]
     },
     "execution_count": 18,
     "metadata": {},
     "output_type": "execute_result"
    }
   ],
   "source": [
    "climate_data @ weights"
   ]
  },
  {
   "cell_type": "markdown",
   "id": "504e9263",
   "metadata": {},
   "source": [
    "Note - the @ symbol stands for matrix multiplication in numpy"
   ]
  },
  {
   "cell_type": "code",
   "execution_count": 19,
   "id": "8ad60a58",
   "metadata": {},
   "outputs": [
    {
     "data": {
      "text/plain": [
       "('climate.txt', <http.client.HTTPMessage at 0x22676928970>)"
      ]
     },
     "execution_count": 19,
     "metadata": {},
     "output_type": "execute_result"
    }
   ],
   "source": [
    "import urllib.request\n",
    "urllib.request.urlretrieve('https://hub.jovian.ml/wp-content/uploads/2020/08/climate.csv','climate.txt')"
   ]
  },
  {
   "cell_type": "code",
   "execution_count": 21,
   "id": "dd2ee3db",
   "metadata": {},
   "outputs": [],
   "source": [
    "climate_data = np.genfromtxt('climate.txt',delimiter=',',skip_header=1)"
   ]
  },
  {
   "cell_type": "code",
   "execution_count": 22,
   "id": "f2318786",
   "metadata": {},
   "outputs": [
    {
     "data": {
      "text/plain": [
       "array([[25., 76., 99.],\n",
       "       [39., 65., 70.],\n",
       "       [59., 45., 77.],\n",
       "       ...,\n",
       "       [99., 62., 58.],\n",
       "       [70., 71., 91.],\n",
       "       [92., 39., 76.]])"
      ]
     },
     "execution_count": 22,
     "metadata": {},
     "output_type": "execute_result"
    }
   ],
   "source": [
    "climate_data"
   ]
  },
  {
   "cell_type": "code",
   "execution_count": 23,
   "id": "d6625419",
   "metadata": {},
   "outputs": [
    {
     "data": {
      "text/plain": [
       "(10000, 3)"
      ]
     },
     "execution_count": 23,
     "metadata": {},
     "output_type": "execute_result"
    }
   ],
   "source": [
    "climate_data.shape"
   ]
  },
  {
   "cell_type": "code",
   "execution_count": 24,
   "id": "d89b0b79",
   "metadata": {},
   "outputs": [],
   "source": [
    "yields = climate_data @ weights"
   ]
  },
  {
   "cell_type": "code",
   "execution_count": 25,
   "id": "3fa2debd",
   "metadata": {},
   "outputs": [
    {
     "data": {
      "text/plain": [
       "(10000,)"
      ]
     },
     "execution_count": 25,
     "metadata": {},
     "output_type": "execute_result"
    }
   ],
   "source": [
    "yields.shape"
   ]
  },
  {
   "cell_type": "code",
   "execution_count": 26,
   "id": "5b074bd4",
   "metadata": {},
   "outputs": [
    {
     "data": {
      "text/plain": [
       "array([72.2, 59.7, 65.2, ..., 71.1, 80.7, 73.4])"
      ]
     },
     "execution_count": 26,
     "metadata": {},
     "output_type": "execute_result"
    }
   ],
   "source": [
    "yields"
   ]
  },
  {
   "cell_type": "code",
   "execution_count": 28,
   "id": "14d049d8",
   "metadata": {},
   "outputs": [
    {
     "data": {
      "text/plain": [
       "array([[72.2],\n",
       "       [59.7],\n",
       "       [65.2],\n",
       "       ...,\n",
       "       [71.1],\n",
       "       [80.7],\n",
       "       [73.4]])"
      ]
     },
     "execution_count": 28,
     "metadata": {},
     "output_type": "execute_result"
    }
   ],
   "source": [
    "yields.reshape(10000,1)"
   ]
  },
  {
   "cell_type": "code",
   "execution_count": 31,
   "id": "51077b77",
   "metadata": {},
   "outputs": [],
   "source": [
    "climate_results=np.concatenate((climate_data,yields.reshape(10000,1)),axis=1)"
   ]
  },
  {
   "cell_type": "code",
   "execution_count": 32,
   "id": "2bd5c934",
   "metadata": {},
   "outputs": [
    {
     "data": {
      "text/plain": [
       "array([[25. , 76. , 99. , 72.2],\n",
       "       [39. , 65. , 70. , 59.7],\n",
       "       [59. , 45. , 77. , 65.2],\n",
       "       ...,\n",
       "       [99. , 62. , 58. , 71.1],\n",
       "       [70. , 71. , 91. , 80.7],\n",
       "       [92. , 39. , 76. , 73.4]])"
      ]
     },
     "execution_count": 32,
     "metadata": {},
     "output_type": "execute_result"
    }
   ],
   "source": [
    "climate_results"
   ]
  },
  {
   "cell_type": "markdown",
   "id": "432b1b16",
   "metadata": {},
   "source": [
    "Note - we use axis = 1, because we want to concatenate into columns(the first axis of np array), if wanted to concatenate into rows, we would have used axis=0 (the zeroth axis of np array)."
   ]
  },
  {
   "cell_type": "code",
   "execution_count": 33,
   "id": "7c91806a",
   "metadata": {},
   "outputs": [],
   "source": [
    "np.savetxt('climate_results.txt',climate_results,fmt='%.2f',header='temperature,rainfall,humidity,yeild_apples',comments='')"
   ]
  },
  {
   "cell_type": "code",
   "execution_count": 34,
   "id": "176a2218",
   "metadata": {},
   "outputs": [],
   "source": [
    "arr1 = np.array([[1,2,3],[3,4,5]])\n",
    "arr2 = np.array([[2,2,3],[1,2,5]])"
   ]
  },
  {
   "cell_type": "code",
   "execution_count": 35,
   "id": "13ab4597",
   "metadata": {},
   "outputs": [
    {
     "data": {
      "text/plain": [
       "array([[False,  True,  True],\n",
       "       [False, False,  True]])"
      ]
     },
     "execution_count": 35,
     "metadata": {},
     "output_type": "execute_result"
    }
   ],
   "source": [
    "arr1 == arr2"
   ]
  },
  {
   "cell_type": "code",
   "execution_count": 36,
   "id": "a043d442",
   "metadata": {},
   "outputs": [
    {
     "data": {
      "text/plain": [
       "array([[False, False, False],\n",
       "       [ True,  True, False]])"
      ]
     },
     "execution_count": 36,
     "metadata": {},
     "output_type": "execute_result"
    }
   ],
   "source": [
    "arr1 > arr2"
   ]
  },
  {
   "cell_type": "code",
   "execution_count": 37,
   "id": "7f5086a4",
   "metadata": {},
   "outputs": [
    {
     "data": {
      "text/plain": [
       "3"
      ]
     },
     "execution_count": 37,
     "metadata": {},
     "output_type": "execute_result"
    }
   ],
   "source": [
    "(arr1 == arr2).sum()"
   ]
  },
  {
   "cell_type": "markdown",
   "id": "0eacd892",
   "metadata": {},
   "source": [
    "### Array Indexing and Slicing"
   ]
  },
  {
   "cell_type": "code",
   "execution_count": 39,
   "id": "508e7213",
   "metadata": {},
   "outputs": [],
   "source": [
    "arr3 = np.array([\n",
    "    \n",
    "    [[11,12,13,14],\n",
    "    [13,14,15,19]],\n",
    "    \n",
    "    [[15,16,17,21],\n",
    "    [63,92,36,18]],\n",
    "    \n",
    "    [[98,32,81,23],\n",
    "    [17,18,19.5,43]]\n",
    "    \n",
    "])"
   ]
  },
  {
   "cell_type": "code",
   "execution_count": 40,
   "id": "61f25189",
   "metadata": {},
   "outputs": [
    {
     "data": {
      "text/plain": [
       "(3, 2, 4)"
      ]
     },
     "execution_count": 40,
     "metadata": {},
     "output_type": "execute_result"
    }
   ],
   "source": [
    "arr3.shape"
   ]
  },
  {
   "cell_type": "code",
   "execution_count": 41,
   "id": "cb081410",
   "metadata": {},
   "outputs": [
    {
     "data": {
      "text/plain": [
       "36.0"
      ]
     },
     "execution_count": 41,
     "metadata": {},
     "output_type": "execute_result"
    }
   ],
   "source": [
    "arr3[1,1,2]"
   ]
  },
  {
   "cell_type": "code",
   "execution_count": 42,
   "id": "bd0a3f43",
   "metadata": {},
   "outputs": [
    {
     "data": {
      "text/plain": [
       "array([[[15., 16.]],\n",
       "\n",
       "       [[98., 32.]]])"
      ]
     },
     "execution_count": 42,
     "metadata": {},
     "output_type": "execute_result"
    }
   ],
   "source": [
    "arr3[1:,0:1,:2]"
   ]
  },
  {
   "cell_type": "code",
   "execution_count": 43,
   "id": "22a2f35c",
   "metadata": {},
   "outputs": [
    {
     "data": {
      "text/plain": [
       "(2, 1, 2)"
      ]
     },
     "execution_count": 43,
     "metadata": {},
     "output_type": "execute_result"
    }
   ],
   "source": [
    "arr3[1:,0:1,:2].shape"
   ]
  },
  {
   "cell_type": "code",
   "execution_count": 44,
   "id": "455c4956",
   "metadata": {},
   "outputs": [
    {
     "data": {
      "text/plain": [
       "(2, 2)"
      ]
     },
     "execution_count": 44,
     "metadata": {},
     "output_type": "execute_result"
    }
   ],
   "source": [
    "arr3[1:,0,:2].shape"
   ]
  },
  {
   "cell_type": "code",
   "execution_count": 45,
   "id": "f95a9868",
   "metadata": {},
   "outputs": [
    {
     "data": {
      "text/plain": [
       "array([[15., 16.],\n",
       "       [98., 32.]])"
      ]
     },
     "execution_count": 45,
     "metadata": {},
     "output_type": "execute_result"
    }
   ],
   "source": [
    "arr3[1:,0,:2]"
   ]
  },
  {
   "cell_type": "code",
   "execution_count": 46,
   "id": "f4872c5f",
   "metadata": {},
   "outputs": [
    {
     "data": {
      "text/plain": [
       "array([0.15604808, 0.3362407 , 0.79717831, 0.88391696, 0.48308924])"
      ]
     },
     "execution_count": 46,
     "metadata": {},
     "output_type": "execute_result"
    }
   ],
   "source": [
    "### Uniform Distribution\n",
    "np.random.rand(5)"
   ]
  },
  {
   "cell_type": "code",
   "execution_count": 48,
   "id": "45ae8ea9",
   "metadata": {},
   "outputs": [
    {
     "data": {
      "text/plain": [
       "array([-0.02128306, -0.4156686 , -0.38283393, -0.81530475, -0.33545442])"
      ]
     },
     "execution_count": 48,
     "metadata": {},
     "output_type": "execute_result"
    }
   ],
   "source": [
    "### Normal Distribution\n",
    "np.random.randn(5)"
   ]
  },
  {
   "cell_type": "code",
   "execution_count": 49,
   "id": "22fecd8e",
   "metadata": {},
   "outputs": [
    {
     "data": {
      "text/plain": [
       "array([10, 13, 16, 19, 22, 25, 28, 31, 34, 37, 40, 43, 46, 49, 52, 55, 58,\n",
       "       61, 64, 67, 70, 73, 76, 79, 82, 85, 88])"
      ]
     },
     "execution_count": 49,
     "metadata": {},
     "output_type": "execute_result"
    }
   ],
   "source": [
    "np.arange(10,90,3)"
   ]
  },
  {
   "cell_type": "code",
   "execution_count": 50,
   "id": "66d3d14e",
   "metadata": {},
   "outputs": [
    {
     "data": {
      "text/plain": [
       "array([ 3.,  6.,  9., 12., 15., 18., 21., 24., 27.])"
      ]
     },
     "execution_count": 50,
     "metadata": {},
     "output_type": "execute_result"
    }
   ],
   "source": [
    "np.linspace(3,27,9)"
   ]
  }
 ],
 "metadata": {
  "kernelspec": {
   "display_name": "Python 3 (ipykernel)",
   "language": "python",
   "name": "python3"
  },
  "language_info": {
   "codemirror_mode": {
    "name": "ipython",
    "version": 3
   },
   "file_extension": ".py",
   "mimetype": "text/x-python",
   "name": "python",
   "nbconvert_exporter": "python",
   "pygments_lexer": "ipython3",
   "version": "3.9.1"
  }
 },
 "nbformat": 4,
 "nbformat_minor": 5
}
