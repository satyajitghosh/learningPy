{
 "cells": [
  {
   "cell_type": "code",
   "execution_count": 1,
   "id": "f4eecebb-fc98-4061-b7a6-0f4683ce7533",
   "metadata": {},
   "outputs": [],
   "source": [
    "## Iterators"
   ]
  },
  {
   "cell_type": "code",
   "execution_count": 6,
   "id": "0c32b197-d53c-4bbc-9fd4-8da1d6efb033",
   "metadata": {},
   "outputs": [
    {
     "data": {
      "text/plain": [
       "tuple"
      ]
     },
     "execution_count": 6,
     "metadata": {},
     "output_type": "execute_result"
    }
   ],
   "source": [
    "countries = ('India','Bhutan','Sri Lanka','Russia','Japan','Australia','Switzerland')\n",
    "type(countries)"
   ]
  },
  {
   "cell_type": "code",
   "execution_count": 7,
   "id": "c3b76ffc-f256-4304-b89d-a1bf7f6bb3b2",
   "metadata": {},
   "outputs": [
    {
     "data": {
      "text/plain": [
       "tuple"
      ]
     },
     "execution_count": 7,
     "metadata": {},
     "output_type": "execute_result"
    }
   ],
   "source": [
    "country_iter = iter(countries)\n",
    "type(countries)"
   ]
  },
  {
   "cell_type": "code",
   "execution_count": 8,
   "id": "2c1dcee0-7aab-408f-aa5a-f55454152be8",
   "metadata": {},
   "outputs": [
    {
     "name": "stdout",
     "output_type": "stream",
     "text": [
      "India\n",
      "Bhutan\n",
      "Sri Lanka\n",
      "Russia\n",
      "Japan\n",
      "Australia\n",
      "Switzerland\n"
     ]
    }
   ],
   "source": [
    "while True:\n",
    "    try:\n",
    "        country = next(country_iter)\n",
    "    except StopIteration:\n",
    "        break\n",
    "    else:\n",
    "        print(country)"
   ]
  },
  {
   "cell_type": "code",
   "execution_count": 9,
   "id": "872fae72-5440-414d-8961-d9976bcee762",
   "metadata": {},
   "outputs": [
    {
     "name": "stdout",
     "output_type": "stream",
     "text": [
      "India\n",
      "Bhutan\n",
      "Sri Lanka\n",
      "Russia\n",
      "Japan\n",
      "Australia\n",
      "Switzerland\n"
     ]
    }
   ],
   "source": [
    "for country in countries:\n",
    "    print(country)"
   ]
  },
  {
   "cell_type": "code",
   "execution_count": 13,
   "id": "e150d80b-bb03-48a2-afab-09ed5c11b5f2",
   "metadata": {},
   "outputs": [
    {
     "name": "stdout",
     "output_type": "stream",
     "text": [
      "Germany\n",
      "France\n",
      "Italy\n",
      "Spain\n",
      "Portugal\n",
      "Greece"
     ]
    }
   ],
   "source": [
    "with open('countries.txt') as file:\n",
    "    for line in iter(file.readline,''):\n",
    "        print(line,end='')"
   ]
  },
  {
   "cell_type": "code",
   "execution_count": null,
   "id": "ab77a8e4-1513-4279-a2a4-74ea1e6b3338",
   "metadata": {},
   "outputs": [],
   "source": []
  }
 ],
 "metadata": {
  "kernelspec": {
   "display_name": "Python 3 (ipykernel)",
   "language": "python",
   "name": "python3"
  },
  "language_info": {
   "codemirror_mode": {
    "name": "ipython",
    "version": 3
   },
   "file_extension": ".py",
   "mimetype": "text/x-python",
   "name": "python",
   "nbconvert_exporter": "python",
   "pygments_lexer": "ipython3",
   "version": "3.9.13"
  }
 },
 "nbformat": 4,
 "nbformat_minor": 5
}
