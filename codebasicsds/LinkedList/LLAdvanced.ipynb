{
 "cells": [
  {
   "cell_type": "code",
   "execution_count": 10,
   "id": "7c2c4727",
   "metadata": {},
   "outputs": [],
   "source": [
    "class Node:\n",
    "    def __init__(self,data=None,next=None):\n",
    "        self.data = data\n",
    "        self.next = None\n",
    "\n",
    "class LinkedList:\n",
    "    \n",
    "    def __init__(self):\n",
    "        self.start = None\n",
    "        \n",
    "    def insertUsingRecursion(self,pos,val):\n",
    "        \n",
    "        def instRec(itr,pos,val):\n",
    "            if pos == 0:\n",
    "                new_node = Node(val,None)\n",
    "                if itr == self.start:\n",
    "                    new_node.next = itr\n",
    "                    self.start = new_node\n",
    "                else:\n",
    "                    new_node.next = itr.next\n",
    "                    itr.next = new_node\n",
    "                return\n",
    "            else:\n",
    "                pos = pos -1\n",
    "                if not itr.next:\n",
    "                    return\n",
    "                else:\n",
    "                    itr = itr.next\n",
    "                    instRec(itr,pos-1,val)\n",
    "        \n",
    "        instRec(self.start,pos,val)\n",
    "    \n",
    "    def printList(self):\n",
    "        printstr = ''\n",
    "        itr = self.start\n",
    "        while(itr):\n",
    "            printstr = printstr + str(itr.data) + '-->'\n",
    "            itr = itr.next\n",
    "        printstr = printstr + 'END'\n",
    "        print(printstr)"
   ]
  },
  {
   "cell_type": "code",
   "execution_count": 11,
   "id": "038175b8",
   "metadata": {},
   "outputs": [
    {
     "name": "stdout",
     "output_type": "stream",
     "text": [
      "15-->9-->5-->3-->1-->10-->END\n"
     ]
    }
   ],
   "source": [
    "l1 = LinkedList()\n",
    "l1.insertUsingRecursion(0,10)\n",
    "l1.insertUsingRecursion(0,1)\n",
    "l1.insertUsingRecursion(0,3)\n",
    "l1.insertUsingRecursion(0,5)\n",
    "l1.insertUsingRecursion(0,9)\n",
    "l1.insertUsingRecursion(0,15)\n",
    "l1.printList()"
   ]
  },
  {
   "cell_type": "code",
   "execution_count": 12,
   "id": "432a4d4d",
   "metadata": {},
   "outputs": [
    {
     "name": "stdout",
     "output_type": "stream",
     "text": [
      "15-->9-->30-->5-->3-->1-->10-->END\n"
     ]
    }
   ],
   "source": [
    "l1.insertUsingRecursion(2,30)\n",
    "l1.printList()"
   ]
  },
  {
   "cell_type": "code",
   "execution_count": 13,
   "id": "61237ebb",
   "metadata": {},
   "outputs": [
    {
     "name": "stdout",
     "output_type": "stream",
     "text": [
      "15-->9-->30-->5-->3-->1-->10-->END\n"
     ]
    }
   ],
   "source": [
    "l1.insertUsingRecursion(7,59)\n",
    "l1.printList()"
   ]
  },
  {
   "cell_type": "code",
   "execution_count": null,
   "id": "bd1107fc",
   "metadata": {},
   "outputs": [],
   "source": []
  }
 ],
 "metadata": {
  "kernelspec": {
   "display_name": "Python 3 (ipykernel)",
   "language": "python",
   "name": "python3"
  },
  "language_info": {
   "codemirror_mode": {
    "name": "ipython",
    "version": 3
   },
   "file_extension": ".py",
   "mimetype": "text/x-python",
   "name": "python",
   "nbconvert_exporter": "python",
   "pygments_lexer": "ipython3",
   "version": "3.9.6"
  }
 },
 "nbformat": 4,
 "nbformat_minor": 5
}
