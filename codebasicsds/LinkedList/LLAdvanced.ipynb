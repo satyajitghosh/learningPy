{
 "cells": [
  {
   "cell_type": "code",
   "execution_count": 57,
   "id": "7c2c4727",
   "metadata": {},
   "outputs": [],
   "source": [
    "class Node:\n",
    "    def __init__(self,data=None,next=None):\n",
    "        self.data = data\n",
    "        self.next = None\n",
    "\n",
    "class LinkedList:\n",
    "    \n",
    "    def __init__(self):\n",
    "        self.start = None\n",
    "        \n",
    "    def insertUsingRecursion(self,pos,val):\n",
    "        \n",
    "        def instRec(itr,pos,val):\n",
    "            if pos == 0:\n",
    "                new_node = Node(val,None)\n",
    "                if itr == self.start:\n",
    "                    new_node.next = itr\n",
    "                    self.start = new_node\n",
    "                else:\n",
    "                    new_node.next = itr.next\n",
    "                    itr.next = new_node\n",
    "                return\n",
    "            else:\n",
    "                pos = pos -1\n",
    "                if not itr.next:\n",
    "                    return\n",
    "                else:\n",
    "                    itr = itr.next\n",
    "                    instRec(itr,pos-1,val)\n",
    "        \n",
    "        instRec(self.start,pos,val)\n",
    "    \n",
    "    def printList(self):\n",
    "        printstr = ''\n",
    "        itr = self.start\n",
    "        while(itr):\n",
    "            printstr = printstr + str(itr.data) + '-->'\n",
    "            itr = itr.next\n",
    "        printstr = printstr + 'END'\n",
    "        print(printstr)\n",
    "        \n",
    "    def delDuplicatesInSortedLL(self):\n",
    "        # Deletes Duplicates in a sorted LinkedList\n",
    "        \n",
    "        itr = self.start\n",
    "        ## If the loop has 0 or one node, then no duplicates can occur\n",
    "        if not itr or not itr.next:\n",
    "            return\n",
    "        \n",
    "        var = itr.data\n",
    "        \n",
    "        while itr.next:\n",
    "            if var == itr.next.data:\n",
    "                itr.next = itr.next.next\n",
    "            else:\n",
    "                var = itr.next.data\n",
    "                itr = itr.next\n",
    "    \n",
    "    def mergeTwoSortedLists(self,l1,l2):\n",
    "        \n",
    "        itr1 = l1.start\n",
    "        itr2 = l2.start\n",
    "        itr = self.start\n",
    "      \n",
    "        while itr1 or itr2:\n",
    "            \n",
    "            if (itr1 and not itr2) or (itr1 and itr2 and itr1.data <= itr2.data):\n",
    "                new_node = Node(itr1.data)\n",
    "                if itr:\n",
    "                    itr.next = new_node\n",
    "                    itr = itr.next\n",
    "                else:\n",
    "                    itr = new_node\n",
    "                    self.start = itr\n",
    "                itr1 =itr1.next\n",
    "                \n",
    "            elif (itr2 and not itr1) or (itr1 and itr2 and itr1.data > itr2.data):\n",
    "                new_node = Node(itr2.data)\n",
    "                if itr:\n",
    "                    itr.next = new_node\n",
    "                    itr = itr.next\n",
    "                else:\n",
    "                    self.start = new_node\n",
    "                itr2 = itr2.next"
   ]
  },
  {
   "cell_type": "code",
   "execution_count": 58,
   "id": "038175b8",
   "metadata": {},
   "outputs": [
    {
     "name": "stdout",
     "output_type": "stream",
     "text": [
      "15-->9-->5-->3-->1-->10-->END\n"
     ]
    }
   ],
   "source": [
    "l1 = LinkedList()\n",
    "l1.insertUsingRecursion(0,10)\n",
    "l1.insertUsingRecursion(0,1)\n",
    "l1.insertUsingRecursion(0,3)\n",
    "l1.insertUsingRecursion(0,5)\n",
    "l1.insertUsingRecursion(0,9)\n",
    "l1.insertUsingRecursion(0,15)\n",
    "l1.printList()"
   ]
  },
  {
   "cell_type": "code",
   "execution_count": 59,
   "id": "432a4d4d",
   "metadata": {},
   "outputs": [
    {
     "name": "stdout",
     "output_type": "stream",
     "text": [
      "15-->9-->30-->5-->3-->1-->10-->END\n"
     ]
    }
   ],
   "source": [
    "l1.insertUsingRecursion(2,30)\n",
    "l1.printList()"
   ]
  },
  {
   "cell_type": "code",
   "execution_count": 60,
   "id": "61237ebb",
   "metadata": {},
   "outputs": [
    {
     "name": "stdout",
     "output_type": "stream",
     "text": [
      "15-->9-->30-->5-->3-->1-->10-->END\n"
     ]
    }
   ],
   "source": [
    "l1.insertUsingRecursion(7,59)\n",
    "l1.printList()"
   ]
  },
  {
   "cell_type": "markdown",
   "id": "6974cb43",
   "metadata": {},
   "source": [
    "### Deleteting Duplicates in a sorted list"
   ]
  },
  {
   "cell_type": "code",
   "execution_count": 61,
   "id": "395c0013",
   "metadata": {},
   "outputs": [],
   "source": [
    "l2 = LinkedList()\n",
    "l2.insertUsingRecursion(0,9)\n",
    "l2.insertUsingRecursion(0,9)\n",
    "l2.insertUsingRecursion(0,8)\n",
    "l2.insertUsingRecursion(0,7)\n",
    "l2.insertUsingRecursion(0,6)\n",
    "l2.insertUsingRecursion(0,6)\n",
    "l2.insertUsingRecursion(0,5)\n",
    "l2.insertUsingRecursion(0,4)\n",
    "l2.insertUsingRecursion(0,3)\n",
    "l2.insertUsingRecursion(0,2)\n",
    "l2.insertUsingRecursion(0,1)\n",
    "l2.insertUsingRecursion(0,1)"
   ]
  },
  {
   "cell_type": "code",
   "execution_count": 62,
   "id": "5d33d539",
   "metadata": {},
   "outputs": [
    {
     "name": "stdout",
     "output_type": "stream",
     "text": [
      "1-->1-->2-->3-->4-->5-->6-->6-->7-->8-->9-->9-->END\n"
     ]
    }
   ],
   "source": [
    "l2.printList()"
   ]
  },
  {
   "cell_type": "code",
   "execution_count": 63,
   "id": "f0ae0df2",
   "metadata": {},
   "outputs": [
    {
     "name": "stdout",
     "output_type": "stream",
     "text": [
      "1-->2-->3-->4-->5-->6-->7-->8-->9-->END\n"
     ]
    }
   ],
   "source": [
    "l2.delDuplicatesInSortedLL()\n",
    "l2.printList()"
   ]
  },
  {
   "cell_type": "markdown",
   "id": "be51dd31",
   "metadata": {},
   "source": [
    "### Merging Two sorted lists"
   ]
  },
  {
   "cell_type": "code",
   "execution_count": 64,
   "id": "407a19c3",
   "metadata": {},
   "outputs": [
    {
     "name": "stdout",
     "output_type": "stream",
     "text": [
      "1-->2-->3-->4-->END\n",
      "5-->6-->7-->8-->END\n",
      "1-->2-->3-->4-->5-->6-->7-->8-->END\n"
     ]
    }
   ],
   "source": [
    "l1 = LinkedList()\n",
    "l1.insertUsingRecursion(0,4)\n",
    "l1.insertUsingRecursion(0,3)\n",
    "l1.insertUsingRecursion(0,2)\n",
    "l1.insertUsingRecursion(0,1)\n",
    "l1.printList()\n",
    "\n",
    "l2 = LinkedList()\n",
    "l2.insertUsingRecursion(0,8)\n",
    "l2.insertUsingRecursion(0,7)\n",
    "l2.insertUsingRecursion(0,6)\n",
    "l2.insertUsingRecursion(0,5)\n",
    "l2.printList()\n",
    "\n",
    "l3 = LinkedList()\n",
    "l3.mergeTwoSortedLists(l1,l2)\n",
    "l3.printList()"
   ]
  },
  {
   "cell_type": "code",
   "execution_count": 65,
   "id": "492d6a7b",
   "metadata": {},
   "outputs": [
    {
     "name": "stdout",
     "output_type": "stream",
     "text": [
      "1-->2-->5-->6-->END\n",
      "3-->4-->7-->8-->END\n",
      "1-->2-->3-->4-->5-->6-->7-->8-->END\n"
     ]
    }
   ],
   "source": [
    "l1 = LinkedList()\n",
    "l1.insertUsingRecursion(0,6)\n",
    "l1.insertUsingRecursion(0,5)\n",
    "l1.insertUsingRecursion(0,2)\n",
    "l1.insertUsingRecursion(0,1)\n",
    "l1.printList()\n",
    "\n",
    "l2 = LinkedList()\n",
    "l2.insertUsingRecursion(0,8)\n",
    "l2.insertUsingRecursion(0,7)\n",
    "l2.insertUsingRecursion(0,4)\n",
    "l2.insertUsingRecursion(0,3)\n",
    "l2.printList()\n",
    "\n",
    "l3 = LinkedList()\n",
    "l3.mergeTwoSortedLists(l1,l2)\n",
    "l3.printList()"
   ]
  },
  {
   "cell_type": "code",
   "execution_count": 104,
   "id": "df4cbd8c",
   "metadata": {},
   "outputs": [],
   "source": [
    "class Node:\n",
    "    \n",
    "    def __init__(self,data=None,next=None):\n",
    "        self.data = data\n",
    "        self.next = next\n",
    "        \n",
    "class LinkedList:\n",
    "    \n",
    "    def __init__(self):\n",
    "        self.start = None\n",
    "        self.tail = None\n",
    "    \n",
    "    def insertAtHead(self,data):\n",
    "        \n",
    "        new_node = Node(data,None)\n",
    "        new_node.next = self.start\n",
    "        self.start = new_node\n",
    "    \n",
    "    def printList(self):\n",
    "        printstr = ''\n",
    "        itr = self.start\n",
    "        while(itr):\n",
    "            printstr = printstr + str(itr.data) + '-->'\n",
    "            itr = itr.next\n",
    "        printstr = printstr + 'END'\n",
    "        print(printstr)\n",
    "        \n",
    "    def has_cycle(self):\n",
    "        fast = self.start\n",
    "        slow = self.start\n",
    "        cycl = False\n",
    "        print(cycl)\n",
    "        while fast:\n",
    "            if not fast.next:\n",
    "                break\n",
    "            fast = fast.next.next\n",
    "            slow = slow.next\n",
    "            if fast == slow:\n",
    "                cycl = True\n",
    "                break\n",
    "        print(cycl)\n",
    "            "
   ]
  },
  {
   "cell_type": "code",
   "execution_count": 105,
   "id": "63b0defd",
   "metadata": {},
   "outputs": [
    {
     "name": "stdout",
     "output_type": "stream",
     "text": [
      "1-->7-->3-->2-->END\n"
     ]
    }
   ],
   "source": [
    "l1=LinkedList()\n",
    "l1.insertAtHead(2)\n",
    "ts=l1.start\n",
    "l1.insertAtHead(3)\n",
    "l1.insertAtHead(7)\n",
    "l1.insertAtHead(1)\n",
    "l1.printList()"
   ]
  },
  {
   "cell_type": "code",
   "execution_count": 106,
   "id": "606d638d",
   "metadata": {},
   "outputs": [],
   "source": [
    "te = l1.start"
   ]
  },
  {
   "cell_type": "code",
   "execution_count": 107,
   "id": "6ecbeca4",
   "metadata": {},
   "outputs": [],
   "source": [
    "l1.insertAtHead(9)\n",
    "l1.insertAtHead(4)\n",
    "l1.insertAtHead(3)\n",
    "l1.insertAtHead(5)"
   ]
  },
  {
   "cell_type": "code",
   "execution_count": 108,
   "id": "b7a1bc49",
   "metadata": {},
   "outputs": [
    {
     "data": {
      "text/plain": [
       "1"
      ]
     },
     "execution_count": 108,
     "metadata": {},
     "output_type": "execute_result"
    }
   ],
   "source": [
    "tp.data"
   ]
  },
  {
   "cell_type": "code",
   "execution_count": 109,
   "id": "0543e87c",
   "metadata": {},
   "outputs": [
    {
     "data": {
      "text/plain": [
       "2"
      ]
     },
     "execution_count": 109,
     "metadata": {},
     "output_type": "execute_result"
    }
   ],
   "source": [
    "ts.data"
   ]
  },
  {
   "cell_type": "code",
   "execution_count": 110,
   "id": "b8db678b",
   "metadata": {},
   "outputs": [
    {
     "name": "stdout",
     "output_type": "stream",
     "text": [
      "5-->3-->4-->9-->1-->7-->3-->2-->END\n"
     ]
    }
   ],
   "source": [
    "l1.printList()"
   ]
  },
  {
   "cell_type": "code",
   "execution_count": 111,
   "id": "2f16f357",
   "metadata": {},
   "outputs": [],
   "source": [
    "## adding tail\n",
    "ts.next = tp"
   ]
  },
  {
   "cell_type": "code",
   "execution_count": 113,
   "id": "3fa39437",
   "metadata": {},
   "outputs": [
    {
     "name": "stdout",
     "output_type": "stream",
     "text": [
      "False\n",
      "False\n"
     ]
    }
   ],
   "source": [
    "l1.has_cycle()"
   ]
  },
  {
   "cell_type": "code",
   "execution_count": 114,
   "id": "ee360b14",
   "metadata": {},
   "outputs": [
    {
     "data": {
      "text/plain": [
       "1"
      ]
     },
     "execution_count": 114,
     "metadata": {},
     "output_type": "execute_result"
    }
   ],
   "source": [
    "ts.next.data"
   ]
  },
  {
   "cell_type": "code",
   "execution_count": 115,
   "id": "f18d339d",
   "metadata": {},
   "outputs": [
    {
     "data": {
      "text/plain": [
       "2"
      ]
     },
     "execution_count": 115,
     "metadata": {},
     "output_type": "execute_result"
    }
   ],
   "source": [
    "ts.data"
   ]
  },
  {
   "cell_type": "code",
   "execution_count": 119,
   "id": "e175a353",
   "metadata": {},
   "outputs": [
    {
     "name": "stdout",
     "output_type": "stream",
     "text": [
      "5\n",
      "3\n",
      "4\n",
      "9\n",
      "1\n",
      "7\n",
      "3\n",
      "2\n",
      "1\n",
      "7\n",
      "3\n",
      "2\n"
     ]
    },
    {
     "ename": "AttributeError",
     "evalue": "'NoneType' object has no attribute 'data'",
     "output_type": "error",
     "traceback": [
      "\u001b[1;31m---------------------------------------------------------------------------\u001b[0m",
      "\u001b[1;31mAttributeError\u001b[0m                            Traceback (most recent call last)",
      "\u001b[1;32m~\\AppData\\Local\\Temp/ipykernel_7940/4148738874.py\u001b[0m in \u001b[0;36m<module>\u001b[1;34m\u001b[0m\n\u001b[0;32m      1\u001b[0m \u001b[0mitr\u001b[0m \u001b[1;33m=\u001b[0m \u001b[0ml1\u001b[0m\u001b[1;33m.\u001b[0m\u001b[0mstart\u001b[0m\u001b[1;33m\u001b[0m\u001b[1;33m\u001b[0m\u001b[0m\n\u001b[0;32m      2\u001b[0m \u001b[1;32mfor\u001b[0m \u001b[0mi\u001b[0m \u001b[1;32min\u001b[0m \u001b[0mrange\u001b[0m\u001b[1;33m(\u001b[0m\u001b[1;36m1\u001b[0m\u001b[1;33m,\u001b[0m\u001b[1;36m30\u001b[0m\u001b[1;33m)\u001b[0m\u001b[1;33m:\u001b[0m\u001b[1;33m\u001b[0m\u001b[1;33m\u001b[0m\u001b[0m\n\u001b[1;32m----> 3\u001b[1;33m     \u001b[0mprint\u001b[0m\u001b[1;33m(\u001b[0m\u001b[0mitr\u001b[0m\u001b[1;33m.\u001b[0m\u001b[0mdata\u001b[0m\u001b[1;33m)\u001b[0m\u001b[1;33m\u001b[0m\u001b[1;33m\u001b[0m\u001b[0m\n\u001b[0m\u001b[0;32m      4\u001b[0m     \u001b[0mitr\u001b[0m \u001b[1;33m=\u001b[0m \u001b[0mitr\u001b[0m\u001b[1;33m.\u001b[0m\u001b[0mnext\u001b[0m\u001b[1;33m\u001b[0m\u001b[1;33m\u001b[0m\u001b[0m\n",
      "\u001b[1;31mAttributeError\u001b[0m: 'NoneType' object has no attribute 'data'"
     ]
    }
   ],
   "source": [
    "itr = l1.start\n",
    "for i in range(1,30):\n",
    "    print(itr.data)\n",
    "    itr = itr.next"
   ]
  },
  {
   "cell_type": "code",
   "execution_count": 120,
   "id": "83d3e386",
   "metadata": {},
   "outputs": [],
   "source": [
    "### Not sure why this did not work."
   ]
  },
  {
   "cell_type": "markdown",
   "id": "5a7eed9c",
   "metadata": {},
   "source": [
    "### LeetCode - Has Cycle?"
   ]
  },
  {
   "cell_type": "markdown",
   "id": "a8fe3692",
   "metadata": {},
   "source": [
    "class Solution:\n",
    "    def hasCycle(self, head: ListNode) -> bool:\n",
    "        fast = head\n",
    "        slow = head\n",
    "        cyl = False\n",
    "        \n",
    "        while fast:\n",
    "            if not fast.next:\n",
    "                return(False)\n",
    "            fast = fast.next.next\n",
    "            slow = slow.next\n",
    "            if fast == slow:\n",
    "                cyl = True\n",
    "                break\n",
    "        return(cyl)"
   ]
  },
  {
   "cell_type": "markdown",
   "id": "103ce587",
   "metadata": {},
   "source": [
    "### Linked List Cycle 2 - Detect starting point of Cycle."
   ]
  },
  {
   "cell_type": "markdown",
   "id": "6d46634d",
   "metadata": {},
   "source": [
    "class ListNode:\n",
    " def __init__(self, x):\n",
    "         self.val = x\n",
    "        self.next = None\n",
    "\n",
    "class Solution:\n",
    "    def detectCycle(self, head: Optional[ListNode]) -> Optional[ListNode]:\n",
    "        fast = head\n",
    "        slow = head\n",
    "        cycle = False\n",
    "        \n",
    "        while fast:\n",
    "            if not fast.next:\n",
    "                return None\n",
    "            \n",
    "            fast = fast.next.next\n",
    "            slow = slow.next\n",
    "            if fast == slow:\n",
    "                cycle=True\n",
    "                break;\n",
    "        \n",
    "        itr1 = fast\n",
    "        itr2 = head\n",
    "        \n",
    "        if cycle == True:\n",
    "            while itr1!=itr2:\n",
    "                itr1 = itr1.next\n",
    "                itr2 = itr2.next\n",
    "        \n",
    "        return(itr1)"
   ]
  },
  {
   "cell_type": "code",
   "execution_count": 25,
   "id": "4a05d091",
   "metadata": {},
   "outputs": [],
   "source": [
    " def ret_square(n):\n",
    "    s = 0\n",
    "    while n > 0:\n",
    "        s = s + (n%10)**2\n",
    "        n = (n//10)\n",
    "    return(s)"
   ]
  },
  {
   "cell_type": "markdown",
   "id": "dcd6b870",
   "metadata": {},
   "source": [
    "### Happy Number"
   ]
  },
  {
   "cell_type": "markdown",
   "id": "6dfc4883",
   "metadata": {},
   "source": [
    "class Solution:\n",
    "\n",
    "    \n",
    "    def isHappy(self, n: int) -> bool:\n",
    "        \n",
    "        \n",
    "        def ret_square(n):\n",
    "            s = 0\n",
    "            while n > 0:\n",
    "                s = s + (n%10)**2\n",
    "                n = (n//10)\n",
    "            return(s)\n",
    "        \n",
    "        slow=n\n",
    "        fast=n\n",
    "        \n",
    "        \n",
    "        while True:\n",
    "            \n",
    "            slow = ret_square(slow)\n",
    "            fast = ret_square(ret_square(fast))\n",
    "            \n",
    "            if slow==fast:\n",
    "                break\n",
    "            \n",
    "        if slow==1:\n",
    "            return True\n",
    "        else:\n",
    "            return False"
   ]
  },
  {
   "cell_type": "markdown",
   "id": "84fa707d",
   "metadata": {},
   "source": [
    "### Find the middle of the linked list"
   ]
  },
  {
   "cell_type": "markdown",
   "id": "76cfd3a4",
   "metadata": {},
   "source": [
    "\n",
    "class ListNode:\n",
    "     def __init__(self, val=0, next=None):\n",
    "         self.val = val\n",
    "         self.next = next\n",
    "class Solution:\n",
    "    def middleNode(self, head: Optional[ListNode]) -> Optional[ListNode]:\n",
    "        \n",
    "        fast = head\n",
    "        slow = head\n",
    "        \n",
    "        while fast:\n",
    "            if fast.next:\n",
    "                fast=fast.next.next\n",
    "            else:\n",
    "                break\n",
    "            slow = slow.next\n",
    "        \n",
    "        return(slow)"
   ]
  }
 ],
 "metadata": {
  "kernelspec": {
   "display_name": "Python 3 (ipykernel)",
   "language": "python",
   "name": "python3"
  },
  "language_info": {
   "codemirror_mode": {
    "name": "ipython",
    "version": 3
   },
   "file_extension": ".py",
   "mimetype": "text/x-python",
   "name": "python",
   "nbconvert_exporter": "python",
   "pygments_lexer": "ipython3",
   "version": "3.9.6"
  }
 },
 "nbformat": 4,
 "nbformat_minor": 5
}
