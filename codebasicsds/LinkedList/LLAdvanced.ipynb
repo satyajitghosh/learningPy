{
 "cells": [
  {
   "cell_type": "code",
   "execution_count": 1,
   "id": "7c2c4727",
   "metadata": {},
   "outputs": [],
   "source": [
    "class Node:\n",
    "    def __init__(self,data=None,next=None):\n",
    "        self.data = data\n",
    "        self.next = None\n",
    "\n",
    "class LinkedList:\n",
    "    \n",
    "    def __init__(self):\n",
    "        self.start = None\n",
    "        \n",
    "    def insertUsingRecursion(self,pos,val):\n",
    "        \n",
    "        def instRec(itr,pos,val):\n",
    "            if pos == 0:\n",
    "                new_node = Node(val,None)\n",
    "                if itr == self.start:\n",
    "                    new_node.next = itr\n",
    "                    self.start = new_node\n",
    "                else:\n",
    "                    new_node.next = itr.next\n",
    "                    itr.next = new_node\n",
    "                return\n",
    "            else:\n",
    "                pos = pos -1\n",
    "                if not itr.next:\n",
    "                    return\n",
    "                else:\n",
    "                    itr = itr.next\n",
    "                    instRec(itr,pos-1,val)\n",
    "        \n",
    "        instRec(self.start,pos,val)\n",
    "    \n",
    "    def printList(self):\n",
    "        printstr = ''\n",
    "        itr = self.start\n",
    "        while(itr):\n",
    "            printstr = printstr + str(itr.data) + '-->'\n",
    "            itr = itr.next\n",
    "        printstr = printstr + 'END'\n",
    "        print(printstr)\n",
    "        \n",
    "    def delDuplicatesInSortedLL(self):\n",
    "        # Deletes Duplicates in a sorted LinkedList\n",
    "        \n",
    "        itr = self.start\n",
    "        ## If the loop has 0 or one node, then no duplicates can occur\n",
    "        if not itr or not itr.next:\n",
    "            return\n",
    "        \n",
    "        var = itr.data\n",
    "        \n",
    "        while itr.next:\n",
    "            if var == itr.next.data:\n",
    "                itr.next = itr.next.next\n",
    "            else:\n",
    "                var = itr.next.data\n",
    "                itr = itr.next\n",
    "    \n",
    "    def mergeTwoSortedLists(self,l1,l2):\n",
    "        \n",
    "        itr1 = l1.start\n",
    "        itr2 = l2.start\n",
    "        itr = self.start\n",
    "      \n",
    "        while itr1 or itr2:\n",
    "            \n",
    "            if (itr1 and not itr2) or (itr1 and itr2 and itr1.data <= itr2.data):\n",
    "                new_node = Node(itr1.data)\n",
    "                if itr:\n",
    "                    itr.next = new_node\n",
    "                    itr = itr.next\n",
    "                else:\n",
    "                    itr = new_node\n",
    "                    self.start = itr\n",
    "                itr1 =itr1.next\n",
    "                \n",
    "            elif (itr2 and not itr1) or (itr1 and itr2 and itr1.data > itr2.data):\n",
    "                new_node = Node(itr2.data)\n",
    "                if itr:\n",
    "                    itr.next = new_node\n",
    "                    itr = itr.next\n",
    "                else:\n",
    "                    self.start = new_node\n",
    "                itr2 = itr2.next"
   ]
  },
  {
   "cell_type": "code",
   "execution_count": 2,
   "id": "038175b8",
   "metadata": {},
   "outputs": [
    {
     "name": "stdout",
     "output_type": "stream",
     "text": [
      "15-->9-->5-->3-->1-->10-->END\n"
     ]
    }
   ],
   "source": [
    "l1 = LinkedList()\n",
    "l1.insertUsingRecursion(0,10)\n",
    "l1.insertUsingRecursion(0,1)\n",
    "l1.insertUsingRecursion(0,3)\n",
    "l1.insertUsingRecursion(0,5)\n",
    "l1.insertUsingRecursion(0,9)\n",
    "l1.insertUsingRecursion(0,15)\n",
    "l1.printList()"
   ]
  },
  {
   "cell_type": "code",
   "execution_count": 3,
   "id": "432a4d4d",
   "metadata": {},
   "outputs": [
    {
     "name": "stdout",
     "output_type": "stream",
     "text": [
      "15-->9-->30-->5-->3-->1-->10-->END\n"
     ]
    }
   ],
   "source": [
    "l1.insertUsingRecursion(2,30)\n",
    "l1.printList()"
   ]
  },
  {
   "cell_type": "code",
   "execution_count": 4,
   "id": "61237ebb",
   "metadata": {},
   "outputs": [
    {
     "name": "stdout",
     "output_type": "stream",
     "text": [
      "15-->9-->30-->5-->3-->1-->10-->END\n"
     ]
    }
   ],
   "source": [
    "l1.insertUsingRecursion(7,59)\n",
    "l1.printList()"
   ]
  },
  {
   "cell_type": "markdown",
   "id": "6974cb43",
   "metadata": {},
   "source": [
    "### Deleteting Duplicates in a sorted list"
   ]
  },
  {
   "cell_type": "code",
   "execution_count": 5,
   "id": "395c0013",
   "metadata": {},
   "outputs": [],
   "source": [
    "l2 = LinkedList()\n",
    "l2.insertUsingRecursion(0,9)\n",
    "l2.insertUsingRecursion(0,9)\n",
    "l2.insertUsingRecursion(0,8)\n",
    "l2.insertUsingRecursion(0,7)\n",
    "l2.insertUsingRecursion(0,6)\n",
    "l2.insertUsingRecursion(0,6)\n",
    "l2.insertUsingRecursion(0,5)\n",
    "l2.insertUsingRecursion(0,4)\n",
    "l2.insertUsingRecursion(0,3)\n",
    "l2.insertUsingRecursion(0,2)\n",
    "l2.insertUsingRecursion(0,1)\n",
    "l2.insertUsingRecursion(0,1)"
   ]
  },
  {
   "cell_type": "code",
   "execution_count": 6,
   "id": "5d33d539",
   "metadata": {},
   "outputs": [
    {
     "name": "stdout",
     "output_type": "stream",
     "text": [
      "1-->1-->2-->3-->4-->5-->6-->6-->7-->8-->9-->9-->END\n"
     ]
    }
   ],
   "source": [
    "l2.printList()"
   ]
  },
  {
   "cell_type": "code",
   "execution_count": 7,
   "id": "f0ae0df2",
   "metadata": {},
   "outputs": [
    {
     "name": "stdout",
     "output_type": "stream",
     "text": [
      "1-->2-->3-->4-->5-->6-->7-->8-->9-->END\n"
     ]
    }
   ],
   "source": [
    "l2.delDuplicatesInSortedLL()\n",
    "l2.printList()"
   ]
  },
  {
   "cell_type": "markdown",
   "id": "be51dd31",
   "metadata": {},
   "source": [
    "### Merging Two sorted lists"
   ]
  },
  {
   "cell_type": "code",
   "execution_count": 8,
   "id": "407a19c3",
   "metadata": {},
   "outputs": [
    {
     "name": "stdout",
     "output_type": "stream",
     "text": [
      "1-->2-->3-->4-->END\n",
      "5-->6-->7-->8-->END\n",
      "1-->2-->3-->4-->5-->6-->7-->8-->END\n"
     ]
    }
   ],
   "source": [
    "l1 = LinkedList()\n",
    "l1.insertUsingRecursion(0,4)\n",
    "l1.insertUsingRecursion(0,3)\n",
    "l1.insertUsingRecursion(0,2)\n",
    "l1.insertUsingRecursion(0,1)\n",
    "l1.printList()\n",
    "\n",
    "l2 = LinkedList()\n",
    "l2.insertUsingRecursion(0,8)\n",
    "l2.insertUsingRecursion(0,7)\n",
    "l2.insertUsingRecursion(0,6)\n",
    "l2.insertUsingRecursion(0,5)\n",
    "l2.printList()\n",
    "\n",
    "l3 = LinkedList()\n",
    "l3.mergeTwoSortedLists(l1,l2)\n",
    "l3.printList()"
   ]
  },
  {
   "cell_type": "code",
   "execution_count": 9,
   "id": "492d6a7b",
   "metadata": {},
   "outputs": [
    {
     "name": "stdout",
     "output_type": "stream",
     "text": [
      "1-->2-->5-->6-->END\n",
      "3-->4-->7-->8-->END\n",
      "1-->2-->3-->4-->5-->6-->7-->8-->END\n"
     ]
    }
   ],
   "source": [
    "l1 = LinkedList()\n",
    "l1.insertUsingRecursion(0,6)\n",
    "l1.insertUsingRecursion(0,5)\n",
    "l1.insertUsingRecursion(0,2)\n",
    "l1.insertUsingRecursion(0,1)\n",
    "l1.printList()\n",
    "\n",
    "l2 = LinkedList()\n",
    "l2.insertUsingRecursion(0,8)\n",
    "l2.insertUsingRecursion(0,7)\n",
    "l2.insertUsingRecursion(0,4)\n",
    "l2.insertUsingRecursion(0,3)\n",
    "l2.printList()\n",
    "\n",
    "l3 = LinkedList()\n",
    "l3.mergeTwoSortedLists(l1,l2)\n",
    "l3.printList()"
   ]
  },
  {
   "cell_type": "code",
   "execution_count": 10,
   "id": "df4cbd8c",
   "metadata": {},
   "outputs": [],
   "source": [
    "class Node:\n",
    "    \n",
    "    def __init__(self,data=None,next=None):\n",
    "        self.data = data\n",
    "        self.next = next\n",
    "        \n",
    "class LinkedList:\n",
    "    \n",
    "    def __init__(self):\n",
    "        self.start = None\n",
    "        self.tail = None\n",
    "    \n",
    "    def insertAtHead(self,data):\n",
    "        \n",
    "        new_node = Node(data,None)\n",
    "        new_node.next = self.start\n",
    "        self.start = new_node\n",
    "    \n",
    "    def printList(self):\n",
    "        printstr = ''\n",
    "        itr = self.start\n",
    "        while(itr):\n",
    "            printstr = printstr + str(itr.data) + '-->'\n",
    "            itr = itr.next\n",
    "        printstr = printstr + 'END'\n",
    "        print(printstr)\n",
    "        \n",
    "    def has_cycle(self):\n",
    "        fast = self.start\n",
    "        slow = self.start\n",
    "        cycl = False\n",
    "        print(cycl)\n",
    "        while fast:\n",
    "            if not fast.next:\n",
    "                break\n",
    "            fast = fast.next.next\n",
    "            slow = slow.next\n",
    "            if fast == slow:\n",
    "                cycl = True\n",
    "                break\n",
    "        print(cycl)\n",
    "            "
   ]
  },
  {
   "cell_type": "code",
   "execution_count": 11,
   "id": "63b0defd",
   "metadata": {},
   "outputs": [
    {
     "name": "stdout",
     "output_type": "stream",
     "text": [
      "1-->7-->3-->2-->END\n"
     ]
    }
   ],
   "source": [
    "l1=LinkedList()\n",
    "l1.insertAtHead(2)\n",
    "ts=l1.start\n",
    "l1.insertAtHead(3)\n",
    "l1.insertAtHead(7)\n",
    "l1.insertAtHead(1)\n",
    "l1.printList()"
   ]
  },
  {
   "cell_type": "code",
   "execution_count": 12,
   "id": "606d638d",
   "metadata": {},
   "outputs": [],
   "source": [
    "te = l1.start"
   ]
  },
  {
   "cell_type": "code",
   "execution_count": 13,
   "id": "6ecbeca4",
   "metadata": {},
   "outputs": [],
   "source": [
    "l1.insertAtHead(9)\n",
    "l1.insertAtHead(4)\n",
    "l1.insertAtHead(3)\n",
    "l1.insertAtHead(5)"
   ]
  },
  {
   "cell_type": "code",
   "execution_count": 14,
   "id": "b7a1bc49",
   "metadata": {},
   "outputs": [
    {
     "ename": "NameError",
     "evalue": "name 'tp' is not defined",
     "output_type": "error",
     "traceback": [
      "\u001b[0;31m---------------------------------------------------------------------------\u001b[0m",
      "\u001b[0;31mNameError\u001b[0m                                 Traceback (most recent call last)",
      "\u001b[0;32m/var/folders/g_/tkt2lv051zv8z_1rjnskg3hr0000gn/T/ipykernel_902/1527475441.py\u001b[0m in \u001b[0;36m<module>\u001b[0;34m\u001b[0m\n\u001b[0;32m----> 1\u001b[0;31m \u001b[0mtp\u001b[0m\u001b[0;34m.\u001b[0m\u001b[0mdata\u001b[0m\u001b[0;34m\u001b[0m\u001b[0;34m\u001b[0m\u001b[0m\n\u001b[0m",
      "\u001b[0;31mNameError\u001b[0m: name 'tp' is not defined"
     ]
    }
   ],
   "source": [
    "tp.data"
   ]
  },
  {
   "cell_type": "code",
   "execution_count": 16,
   "id": "0543e87c",
   "metadata": {},
   "outputs": [
    {
     "data": {
      "text/plain": [
       "2"
      ]
     },
     "execution_count": 16,
     "metadata": {},
     "output_type": "execute_result"
    }
   ],
   "source": [
    "ts.data"
   ]
  },
  {
   "cell_type": "code",
   "execution_count": 17,
   "id": "b8db678b",
   "metadata": {},
   "outputs": [
    {
     "name": "stdout",
     "output_type": "stream",
     "text": [
      "5-->3-->4-->9-->1-->7-->3-->2-->END\n"
     ]
    }
   ],
   "source": [
    "l1.printList()"
   ]
  },
  {
   "cell_type": "code",
   "execution_count": 18,
   "id": "2f16f357",
   "metadata": {},
   "outputs": [
    {
     "ename": "NameError",
     "evalue": "name 'tp' is not defined",
     "output_type": "error",
     "traceback": [
      "\u001b[0;31m---------------------------------------------------------------------------\u001b[0m",
      "\u001b[0;31mNameError\u001b[0m                                 Traceback (most recent call last)",
      "\u001b[0;32m/var/folders/g_/tkt2lv051zv8z_1rjnskg3hr0000gn/T/ipykernel_902/304398371.py\u001b[0m in \u001b[0;36m<module>\u001b[0;34m\u001b[0m\n\u001b[1;32m      1\u001b[0m \u001b[0;31m## adding tail\u001b[0m\u001b[0;34m\u001b[0m\u001b[0;34m\u001b[0m\u001b[0;34m\u001b[0m\u001b[0m\n\u001b[0;32m----> 2\u001b[0;31m \u001b[0mts\u001b[0m\u001b[0;34m.\u001b[0m\u001b[0mnext\u001b[0m \u001b[0;34m=\u001b[0m \u001b[0mtp\u001b[0m\u001b[0;34m\u001b[0m\u001b[0;34m\u001b[0m\u001b[0m\n\u001b[0m",
      "\u001b[0;31mNameError\u001b[0m: name 'tp' is not defined"
     ]
    }
   ],
   "source": [
    "## adding tail\n",
    "ts.next = tp"
   ]
  },
  {
   "cell_type": "code",
   "execution_count": 19,
   "id": "3fa39437",
   "metadata": {},
   "outputs": [
    {
     "name": "stdout",
     "output_type": "stream",
     "text": [
      "False\n",
      "False\n"
     ]
    }
   ],
   "source": [
    "l1.has_cycle()"
   ]
  },
  {
   "cell_type": "code",
   "execution_count": 20,
   "id": "ee360b14",
   "metadata": {},
   "outputs": [
    {
     "ename": "AttributeError",
     "evalue": "'NoneType' object has no attribute 'data'",
     "output_type": "error",
     "traceback": [
      "\u001b[0;31m---------------------------------------------------------------------------\u001b[0m",
      "\u001b[0;31mAttributeError\u001b[0m                            Traceback (most recent call last)",
      "\u001b[0;32m/var/folders/g_/tkt2lv051zv8z_1rjnskg3hr0000gn/T/ipykernel_902/4005270846.py\u001b[0m in \u001b[0;36m<module>\u001b[0;34m\u001b[0m\n\u001b[0;32m----> 1\u001b[0;31m \u001b[0mts\u001b[0m\u001b[0;34m.\u001b[0m\u001b[0mnext\u001b[0m\u001b[0;34m.\u001b[0m\u001b[0mdata\u001b[0m\u001b[0;34m\u001b[0m\u001b[0;34m\u001b[0m\u001b[0m\n\u001b[0m",
      "\u001b[0;31mAttributeError\u001b[0m: 'NoneType' object has no attribute 'data'"
     ]
    }
   ],
   "source": [
    "ts.next.data"
   ]
  },
  {
   "cell_type": "code",
   "execution_count": 22,
   "id": "f18d339d",
   "metadata": {},
   "outputs": [
    {
     "data": {
      "text/plain": [
       "2"
      ]
     },
     "execution_count": 22,
     "metadata": {},
     "output_type": "execute_result"
    }
   ],
   "source": [
    "ts.data"
   ]
  },
  {
   "cell_type": "code",
   "execution_count": 23,
   "id": "e175a353",
   "metadata": {},
   "outputs": [
    {
     "name": "stdout",
     "output_type": "stream",
     "text": [
      "5\n",
      "3\n",
      "4\n",
      "9\n",
      "1\n",
      "7\n",
      "3\n",
      "2\n"
     ]
    },
    {
     "ename": "AttributeError",
     "evalue": "'NoneType' object has no attribute 'data'",
     "output_type": "error",
     "traceback": [
      "\u001b[0;31m---------------------------------------------------------------------------\u001b[0m",
      "\u001b[0;31mAttributeError\u001b[0m                            Traceback (most recent call last)",
      "\u001b[0;32m/var/folders/g_/tkt2lv051zv8z_1rjnskg3hr0000gn/T/ipykernel_902/4148738874.py\u001b[0m in \u001b[0;36m<module>\u001b[0;34m\u001b[0m\n\u001b[1;32m      1\u001b[0m \u001b[0mitr\u001b[0m \u001b[0;34m=\u001b[0m \u001b[0ml1\u001b[0m\u001b[0;34m.\u001b[0m\u001b[0mstart\u001b[0m\u001b[0;34m\u001b[0m\u001b[0;34m\u001b[0m\u001b[0m\n\u001b[1;32m      2\u001b[0m \u001b[0;32mfor\u001b[0m \u001b[0mi\u001b[0m \u001b[0;32min\u001b[0m \u001b[0mrange\u001b[0m\u001b[0;34m(\u001b[0m\u001b[0;36m1\u001b[0m\u001b[0;34m,\u001b[0m\u001b[0;36m30\u001b[0m\u001b[0;34m)\u001b[0m\u001b[0;34m:\u001b[0m\u001b[0;34m\u001b[0m\u001b[0;34m\u001b[0m\u001b[0m\n\u001b[0;32m----> 3\u001b[0;31m     \u001b[0mprint\u001b[0m\u001b[0;34m(\u001b[0m\u001b[0mitr\u001b[0m\u001b[0;34m.\u001b[0m\u001b[0mdata\u001b[0m\u001b[0;34m)\u001b[0m\u001b[0;34m\u001b[0m\u001b[0;34m\u001b[0m\u001b[0m\n\u001b[0m\u001b[1;32m      4\u001b[0m     \u001b[0mitr\u001b[0m \u001b[0;34m=\u001b[0m \u001b[0mitr\u001b[0m\u001b[0;34m.\u001b[0m\u001b[0mnext\u001b[0m\u001b[0;34m\u001b[0m\u001b[0;34m\u001b[0m\u001b[0m\n",
      "\u001b[0;31mAttributeError\u001b[0m: 'NoneType' object has no attribute 'data'"
     ]
    }
   ],
   "source": [
    "itr = l1.start\n",
    "for i in range(1,30):\n",
    "    print(itr.data)\n",
    "    itr = itr.next"
   ]
  },
  {
   "cell_type": "code",
   "execution_count": null,
   "id": "83d3e386",
   "metadata": {},
   "outputs": [],
   "source": [
    "### Not sure why this did not work."
   ]
  },
  {
   "cell_type": "markdown",
   "id": "5a7eed9c",
   "metadata": {},
   "source": [
    "### LeetCode - Has Cycle?"
   ]
  },
  {
   "cell_type": "markdown",
   "id": "a8fe3692",
   "metadata": {},
   "source": [
    "class Solution:\n",
    "    def hasCycle(self, head: ListNode) -> bool:\n",
    "        fast = head\n",
    "        slow = head\n",
    "        cyl = False\n",
    "        \n",
    "        while fast:\n",
    "            if not fast.next:\n",
    "                return(False)\n",
    "            fast = fast.next.next\n",
    "            slow = slow.next\n",
    "            if fast == slow:\n",
    "                cyl = True\n",
    "                break\n",
    "        return(cyl)"
   ]
  },
  {
   "cell_type": "markdown",
   "id": "103ce587",
   "metadata": {},
   "source": [
    "### Linked List Cycle 2 - Detect starting point of Cycle."
   ]
  },
  {
   "cell_type": "markdown",
   "id": "6d46634d",
   "metadata": {},
   "source": [
    "class ListNode:\n",
    " def __init__(self, x):\n",
    "         self.val = x\n",
    "        self.next = None\n",
    "\n",
    "class Solution:\n",
    "    def detectCycle(self, head: Optional[ListNode]) -> Optional[ListNode]:\n",
    "        fast = head\n",
    "        slow = head\n",
    "        cycle = False\n",
    "        \n",
    "        while fast:\n",
    "            if not fast.next:\n",
    "                return None\n",
    "            \n",
    "            fast = fast.next.next\n",
    "            slow = slow.next\n",
    "            if fast == slow:\n",
    "                cycle=True\n",
    "                break;\n",
    "        \n",
    "        itr1 = fast\n",
    "        itr2 = head\n",
    "        \n",
    "        if cycle == True:\n",
    "            while itr1!=itr2:\n",
    "                itr1 = itr1.next\n",
    "                itr2 = itr2.next\n",
    "        \n",
    "        return(itr1)"
   ]
  },
  {
   "cell_type": "code",
   "execution_count": null,
   "id": "4a05d091",
   "metadata": {},
   "outputs": [],
   "source": [
    " def ret_square(n):\n",
    "    s = 0\n",
    "    while n > 0:\n",
    "        s = s + (n%10)**2\n",
    "        n = (n//10)\n",
    "    return(s)"
   ]
  },
  {
   "cell_type": "markdown",
   "id": "dcd6b870",
   "metadata": {},
   "source": [
    "### Happy Number"
   ]
  },
  {
   "cell_type": "markdown",
   "id": "6dfc4883",
   "metadata": {},
   "source": [
    "class Solution:\n",
    "\n",
    "    \n",
    "    def isHappy(self, n: int) -> bool:\n",
    "        \n",
    "        \n",
    "        def ret_square(n):\n",
    "            s = 0\n",
    "            while n > 0:\n",
    "                s = s + (n%10)**2\n",
    "                n = (n//10)\n",
    "            return(s)\n",
    "        \n",
    "        slow=n\n",
    "        fast=n\n",
    "        \n",
    "        \n",
    "        while True:\n",
    "            \n",
    "            slow = ret_square(slow)\n",
    "            fast = ret_square(ret_square(fast))\n",
    "            \n",
    "            if slow==fast:\n",
    "                break\n",
    "            \n",
    "        if slow==1:\n",
    "            return True\n",
    "        else:\n",
    "            return False"
   ]
  },
  {
   "cell_type": "markdown",
   "id": "84fa707d",
   "metadata": {},
   "source": [
    "### Find the middle of the linked list"
   ]
  },
  {
   "cell_type": "markdown",
   "id": "76cfd3a4",
   "metadata": {},
   "source": [
    "\n",
    "class ListNode:\n",
    "     def __init__(self, val=0, next=None):\n",
    "         self.val = val\n",
    "         self.next = next\n",
    "class Solution:\n",
    "    def middleNode(self, head: Optional[ListNode]) -> Optional[ListNode]:\n",
    "        \n",
    "        fast = head\n",
    "        slow = head\n",
    "        \n",
    "        while fast:\n",
    "            if fast.next:\n",
    "                fast=fast.next.next\n",
    "            else:\n",
    "                break\n",
    "            slow = slow.next\n",
    "        \n",
    "        return(slow)"
   ]
  },
  {
   "cell_type": "markdown",
   "id": "fbf54913",
   "metadata": {},
   "source": [
    "### Mergesort in Linked List"
   ]
  },
  {
   "cell_type": "code",
   "execution_count": 25,
   "id": "65d6ca3f",
   "metadata": {},
   "outputs": [],
   "source": [
    "class Node:\n",
    "    \n",
    "    def __init__(self,data=None,next=None):\n",
    "        self.data = data\n",
    "        self.next = next\n",
    "        \n",
    "class LinkedList:\n",
    "    \n",
    "    def __init__(self):\n",
    "        self.start = None\n",
    "        self.tail = None\n",
    "    \n",
    "    def insertAtHead(self,data):\n",
    "        \n",
    "        new_node = Node(data,None)\n",
    "        new_node.next = self.start\n",
    "        self.start = new_node\n",
    "    \n",
    "    def printList(self):\n",
    "        printstr = ''\n",
    "        itr = self.start\n",
    "        while(itr):\n",
    "            printstr = printstr + str(itr.data) + '-->'\n",
    "            itr = itr.next\n",
    "        printstr = printstr + 'END'\n",
    "        print(printstr)"
   ]
  },
  {
   "cell_type": "code",
   "execution_count": 26,
   "id": "8c70942c",
   "metadata": {},
   "outputs": [],
   "source": [
    "# Definition for singly-linked list.\n",
    "class ListNode:\n",
    "    def __init__(self, val=0, next=None):\n",
    "        self.val = val\n",
    "        self.next = next\n",
    "\n",
    "def splitList(head):\n",
    "    fast = head\n",
    "    slow = head\n",
    "\n",
    "    while fast.next !=None and fast.next.next !=None:\n",
    "        slow = slow.next\n",
    "        fast = fast.next.next\n",
    "    return(slow)\n",
    "        \n",
    "def mergeSort(head):\n",
    "\n",
    "    if not head or not head.next:\n",
    "        return head\n",
    "\n",
    "    mid = splitList(head)\n",
    "    midnext = mid.next\n",
    "    mid.next = None\n",
    "\n",
    "    l = mergeSort(head)\n",
    "    r = mergeSort(midnext)\n",
    "\n",
    "    itr1 = l\n",
    "    itr2 = r\n",
    "    itr = None\n",
    "    head = None\n",
    "\n",
    "    while itr1 or itr2:\n",
    "\n",
    "        if (itr1 and not itr2) or (itr1 and itr2 and itr1.val <= itr2.val):\n",
    "            if itr:\n",
    "                itr.next = itr1\n",
    "                itr1 = itr1.next\n",
    "                itr = itr.next\n",
    "                itr.next=None\n",
    "            else:\n",
    "                itr = itr1\n",
    "                head = itr\n",
    "                itr1 = itr1.next\n",
    "                itr.next = None\n",
    "\n",
    "\n",
    "        elif (itr2 and not itr1) or (itr1 and itr2 and itr1.val > itr2.val):\n",
    "            if itr:\n",
    "                itr.next = itr2\n",
    "                itr2 = itr2.next\n",
    "                itr = itr.next\n",
    "                itr.next=None\n",
    "\n",
    "            else:\n",
    "                itr = itr2\n",
    "                head = itr\n",
    "                itr2 = itr2.next\n",
    "                itr.next = None\n",
    "\n",
    "    return head"
   ]
  },
  {
   "cell_type": "code",
   "execution_count": 27,
   "id": "e3461bff",
   "metadata": {},
   "outputs": [],
   "source": [
    "l1 = ListNode(4)\n",
    "itr = l1\n",
    "itr.next = ListNode(2)\n",
    "itr = itr.next\n",
    "\n",
    "itr.next = ListNode(1)\n",
    "itr = itr.next\n",
    "\n",
    "itr.next = ListNode(3)\n",
    "itr = itr.next"
   ]
  },
  {
   "cell_type": "code",
   "execution_count": 28,
   "id": "b3616cd0",
   "metadata": {},
   "outputs": [
    {
     "name": "stdout",
     "output_type": "stream",
     "text": [
      "4\n"
     ]
    }
   ],
   "source": [
    "print(l1.val)"
   ]
  },
  {
   "cell_type": "code",
   "execution_count": 29,
   "id": "1bd8c2be",
   "metadata": {},
   "outputs": [
    {
     "name": "stdout",
     "output_type": "stream",
     "text": [
      "2\n"
     ]
    }
   ],
   "source": [
    "print(l1.next.val)"
   ]
  },
  {
   "cell_type": "code",
   "execution_count": 30,
   "id": "dfc1fa62",
   "metadata": {},
   "outputs": [
    {
     "name": "stdout",
     "output_type": "stream",
     "text": [
      "1\n"
     ]
    }
   ],
   "source": [
    "print(l1.next.next.val)"
   ]
  },
  {
   "cell_type": "code",
   "execution_count": 31,
   "id": "67ba84c4",
   "metadata": {},
   "outputs": [
    {
     "name": "stdout",
     "output_type": "stream",
     "text": [
      "3\n"
     ]
    }
   ],
   "source": [
    "print(l1.next.next.next.val)"
   ]
  },
  {
   "cell_type": "code",
   "execution_count": 32,
   "id": "dad63943",
   "metadata": {},
   "outputs": [
    {
     "ename": "AttributeError",
     "evalue": "'NoneType' object has no attribute 'val'",
     "output_type": "error",
     "traceback": [
      "\u001b[0;31m---------------------------------------------------------------------------\u001b[0m",
      "\u001b[0;31mAttributeError\u001b[0m                            Traceback (most recent call last)",
      "\u001b[0;32m/var/folders/g_/tkt2lv051zv8z_1rjnskg3hr0000gn/T/ipykernel_902/1997889605.py\u001b[0m in \u001b[0;36m<module>\u001b[0;34m\u001b[0m\n\u001b[0;32m----> 1\u001b[0;31m \u001b[0mprint\u001b[0m\u001b[0;34m(\u001b[0m\u001b[0ml1\u001b[0m\u001b[0;34m.\u001b[0m\u001b[0mnext\u001b[0m\u001b[0;34m.\u001b[0m\u001b[0mnext\u001b[0m\u001b[0;34m.\u001b[0m\u001b[0mnext\u001b[0m\u001b[0;34m.\u001b[0m\u001b[0mnext\u001b[0m\u001b[0;34m.\u001b[0m\u001b[0mval\u001b[0m\u001b[0;34m)\u001b[0m\u001b[0;34m\u001b[0m\u001b[0;34m\u001b[0m\u001b[0m\n\u001b[0m",
      "\u001b[0;31mAttributeError\u001b[0m: 'NoneType' object has no attribute 'val'"
     ]
    }
   ],
   "source": [
    "print(l1.next.next.next.next.val)"
   ]
  },
  {
   "cell_type": "code",
   "execution_count": 33,
   "id": "9f5c7710",
   "metadata": {},
   "outputs": [],
   "source": [
    "x=mergeSort(l1)"
   ]
  },
  {
   "cell_type": "code",
   "execution_count": 34,
   "id": "ff9640e6",
   "metadata": {},
   "outputs": [
    {
     "name": "stdout",
     "output_type": "stream",
     "text": [
      "1\n",
      "2\n",
      "3\n",
      "4\n"
     ]
    },
    {
     "ename": "AttributeError",
     "evalue": "'NoneType' object has no attribute 'val'",
     "output_type": "error",
     "traceback": [
      "\u001b[0;31m---------------------------------------------------------------------------\u001b[0m",
      "\u001b[0;31mAttributeError\u001b[0m                            Traceback (most recent call last)",
      "\u001b[0;32m/var/folders/g_/tkt2lv051zv8z_1rjnskg3hr0000gn/T/ipykernel_902/2716407710.py\u001b[0m in \u001b[0;36m<module>\u001b[0;34m\u001b[0m\n\u001b[1;32m      3\u001b[0m \u001b[0mprint\u001b[0m\u001b[0;34m(\u001b[0m\u001b[0mx\u001b[0m\u001b[0;34m.\u001b[0m\u001b[0mnext\u001b[0m\u001b[0;34m.\u001b[0m\u001b[0mnext\u001b[0m\u001b[0;34m.\u001b[0m\u001b[0mval\u001b[0m\u001b[0;34m)\u001b[0m\u001b[0;34m\u001b[0m\u001b[0;34m\u001b[0m\u001b[0m\n\u001b[1;32m      4\u001b[0m \u001b[0mprint\u001b[0m\u001b[0;34m(\u001b[0m\u001b[0mx\u001b[0m\u001b[0;34m.\u001b[0m\u001b[0mnext\u001b[0m\u001b[0;34m.\u001b[0m\u001b[0mnext\u001b[0m\u001b[0;34m.\u001b[0m\u001b[0mnext\u001b[0m\u001b[0;34m.\u001b[0m\u001b[0mval\u001b[0m\u001b[0;34m)\u001b[0m\u001b[0;34m\u001b[0m\u001b[0;34m\u001b[0m\u001b[0m\n\u001b[0;32m----> 5\u001b[0;31m \u001b[0mprint\u001b[0m\u001b[0;34m(\u001b[0m\u001b[0mx\u001b[0m\u001b[0;34m.\u001b[0m\u001b[0mnext\u001b[0m\u001b[0;34m.\u001b[0m\u001b[0mnext\u001b[0m\u001b[0;34m.\u001b[0m\u001b[0mnext\u001b[0m\u001b[0;34m.\u001b[0m\u001b[0mnext\u001b[0m\u001b[0;34m.\u001b[0m\u001b[0mval\u001b[0m\u001b[0;34m)\u001b[0m\u001b[0;34m\u001b[0m\u001b[0;34m\u001b[0m\u001b[0m\n\u001b[0m",
      "\u001b[0;31mAttributeError\u001b[0m: 'NoneType' object has no attribute 'val'"
     ]
    }
   ],
   "source": [
    "print(x.val)\n",
    "print(x.next.val)\n",
    "print(x.next.next.val)\n",
    "print(x.next.next.next.val)\n",
    "print(x.next.next.next.next.val)"
   ]
  },
  {
   "cell_type": "code",
   "execution_count": 35,
   "id": "966e20c5",
   "metadata": {},
   "outputs": [
    {
     "name": "stdout",
     "output_type": "stream",
     "text": [
      "5\n"
     ]
    }
   ],
   "source": [
    "a = 5\n",
    "b = a\n",
    "a = 3\n",
    "print(b)"
   ]
  },
  {
   "cell_type": "code",
   "execution_count": 36,
   "id": "5431b87f",
   "metadata": {},
   "outputs": [],
   "source": [
    "def bubblesortList(head):\n",
    "    \n",
    "    if not head or not head.next:\n",
    "        return head\n",
    "\n",
    "    slow=head\n",
    "    cnt=0\n",
    "\n",
    "    while slow:\n",
    "        slow=slow.next\n",
    "        cnt = cnt+1\n",
    "\n",
    "    for i in range(1,cnt):\n",
    "        slow=head\n",
    "        fast=head.next\n",
    "\n",
    "        while fast:\n",
    "            if slow.val > fast.val:\n",
    "                temp = slow.val\n",
    "                slow.val = fast.val\n",
    "                fast.val = slow\n",
    "            slow = slow.next\n",
    "            fast = fast.next\n",
    "\n",
    "    return head"
   ]
  },
  {
   "cell_type": "code",
   "execution_count": 37,
   "id": "e654f835",
   "metadata": {},
   "outputs": [],
   "source": [
    "l1 = ListNode(4)\n",
    "itr = l1\n",
    "itr.next = ListNode(2)\n",
    "itr = itr.next\n",
    "\n",
    "itr.next = ListNode(1)\n",
    "itr = itr.next\n",
    "\n",
    "itr.next = ListNode(3)\n",
    "itr = itr.next"
   ]
  },
  {
   "cell_type": "code",
   "execution_count": 38,
   "id": "141f3f85",
   "metadata": {},
   "outputs": [
    {
     "name": "stdout",
     "output_type": "stream",
     "text": [
      "4\n",
      "2\n",
      "1\n",
      "3\n"
     ]
    }
   ],
   "source": [
    "print(l1.val)\n",
    "print(l1.next.val)\n",
    "print(l1.next.next.val)\n",
    "print(l1.next.next.next.val)"
   ]
  },
  {
   "cell_type": "code",
   "execution_count": 39,
   "id": "ee4d8705",
   "metadata": {},
   "outputs": [
    {
     "ename": "TypeError",
     "evalue": "'>' not supported between instances of 'ListNode' and 'int'",
     "output_type": "error",
     "traceback": [
      "\u001b[0;31m---------------------------------------------------------------------------\u001b[0m",
      "\u001b[0;31mTypeError\u001b[0m                                 Traceback (most recent call last)",
      "\u001b[0;32m/var/folders/g_/tkt2lv051zv8z_1rjnskg3hr0000gn/T/ipykernel_902/290023446.py\u001b[0m in \u001b[0;36m<module>\u001b[0;34m\u001b[0m\n\u001b[0;32m----> 1\u001b[0;31m \u001b[0mp\u001b[0m\u001b[0;34m=\u001b[0m\u001b[0mbubblesortList\u001b[0m\u001b[0;34m(\u001b[0m\u001b[0ml1\u001b[0m\u001b[0;34m)\u001b[0m\u001b[0;34m\u001b[0m\u001b[0;34m\u001b[0m\u001b[0m\n\u001b[0m",
      "\u001b[0;32m/var/folders/g_/tkt2lv051zv8z_1rjnskg3hr0000gn/T/ipykernel_902/1082206281.py\u001b[0m in \u001b[0;36mbubblesortList\u001b[0;34m(head)\u001b[0m\n\u001b[1;32m     16\u001b[0m \u001b[0;34m\u001b[0m\u001b[0m\n\u001b[1;32m     17\u001b[0m         \u001b[0;32mwhile\u001b[0m \u001b[0mfast\u001b[0m\u001b[0;34m:\u001b[0m\u001b[0;34m\u001b[0m\u001b[0;34m\u001b[0m\u001b[0m\n\u001b[0;32m---> 18\u001b[0;31m             \u001b[0;32mif\u001b[0m \u001b[0mslow\u001b[0m\u001b[0;34m.\u001b[0m\u001b[0mval\u001b[0m \u001b[0;34m>\u001b[0m \u001b[0mfast\u001b[0m\u001b[0;34m.\u001b[0m\u001b[0mval\u001b[0m\u001b[0;34m:\u001b[0m\u001b[0;34m\u001b[0m\u001b[0;34m\u001b[0m\u001b[0m\n\u001b[0m\u001b[1;32m     19\u001b[0m                 \u001b[0mtemp\u001b[0m \u001b[0;34m=\u001b[0m \u001b[0mslow\u001b[0m\u001b[0;34m.\u001b[0m\u001b[0mval\u001b[0m\u001b[0;34m\u001b[0m\u001b[0;34m\u001b[0m\u001b[0m\n\u001b[1;32m     20\u001b[0m                 \u001b[0mslow\u001b[0m\u001b[0;34m.\u001b[0m\u001b[0mval\u001b[0m \u001b[0;34m=\u001b[0m \u001b[0mfast\u001b[0m\u001b[0;34m.\u001b[0m\u001b[0mval\u001b[0m\u001b[0;34m\u001b[0m\u001b[0;34m\u001b[0m\u001b[0m\n",
      "\u001b[0;31mTypeError\u001b[0m: '>' not supported between instances of 'ListNode' and 'int'"
     ]
    }
   ],
   "source": [
    "p=bubblesortList(l1)"
   ]
  },
  {
   "cell_type": "markdown",
   "id": "9e934f8c",
   "metadata": {},
   "source": [
    "### Reverse Linked List"
   ]
  },
  {
   "cell_type": "markdown",
   "id": "6aacde5b",
   "metadata": {},
   "source": [
    "class Solution:\n",
    "    def reverseList(self):\n",
    "       \n",
    "        if not head or not head.next:\n",
    "            return head\n",
    "        \n",
    "        pick = head\n",
    "        itr=pick.next\n",
    "        pick.next = None\n",
    "        i = pick\n",
    "        \n",
    "        while itr:\n",
    "            pick = itr\n",
    "            itr = itr.next\n",
    "            pick.next = i\n",
    "            i = pick\n",
    "        return(i)"
   ]
  },
  {
   "cell_type": "markdown",
   "id": "d9db1b6b",
   "metadata": {},
   "source": [
    "###  Reverse Linked List with recursion"
   ]
  },
  {
   "cell_type": "code",
   "execution_count": 45,
   "id": "c893b497",
   "metadata": {},
   "outputs": [],
   "source": [
    "x = 0\n",
    "def f1():\n",
    "    global x\n",
    "    x = 1"
   ]
  },
  {
   "cell_type": "code",
   "execution_count": 46,
   "id": "245f958a",
   "metadata": {},
   "outputs": [
    {
     "data": {
      "text/plain": [
       "0"
      ]
     },
     "execution_count": 46,
     "metadata": {},
     "output_type": "execute_result"
    }
   ],
   "source": [
    "x"
   ]
  },
  {
   "cell_type": "code",
   "execution_count": 47,
   "id": "be4d2544",
   "metadata": {},
   "outputs": [],
   "source": [
    "f1()"
   ]
  },
  {
   "cell_type": "code",
   "execution_count": 48,
   "id": "e5f7e3e3",
   "metadata": {},
   "outputs": [
    {
     "data": {
      "text/plain": [
       "1"
      ]
     },
     "execution_count": 48,
     "metadata": {},
     "output_type": "execute_result"
    }
   ],
   "source": [
    "x"
   ]
  },
  {
   "cell_type": "code",
   "execution_count": 50,
   "id": "cf6509f5",
   "metadata": {},
   "outputs": [
    {
     "name": "stdout",
     "output_type": "stream",
     "text": [
      "4\n",
      "2\n",
      "1\n",
      "3\n"
     ]
    }
   ],
   "source": [
    "l1 = ListNode(4)\n",
    "itr = l1\n",
    "itr.next = ListNode(2)\n",
    "itr = itr.next\n",
    "\n",
    "itr.next = ListNode(1)\n",
    "itr = itr.next\n",
    "\n",
    "itr.next = ListNode(3)\n",
    "itr = itr.next\n",
    "\n",
    "print(l1.val)\n",
    "print(l1.next.val)\n",
    "print(l1.next.next.val)\n",
    "print(l1.next.next.next.val)"
   ]
  },
  {
   "cell_type": "code",
   "execution_count": 52,
   "id": "c42a26a9",
   "metadata": {},
   "outputs": [],
   "source": [
    "start = None\n",
    "\n",
    "def revlist(itr):\n",
    "\n",
    "    global start\n",
    "\n",
    "    if not itr.next:\n",
    "        start = itr\n",
    "        return itr\n",
    "    else:\n",
    "        pick = itr\n",
    "        itr = itr.next\n",
    "        pick.next = None\n",
    "        rev = revlist(itr)\n",
    "        rev.next = pick\n",
    "        rev =rev.next\n",
    "        return rev\n",
    "\n",
    "x = revlist(l1)"
   ]
  },
  {
   "cell_type": "code",
   "execution_count": 53,
   "id": "d2cfec68",
   "metadata": {},
   "outputs": [
    {
     "data": {
      "text/plain": [
       "<__main__.ListNode at 0x7f839d35dc10>"
      ]
     },
     "execution_count": 53,
     "metadata": {},
     "output_type": "execute_result"
    }
   ],
   "source": [
    "start"
   ]
  },
  {
   "cell_type": "code",
   "execution_count": 55,
   "id": "09ac2622",
   "metadata": {},
   "outputs": [
    {
     "name": "stdout",
     "output_type": "stream",
     "text": [
      "4\n"
     ]
    },
    {
     "ename": "AttributeError",
     "evalue": "'NoneType' object has no attribute 'val'",
     "output_type": "error",
     "traceback": [
      "\u001b[0;31m---------------------------------------------------------------------------\u001b[0m",
      "\u001b[0;31mAttributeError\u001b[0m                            Traceback (most recent call last)",
      "\u001b[0;32m/var/folders/g_/tkt2lv051zv8z_1rjnskg3hr0000gn/T/ipykernel_902/3214490012.py\u001b[0m in \u001b[0;36m<module>\u001b[0;34m\u001b[0m\n\u001b[1;32m      1\u001b[0m \u001b[0mprint\u001b[0m\u001b[0;34m(\u001b[0m\u001b[0mstart\u001b[0m\u001b[0;34m.\u001b[0m\u001b[0mval\u001b[0m\u001b[0;34m)\u001b[0m\u001b[0;34m\u001b[0m\u001b[0;34m\u001b[0m\u001b[0m\n\u001b[0;32m----> 2\u001b[0;31m \u001b[0mprint\u001b[0m\u001b[0;34m(\u001b[0m\u001b[0mstart\u001b[0m\u001b[0;34m.\u001b[0m\u001b[0mnext\u001b[0m\u001b[0;34m.\u001b[0m\u001b[0mval\u001b[0m\u001b[0;34m)\u001b[0m\u001b[0;34m\u001b[0m\u001b[0;34m\u001b[0m\u001b[0m\n\u001b[0m\u001b[1;32m      3\u001b[0m \u001b[0mprint\u001b[0m\u001b[0;34m(\u001b[0m\u001b[0mstart\u001b[0m\u001b[0;34m.\u001b[0m\u001b[0mnext\u001b[0m\u001b[0;34m.\u001b[0m\u001b[0mnext\u001b[0m\u001b[0;34m.\u001b[0m\u001b[0mval\u001b[0m\u001b[0;34m)\u001b[0m\u001b[0;34m\u001b[0m\u001b[0;34m\u001b[0m\u001b[0m\n\u001b[1;32m      4\u001b[0m \u001b[0mprint\u001b[0m\u001b[0;34m(\u001b[0m\u001b[0mstart\u001b[0m\u001b[0;34m.\u001b[0m\u001b[0mnext\u001b[0m\u001b[0;34m.\u001b[0m\u001b[0mnext\u001b[0m\u001b[0;34m.\u001b[0m\u001b[0mnext\u001b[0m\u001b[0;34m.\u001b[0m\u001b[0mval\u001b[0m\u001b[0;34m)\u001b[0m\u001b[0;34m\u001b[0m\u001b[0;34m\u001b[0m\u001b[0m\n",
      "\u001b[0;31mAttributeError\u001b[0m: 'NoneType' object has no attribute 'val'"
     ]
    }
   ],
   "source": [
    "print(start.val)\n",
    "print(start.next.val)\n",
    "print(start.next.next.val)\n",
    "print(start.next.next.next.val)"
   ]
  },
  {
   "cell_type": "code",
   "execution_count": null,
   "id": "6f946f8b",
   "metadata": {},
   "outputs": [],
   "source": []
  }
 ],
 "metadata": {
  "kernelspec": {
   "display_name": "Python 3 (ipykernel)",
   "language": "python",
   "name": "python3"
  },
  "language_info": {
   "codemirror_mode": {
    "name": "ipython",
    "version": 3
   },
   "file_extension": ".py",
   "mimetype": "text/x-python",
   "name": "python",
   "nbconvert_exporter": "python",
   "pygments_lexer": "ipython3",
   "version": "3.9.6"
  }
 },
 "nbformat": 4,
 "nbformat_minor": 5
}
