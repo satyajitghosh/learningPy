{
 "cells": [
  {
   "cell_type": "markdown",
   "id": "b36e19c3",
   "metadata": {},
   "source": [
    "### Linked List Questions"
   ]
  },
  {
   "cell_type": "code",
   "execution_count": 1,
   "id": "449ad49d",
   "metadata": {},
   "outputs": [],
   "source": [
    "### Singly Linked List\n",
    "### Insertion at head.\n",
    "### Insertion at tail.\n",
    "### Insertion at End.\n",
    "### Insertion in a given position.\n",
    "### Deletion by value.\n",
    "\n",
    "### Doubly Linked List\n",
    "### Insertion in Doubly Linked List\n",
    "### Display\n",
    "### Reversal\n",
    "### Insertion\n",
    "\n",
    "### Circular\n",
    "### Insertion in Circular\n",
    "### Display Circular\n",
    "### Deletion Circular"
   ]
  },
  {
   "cell_type": "code",
   "execution_count": 3,
   "id": "cf103881",
   "metadata": {},
   "outputs": [],
   "source": [
    "class Node:\n",
    "    \n",
    "    def __init_(self,data=None,next=None):\n",
    "        self.data = data\n",
    "        self.next = next\n",
    "        \n",
    "class LinkedList:\n",
    "    \n",
    "    def __init__(self):\n",
    "        self.start = None\n",
    "    \n",
    "    def insertAtHead(self,data):\n",
    "        new_node = Node(data,None)\n",
    "        new_node.next = None\n",
    "        self.start = new_node\n",
    "    \n",
    "    def insertAtTail(self,data):\n",
    "        itr = self.start\n",
    "        if not itr:\n",
    "            self.start = Node(data,None)\n",
    "            return\n",
    "        else:\n",
    "            while itr.next:\n",
    "                itr = itr.next \n",
    "            itr.next = Node(data,None)\n",
    "    \n",
    "    def printList(self):\n",
    "        printstr = ''\n",
    "        itr = self.start\n",
    "        while(itr):\n",
    "            printstr = printstr + itr.data + '-->'\n",
    "        printstr = printstr + 'END'\n",
    "        print(printstr)\n",
    "        \n",
    "    def insertAtPosition(self,pos,data):\n",
    "        new_node = Node(data,None)\n",
    "        itr = self.start\n",
    "        i = 0\n",
    "        while i < pos & itr:\n",
    "            itr = itr.next\n",
    "            i = i+1\n",
    "        if i < (pos-1):\n",
    "            print(\"Incorrect position. Exceeds lenght\")\n",
    "            return\n",
    "        temp = itr.next \n",
    "        itr.next = new_node\n",
    "        new_node.next = temp"
   ]
  },
  {
   "cell_type": "code",
   "execution_count": null,
   "id": "50a93ce3",
   "metadata": {},
   "outputs": [],
   "source": []
  }
 ],
 "metadata": {
  "kernelspec": {
   "display_name": "Python 3 (ipykernel)",
   "language": "python",
   "name": "python3"
  },
  "language_info": {
   "codemirror_mode": {
    "name": "ipython",
    "version": 3
   },
   "file_extension": ".py",
   "mimetype": "text/x-python",
   "name": "python",
   "nbconvert_exporter": "python",
   "pygments_lexer": "ipython3",
   "version": "3.9.6"
  }
 },
 "nbformat": 4,
 "nbformat_minor": 5
}
