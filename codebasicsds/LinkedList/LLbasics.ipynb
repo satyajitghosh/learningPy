{
 "cells": [
  {
   "cell_type": "markdown",
   "id": "b36e19c3",
   "metadata": {},
   "source": [
    "### Linked List Questions"
   ]
  },
  {
   "cell_type": "code",
   "execution_count": 1,
   "id": "449ad49d",
   "metadata": {},
   "outputs": [],
   "source": [
    "### Singly Linked List\n",
    "### Insertion at head.\n",
    "### Insertion at tail.\n",
    "### Insertion at End.\n",
    "### Insertion in a given position.\n",
    "### Deletion by value.\n",
    "\n",
    "### Doubly Linked List\n",
    "### Insertion in Doubly Linked List\n",
    "### Display\n",
    "### Reversal\n",
    "### Insertion\n",
    "\n",
    "### Circular\n",
    "### Insertion in Circular\n",
    "### Display Circular\n",
    "### Deletion Circular"
   ]
  },
  {
   "cell_type": "code",
   "execution_count": 1,
   "id": "cf103881",
   "metadata": {},
   "outputs": [],
   "source": [
    "class Node:\n",
    "    \n",
    "    def __init__(self,data=None,next=None):\n",
    "        self.data = data\n",
    "        self.next = next\n",
    "        \n",
    "class LinkedList:\n",
    "    \n",
    "    def __init__(self):\n",
    "        self.start = None\n",
    "    \n",
    "    def insertAtHead(self,data):\n",
    "        new_node = Node(data,None)\n",
    "        new_node.next = self.start\n",
    "        self.start = new_node\n",
    "    \n",
    "    def insertAtTail(self,data):\n",
    "        itr = self.start\n",
    "        if not itr:\n",
    "            self.start = Node(data,None)\n",
    "            return\n",
    "        else:\n",
    "            while itr.next:\n",
    "                itr = itr.next \n",
    "            itr.next = Node(data,None)\n",
    "    \n",
    "    def printList(self):\n",
    "        printstr = ''\n",
    "        itr = self.start\n",
    "        while(itr):\n",
    "            printstr = printstr + str(itr.data) + '-->'\n",
    "            itr = itr.next\n",
    "        printstr = printstr + 'END'\n",
    "        print(printstr)\n",
    "        \n",
    "    def insertAtPosition(self,pos,data):\n",
    "        new_node = Node(data,None)\n",
    "        itr = self.start\n",
    "        i = 0\n",
    "        \n",
    "        if pos == 0:\n",
    "            self.insertAtHead(data)\n",
    "            return\n",
    "            \n",
    "        while i < (pos-1):\n",
    "            if not itr.next:\n",
    "                print(\"Incorrect position. Exceeds length.\")\n",
    "                return\n",
    "            else:\n",
    "                itr = itr.next\n",
    "                i = i+1\n",
    "        \n",
    "        temp = itr.next \n",
    "        itr.next = new_node\n",
    "        new_node.next = temp\n",
    "        \n",
    "    def deleteGivenValue(self,value):\n",
    "        \n",
    "        found = False\n",
    "        itr = self.start\n",
    "        \n",
    "        if itr.data == value:\n",
    "            found = True\n",
    "            self.start = itr.next\n",
    "            \n",
    "        while itr.next:\n",
    "            if itr.next.data == value:\n",
    "                if itr.next.next:\n",
    "                    itr.next = itr.next.next\n",
    "                else:\n",
    "                    itr.next = None\n",
    "            itr = itr.next\n",
    "        "
   ]
  },
  {
   "cell_type": "code",
   "execution_count": 2,
   "id": "50a93ce3",
   "metadata": {},
   "outputs": [
    {
     "name": "stdout",
     "output_type": "stream",
     "text": [
      "2-->5-->3-->1-->END\n"
     ]
    }
   ],
   "source": [
    "l1 = LinkedList()\n",
    "l1.insertAtHead(1)\n",
    "l1.insertAtHead(3)\n",
    "l1.insertAtHead(5)\n",
    "l1.insertAtHead(2)\n",
    "l1.printList()"
   ]
  },
  {
   "cell_type": "code",
   "execution_count": 3,
   "id": "374a02df",
   "metadata": {},
   "outputs": [
    {
     "name": "stdout",
     "output_type": "stream",
     "text": [
      "2-->5-->3-->1-->7-->9-->13-->END\n"
     ]
    }
   ],
   "source": [
    "l1.insertAtTail(7)\n",
    "l1.insertAtTail(9)\n",
    "l1.insertAtTail(13)\n",
    "l1.printList()"
   ]
  },
  {
   "cell_type": "code",
   "execution_count": 4,
   "id": "475cca68",
   "metadata": {},
   "outputs": [],
   "source": [
    "l1.insertAtPosition(2,15)"
   ]
  },
  {
   "cell_type": "code",
   "execution_count": 5,
   "id": "5f68223d",
   "metadata": {},
   "outputs": [
    {
     "name": "stdout",
     "output_type": "stream",
     "text": [
      "2-->5-->15-->3-->1-->7-->9-->13-->END\n"
     ]
    }
   ],
   "source": [
    "l1.printList()"
   ]
  },
  {
   "cell_type": "code",
   "execution_count": 6,
   "id": "e0be3873",
   "metadata": {},
   "outputs": [],
   "source": [
    "l1.insertAtPosition(0,15)"
   ]
  },
  {
   "cell_type": "code",
   "execution_count": 7,
   "id": "f94fda63",
   "metadata": {},
   "outputs": [
    {
     "name": "stdout",
     "output_type": "stream",
     "text": [
      "15-->2-->5-->15-->3-->1-->7-->9-->13-->END\n"
     ]
    }
   ],
   "source": [
    "l1.printList()"
   ]
  },
  {
   "cell_type": "code",
   "execution_count": 8,
   "id": "c560afc9",
   "metadata": {},
   "outputs": [],
   "source": [
    "l1.deleteGivenValue(7)"
   ]
  },
  {
   "cell_type": "code",
   "execution_count": 9,
   "id": "ca31d908",
   "metadata": {},
   "outputs": [
    {
     "name": "stdout",
     "output_type": "stream",
     "text": [
      "15-->2-->5-->15-->3-->1-->9-->13-->END\n"
     ]
    }
   ],
   "source": [
    "l1.printList()"
   ]
  },
  {
   "cell_type": "code",
   "execution_count": 10,
   "id": "dd6a934b",
   "metadata": {},
   "outputs": [],
   "source": [
    "l1.deleteGivenValue(15)"
   ]
  },
  {
   "cell_type": "code",
   "execution_count": 11,
   "id": "8474a2aa",
   "metadata": {},
   "outputs": [
    {
     "name": "stdout",
     "output_type": "stream",
     "text": [
      "2-->5-->3-->1-->9-->13-->END\n"
     ]
    }
   ],
   "source": [
    "l1.printList()"
   ]
  },
  {
   "cell_type": "code",
   "execution_count": 12,
   "id": "58403c1c",
   "metadata": {},
   "outputs": [
    {
     "name": "stdout",
     "output_type": "stream",
     "text": [
      "Incorrect position. Exceeds length.\n"
     ]
    }
   ],
   "source": [
    "l1.insertAtPosition(7,11)"
   ]
  },
  {
   "cell_type": "code",
   "execution_count": 13,
   "id": "57950b0e",
   "metadata": {},
   "outputs": [
    {
     "name": "stdout",
     "output_type": "stream",
     "text": [
      "2-->5-->3-->1-->9-->13-->END\n"
     ]
    }
   ],
   "source": [
    "l1.printList()"
   ]
  },
  {
   "cell_type": "code",
   "execution_count": 14,
   "id": "1ead8bf7",
   "metadata": {},
   "outputs": [],
   "source": [
    "l1.insertAtPosition(6,11)"
   ]
  },
  {
   "cell_type": "code",
   "execution_count": 15,
   "id": "a5ea8335",
   "metadata": {},
   "outputs": [],
   "source": [
    "l1.insertAtPosition(7,11)"
   ]
  },
  {
   "cell_type": "code",
   "execution_count": 16,
   "id": "25251242",
   "metadata": {},
   "outputs": [
    {
     "name": "stdout",
     "output_type": "stream",
     "text": [
      "2-->5-->3-->1-->9-->13-->11-->11-->END\n"
     ]
    }
   ],
   "source": [
    "l1.printList()"
   ]
  },
  {
   "cell_type": "markdown",
   "id": "0be789e1",
   "metadata": {},
   "source": [
    "### Doubly Linked List"
   ]
  },
  {
   "cell_type": "code",
   "execution_count": 67,
   "id": "6411bbb0",
   "metadata": {},
   "outputs": [],
   "source": [
    "class Node:\n",
    "    \n",
    "    def __init__(self,data,prev=None,next=None):\n",
    "        self.data = data\n",
    "        self.prev = prev\n",
    "        self.next = next\n",
    "\n",
    "class DoublyLinkedList:\n",
    "    \n",
    "    def __init__(self):\n",
    "        self.start = None\n",
    "    \n",
    "    def insertAtHead(self,val):\n",
    "        new_node = Node(val,None,None)\n",
    "        new_node.next = self.start\n",
    "        if self.start:\n",
    "            self.start.prev = new_node\n",
    "        self.start = new_node\n",
    "    \n",
    "    def insertAtEnd(self,val):\n",
    "        new_node = Node(val,None,None)\n",
    "        itr=self.start\n",
    "        if not itr:\n",
    "            self.insertAtHead(val)\n",
    "            return\n",
    "        while itr.next:\n",
    "            itr = itr.next\n",
    "        itr.next = new_node\n",
    "        new_node.prev = itr\n",
    "    \n",
    "    def printList(self):\n",
    "        printstr = ''\n",
    "        itr = self.start\n",
    "        while itr:\n",
    "            printstr = printstr + str(itr.data) + '-->'\n",
    "            itr = itr.next\n",
    "        printstr = printstr + 'END'\n",
    "        print(printstr)\n",
    "        \n",
    "    def printReverse(self):\n",
    "        itr = self.start\n",
    "        while itr.next:\n",
    "            itr = itr.next\n",
    "        printstr = ''\n",
    "        while itr:\n",
    "            printstr = printstr + str(itr.data) + '-->'\n",
    "            itr = itr.prev\n",
    "        printstr=printstr + 'START'\n",
    "        print(printstr)\n",
    "        \n",
    "    def insertAtPosition(self,pos,val):\n",
    "        new_node = Node(val)\n",
    "        i = 0\n",
    "        itr = self.start\n",
    "        \n",
    "        if pos == 0:\n",
    "            self.insertAtHead(val)\n",
    "            return\n",
    "        \n",
    "        while i < pos-1:\n",
    "            i = i + 1\n",
    "            if not itr.next:\n",
    "                print(\"Position is greater than length.\")\n",
    "                return\n",
    "            else :\n",
    "                itr = itr.next\n",
    "        \n",
    "        if itr.next:\n",
    "            itr.next.prev = new_node\n",
    "        \n",
    "        new_node.next = itr.next\n",
    "        new_node.prev = itr\n",
    "        itr.next = new_node"
   ]
  },
  {
   "cell_type": "code",
   "execution_count": 68,
   "id": "1797036b",
   "metadata": {},
   "outputs": [
    {
     "name": "stdout",
     "output_type": "stream",
     "text": [
      "7-->11-->9-->6-->5-->3-->1-->6-->END\n"
     ]
    }
   ],
   "source": [
    "l2 = DoublyLinkedList()\n",
    "l2.insertAtEnd(1)\n",
    "l2.insertAtHead(3)\n",
    "l2.insertAtHead(5)\n",
    "l2.insertAtHead(6)\n",
    "l2.insertAtHead(9)\n",
    "l2.insertAtHead(11)\n",
    "l2.insertAtHead(7)\n",
    "l2.insertAtEnd(6)\n",
    "l2.printList()"
   ]
  },
  {
   "cell_type": "code",
   "execution_count": 69,
   "id": "d33899af",
   "metadata": {},
   "outputs": [
    {
     "name": "stdout",
     "output_type": "stream",
     "text": [
      "6-->1-->3-->5-->6-->9-->11-->7-->START\n"
     ]
    }
   ],
   "source": [
    "l2.printReverse()"
   ]
  },
  {
   "cell_type": "code",
   "execution_count": 70,
   "id": "a52b1fa0",
   "metadata": {},
   "outputs": [
    {
     "name": "stdout",
     "output_type": "stream",
     "text": [
      "7-->11-->9-->6-->5-->3-->1-->6-->END\n"
     ]
    }
   ],
   "source": [
    "l2.printList()"
   ]
  },
  {
   "cell_type": "code",
   "execution_count": 71,
   "id": "a80d2668",
   "metadata": {},
   "outputs": [],
   "source": [
    "l2.insertAtPosition(3,15)"
   ]
  },
  {
   "cell_type": "code",
   "execution_count": 72,
   "id": "ac1f39d4",
   "metadata": {},
   "outputs": [
    {
     "name": "stdout",
     "output_type": "stream",
     "text": [
      "7-->11-->9-->15-->6-->5-->3-->1-->6-->END\n"
     ]
    }
   ],
   "source": [
    "l2.printList()"
   ]
  },
  {
   "cell_type": "code",
   "execution_count": 73,
   "id": "1cf80219",
   "metadata": {},
   "outputs": [
    {
     "name": "stdout",
     "output_type": "stream",
     "text": [
      "6-->1-->3-->5-->6-->15-->9-->11-->7-->START\n"
     ]
    }
   ],
   "source": [
    "l2.printReverse()"
   ]
  },
  {
   "cell_type": "code",
   "execution_count": 74,
   "id": "a6cc9d11",
   "metadata": {},
   "outputs": [
    {
     "name": "stdout",
     "output_type": "stream",
     "text": [
      "7-->11-->9-->15-->6-->5-->3-->1-->6-->END\n",
      "19-->7-->11-->9-->15-->6-->5-->3-->1-->6-->END\n"
     ]
    }
   ],
   "source": [
    "l2.printList()\n",
    "l2.insertAtPosition(0,19)\n",
    "l2.printList()"
   ]
  },
  {
   "cell_type": "code",
   "execution_count": 75,
   "id": "be0767f5",
   "metadata": {},
   "outputs": [
    {
     "name": "stdout",
     "output_type": "stream",
     "text": [
      "19-->7-->11-->9-->15-->6-->5-->3-->1-->6-->END\n",
      "19-->7-->11-->9-->15-->6-->5-->3-->1-->6-->34-->END\n"
     ]
    }
   ],
   "source": [
    "l2.printList()\n",
    "l2.insertAtPosition(10,34)\n",
    "l2.printList()"
   ]
  },
  {
   "cell_type": "code",
   "execution_count": 76,
   "id": "394d8bf9",
   "metadata": {},
   "outputs": [
    {
     "name": "stdout",
     "output_type": "stream",
     "text": [
      "19-->7-->11-->9-->15-->6-->5-->3-->1-->6-->34-->END\n",
      "Position is greater than length.\n",
      "19-->7-->11-->9-->15-->6-->5-->3-->1-->6-->34-->END\n"
     ]
    }
   ],
   "source": [
    "l2.printList()\n",
    "l2.insertAtPosition(12,39)\n",
    "l2.printList()"
   ]
  },
  {
   "cell_type": "markdown",
   "id": "d1d5269f",
   "metadata": {},
   "source": [
    "### Circular Linked List"
   ]
  },
  {
   "cell_type": "code",
   "execution_count": 1,
   "id": "e6a14a2d",
   "metadata": {},
   "outputs": [],
   "source": [
    "class Node:\n",
    "    \n",
    "    def __init__(self,data,next=None):\n",
    "        self.data = data\n",
    "        self.next = None\n",
    "        \n",
    "class CircularLinkedList:\n",
    "    \n",
    "    def __init__(self):\n",
    "        self.head = None\n",
    "        self.tail = None\n",
    "    \n",
    "    def insertAtHead(self,val):\n",
    "        \n",
    "        new_node = Node(val)\n",
    "        \n",
    "        if not self.head and not self.tail:\n",
    "            self.head = new_node\n",
    "            self.tail = new_node\n",
    "            self.tail.next = self.head\n",
    "            return\n",
    "        \n",
    "        self.tail.next = new_node\n",
    "        self.tail = self.tail.next\n",
    "        self.tail.next = self.head\n",
    "    \n",
    "    def printList(self):\n",
    "        \n",
    "        printstr = ''\n",
    "        itr = self.head\n",
    "        \n",
    "        if not itr:\n",
    "            print('EMPTY')\n",
    "            return\n",
    "            \n",
    "        while True:\n",
    "            printstr = printstr + str(itr.data) + '-->'\n",
    "            \n",
    "            if itr.next == self.head:\n",
    "                break\n",
    "            else:\n",
    "                itr = itr.next\n",
    "        print(printstr)\n",
    "        \n",
    "    def deleteGivenValue(self,val):\n",
    "        \n",
    "        itr = self.head\n",
    "        \n",
    "        if not itr:\n",
    "            return\n",
    "        \n",
    "        if itr.data == val:\n",
    "            self.head = itr.next\n",
    "            self.tail.next = self.head\n",
    "            return\n",
    "        \n",
    "        while True:\n",
    "            if itr.next.data == val:\n",
    "                if itr.next == self.tail:\n",
    "                    self.tail = itr\n",
    "                itr.next = itr.next.next\n",
    "                \n",
    "            if itr == self.tail:\n",
    "                break\n",
    "            else:\n",
    "                itr=itr.next"
   ]
  },
  {
   "cell_type": "code",
   "execution_count": 2,
   "id": "27c9f194",
   "metadata": {},
   "outputs": [
    {
     "name": "stdout",
     "output_type": "stream",
     "text": [
      "EMPTY\n",
      "1-->\n",
      "1-->2-->3-->5-->7-->9-->\n"
     ]
    }
   ],
   "source": [
    "cl1 = CircularLinkedList()\n",
    "cl1.printList()\n",
    "cl1.insertAtHead(1)\n",
    "cl1.printList()\n",
    "cl1.insertAtHead(2)\n",
    "cl1.insertAtHead(3)\n",
    "cl1.insertAtHead(5)\n",
    "cl1.insertAtHead(7)\n",
    "cl1.insertAtHead(9)\n",
    "cl1.printList()"
   ]
  },
  {
   "cell_type": "code",
   "execution_count": 3,
   "id": "e77b7614",
   "metadata": {},
   "outputs": [
    {
     "name": "stdout",
     "output_type": "stream",
     "text": [
      "2-->3-->5-->7-->9-->\n"
     ]
    }
   ],
   "source": [
    "cl1.deleteGivenValue(1)\n",
    "cl1.printList()"
   ]
  },
  {
   "cell_type": "code",
   "execution_count": 4,
   "id": "4f430ed6",
   "metadata": {},
   "outputs": [
    {
     "name": "stdout",
     "output_type": "stream",
     "text": [
      "2\n",
      "9\n"
     ]
    }
   ],
   "source": [
    "print(cl1.head.data)\n",
    "print(cl1.tail.data)"
   ]
  },
  {
   "cell_type": "code",
   "execution_count": 5,
   "id": "9912fae8",
   "metadata": {},
   "outputs": [
    {
     "name": "stdout",
     "output_type": "stream",
     "text": [
      "2-->3-->5-->7-->\n",
      "2\n",
      "7\n"
     ]
    }
   ],
   "source": [
    "cl1.deleteGivenValue(9)\n",
    "cl1.printList()\n",
    "print(cl1.head.data)\n",
    "print(cl1.tail.data)"
   ]
  }
 ],
 "metadata": {
  "kernelspec": {
   "display_name": "Python 3 (ipykernel)",
   "language": "python",
   "name": "python3"
  },
  "language_info": {
   "codemirror_mode": {
    "name": "ipython",
    "version": 3
   },
   "file_extension": ".py",
   "mimetype": "text/x-python",
   "name": "python",
   "nbconvert_exporter": "python",
   "pygments_lexer": "ipython3",
   "version": "3.9.1"
  }
 },
 "nbformat": 4,
 "nbformat_minor": 5
}
