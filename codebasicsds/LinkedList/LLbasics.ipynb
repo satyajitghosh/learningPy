{
 "cells": [
  {
   "cell_type": "markdown",
   "id": "b36e19c3",
   "metadata": {},
   "source": [
    "### Linked List Questions"
   ]
  },
  {
   "cell_type": "code",
   "execution_count": 1,
   "id": "449ad49d",
   "metadata": {},
   "outputs": [],
   "source": [
    "### Singly Linked List\n",
    "### Insertion at head.\n",
    "### Insertion at tail.\n",
    "### Insertion at End.\n",
    "### Insertion in a given position.\n",
    "### Deletion by value.\n",
    "\n",
    "### Doubly Linked List\n",
    "### Insertion in Doubly Linked List\n",
    "### Display\n",
    "### Reversal\n",
    "### Insertion\n",
    "\n",
    "### Circular\n",
    "### Insertion in Circular\n",
    "### Display Circular\n",
    "### Deletion Circular"
   ]
  }
 ],
 "metadata": {
  "kernelspec": {
   "display_name": "Python 3 (ipykernel)",
   "language": "python",
   "name": "python3"
  },
  "language_info": {
   "codemirror_mode": {
    "name": "ipython",
    "version": 3
   },
   "file_extension": ".py",
   "mimetype": "text/x-python",
   "name": "python",
   "nbconvert_exporter": "python",
   "pygments_lexer": "ipython3",
   "version": "3.9.1"
  }
 },
 "nbformat": 4,
 "nbformat_minor": 5
}
