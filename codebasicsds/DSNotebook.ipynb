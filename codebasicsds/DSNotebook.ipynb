{
 "cells": [
  {
   "cell_type": "markdown",
   "id": "72752169",
   "metadata": {},
   "source": [
    "### Arrays\n",
    "\n",
    "Some of the things that we need to remember - there are two types of arrays - Static and Dynamic. The static ones have a predetermined size and get allocated a fixed chunk of memory at the beginning and cannot add extra elements during execution. \n",
    "\n",
    "If we have an integer array of size 5, then 20 bytes of contiguous memory space will get alllocated to the array. \n",
    "\n",
    "The memory address of the starting position is stored and the address of any given index is calculated by adding 4 times the index to the starting address.This is because each memory address points to a location that can store one byte and integer requires 4 bytes of space.\n",
    "\n",
    "As a result, populating value at a particular index and accessing an element at a particular index are constant time operations.\n",
    "\n",
    "Dynamic arrays are allocated a fixed chunk of memory at the beginning. just like static arrays. When, it gets exhausted, the dunamic array is copied over to a new contiguous chunk that is twice the size of the initial array, and elements are added to this new chunk until this new space gets exhausted. \n",
    "\n",
    "So, adding elements is agin a constant time operation, except for the situation where the array gets exhausted anf time has to be spent searching for a new location, allocating and copying over the data.\n",
    "\n",
    "Accessing elements is still a constant time operation.\n",
    "\n",
    "Searching for an element requires O(n) time.\n",
    "\n",
    "Inserting a value at a particular index and shifting all the values to the right by one location is also an O(n) operation.\n",
    "\n",
    "Deleting an element at given index and shifting the values after by one position to the left is also an O(n) operation.\n"
   ]
  },
  {
   "cell_type": "markdown",
   "id": "543f7d1a",
   "metadata": {},
   "source": [
    "### Exercises"
   ]
  },
  {
   "cell_type": "code",
   "execution_count": 2,
   "id": "bc4ced22",
   "metadata": {},
   "outputs": [],
   "source": [
    "heroes = ['spider man','thor','hulk','iron man','captain america']"
   ]
  },
  {
   "cell_type": "code",
   "execution_count": 5,
   "id": "ea22be93",
   "metadata": {},
   "outputs": [
    {
     "data": {
      "text/plain": [
       "5"
      ]
     },
     "execution_count": 5,
     "metadata": {},
     "output_type": "execute_result"
    }
   ],
   "source": [
    "### Length of the list.\n",
    "len(heroes)"
   ]
  },
  {
   "cell_type": "code",
   "execution_count": 7,
   "id": "d718bce7",
   "metadata": {},
   "outputs": [],
   "source": [
    "heroes.append('black panther')"
   ]
  },
  {
   "cell_type": "code",
   "execution_count": 8,
   "id": "774f50af",
   "metadata": {},
   "outputs": [
    {
     "data": {
      "text/plain": [
       "['spider man', 'thor', 'hulk', 'iron man', 'captain america', 'black panther']"
      ]
     },
     "execution_count": 8,
     "metadata": {},
     "output_type": "execute_result"
    }
   ],
   "source": [
    "heroes"
   ]
  },
  {
   "cell_type": "code",
   "execution_count": 9,
   "id": "3c79e807",
   "metadata": {},
   "outputs": [],
   "source": [
    "heroes.remove('black panther')"
   ]
  },
  {
   "cell_type": "code",
   "execution_count": 10,
   "id": "d608dc97",
   "metadata": {},
   "outputs": [
    {
     "data": {
      "text/plain": [
       "['spider man', 'thor', 'hulk', 'iron man', 'captain america']"
      ]
     },
     "execution_count": 10,
     "metadata": {},
     "output_type": "execute_result"
    }
   ],
   "source": [
    "heroes"
   ]
  },
  {
   "cell_type": "code",
   "execution_count": 29,
   "id": "6d77ef35",
   "metadata": {},
   "outputs": [],
   "source": [
    "heroes = ['spider man','thor','hulk','iron man','captain america']\n",
    "\n",
    "for i in range(len(heroes)):\n",
    "    if heroes[i] == 'hulk':\n",
    "        loc = i\n",
    "        break\n",
    "\n",
    "loc += 1\n",
    "x = heroes[loc]\n",
    "heroes[loc] = 'black panther'\n",
    "\n",
    "loc+=1 \n",
    "\n",
    "while loc < len(heroes):\n",
    "    p = heroes[loc]\n",
    "    heroes[loc] = x\n",
    "    x = p\n",
    "    loc = loc + 1\n",
    "\n",
    "heroes.append(x)"
   ]
  },
  {
   "cell_type": "code",
   "execution_count": 30,
   "id": "7dcfbb4e",
   "metadata": {},
   "outputs": [
    {
     "data": {
      "text/plain": [
       "['spider man', 'thor', 'hulk', 'black panther', 'iron man', 'captain america']"
      ]
     },
     "execution_count": 30,
     "metadata": {},
     "output_type": "execute_result"
    }
   ],
   "source": [
    "heroes"
   ]
  },
  {
   "cell_type": "markdown",
   "id": "dbd117aa",
   "metadata": {},
   "source": [
    "### Linked Lists"
   ]
  },
  {
   "cell_type": "markdown",
   "id": "1d06932f",
   "metadata": {},
   "source": [
    "In arrays, inserting an element involves shifting the remaining elelements to the right by one position to amke spance for the given value. Deleting an element also involves removing the remaining elements to the left by one position. Both of them have an O(n) complexity.\n",
    "\n",
    "In Linked Lists we dont need to shift elements to the new memory locations, we just need to change the address of one of them. Also, we dont have to worry about size, as nodes can be added easily. Although, the dynamic arrays allow this functionality, it involves reallocating space and copying data to new space, all of which can be easily avoided by using a linked list."
   ]
  },
  {
   "cell_type": "markdown",
   "id": "81736067",
   "metadata": {},
   "source": [
    "### Comparison \n",
    "\n",
    "Accessing element at a particular index -> Array(O(1)), LinkedList(O(n))\n",
    "\n",
    "Inserting element at start -> Array(O(n)), LinkedList(O(1))\n",
    "\n",
    "Inserting element at end -> Array(O(1) Amortized), LinkedList(O(n))\n",
    "\n",
    "Inserting element at a particular index -> Array(O(n)), LinkedList(O(n))\n",
    "\n",
    "Amortized - if the array is dynamic and the allocated space has exhausted, it would involve re-allocating space and copying.\n",
    "\n",
    "Implementation of LinkedList has been done in LinkedList.py in the same directory."
   ]
  },
  {
   "cell_type": "markdown",
   "id": "bc92eeec",
   "metadata": {},
   "source": [
    "### Hash Tables"
   ]
  },
  {
   "cell_type": "code",
   "execution_count": 41,
   "id": "d8771dbf",
   "metadata": {},
   "outputs": [],
   "source": [
    "stock_prices = []\n",
    "\n",
    "with open('stock_prices.csv','r') as f:\n",
    "    for line in f:\n",
    "        tokens = line.split(',')\n",
    "        day = tokens[0]\n",
    "        price = float(tokens[1])\n",
    "        stock_prices.append([day,price])"
   ]
  },
  {
   "cell_type": "code",
   "execution_count": 42,
   "id": "fd79e895",
   "metadata": {},
   "outputs": [
    {
     "data": {
      "text/plain": [
       "[['march 6', 310.0],\n",
       " ['march 7', 340.0],\n",
       " ['march 8', 380.0],\n",
       " ['march 9', 302.0],\n",
       " ['march 10', 297.0],\n",
       " ['march 11', 323.0]]"
      ]
     },
     "execution_count": 42,
     "metadata": {},
     "output_type": "execute_result"
    }
   ],
   "source": [
    "stock_prices"
   ]
  },
  {
   "cell_type": "markdown",
   "id": "95e9b95a",
   "metadata": {},
   "source": [
    "If we would like to find the price on a particular day, the time complexity for searching is O(n). Howebver, we can store it as a dictionary in python where the time complexity for retrieving the price on a given date is O(1)."
   ]
  },
  {
   "cell_type": "code",
   "execution_count": 43,
   "id": "bbd2033a",
   "metadata": {},
   "outputs": [
    {
     "name": "stdout",
     "output_type": "stream",
     "text": [
      "302.0\n"
     ]
    }
   ],
   "source": [
    "for element in stock_prices:\n",
    "    if element[0] == 'march 9':\n",
    "        print(element[1])"
   ]
  },
  {
   "cell_type": "code",
   "execution_count": 50,
   "id": "3267cd47",
   "metadata": {},
   "outputs": [],
   "source": [
    "stock_prices ={}\n",
    "with open('stock_prices.csv','r') as f:\n",
    "    for line in f:\n",
    "        tokens = line.split(',')\n",
    "        day = tokens[0]\n",
    "        price = float(tokens[1])\n",
    "        stock_prices[day] = price"
   ]
  },
  {
   "cell_type": "code",
   "execution_count": 51,
   "id": "3379c103",
   "metadata": {},
   "outputs": [
    {
     "data": {
      "text/plain": [
       "{'march 6': 310.0,\n",
       " 'march 7': 340.0,\n",
       " 'march 8': 380.0,\n",
       " 'march 9': 302.0,\n",
       " 'march 10': 297.0,\n",
       " 'march 11': 323.0}"
      ]
     },
     "execution_count": 51,
     "metadata": {},
     "output_type": "execute_result"
    }
   ],
   "source": [
    "stock_prices"
   ]
  },
  {
   "cell_type": "code",
   "execution_count": 52,
   "id": "de753551",
   "metadata": {},
   "outputs": [
    {
     "data": {
      "text/plain": [
       "302.0"
      ]
     },
     "execution_count": 52,
     "metadata": {},
     "output_type": "execute_result"
    }
   ],
   "source": [
    "stock_prices['march 9']"
   ]
  },
  {
   "cell_type": "markdown",
   "id": "a7088306",
   "metadata": {},
   "source": [
    "The way dictionary works is by creating a mathematical mapping function that converts the string key to an integer value. which is used as an index, and the value is stored at that particular index. The same function is used to compute the index while retrieval and the value at the index is retrieved in O(1) time."
   ]
  },
  {
   "cell_type": "code",
   "execution_count": 54,
   "id": "a4e14048",
   "metadata": {},
   "outputs": [],
   "source": [
    "def get_hash(key):\n",
    "    x=0\n",
    "    for c in key:\n",
    "        x+= ord(c)\n",
    "    return(x%100)"
   ]
  },
  {
   "cell_type": "code",
   "execution_count": 55,
   "id": "ad0027d9",
   "metadata": {},
   "outputs": [
    {
     "data": {
      "text/plain": [
       "9"
      ]
     },
     "execution_count": 55,
     "metadata": {},
     "output_type": "execute_result"
    }
   ],
   "source": [
    "get_hash('march 6')"
   ]
  },
  {
   "cell_type": "code",
   "execution_count": 63,
   "id": "36446257",
   "metadata": {},
   "outputs": [],
   "source": [
    "class HashTable:\n",
    "    def __init__(self):\n",
    "        self.MAX = 100\n",
    "        self.arr = [None for i in range(100)]\n",
    "        \n",
    "    def get_hash(self,key):\n",
    "        x=0\n",
    "        for c in key:\n",
    "            x+= ord(c)\n",
    "        return(x % self.MAX)\n",
    "    \n",
    "    def add(self,key,value):\n",
    "        h = self.get_hash(key)\n",
    "        self.arr[h] = value\n",
    "    \n",
    "    def get(self,key):\n",
    "        h = self.get_hash(key)\n",
    "        return(self.arr[h])"
   ]
  },
  {
   "cell_type": "code",
   "execution_count": 64,
   "id": "f6430dd5",
   "metadata": {},
   "outputs": [
    {
     "data": {
      "text/plain": [
       "130"
      ]
     },
     "execution_count": 64,
     "metadata": {},
     "output_type": "execute_result"
    }
   ],
   "source": [
    "t = HashTable()\n",
    "t.add('march 6',130)\n",
    "t.get('march 6')"
   ]
  },
  {
   "cell_type": "markdown",
   "id": "71a6ace0",
   "metadata": {},
   "source": [
    "### Standard operators in Python\n",
    "\n",
    "Instead of using these commands,\n",
    "\n",
    "t.add('march 6',130)\n",
    "\n",
    "t.get('march 6')\n",
    "\n",
    "it would be good if we could use the following to add and retrieve values.\n",
    "\n",
    "t['march 6'] = 130\n",
    "\n",
    "t['march 6']\n",
    "\n",
    "This is possible using the standard operators in Python.\n",
    "\n",
    "If we rename the functions add and get by setitem and getitem, it will enable us to utilize these operators."
   ]
  },
  {
   "cell_type": "code",
   "execution_count": 80,
   "id": "136a53b2",
   "metadata": {},
   "outputs": [],
   "source": [
    "class HashTable:\n",
    "    def __init__(self):\n",
    "        self.MAX = 100\n",
    "        self.arr = [None for i in range(100)]\n",
    "        \n",
    "    def get_hash(self,key):\n",
    "        x=0\n",
    "        for c in key:\n",
    "            x+= ord(c)\n",
    "        return(x % self.MAX)\n",
    "    \n",
    "    def __setitem__(self,key,value):\n",
    "        h = self.get_hash(key)\n",
    "        self.arr[h] = value\n",
    "    \n",
    "    def __getitem__(self,key):\n",
    "        h = self.get_hash(key)\n",
    "        return(self.arr[h])\n",
    "    \n",
    "    def __delitem__(self,key):\n",
    "        h = self.get_hash(key)\n",
    "        self.arr[h] = None"
   ]
  },
  {
   "cell_type": "code",
   "execution_count": 81,
   "id": "0e24c69e",
   "metadata": {},
   "outputs": [],
   "source": [
    "t = HashTable()\n",
    "t['march 6'] = 130\n",
    "t['march 2'] = 131\n",
    "t['march 25'] = 132\n",
    "t['march 31'] = 133"
   ]
  },
  {
   "cell_type": "code",
   "execution_count": 82,
   "id": "777b0324",
   "metadata": {},
   "outputs": [],
   "source": [
    "del(t['march 6'])"
   ]
  },
  {
   "cell_type": "markdown",
   "id": "0436f456",
   "metadata": {},
   "source": [
    "### Collisions\n",
    "\n",
    "Note that this simple implementation of the hash table does not handle collisions - cases in which the different keys can hash into the same index. In such cases, these indices will store more than one data point.\n",
    "\n",
    "One solution for this is chaining. Here, each index stores a LinkedList that stores all the data points whose keys, when submitted to the hashing function resulted in the given index. The data part of the linked list holds both keys and values. The next part holds the address to the next key value pair at the same index."
   ]
  },
  {
   "cell_type": "code",
   "execution_count": 85,
   "id": "b4498592",
   "metadata": {},
   "outputs": [],
   "source": [
    "class HashTable:\n",
    "    def __init__(self):\n",
    "        self.MAX = 10\n",
    "        self.arr = [[] for i in range(10)]\n",
    "        \n",
    "    def get_hash(self,key):\n",
    "        x=0\n",
    "        for c in key:\n",
    "            x+= ord(c)\n",
    "        return(x % self.MAX)\n",
    "    \n",
    "    def __setitem__(self,key,value):\n",
    "        h = self.get_hash(key)\n",
    "        found = False\n",
    "        for index,element in enumerate(self.arr[h]):\n",
    "            if element[0] == key:\n",
    "                found = True\n",
    "                self.arr[h][index] = (key,value)\n",
    "        if not found:\n",
    "            self.arr[h].append((key,value))\n",
    "        \n",
    "    def __getitem__(self,key):\n",
    "        h = self.get_hash(key)\n",
    "        for index,element in enumerate(self.arr[h]):\n",
    "            if element[0] == key:\n",
    "                return(element[1])\n",
    "            \n",
    "    def __delitem__(self,key):\n",
    "        h = self.get_hash(key)\n",
    "        for index, element in enumerate(self.arr[h]):\n",
    "            if element[0] == key:\n",
    "                del self.arr[h][index]\n",
    "        "
   ]
  },
  {
   "cell_type": "code",
   "execution_count": 86,
   "id": "1a50b9da",
   "metadata": {},
   "outputs": [],
   "source": [
    "t = HashTable()"
   ]
  },
  {
   "cell_type": "code",
   "execution_count": 88,
   "id": "d08ce2a0",
   "metadata": {},
   "outputs": [],
   "source": [
    "t[\"march 6\"] = 120\n",
    "t[\"march 6\"] = 78\n",
    "t[\"march 8\"] = 67\n",
    "t[\"march 9\"] = 4\n",
    "t[\"march 17\"] = 459"
   ]
  },
  {
   "cell_type": "code",
   "execution_count": 89,
   "id": "97f01e05",
   "metadata": {},
   "outputs": [
    {
     "data": {
      "text/plain": [
       "[[],\n",
       " [('march 8', 67)],\n",
       " [('march 9', 4)],\n",
       " [],\n",
       " [],\n",
       " [],\n",
       " [],\n",
       " [],\n",
       " [],\n",
       " [('march 6', 78), ('march 17', 459)]]"
      ]
     },
     "execution_count": 89,
     "metadata": {},
     "output_type": "execute_result"
    }
   ],
   "source": [
    "t.arr"
   ]
  },
  {
   "cell_type": "code",
   "execution_count": 90,
   "id": "b227bc03",
   "metadata": {},
   "outputs": [
    {
     "data": {
      "text/plain": [
       "459"
      ]
     },
     "execution_count": 90,
     "metadata": {},
     "output_type": "execute_result"
    }
   ],
   "source": [
    "t[\"march 17\"]"
   ]
  },
  {
   "cell_type": "code",
   "execution_count": 91,
   "id": "933ee902",
   "metadata": {},
   "outputs": [],
   "source": [
    "del(t[\"march 6\"])"
   ]
  },
  {
   "cell_type": "code",
   "execution_count": 92,
   "id": "1338da8a",
   "metadata": {},
   "outputs": [
    {
     "data": {
      "text/plain": [
       "[[],\n",
       " [('march 8', 67)],\n",
       " [('march 9', 4)],\n",
       " [],\n",
       " [],\n",
       " [],\n",
       " [],\n",
       " [],\n",
       " [],\n",
       " [('march 17', 459)]]"
      ]
     },
     "execution_count": 92,
     "metadata": {},
     "output_type": "execute_result"
    }
   ],
   "source": [
    "t.arr"
   ]
  },
  {
   "cell_type": "code",
   "execution_count": 93,
   "id": "3d264c0c",
   "metadata": {},
   "outputs": [],
   "source": [
    "t[\"march 6\"] = 78"
   ]
  },
  {
   "cell_type": "code",
   "execution_count": 1,
   "id": "4b28ccd9",
   "metadata": {},
   "outputs": [
    {
     "ename": "NameError",
     "evalue": "name 't' is not defined",
     "output_type": "error",
     "traceback": [
      "\u001b[1;31m---------------------------------------------------------------------------\u001b[0m",
      "\u001b[1;31mNameError\u001b[0m                                 Traceback (most recent call last)",
      "\u001b[1;32m~\\AppData\\Local\\Temp/ipykernel_2016/1773498340.py\u001b[0m in \u001b[0;36m<module>\u001b[1;34m\u001b[0m\n\u001b[1;32m----> 1\u001b[1;33m \u001b[0mt\u001b[0m\u001b[1;33m.\u001b[0m\u001b[0marr\u001b[0m\u001b[1;33m\u001b[0m\u001b[1;33m\u001b[0m\u001b[0m\n\u001b[0m",
      "\u001b[1;31mNameError\u001b[0m: name 't' is not defined"
     ]
    }
   ],
   "source": [
    "t.arr"
   ]
  },
  {
   "cell_type": "markdown",
   "id": "d0c87ecd",
   "metadata": {},
   "source": [
    "### Stack\n",
    "\n",
    "Stack Push and Pop operations have a O(1) complexity. Searching by values has O(n) complexity.\n",
    "Stack can be implemented in a python list. The list function append can be used to push and pop can be used to pop values."
   ]
  },
  {
   "cell_type": "code",
   "execution_count": 2,
   "id": "adac2be1",
   "metadata": {},
   "outputs": [],
   "source": [
    "s=[]\n",
    "s.append(10)\n",
    "s.append(9)\n",
    "s.append(7)\n",
    "s.append(8)"
   ]
  },
  {
   "cell_type": "code",
   "execution_count": 3,
   "id": "0d86f191",
   "metadata": {},
   "outputs": [
    {
     "data": {
      "text/plain": [
       "[10, 9, 7, 8]"
      ]
     },
     "execution_count": 3,
     "metadata": {},
     "output_type": "execute_result"
    }
   ],
   "source": [
    "s"
   ]
  },
  {
   "cell_type": "code",
   "execution_count": 4,
   "id": "67ec8f17",
   "metadata": {},
   "outputs": [
    {
     "data": {
      "text/plain": [
       "8"
      ]
     },
     "execution_count": 4,
     "metadata": {},
     "output_type": "execute_result"
    }
   ],
   "source": [
    "s.pop()"
   ]
  },
  {
   "cell_type": "code",
   "execution_count": 5,
   "id": "8b2e744a",
   "metadata": {},
   "outputs": [
    {
     "data": {
      "text/plain": [
       "[10, 9, 7]"
      ]
     },
     "execution_count": 5,
     "metadata": {},
     "output_type": "execute_result"
    }
   ],
   "source": [
    "s"
   ]
  },
  {
   "cell_type": "code",
   "execution_count": 6,
   "id": "74f5197d",
   "metadata": {},
   "outputs": [],
   "source": [
    "s.append(6)"
   ]
  },
  {
   "cell_type": "code",
   "execution_count": 7,
   "id": "17f76a32",
   "metadata": {},
   "outputs": [
    {
     "data": {
      "text/plain": [
       "[10, 9, 7, 6]"
      ]
     },
     "execution_count": 7,
     "metadata": {},
     "output_type": "execute_result"
    }
   ],
   "source": [
    "s"
   ]
  },
  {
   "cell_type": "code",
   "execution_count": 9,
   "id": "6dda720f",
   "metadata": {},
   "outputs": [
    {
     "data": {
      "text/plain": [
       "6"
      ]
     },
     "execution_count": 9,
     "metadata": {},
     "output_type": "execute_result"
    }
   ],
   "source": [
    "#Use this if you just want to see the attached element and not pop it out of the stack.\n",
    "s[-1]"
   ]
  },
  {
   "cell_type": "markdown",
   "id": "648caaf7",
   "metadata": {},
   "source": [
    "The problem with using list to implmenet stack is that list acts like a dynamic array and comes with issues of memory re-allocation as described earlier. the other options is to use deque which implements stack using linkedlists that has no issues with size and memory allocation."
   ]
  },
  {
   "cell_type": "code",
   "execution_count": 10,
   "id": "2534c552",
   "metadata": {},
   "outputs": [],
   "source": [
    "from collections import deque\n",
    "stack = deque()"
   ]
  },
  {
   "cell_type": "code",
   "execution_count": 11,
   "id": "b05e83be",
   "metadata": {},
   "outputs": [
    {
     "data": {
      "text/plain": [
       "['__add__',\n",
       " '__bool__',\n",
       " '__class__',\n",
       " '__class_getitem__',\n",
       " '__contains__',\n",
       " '__copy__',\n",
       " '__delattr__',\n",
       " '__delitem__',\n",
       " '__dir__',\n",
       " '__doc__',\n",
       " '__eq__',\n",
       " '__format__',\n",
       " '__ge__',\n",
       " '__getattribute__',\n",
       " '__getitem__',\n",
       " '__gt__',\n",
       " '__hash__',\n",
       " '__iadd__',\n",
       " '__imul__',\n",
       " '__init__',\n",
       " '__init_subclass__',\n",
       " '__iter__',\n",
       " '__le__',\n",
       " '__len__',\n",
       " '__lt__',\n",
       " '__mul__',\n",
       " '__ne__',\n",
       " '__new__',\n",
       " '__reduce__',\n",
       " '__reduce_ex__',\n",
       " '__repr__',\n",
       " '__reversed__',\n",
       " '__rmul__',\n",
       " '__setattr__',\n",
       " '__setitem__',\n",
       " '__sizeof__',\n",
       " '__str__',\n",
       " '__subclasshook__',\n",
       " 'append',\n",
       " 'appendleft',\n",
       " 'clear',\n",
       " 'copy',\n",
       " 'count',\n",
       " 'extend',\n",
       " 'extendleft',\n",
       " 'index',\n",
       " 'insert',\n",
       " 'maxlen',\n",
       " 'pop',\n",
       " 'popleft',\n",
       " 'remove',\n",
       " 'reverse',\n",
       " 'rotate']"
      ]
     },
     "execution_count": 11,
     "metadata": {},
     "output_type": "execute_result"
    }
   ],
   "source": [
    "dir(stack)"
   ]
  },
  {
   "cell_type": "code",
   "execution_count": 12,
   "id": "50a3a807",
   "metadata": {},
   "outputs": [],
   "source": [
    "stack.append(10)\n",
    "stack.append(9)\n",
    "stack.append(6)\n",
    "stack.append(17)"
   ]
  },
  {
   "cell_type": "code",
   "execution_count": 13,
   "id": "d820d304",
   "metadata": {},
   "outputs": [
    {
     "data": {
      "text/plain": [
       "deque([10, 9, 6, 17])"
      ]
     },
     "execution_count": 13,
     "metadata": {},
     "output_type": "execute_result"
    }
   ],
   "source": [
    "stack"
   ]
  },
  {
   "cell_type": "code",
   "execution_count": 14,
   "id": "1700ce54",
   "metadata": {},
   "outputs": [],
   "source": [
    "class Stack:\n",
    "    def __init__(self):\n",
    "        self.container = deque()\n",
    "    def push(self,va):\n",
    "        self.container.append(va)\n",
    "    def pop(self):\n",
    "        self.container.pop()\n",
    "    def peek(self):\n",
    "        return(self.container[-1])\n",
    "    def is_empty(self):\n",
    "        return(len(self.container) == 0)\n",
    "    def size(self):\n",
    "        return(len(self.container))"
   ]
  },
  {
   "cell_type": "code",
   "execution_count": 15,
   "id": "2e241919",
   "metadata": {},
   "outputs": [],
   "source": [
    "s = Stack()"
   ]
  },
  {
   "cell_type": "code",
   "execution_count": 16,
   "id": "ce5a8166",
   "metadata": {},
   "outputs": [],
   "source": [
    "s.push(10)\n",
    "s.push(9)\n",
    "s.push(7)\n",
    "s.push(6)"
   ]
  },
  {
   "cell_type": "code",
   "execution_count": 18,
   "id": "ded26938",
   "metadata": {},
   "outputs": [
    {
     "data": {
      "text/plain": [
       "deque([10, 9, 7, 6])"
      ]
     },
     "execution_count": 18,
     "metadata": {},
     "output_type": "execute_result"
    }
   ],
   "source": [
    "s.container"
   ]
  },
  {
   "cell_type": "code",
   "execution_count": 19,
   "id": "edd5b06f",
   "metadata": {},
   "outputs": [
    {
     "data": {
      "text/plain": [
       "6"
      ]
     },
     "execution_count": 19,
     "metadata": {},
     "output_type": "execute_result"
    }
   ],
   "source": [
    "s.peek()"
   ]
  },
  {
   "cell_type": "code",
   "execution_count": 20,
   "id": "c0d28502",
   "metadata": {},
   "outputs": [],
   "source": [
    "s.pop()"
   ]
  },
  {
   "cell_type": "code",
   "execution_count": 21,
   "id": "362af53a",
   "metadata": {},
   "outputs": [
    {
     "data": {
      "text/plain": [
       "deque([10, 9, 7])"
      ]
     },
     "execution_count": 21,
     "metadata": {},
     "output_type": "execute_result"
    }
   ],
   "source": [
    "s.container"
   ]
  },
  {
   "cell_type": "markdown",
   "id": "50dad993",
   "metadata": {},
   "source": [
    "### Queue\n",
    "\n",
    "Queue can be implemented using python list or deque. Both examples shown below."
   ]
  },
  {
   "cell_type": "code",
   "execution_count": 24,
   "id": "1fcc7bf0",
   "metadata": {},
   "outputs": [],
   "source": [
    "queue = []\n",
    "queue.insert(0,10)\n",
    "queue.insert(0,9)\n",
    "queue.insert(0,7)\n",
    "queue.insert(0,6)"
   ]
  },
  {
   "cell_type": "code",
   "execution_count": 25,
   "id": "254730e8",
   "metadata": {},
   "outputs": [
    {
     "data": {
      "text/plain": [
       "[6, 7, 9, 10]"
      ]
     },
     "execution_count": 25,
     "metadata": {},
     "output_type": "execute_result"
    }
   ],
   "source": [
    "queue"
   ]
  },
  {
   "cell_type": "code",
   "execution_count": 27,
   "id": "a241c909",
   "metadata": {},
   "outputs": [
    {
     "data": {
      "text/plain": [
       "10"
      ]
     },
     "execution_count": 27,
     "metadata": {},
     "output_type": "execute_result"
    }
   ],
   "source": [
    "queue.pop()"
   ]
  },
  {
   "cell_type": "code",
   "execution_count": 28,
   "id": "ddc51e7f",
   "metadata": {},
   "outputs": [
    {
     "data": {
      "text/plain": [
       "[6, 7, 9]"
      ]
     },
     "execution_count": 28,
     "metadata": {},
     "output_type": "execute_result"
    }
   ],
   "source": [
    "queue"
   ]
  },
  {
   "cell_type": "code",
   "execution_count": 29,
   "id": "30b81985",
   "metadata": {},
   "outputs": [],
   "source": [
    "from collections import deque\n",
    "q = deque()"
   ]
  },
  {
   "cell_type": "code",
   "execution_count": 30,
   "id": "b85a2318",
   "metadata": {},
   "outputs": [],
   "source": [
    "q.appendleft(10)\n",
    "q.appendleft(9)\n",
    "q.appendleft(7)\n",
    "q.appendleft(6)"
   ]
  },
  {
   "cell_type": "code",
   "execution_count": 31,
   "id": "f2551033",
   "metadata": {},
   "outputs": [
    {
     "data": {
      "text/plain": [
       "deque([6, 7, 9, 10])"
      ]
     },
     "execution_count": 31,
     "metadata": {},
     "output_type": "execute_result"
    }
   ],
   "source": [
    "q"
   ]
  },
  {
   "cell_type": "code",
   "execution_count": 32,
   "id": "1c990c38",
   "metadata": {},
   "outputs": [
    {
     "data": {
      "text/plain": [
       "10"
      ]
     },
     "execution_count": 32,
     "metadata": {},
     "output_type": "execute_result"
    }
   ],
   "source": [
    "q.pop()"
   ]
  },
  {
   "cell_type": "code",
   "execution_count": 33,
   "id": "273138ba",
   "metadata": {},
   "outputs": [
    {
     "data": {
      "text/plain": [
       "deque([6, 7, 9])"
      ]
     },
     "execution_count": 33,
     "metadata": {},
     "output_type": "execute_result"
    }
   ],
   "source": [
    "q"
   ]
  },
  {
   "cell_type": "code",
   "execution_count": 37,
   "id": "d8a2f8fc",
   "metadata": {},
   "outputs": [],
   "source": [
    "class Queue:\n",
    "    def __init__(self):\n",
    "        self.container = deque()\n",
    "    def enqueue(self,va):\n",
    "        self.container.appendleft(va)\n",
    "    def dequeue(self):\n",
    "        self.container.pop()\n",
    "    def peek(self):\n",
    "        return(self.container[-1])\n",
    "    def is_empty(self):\n",
    "        return(len(self.container) == 0)\n",
    "    def size(self):\n",
    "        return(len(self.container))"
   ]
  },
  {
   "cell_type": "code",
   "execution_count": 38,
   "id": "21431d87",
   "metadata": {},
   "outputs": [],
   "source": [
    "pq = Queue()"
   ]
  },
  {
   "cell_type": "code",
   "execution_count": 39,
   "id": "6cae2188",
   "metadata": {},
   "outputs": [],
   "source": [
    "pq.enqueue(10)\n",
    "pq.enqueue(9)\n",
    "pq.enqueue(7)\n",
    "pq.enqueue(6)"
   ]
  },
  {
   "cell_type": "code",
   "execution_count": 40,
   "id": "fbe18eac",
   "metadata": {},
   "outputs": [
    {
     "data": {
      "text/plain": [
       "deque([6, 7, 9, 10])"
      ]
     },
     "execution_count": 40,
     "metadata": {},
     "output_type": "execute_result"
    }
   ],
   "source": [
    "pq.container"
   ]
  },
  {
   "cell_type": "code",
   "execution_count": 41,
   "id": "934823dd",
   "metadata": {},
   "outputs": [],
   "source": [
    "pq.dequeue()"
   ]
  },
  {
   "cell_type": "code",
   "execution_count": 42,
   "id": "58e88dc4",
   "metadata": {},
   "outputs": [
    {
     "data": {
      "text/plain": [
       "deque([6, 7, 9])"
      ]
     },
     "execution_count": 42,
     "metadata": {},
     "output_type": "execute_result"
    }
   ],
   "source": [
    "pq.container"
   ]
  },
  {
   "cell_type": "code",
   "execution_count": null,
   "id": "7fca599d",
   "metadata": {},
   "outputs": [],
   "source": []
  }
 ],
 "metadata": {
  "kernelspec": {
   "display_name": "Python 3 (ipykernel)",
   "language": "python",
   "name": "python3"
  },
  "language_info": {
   "codemirror_mode": {
    "name": "ipython",
    "version": 3
   },
   "file_extension": ".py",
   "mimetype": "text/x-python",
   "name": "python",
   "nbconvert_exporter": "python",
   "pygments_lexer": "ipython3",
   "version": "3.9.1"
  }
 },
 "nbformat": 4,
 "nbformat_minor": 5
}
