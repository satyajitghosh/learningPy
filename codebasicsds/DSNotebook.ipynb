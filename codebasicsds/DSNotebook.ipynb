{
 "cells": [
  {
   "cell_type": "markdown",
   "id": "68837caa",
   "metadata": {},
   "source": [
    "### Arrays\n",
    "\n",
    "Some of the things that we need to remember - there are two types of arrays - Static and Dynamic. The static ones have a predetermined size and get allocated a fixed chunk of memory at the beginning and cannot add extra elements during execution. \n",
    "\n",
    "If we have an integer array of size 5, then 20 bytes of contiguous memory space will get alllocated to the array. \n",
    "\n",
    "The memory address of the starting position is stored and the address of any given index is calculated by adding 4 times the index to the starting address.This is because each memory address points to a location that can store one byte and integer requires 4 bytes of space.\n",
    "\n",
    "As a result, populating value at a particular index and accessing an element at a particular index are constant time operations.\n",
    "\n",
    "Dynamic arrays are allocated a fixed chunk of memory at the beginning. just like static arrays. When, it gets exhausted, the dunamic array is copied over to a new contiguous chunk that is twice the size of the initial array, and elements are added to this new chunk until this new space gets exhausted. \n",
    "\n",
    "So, adding elements is agin a constant time operation, except for the situation where the array gets exhausted anf time has to be spent searching for a new location, allocating and copying over the data.\n",
    "\n",
    "Accessing elements is still a constant time operation.\n",
    "\n",
    "Searching for an element requires O(n) time.\n",
    "\n",
    "Inserting a value at a particular index and shifting all the values to the right by one location is also an O(n) operation.\n",
    "\n",
    "Deleting an element at given index and shifting the values after by one position to the left is also an O(n) operation.\n"
   ]
  },
  {
   "cell_type": "markdown",
   "id": "78692247",
   "metadata": {},
   "source": [
    "### Exercises"
   ]
  },
  {
   "cell_type": "code",
   "execution_count": 2,
   "id": "5349ce91",
   "metadata": {},
   "outputs": [],
   "source": [
    "heroes = ['spider man','thor','hulk','iron man','captain america']"
   ]
  },
  {
   "cell_type": "code",
   "execution_count": 5,
   "id": "51ee9e88",
   "metadata": {},
   "outputs": [
    {
     "data": {
      "text/plain": [
       "5"
      ]
     },
     "execution_count": 5,
     "metadata": {},
     "output_type": "execute_result"
    }
   ],
   "source": [
    "### Length of the list.\n",
    "len(heroes)"
   ]
  },
  {
   "cell_type": "code",
   "execution_count": 7,
   "id": "156edd38",
   "metadata": {},
   "outputs": [],
   "source": [
    "heroes.append('black panther')"
   ]
  },
  {
   "cell_type": "code",
   "execution_count": 8,
   "id": "d34c314b",
   "metadata": {},
   "outputs": [
    {
     "data": {
      "text/plain": [
       "['spider man', 'thor', 'hulk', 'iron man', 'captain america', 'black panther']"
      ]
     },
     "execution_count": 8,
     "metadata": {},
     "output_type": "execute_result"
    }
   ],
   "source": [
    "heroes"
   ]
  },
  {
   "cell_type": "code",
   "execution_count": 9,
   "id": "a8b92536",
   "metadata": {},
   "outputs": [],
   "source": [
    "heroes.remove('black panther')"
   ]
  },
  {
   "cell_type": "code",
   "execution_count": 10,
   "id": "984c4b62",
   "metadata": {},
   "outputs": [
    {
     "data": {
      "text/plain": [
       "['spider man', 'thor', 'hulk', 'iron man', 'captain america']"
      ]
     },
     "execution_count": 10,
     "metadata": {},
     "output_type": "execute_result"
    }
   ],
   "source": [
    "heroes"
   ]
  },
  {
   "cell_type": "code",
   "execution_count": 29,
   "id": "b4028200",
   "metadata": {},
   "outputs": [],
   "source": [
    "heroes = ['spider man','thor','hulk','iron man','captain america']\n",
    "\n",
    "for i in range(len(heroes)):\n",
    "    if heroes[i] == 'hulk':\n",
    "        loc = i\n",
    "        break\n",
    "\n",
    "loc += 1\n",
    "x = heroes[loc]\n",
    "heroes[loc] = 'black panther'\n",
    "\n",
    "loc+=1 \n",
    "\n",
    "while loc < len(heroes):\n",
    "    p = heroes[loc]\n",
    "    heroes[loc] = x\n",
    "    x = p\n",
    "    loc = loc + 1\n",
    "\n",
    "heroes.append(x)"
   ]
  },
  {
   "cell_type": "code",
   "execution_count": 30,
   "id": "52cc6ab4",
   "metadata": {},
   "outputs": [
    {
     "data": {
      "text/plain": [
       "['spider man', 'thor', 'hulk', 'black panther', 'iron man', 'captain america']"
      ]
     },
     "execution_count": 30,
     "metadata": {},
     "output_type": "execute_result"
    }
   ],
   "source": [
    "heroes"
   ]
  },
  {
   "cell_type": "markdown",
   "id": "d1bebf01",
   "metadata": {},
   "source": [
    "### Linked Lists"
   ]
  },
  {
   "cell_type": "markdown",
   "id": "8cd605b0",
   "metadata": {},
   "source": [
    "In arrays, inserting an element involves shifting the remaining elelements to the right by one position to amke spance for the given value. Deleting an element also involves removing the remaining elements to the left by one position. Both of them have an O(n) complexity.\n",
    "\n",
    "In Linked Lists we dont need to shift elements to the new memory locations, we just need to change the address of one of them. Also, we dont have to worry about size, as nodes can be added easily. Although, the dynamic arrays allow this functionality, it involves reallocating space and copying data to new space, all of which can be easily avoided by using a linked list."
   ]
  },
  {
   "cell_type": "markdown",
   "id": "1b47e250",
   "metadata": {},
   "source": [
    "### Comparison \n",
    "\n",
    "Accessing element at a particular index -> Array(O(1)), LinkedList(O(n))\n",
    "\n",
    "Inserting element at start -> Array(O(n)), LinkedList(O(1))\n",
    "\n",
    "Inserting element at end -> Array(O(1) Amortized), LinkedList(O(n))\n",
    "\n",
    "Inserting element at a particular index -> Array(O(n)), LinkedList(O(n))\n",
    "\n",
    "Amortized - if the array is dynamic and the allocated space has exhausted, it would involve re-allocating space and copying.\n",
    "\n",
    "Implementation of LinkedList has been done in LinkedList.py in the same directory."
   ]
  },
  {
   "cell_type": "markdown",
   "id": "d35a3bc6",
   "metadata": {},
   "source": [
    "### Hash Tables"
   ]
  },
  {
   "cell_type": "code",
   "execution_count": 41,
   "id": "34277f38",
   "metadata": {},
   "outputs": [],
   "source": [
    "stock_prices = []\n",
    "\n",
    "with open('stock_prices.csv','r') as f:\n",
    "    for line in f:\n",
    "        tokens = line.split(',')\n",
    "        day = tokens[0]\n",
    "        price = float(tokens[1])\n",
    "        stock_prices.append([day,price])"
   ]
  },
  {
   "cell_type": "code",
   "execution_count": 42,
   "id": "5cffdf56",
   "metadata": {},
   "outputs": [
    {
     "data": {
      "text/plain": [
       "[['march 6', 310.0],\n",
       " ['march 7', 340.0],\n",
       " ['march 8', 380.0],\n",
       " ['march 9', 302.0],\n",
       " ['march 10', 297.0],\n",
       " ['march 11', 323.0]]"
      ]
     },
     "execution_count": 42,
     "metadata": {},
     "output_type": "execute_result"
    }
   ],
   "source": [
    "stock_prices"
   ]
  },
  {
   "cell_type": "markdown",
   "id": "81cbe195",
   "metadata": {},
   "source": [
    "If we would like to find the price on a particular day, the time complexity for searching is O(n). Howebver, we can store it as a dictionary in python where the time complexity for retrieving the price on a given date is O(1)."
   ]
  },
  {
   "cell_type": "code",
   "execution_count": 43,
   "id": "8431ce72",
   "metadata": {},
   "outputs": [
    {
     "name": "stdout",
     "output_type": "stream",
     "text": [
      "302.0\n"
     ]
    }
   ],
   "source": [
    "for element in stock_prices:\n",
    "    if element[0] == 'march 9':\n",
    "        print(element[1])"
   ]
  },
  {
   "cell_type": "code",
   "execution_count": 50,
   "id": "23eda1bf",
   "metadata": {},
   "outputs": [],
   "source": [
    "stock_prices ={}\n",
    "with open('stock_prices.csv','r') as f:\n",
    "    for line in f:\n",
    "        tokens = line.split(',')\n",
    "        day = tokens[0]\n",
    "        price = float(tokens[1])\n",
    "        stock_prices[day] = price"
   ]
  },
  {
   "cell_type": "code",
   "execution_count": 51,
   "id": "e3f82c36",
   "metadata": {},
   "outputs": [
    {
     "data": {
      "text/plain": [
       "{'march 6': 310.0,\n",
       " 'march 7': 340.0,\n",
       " 'march 8': 380.0,\n",
       " 'march 9': 302.0,\n",
       " 'march 10': 297.0,\n",
       " 'march 11': 323.0}"
      ]
     },
     "execution_count": 51,
     "metadata": {},
     "output_type": "execute_result"
    }
   ],
   "source": [
    "stock_prices"
   ]
  },
  {
   "cell_type": "code",
   "execution_count": 52,
   "id": "1f3019cb",
   "metadata": {},
   "outputs": [
    {
     "data": {
      "text/plain": [
       "302.0"
      ]
     },
     "execution_count": 52,
     "metadata": {},
     "output_type": "execute_result"
    }
   ],
   "source": [
    "stock_prices['march 9']"
   ]
  },
  {
   "cell_type": "markdown",
   "id": "e1bb0da3",
   "metadata": {},
   "source": [
    "The way dictionary works is by creating a mathematical mapping function that converts the string key to an integer value. which is used as an index, and the value is stored at that particular index. The same function is used to compute the index while retrieval and the value at the index is retrieved in O(1) time."
   ]
  },
  {
   "cell_type": "code",
   "execution_count": 54,
   "id": "db25d4cb",
   "metadata": {},
   "outputs": [],
   "source": [
    "def get_hash(key):\n",
    "    x=0\n",
    "    for c in key:\n",
    "        x+= ord(c)\n",
    "    return(x%100)"
   ]
  },
  {
   "cell_type": "code",
   "execution_count": 55,
   "id": "9ddba0e5",
   "metadata": {},
   "outputs": [
    {
     "data": {
      "text/plain": [
       "9"
      ]
     },
     "execution_count": 55,
     "metadata": {},
     "output_type": "execute_result"
    }
   ],
   "source": [
    "get_hash('march 6')"
   ]
  },
  {
   "cell_type": "code",
   "execution_count": 63,
   "id": "59e4bb79",
   "metadata": {},
   "outputs": [],
   "source": [
    "class HashTable:\n",
    "    def __init__(self):\n",
    "        self.MAX = 100\n",
    "        self.arr = [None for i in range(100)]\n",
    "        \n",
    "    def get_hash(self,key):\n",
    "        x=0\n",
    "        for c in key:\n",
    "            x+= ord(c)\n",
    "        return(x % self.MAX)\n",
    "    \n",
    "    def add(self,key,value):\n",
    "        h = self.get_hash(key)\n",
    "        self.arr[h] = value\n",
    "    \n",
    "    def get(self,key):\n",
    "        h = self.get_hash(key)\n",
    "        return(self.arr[h])"
   ]
  },
  {
   "cell_type": "code",
   "execution_count": 64,
   "id": "b3c2a361",
   "metadata": {},
   "outputs": [
    {
     "data": {
      "text/plain": [
       "130"
      ]
     },
     "execution_count": 64,
     "metadata": {},
     "output_type": "execute_result"
    }
   ],
   "source": [
    "t = HashTable()\n",
    "t.add('march 6',130)\n",
    "t.get('march 6')"
   ]
  },
  {
   "cell_type": "markdown",
   "id": "fa40cb72",
   "metadata": {},
   "source": [
    "### Standard operators in Python\n",
    "\n",
    "Instead of using these commands,\n",
    "\n",
    "t.add('march 6',130)\n",
    "\n",
    "t.get('march 6')\n",
    "\n",
    "it would be good if we could use the following to add and retrieve values.\n",
    "\n",
    "t['march 6'] = 130\n",
    "\n",
    "t['march 6']\n",
    "\n",
    "This is possible using the standard operators in Python.\n",
    "\n",
    "If we rename the functions add and get by setitem and getitem, it will enable us to utilize these operators."
   ]
  },
  {
   "cell_type": "code",
   "execution_count": 80,
   "id": "f0a1497b",
   "metadata": {},
   "outputs": [],
   "source": [
    "class HashTable:\n",
    "    def __init__(self):\n",
    "        self.MAX = 100\n",
    "        self.arr = [None for i in range(100)]\n",
    "        \n",
    "    def get_hash(self,key):\n",
    "        x=0\n",
    "        for c in key:\n",
    "            x+= ord(c)\n",
    "        return(x % self.MAX)\n",
    "    \n",
    "    def __setitem__(self,key,value):\n",
    "        h = self.get_hash(key)\n",
    "        self.arr[h] = value\n",
    "    \n",
    "    def __getitem__(self,key):\n",
    "        h = self.get_hash(key)\n",
    "        return(self.arr[h])\n",
    "    \n",
    "    def __delitem__(self,key):\n",
    "        h = self.get_hash(key)\n",
    "        self.arr[h] = None"
   ]
  },
  {
   "cell_type": "code",
   "execution_count": 81,
   "id": "5a1f7446",
   "metadata": {},
   "outputs": [],
   "source": [
    "t = HashTable()\n",
    "t['march 6'] = 130\n",
    "t['march 2'] = 131\n",
    "t['march 25'] = 132\n",
    "t['march 31'] = 133"
   ]
  },
  {
   "cell_type": "code",
   "execution_count": 82,
   "id": "022b48d5",
   "metadata": {},
   "outputs": [],
   "source": [
    "del(t['march 6'])"
   ]
  },
  {
   "cell_type": "markdown",
   "id": "dde1c438",
   "metadata": {},
   "source": [
    "### Collisions\n",
    "\n",
    "Note that this simple implementation of the hash table does not handle collisions - cases in which the different keys can hash into the same index. In such cases, these indices will store more than one data point."
   ]
  },
  {
   "cell_type": "code",
   "execution_count": null,
   "id": "295865af",
   "metadata": {},
   "outputs": [],
   "source": []
  }
 ],
 "metadata": {
  "kernelspec": {
   "display_name": "Python 3 (ipykernel)",
   "language": "python",
   "name": "python3"
  },
  "language_info": {
   "codemirror_mode": {
    "name": "ipython",
    "version": 3
   },
   "file_extension": ".py",
   "mimetype": "text/x-python",
   "name": "python",
   "nbconvert_exporter": "python",
   "pygments_lexer": "ipython3",
   "version": "3.9.1"
  }
 },
 "nbformat": 4,
 "nbformat_minor": 5
}
