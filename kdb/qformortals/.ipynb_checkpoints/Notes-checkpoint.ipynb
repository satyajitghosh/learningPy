{
 "cells": [
  {
   "cell_type": "code",
   "execution_count": 2,
   "id": "637415d0",
   "metadata": {},
   "outputs": [],
   "source": [
    "/ Jai shree Ganesh"
   ]
  },
  {
   "cell_type": "code",
   "execution_count": 3,
   "id": "7aa008c4",
   "metadata": {},
   "outputs": [
    {
     "data": {
      "text/plain": [
       "4\r\n"
      ]
     },
     "execution_count": 3,
     "metadata": {},
     "output_type": "execute_result"
    }
   ],
   "source": [
    "2+2"
   ]
  },
  {
   "cell_type": "code",
   "execution_count": 4,
   "id": "8ba3094f",
   "metadata": {},
   "outputs": [
    {
     "name": "stdout",
     "output_type": "stream",
     "text": [
      "42\r\n"
     ]
    }
   ],
   "source": [
    "show a:42"
   ]
  },
  {
   "cell_type": "code",
   "execution_count": 5,
   "id": "621f85c3",
   "metadata": {},
   "outputs": [
    {
     "data": {
      "text/plain": [
       "42\r\n"
      ]
     },
     "execution_count": 5,
     "metadata": {},
     "output_type": "execute_result"
    }
   ],
   "source": [
    "a"
   ]
  },
  {
   "cell_type": "code",
   "execution_count": 5,
   "id": "54d1f6ab",
   "metadata": {},
   "outputs": [
    {
     "ename": "\u001b[0;31mc\u001b[0m",
     "evalue": "\u001b[0;31mc\u001b[0m",
     "output_type": "error",
     "traceback": [
      "\u001b[0;31mevaluation error:\n\u001b[0m",
      "\u001b[0;31mc\u001b[0m",
      "\u001b[0;31m\u001b[0m",
      "\u001b[0;31m  [0]  c\r\n       ^\r\n\u001b[0m"
     ]
    }
   ],
   "source": [
    "c"
   ]
  },
  {
   "cell_type": "code",
   "execution_count": 6,
   "id": "fd3d6269",
   "metadata": {},
   "outputs": [],
   "source": [
    "/ evaluaton error because the variable is missing.\n",
    "/ Usually there is a vertical single quote - tick that indicates an error."
   ]
  },
  {
   "cell_type": "code",
   "execution_count": 7,
   "id": "de39200e",
   "metadata": {},
   "outputs": [],
   "source": [
    "/A variable is not explicitly declared or typed. Instead, its assigned value determines the variable type."
   ]
  },
  {
   "cell_type": "code",
   "execution_count": 8,
   "id": "4ac59e96",
   "metadata": {},
   "outputs": [],
   "source": [
    "a:42"
   ]
  },
  {
   "cell_type": "code",
   "execution_count": 9,
   "id": "e955dd24",
   "metadata": {},
   "outputs": [
    {
     "data": {
      "text/plain": [
       "42\r\n"
      ]
     },
     "execution_count": 9,
     "metadata": {},
     "output_type": "execute_result"
    }
   ],
   "source": [
    "a"
   ]
  },
  {
   "cell_type": "code",
   "execution_count": 10,
   "id": "186f5673",
   "metadata": {},
   "outputs": [
    {
     "data": {
      "text/plain": [
       "5f\r\n"
      ]
     },
     "execution_count": 10,
     "metadata": {},
     "output_type": "execute_result"
    }
   ],
   "source": [
    "b:10%2\n",
    "b"
   ]
  },
  {
   "cell_type": "code",
   "execution_count": 11,
   "id": "22b81c65",
   "metadata": {},
   "outputs": [],
   "source": [
    "/ b is float, because the result of a division is always float.\n",
    "/ Thus, the expression /assignment value decides the data type of the variable b. "
   ]
  },
  {
   "cell_type": "code",
   "execution_count": 12,
   "id": "f6e52b64",
   "metadata": {},
   "outputs": [
    {
     "data": {
      "text/plain": [
       "43\r\n"
      ]
     },
     "execution_count": 12,
     "metadata": {},
     "output_type": "execute_result"
    }
   ],
   "source": [
    "1 + a:42"
   ]
  },
  {
   "cell_type": "code",
   "execution_count": 13,
   "id": "ac758fdd",
   "metadata": {},
   "outputs": [],
   "source": [
    "/ Expression is evaluated from right to left and the value of a is propagated left towards the expression."
   ]
  },
  {
   "cell_type": "code",
   "execution_count": 14,
   "id": "50ab2203",
   "metadata": {},
   "outputs": [
    {
     "data": {
      "text/plain": [
       "43\r\n"
      ]
     },
     "execution_count": 14,
     "metadata": {},
     "output_type": "execute_result"
    }
   ],
   "source": [
    "b:1 + a:42\n",
    "b"
   ]
  },
  {
   "cell_type": "code",
   "execution_count": 15,
   "id": "77a47116",
   "metadata": {},
   "outputs": [],
   "source": [
    "/ This propagation of result is similar to Linux.\n",
    "/ This 'chaining' results in concise single line code that can get a lot done.\n"
   ]
  },
  {
   "cell_type": "code",
   "execution_count": 16,
   "id": "41ff35dc",
   "metadata": {},
   "outputs": [],
   "source": [
    "/Boolean Values"
   ]
  },
  {
   "cell_type": "code",
   "execution_count": 17,
   "id": "a26d4a04",
   "metadata": {},
   "outputs": [
    {
     "data": {
      "text/plain": [
       "1b\r\n"
      ]
     },
     "execution_count": 17,
     "metadata": {},
     "output_type": "execute_result"
    }
   ],
   "source": [
    "42=42\n",
    "/true"
   ]
  },
  {
   "cell_type": "code",
   "execution_count": 19,
   "id": "77a115a3",
   "metadata": {},
   "outputs": [
    {
     "data": {
      "text/plain": [
       "0b\r\n"
      ]
     },
     "execution_count": 19,
     "metadata": {},
     "output_type": "execute_result"
    }
   ],
   "source": [
    "42=43\n",
    "/false"
   ]
  },
  {
   "cell_type": "code",
   "execution_count": 20,
   "id": "4e23a1a8",
   "metadata": {},
   "outputs": [],
   "source": [
    "/ The two most useful temporal types are date and timespan; both represent integral counts. \n",
    "/ Under the covers, a date is the number of days since the millennium, positive for post and negative for pre"
   ]
  },
  {
   "cell_type": "code",
   "execution_count": 21,
   "id": "711a3db7",
   "metadata": {},
   "outputs": [
    {
     "data": {
      "text/plain": [
       "2000.01.01\r\n"
      ]
     },
     "execution_count": 21,
     "metadata": {},
     "output_type": "execute_result"
    }
   ],
   "source": [
    "2000.01.01"
   ]
  },
  {
   "cell_type": "code",
   "execution_count": 22,
   "id": "78317c34",
   "metadata": {},
   "outputs": [
    {
     "data": {
      "text/plain": [
       "1b\r\n"
      ]
     },
     "execution_count": 22,
     "metadata": {},
     "output_type": "execute_result"
    }
   ],
   "source": [
    "2000.01.01 = 0"
   ]
  },
  {
   "cell_type": "code",
   "execution_count": 23,
   "id": "fe11783f",
   "metadata": {},
   "outputs": [
    {
     "data": {
      "text/plain": [
       "1999.12.31\r\n"
      ]
     },
     "execution_count": 23,
     "metadata": {},
     "output_type": "execute_result"
    }
   ],
   "source": [
    "2000.01.01 - 1"
   ]
  },
  {
   "cell_type": "code",
   "execution_count": 24,
   "id": "071c7d11",
   "metadata": {},
   "outputs": [
    {
     "data": {
      "text/plain": [
       "1b\r\n"
      ]
     },
     "execution_count": 24,
     "metadata": {},
     "output_type": "execute_result"
    }
   ],
   "source": [
    "1999.12.31 = -1"
   ]
  },
  {
   "cell_type": "code",
   "execution_count": 25,
   "id": "24a20bf7",
   "metadata": {},
   "outputs": [],
   "source": [
    "/ Similarly, a time value is represented by a timespan, \n",
    "/which is a (long) integer count of the number of nanoseconds since midnight"
   ]
  },
  {
   "cell_type": "code",
   "execution_count": 28,
   "id": "2fdfdd4a",
   "metadata": {},
   "outputs": [
    {
     "data": {
      "text/plain": [
       "0D12:00:00.000000005\r\n"
      ]
     },
     "execution_count": 28,
     "metadata": {},
     "output_type": "execute_result"
    }
   ],
   "source": [
    "12:00:00.000000000 + 5"
   ]
  },
  {
   "cell_type": "code",
   "execution_count": 29,
   "id": "3f6e9374",
   "metadata": {},
   "outputs": [
    {
     "data": {
      "text/plain": [
       "2000.01.06\r\n"
      ]
     },
     "execution_count": 29,
     "metadata": {},
     "output_type": "execute_result"
    }
   ],
   "source": [
    "2000.01.01+5"
   ]
  },
  {
   "cell_type": "code",
   "execution_count": 30,
   "id": "99c425a1",
   "metadata": {},
   "outputs": [
    {
     "data": {
      "text/plain": [
       "1b\r\n"
      ]
     },
     "execution_count": 30,
     "metadata": {},
     "output_type": "execute_result"
    }
   ],
   "source": [
    "12:00:00.000000000=12*60*60*1000000000"
   ]
  },
  {
   "cell_type": "code",
   "execution_count": 31,
   "id": "c8ba6eeb",
   "metadata": {},
   "outputs": [],
   "source": [
    "/The treatment of textual data in q is a bit complicated in order to provide optimum flexibility and performance. \n",
    "/For now, we will focus on symbols, which derive from their namesake in Scheme and are akin to VARCHAR in SQL or strings \n",
    "/in other languages. They are not what q calls strings!\n",
    "\n",
    "/Think of symbols as wannabe names: all q names are symbols but not all symbols are names. \n",
    "/A symbol is atomic, meaning that it is viewed as an indivisible entity (although we shall see later \n",
    "/how to expose the characters inside it).\n",
    "\n",
    "/Symbols are denoted by a leading back-quote (called \"back tick\" in q-speak) followed by characters. \n",
    "/Symbols without embedded blanks or other special characters can be entered literally into the console."
   ]
  },
  {
   "cell_type": "code",
   "execution_count": 32,
   "id": "8907569b",
   "metadata": {},
   "outputs": [
    {
     "data": {
      "text/plain": [
       "`aapl\r\n"
      ]
     },
     "execution_count": 32,
     "metadata": {},
     "output_type": "execute_result"
    }
   ],
   "source": [
    "`aapl"
   ]
  },
  {
   "cell_type": "code",
   "execution_count": 33,
   "id": "684e64bc",
   "metadata": {},
   "outputs": [
    {
     "data": {
      "text/plain": [
       "0b\r\n"
      ]
     },
     "execution_count": 33,
     "metadata": {},
     "output_type": "execute_result"
    }
   ],
   "source": [
    "`aapl=`apl"
   ]
  },
  {
   "cell_type": "code",
   "execution_count": 34,
   "id": "ea4e8344",
   "metadata": {},
   "outputs": [],
   "source": [
    "/ NOte the single false value above.\n",
    "/ As the symbol is atomic (that which cannot be divided)\n",
    "/ we dont receive a list of boolean values representing a comparison between each character in the string."
   ]
  },
  {
   "cell_type": "code",
   "execution_count": null,
   "id": "aec0218a",
   "metadata": {},
   "outputs": [],
   "source": []
  }
 ],
 "metadata": {
  "kernelspec": {
   "display_name": "Q (kdb+)",
   "language": "q",
   "name": "qpk"
  },
  "language_info": {
   "file_extension": ".q",
   "mimetype": "text/x-q",
   "name": "q",
   "version": "4.0"
  }
 },
 "nbformat": 4,
 "nbformat_minor": 5
}
