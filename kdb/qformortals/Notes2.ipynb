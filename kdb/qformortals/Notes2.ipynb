{
 "cells": [
  {
   "cell_type": "code",
   "execution_count": 1,
   "id": "cca2ab13",
   "metadata": {},
   "outputs": [],
   "source": [
    "/ Chapter 2"
   ]
  },
  {
   "cell_type": "code",
   "execution_count": 3,
   "id": "04892ba1",
   "metadata": {},
   "outputs": [
    {
     "name": "stdout",
     "output_type": "stream",
     "text": [
      "42\r\n"
     ]
    }
   ],
   "source": [
    "/ j indicates long integer type.\n",
    "a:42j\n",
    "show a"
   ]
  },
  {
   "cell_type": "code",
   "execution_count": 4,
   "id": "3615310d",
   "metadata": {},
   "outputs": [
    {
     "name": "stdout",
     "output_type": "stream",
     "text": [
      "42h\r\n"
     ]
    }
   ],
   "source": [
    "/ h indicates short integer type - 8 bytes\n",
    "a:42h\n",
    "show a"
   ]
  },
  {
   "cell_type": "code",
   "execution_count": 5,
   "id": "3968abfe",
   "metadata": {},
   "outputs": [
    {
     "name": "stdout",
     "output_type": "stream",
     "text": [
      "42h\r\n"
     ]
    }
   ],
   "source": [
    "/ h indicates short integer type - 2 bytes\n",
    "a:42h\n",
    "show a"
   ]
  },
  {
   "cell_type": "code",
   "execution_count": 6,
   "id": "d605a98b",
   "metadata": {},
   "outputs": [
    {
     "name": "stdout",
     "output_type": "stream",
     "text": [
      "42i\r\n"
     ]
    }
   ],
   "source": [
    "/ i indicates regular integer type - 4 bytes\n",
    "a:42i\n",
    "show a"
   ]
  },
  {
   "cell_type": "code",
   "execution_count": 7,
   "id": "77fa61a3",
   "metadata": {},
   "outputs": [
    {
     "name": "stdout",
     "output_type": "stream",
     "text": [
      "3.141593\r\n"
     ]
    }
   ],
   "source": [
    "/ f indicates float of 8 bytes\n",
    "a:3.14159265f\n",
    "show a"
   ]
  },
  {
   "cell_type": "code",
   "execution_count": 8,
   "id": "e7227b7a",
   "metadata": {},
   "outputs": [
    {
     "name": "stdout",
     "output_type": "stream",
     "text": [
      "1.234e+007\r\n"
     ]
    }
   ],
   "source": [
    "a:1.234e07\n",
    "show a"
   ]
  },
  {
   "cell_type": "code",
   "execution_count": 9,
   "id": "ca31f33e",
   "metadata": {},
   "outputs": [
    {
     "data": {
      "text/plain": [
       "0b\r\n"
      ]
     },
     "execution_count": 9,
     "metadata": {},
     "output_type": "execute_result"
    },
    {
     "data": {
      "text/plain": [
       "1b\r\n"
      ]
     },
     "execution_count": 9,
     "metadata": {},
     "output_type": "execute_result"
    }
   ],
   "source": [
    "/b indicates boolean\n",
    "0b\n",
    "1b"
   ]
  },
  {
   "cell_type": "code",
   "execution_count": 10,
   "id": "3ed385d8",
   "metadata": {},
   "outputs": [
    {
     "data": {
      "text/plain": [
       "43\r\n"
      ]
     },
     "execution_count": 10,
     "metadata": {},
     "output_type": "execute_result"
    }
   ],
   "source": [
    "/ boolean automaticallt casted to integer in arithmetic operation\n",
    "42 + 1b"
   ]
  },
  {
   "cell_type": "markdown",
   "id": "fb66ed41",
   "metadata": {},
   "source": [
    "The byte type uses one byte to store an unsigned 8-bit value and is denoted by the leading type indicator 0x followed by two hexadecimal digits. Upper or lower case can be used for the alpha hex digits but lower case is customary."
   ]
  },
  {
   "cell_type": "code",
   "execution_count": 11,
   "id": "074e5926",
   "metadata": {},
   "outputs": [
    {
     "data": {
      "text/plain": [
       "0x2a\r\n"
      ]
     },
     "execution_count": 11,
     "metadata": {},
     "output_type": "execute_result"
    }
   ],
   "source": [
    "0x2a"
   ]
  },
  {
   "cell_type": "code",
   "execution_count": 13,
   "id": "a0796da2",
   "metadata": {},
   "outputs": [
    {
     "data": {
      "text/plain": [
       "43\r\n"
      ]
     },
     "execution_count": 13,
     "metadata": {},
     "output_type": "execute_result"
    },
    {
     "data": {
      "text/plain": [
       "256\r\n"
      ]
     },
     "execution_count": 13,
     "metadata": {},
     "output_type": "execute_result"
    }
   ],
   "source": [
    "1 + 0x2a\n",
    "1 + 0xff"
   ]
  },
  {
   "cell_type": "markdown",
   "id": "01ac7b4e",
   "metadata": {},
   "source": [
    "The guid type was introduced in q3.0. A GUID (globally unique identifier) is a 16-byte binary value that is unique across time and space (well, nearly so). It is ideally suited for locally generating a globally unique identifier without resorting to a central control mechanism – e.g., transaction IDs. It can be used as a table key or in joins and is preferred to strings or symbols in such situations."
   ]
  },
  {
   "cell_type": "markdown",
   "id": "9c326908",
   "metadata": {},
   "source": [
    "The guid type does not have a literal form since it is generated for you by a process that guarantees uniqueness. Applying ? to the null guid value 0Ng generates a list of guids."
   ]
  },
  {
   "cell_type": "code",
   "execution_count": 14,
   "id": "5caccf91",
   "metadata": {},
   "outputs": [
    {
     "data": {
      "text/plain": [
       ",8c6b8b64-6815-6084-0a3e-178401251b68\r\n"
      ]
     },
     "execution_count": 14,
     "metadata": {},
     "output_type": "execute_result"
    }
   ],
   "source": [
    "1?0Ng"
   ]
  },
  {
   "cell_type": "code",
   "execution_count": 15,
   "id": "06d9d8f5",
   "metadata": {},
   "outputs": [
    {
     "data": {
      "text/plain": [
       "5ae7962d-49f2-404d-5aec-f7c8abbae288 5a580fb6-656b-5e69-d445-417ebfe71994\r\n"
      ]
     },
     "execution_count": 15,
     "metadata": {},
     "output_type": "execute_result"
    }
   ],
   "source": [
    "2?0Ng"
   ]
  },
  {
   "cell_type": "code",
   "execution_count": 16,
   "id": "40e2448c",
   "metadata": {},
   "outputs": [
    {
     "data": {
      "text/plain": [
       ",da2e971e-6253-5305-7ee7-4df046e295e2\r\n"
      ]
     },
     "execution_count": 16,
     "metadata": {},
     "output_type": "execute_result"
    }
   ],
   "source": [
    "-1?0Ng"
   ]
  },
  {
   "cell_type": "code",
   "execution_count": 17,
   "id": "661a3317",
   "metadata": {},
   "outputs": [
    {
     "data": {
      "text/plain": [
       "a25f6412-1a73-6448-642e-64fbddf6d984 cd9fd01a-dd41-414a-f42e-c91357765457\r\n"
      ]
     },
     "execution_count": 17,
     "metadata": {},
     "output_type": "execute_result"
    }
   ],
   "source": [
    "-2?0Ng"
   ]
  },
  {
   "cell_type": "code",
   "execution_count": 1,
   "id": "15db8fd1",
   "metadata": {},
   "outputs": [
    {
     "data": {
      "text/plain": [
       "61f35174-90bc-a48a-d88f-e15e4a377ec8\r\n"
      ]
     },
     "execution_count": 1,
     "metadata": {},
     "output_type": "execute_result"
    }
   ],
   "source": [
    "\"G\"$\"61f35174-90bc-a48a-d88f-e15e4a377ec8\""
   ]
  },
  {
   "cell_type": "markdown",
   "id": "b42e9de9",
   "metadata": {},
   "source": [
    "A char holds an individual ASCII or 8-bit Unicode character that is stored in one byte. It corresponds to a SQL CHAR. It is denoted by a single character enclosed in double quotes."
   ]
  },
  {
   "cell_type": "code",
   "execution_count": 2,
   "id": "d59a7844",
   "metadata": {},
   "outputs": [
    {
     "data": {
      "text/plain": [
       "\"q\"\r\n"
      ]
     },
     "execution_count": 2,
     "metadata": {},
     "output_type": "execute_result"
    }
   ],
   "source": [
    "\"q\""
   ]
  },
  {
   "cell_type": "code",
   "execution_count": 4,
   "id": "557fec19",
   "metadata": {},
   "outputs": [
    {
     "data": {
      "text/plain": [
       "\"\\n\"\r\n"
      ]
     },
     "execution_count": 4,
     "metadata": {},
     "output_type": "execute_result"
    }
   ],
   "source": [
    "/ examples of char. Extra \\ to denote that this has special meaning in q. \\ suppresses that meaning makes it treat this like a char\n",
    "\"\\n\""
   ]
  },
  {
   "cell_type": "code",
   "execution_count": 5,
   "id": "0a41af89",
   "metadata": {},
   "outputs": [
    {
     "data": {
      "text/plain": [
       "`zaphod\r\n"
      ]
     },
     "execution_count": 5,
     "metadata": {},
     "output_type": "execute_result"
    }
   ],
   "source": [
    "`zaphod"
   ]
  },
  {
   "cell_type": "markdown",
   "id": "e790485a",
   "metadata": {},
   "source": [
    "A symbol is akin to a SQL VARCHAR, in that it can hold an arbitrary number of characters, but is different in that it is atomic. The char \"q\" and the symbol `kdb are both atomic entities. A symbol is irreducible, meaning that the individual characters that comprise it are not directly accessible.\n",
    "\n",
    "A symbol is not a string. We shall see in Chapter 3 that there is an analogue of strings in q, namely a list of char. While a list of char is a kissing cousin to a symbol, we emphasize that a symbol is not a collection of char. The symbol `a and the char \"a\" are not the same, as we can see by asking q if they are identical."
   ]
  },
  {
   "cell_type": "code",
   "execution_count": null,
   "id": "9308ef07",
   "metadata": {},
   "outputs": [],
   "source": []
  }
 ],
 "metadata": {
  "kernelspec": {
   "display_name": "Q (kdb+)",
   "language": "q",
   "name": "qpk"
  },
  "language_info": {
   "file_extension": ".q",
   "mimetype": "text/x-q",
   "name": "q",
   "version": "4.0"
  }
 },
 "nbformat": 4,
 "nbformat_minor": 5
}
