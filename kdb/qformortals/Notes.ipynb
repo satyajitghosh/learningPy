{
 "cells": [
  {
   "cell_type": "code",
   "execution_count": 2,
   "id": "637415d0",
   "metadata": {},
   "outputs": [],
   "source": [
    "/ Jai shree Ganesh"
   ]
  },
  {
   "cell_type": "code",
   "execution_count": 3,
   "id": "7aa008c4",
   "metadata": {},
   "outputs": [
    {
     "data": {
      "text/plain": [
       "4\r\n"
      ]
     },
     "execution_count": 3,
     "metadata": {},
     "output_type": "execute_result"
    }
   ],
   "source": [
    "2+2"
   ]
  },
  {
   "cell_type": "code",
   "execution_count": 4,
   "id": "8ba3094f",
   "metadata": {},
   "outputs": [
    {
     "name": "stdout",
     "output_type": "stream",
     "text": [
      "42\r\n"
     ]
    }
   ],
   "source": [
    "show a:42"
   ]
  },
  {
   "cell_type": "code",
   "execution_count": 5,
   "id": "621f85c3",
   "metadata": {},
   "outputs": [
    {
     "data": {
      "text/plain": [
       "42\r\n"
      ]
     },
     "execution_count": 5,
     "metadata": {},
     "output_type": "execute_result"
    }
   ],
   "source": [
    "a"
   ]
  },
  {
   "cell_type": "code",
   "execution_count": 5,
   "id": "54d1f6ab",
   "metadata": {},
   "outputs": [
    {
     "ename": "\u001b[0;31mc\u001b[0m",
     "evalue": "\u001b[0;31mc\u001b[0m",
     "output_type": "error",
     "traceback": [
      "\u001b[0;31mevaluation error:\n\u001b[0m",
      "\u001b[0;31mc\u001b[0m",
      "\u001b[0;31m\u001b[0m",
      "\u001b[0;31m  [0]  c\r\n       ^\r\n\u001b[0m"
     ]
    }
   ],
   "source": [
    "c"
   ]
  },
  {
   "cell_type": "code",
   "execution_count": 6,
   "id": "fd3d6269",
   "metadata": {},
   "outputs": [],
   "source": [
    "/ evaluaton error because the variable is missing.\n",
    "/ Usually there is a vertical single quote - tick that indicates an error."
   ]
  },
  {
   "cell_type": "code",
   "execution_count": 7,
   "id": "de39200e",
   "metadata": {},
   "outputs": [],
   "source": [
    "/A variable is not explicitly declared or typed. Instead, its assigned value determines the variable type."
   ]
  },
  {
   "cell_type": "code",
   "execution_count": 8,
   "id": "4ac59e96",
   "metadata": {},
   "outputs": [],
   "source": [
    "a:42"
   ]
  },
  {
   "cell_type": "code",
   "execution_count": 9,
   "id": "e955dd24",
   "metadata": {},
   "outputs": [
    {
     "data": {
      "text/plain": [
       "42\r\n"
      ]
     },
     "execution_count": 9,
     "metadata": {},
     "output_type": "execute_result"
    }
   ],
   "source": [
    "a"
   ]
  },
  {
   "cell_type": "code",
   "execution_count": 10,
   "id": "186f5673",
   "metadata": {},
   "outputs": [
    {
     "data": {
      "text/plain": [
       "5f\r\n"
      ]
     },
     "execution_count": 10,
     "metadata": {},
     "output_type": "execute_result"
    }
   ],
   "source": [
    "b:10%2\n",
    "b"
   ]
  },
  {
   "cell_type": "code",
   "execution_count": 11,
   "id": "22b81c65",
   "metadata": {},
   "outputs": [],
   "source": [
    "/ b is float, because the result of a division is always float.\n",
    "/ Thus, the expression /assignment value decides the data type of the variable b. "
   ]
  },
  {
   "cell_type": "code",
   "execution_count": 12,
   "id": "f6e52b64",
   "metadata": {},
   "outputs": [
    {
     "data": {
      "text/plain": [
       "43\r\n"
      ]
     },
     "execution_count": 12,
     "metadata": {},
     "output_type": "execute_result"
    }
   ],
   "source": [
    "1 + a:42"
   ]
  },
  {
   "cell_type": "code",
   "execution_count": 13,
   "id": "ac758fdd",
   "metadata": {},
   "outputs": [],
   "source": [
    "/ Expression is evaluated from right to left and the value of a is propagated left towards the expression."
   ]
  },
  {
   "cell_type": "code",
   "execution_count": 14,
   "id": "50ab2203",
   "metadata": {},
   "outputs": [
    {
     "data": {
      "text/plain": [
       "43\r\n"
      ]
     },
     "execution_count": 14,
     "metadata": {},
     "output_type": "execute_result"
    }
   ],
   "source": [
    "b:1 + a:42\n",
    "b"
   ]
  },
  {
   "cell_type": "code",
   "execution_count": 15,
   "id": "77a47116",
   "metadata": {},
   "outputs": [],
   "source": [
    "/ This propagation of result is similar to Linux.\n",
    "/ This 'chaining' results in concise single line code that can get a lot done.\n"
   ]
  },
  {
   "cell_type": "code",
   "execution_count": 16,
   "id": "41ff35dc",
   "metadata": {},
   "outputs": [],
   "source": [
    "/Boolean Values"
   ]
  },
  {
   "cell_type": "code",
   "execution_count": 17,
   "id": "a26d4a04",
   "metadata": {},
   "outputs": [
    {
     "data": {
      "text/plain": [
       "1b\r\n"
      ]
     },
     "execution_count": 17,
     "metadata": {},
     "output_type": "execute_result"
    }
   ],
   "source": [
    "42=42\n",
    "/true"
   ]
  },
  {
   "cell_type": "code",
   "execution_count": 19,
   "id": "77a115a3",
   "metadata": {},
   "outputs": [
    {
     "data": {
      "text/plain": [
       "0b\r\n"
      ]
     },
     "execution_count": 19,
     "metadata": {},
     "output_type": "execute_result"
    }
   ],
   "source": [
    "42=43\n",
    "/false"
   ]
  },
  {
   "cell_type": "code",
   "execution_count": 20,
   "id": "4e23a1a8",
   "metadata": {},
   "outputs": [],
   "source": [
    "/ The two most useful temporal types are date and timespan; both represent integral counts. \n",
    "/ Under the covers, a date is the number of days since the millennium, positive for post and negative for pre"
   ]
  },
  {
   "cell_type": "code",
   "execution_count": 21,
   "id": "711a3db7",
   "metadata": {},
   "outputs": [
    {
     "data": {
      "text/plain": [
       "2000.01.01\r\n"
      ]
     },
     "execution_count": 21,
     "metadata": {},
     "output_type": "execute_result"
    }
   ],
   "source": [
    "2000.01.01"
   ]
  },
  {
   "cell_type": "code",
   "execution_count": 22,
   "id": "78317c34",
   "metadata": {},
   "outputs": [
    {
     "data": {
      "text/plain": [
       "1b\r\n"
      ]
     },
     "execution_count": 22,
     "metadata": {},
     "output_type": "execute_result"
    }
   ],
   "source": [
    "2000.01.01 = 0"
   ]
  },
  {
   "cell_type": "code",
   "execution_count": 23,
   "id": "fe11783f",
   "metadata": {},
   "outputs": [
    {
     "data": {
      "text/plain": [
       "1999.12.31\r\n"
      ]
     },
     "execution_count": 23,
     "metadata": {},
     "output_type": "execute_result"
    }
   ],
   "source": [
    "2000.01.01 - 1"
   ]
  },
  {
   "cell_type": "code",
   "execution_count": 24,
   "id": "071c7d11",
   "metadata": {},
   "outputs": [
    {
     "data": {
      "text/plain": [
       "1b\r\n"
      ]
     },
     "execution_count": 24,
     "metadata": {},
     "output_type": "execute_result"
    }
   ],
   "source": [
    "1999.12.31 = -1"
   ]
  },
  {
   "cell_type": "code",
   "execution_count": 25,
   "id": "24a20bf7",
   "metadata": {},
   "outputs": [],
   "source": [
    "/ Similarly, a time value is represented by a timespan, \n",
    "/which is a (long) integer count of the number of nanoseconds since midnight"
   ]
  },
  {
   "cell_type": "code",
   "execution_count": 28,
   "id": "2fdfdd4a",
   "metadata": {},
   "outputs": [
    {
     "data": {
      "text/plain": [
       "0D12:00:00.000000005\r\n"
      ]
     },
     "execution_count": 28,
     "metadata": {},
     "output_type": "execute_result"
    }
   ],
   "source": [
    "12:00:00.000000000 + 5"
   ]
  },
  {
   "cell_type": "code",
   "execution_count": 29,
   "id": "3f6e9374",
   "metadata": {},
   "outputs": [
    {
     "data": {
      "text/plain": [
       "2000.01.06\r\n"
      ]
     },
     "execution_count": 29,
     "metadata": {},
     "output_type": "execute_result"
    }
   ],
   "source": [
    "2000.01.01+5"
   ]
  },
  {
   "cell_type": "code",
   "execution_count": 30,
   "id": "99c425a1",
   "metadata": {},
   "outputs": [
    {
     "data": {
      "text/plain": [
       "1b\r\n"
      ]
     },
     "execution_count": 30,
     "metadata": {},
     "output_type": "execute_result"
    }
   ],
   "source": [
    "12:00:00.000000000=12*60*60*1000000000"
   ]
  },
  {
   "cell_type": "code",
   "execution_count": 31,
   "id": "c8ba6eeb",
   "metadata": {},
   "outputs": [],
   "source": [
    "/The treatment of textual data in q is a bit complicated in order to provide optimum flexibility and performance. \n",
    "/For now, we will focus on symbols, which derive from their namesake in Scheme and are akin to VARCHAR in SQL or strings \n",
    "/in other languages. They are not what q calls strings!\n",
    "\n",
    "/Think of symbols as wannabe names: all q names are symbols but not all symbols are names. \n",
    "/A symbol is atomic, meaning that it is viewed as an indivisible entity (although we shall see later \n",
    "/how to expose the characters inside it).\n",
    "\n",
    "/Symbols are denoted by a leading back-quote (called \"back tick\" in q-speak) followed by characters. \n",
    "/Symbols without embedded blanks or other special characters can be entered literally into the console."
   ]
  },
  {
   "cell_type": "code",
   "execution_count": 32,
   "id": "8907569b",
   "metadata": {},
   "outputs": [
    {
     "data": {
      "text/plain": [
       "`aapl\r\n"
      ]
     },
     "execution_count": 32,
     "metadata": {},
     "output_type": "execute_result"
    }
   ],
   "source": [
    "`aapl"
   ]
  },
  {
   "cell_type": "code",
   "execution_count": 33,
   "id": "684e64bc",
   "metadata": {},
   "outputs": [
    {
     "data": {
      "text/plain": [
       "0b\r\n"
      ]
     },
     "execution_count": 33,
     "metadata": {},
     "output_type": "execute_result"
    }
   ],
   "source": [
    "`aapl=`apl"
   ]
  },
  {
   "cell_type": "code",
   "execution_count": 1,
   "id": "ea4e8344",
   "metadata": {},
   "outputs": [],
   "source": [
    "/ Note the single false value above.\n",
    "/ As the symbol is atomic (that which cannot be divided)\n",
    "/ we dont receive a list of boolean values representing a comparison between each character in the string."
   ]
  },
  {
   "cell_type": "code",
   "execution_count": 2,
   "id": "aec0218a",
   "metadata": {},
   "outputs": [],
   "source": [
    "/ Lists in Q.\n",
    "/ The fundamental q data structure is a list, which is an ordered collection of items sequenced from left to right. \n",
    "/ The notation for a general list encloses items with ( and ) and uses ; as separator. \n",
    "/ Spaces after the semi-colons are optional but can improve readability."
   ]
  },
  {
   "cell_type": "code",
   "execution_count": 6,
   "id": "2381a698",
   "metadata": {},
   "outputs": [
    {
     "data": {
      "text/plain": [
       "1\r\n",
       "1.2\r\n",
       "`one\r\n"
      ]
     },
     "execution_count": 6,
     "metadata": {},
     "output_type": "execute_result"
    },
    {
     "data": {
      "text/plain": [
       "3\r\n"
      ]
     },
     "execution_count": 6,
     "metadata": {},
     "output_type": "execute_result"
    }
   ],
   "source": [
    "ls:(1; 1.2; `one)\n",
    "ls\n",
    "count ls"
   ]
  },
  {
   "cell_type": "code",
   "execution_count": 9,
   "id": "42b3bdd8",
   "metadata": {},
   "outputs": [
    {
     "data": {
      "text/plain": [
       "1 2 3\r\n"
      ]
     },
     "execution_count": 9,
     "metadata": {},
     "output_type": "execute_result"
    },
    {
     "data": {
      "text/plain": [
       "1.2 2.2 3.3\r\n"
      ]
     },
     "execution_count": 9,
     "metadata": {},
     "output_type": "execute_result"
    },
    {
     "data": {
      "text/plain": [
       "2000.01.01 2000.01.02 2001.01.03\r\n"
      ]
     },
     "execution_count": 9,
     "metadata": {},
     "output_type": "execute_result"
    },
    {
     "data": {
      "text/plain": [
       "101b\r\n"
      ]
     },
     "execution_count": 9,
     "metadata": {},
     "output_type": "execute_result"
    },
    {
     "data": {
      "text/plain": [
       "`one`two`three\r\n"
      ]
     },
     "execution_count": 9,
     "metadata": {},
     "output_type": "execute_result"
    }
   ],
   "source": [
    "/ examples of list\n",
    "(1; 2; 3)\n",
    "(1.2; 2.2; 3.3)\n",
    "(2000.01.01; 2000.01.02; 2001.01.03)\n",
    "(1b; 0b; 1b)\n",
    "(`one; `two; `three)"
   ]
  },
  {
   "cell_type": "code",
   "execution_count": 10,
   "id": "b18ae746",
   "metadata": {},
   "outputs": [
    {
     "data": {
      "text/plain": [
       "1 2 3 4 5\r\n"
      ]
     },
     "execution_count": 10,
     "metadata": {},
     "output_type": "execute_result"
    }
   ],
   "source": [
    "1 2 3,4 5"
   ]
  },
  {
   "cell_type": "code",
   "execution_count": 12,
   "id": "79cd606c",
   "metadata": {},
   "outputs": [
    {
     "data": {
      "text/plain": [
       "0 1\r\n"
      ]
     },
     "execution_count": 12,
     "metadata": {},
     "output_type": "execute_result"
    },
    {
     "data": {
      "text/plain": [
       "8 9\r\n"
      ]
     },
     "execution_count": 12,
     "metadata": {},
     "output_type": "execute_result"
    }
   ],
   "source": [
    "2#til 10\n",
    "-2#til 10"
   ]
  },
  {
   "cell_type": "code",
   "execution_count": 14,
   "id": "706b296e",
   "metadata": {},
   "outputs": [
    {
     "data": {
      "text/plain": [
       "`long$()\r\n"
      ]
     },
     "execution_count": 14,
     "metadata": {},
     "output_type": "execute_result"
    },
    {
     "data": {
      "text/plain": [
       "`float$()\r\n"
      ]
     },
     "execution_count": 14,
     "metadata": {},
     "output_type": "execute_result"
    }
   ],
   "source": [
    "/ 0# returns an empty list of the same type as the first item in its argument\n",
    "0 # 1 2 3\n",
    "0 # 1.0 2.0 3.0"
   ]
  },
  {
   "cell_type": "code",
   "execution_count": 16,
   "id": "518b52a9",
   "metadata": {},
   "outputs": [
    {
     "data": {
      "text/plain": [
       "1 2\r\n"
      ]
     },
     "execution_count": 16,
     "metadata": {},
     "output_type": "execute_result"
    },
    {
     "data": {
      "text/plain": [
       "1 1 1\r\n"
      ]
     },
     "execution_count": 16,
     "metadata": {},
     "output_type": "execute_result"
    }
   ],
   "source": [
    "2 # 1 2 3 4 5\n",
    "3 # 1"
   ]
  },
  {
   "cell_type": "code",
   "execution_count": 18,
   "id": "9b2e726a",
   "metadata": {},
   "outputs": [
    {
     "data": {
      "text/plain": [
       "10\r\n"
      ]
     },
     "execution_count": 18,
     "metadata": {},
     "output_type": "execute_result"
    },
    {
     "data": {
      "text/plain": [
       "20\r\n"
      ]
     },
     "execution_count": 18,
     "metadata": {},
     "output_type": "execute_result"
    },
    {
     "data": {
      "text/plain": [
       "30\r\n"
      ]
     },
     "execution_count": 18,
     "metadata": {},
     "output_type": "execute_result"
    }
   ],
   "source": [
    "L:10 20 30\n",
    "L[0]\n",
    "L[1]\n",
    "L[2]"
   ]
  },
  {
   "cell_type": "code",
   "execution_count": 2,
   "id": "eab0b879",
   "metadata": {},
   "outputs": [
    {
     "data": {
      "text/plain": [
       "25\r\n"
      ]
     },
     "execution_count": 2,
     "metadata": {},
     "output_type": "execute_result"
    },
    {
     "data": {
      "text/plain": [
       "25\r\n"
      ]
     },
     "execution_count": 2,
     "metadata": {},
     "output_type": "execute_result"
    }
   ],
   "source": [
    "{[x]; x*x} 5\n",
    "{[x]; x*x} [5]"
   ]
  },
  {
   "cell_type": "code",
   "execution_count": 11,
   "id": "3f885b2b",
   "metadata": {},
   "outputs": [
    {
     "data": {
      "text/plain": [
       "25\r\n"
      ]
     },
     "execution_count": 11,
     "metadata": {},
     "output_type": "execute_result"
    },
    {
     "data": {
      "text/plain": [
       "25\r\n"
      ]
     },
     "execution_count": 11,
     "metadata": {},
     "output_type": "execute_result"
    },
    {
     "data": {
      "text/plain": [
       "25\r\n"
      ]
     },
     "execution_count": 11,
     "metadata": {},
     "output_type": "execute_result"
    }
   ],
   "source": [
    "{[x;y] a:x*x;b:y*y;a+b}[3;4]\n",
    "\n",
    "pyth:{[x;y];a:x*x;b:y*y;a+b}\n",
    "pyth[3;4]\n",
    "\n",
    "/x,y are implicitly expected\n",
    "pyth:{a:x*x;b:y*y;a+b}\n",
    "pyth[3;4]"
   ]
  },
  {
   "cell_type": "code",
   "execution_count": 12,
   "id": "15e4d883",
   "metadata": {},
   "outputs": [
    {
     "data": {
      "text/plain": [
       "010b\r\n"
      ]
     },
     "execution_count": 12,
     "metadata": {},
     "output_type": "execute_result"
    },
    {
     "data": {
      "text/plain": [
       "100b\r\n"
      ]
     },
     "execution_count": 12,
     "metadata": {},
     "output_type": "execute_result"
    },
    {
     "data": {
      "text/plain": [
       "001b\r\n"
      ]
     },
     "execution_count": 12,
     "metadata": {},
     "output_type": "execute_result"
    }
   ],
   "source": [
    "/ Lists\n",
    "100=99 100 101\n",
    "100 100 100=100 101 102\n",
    "100<99 100 101"
   ]
  },
  {
   "cell_type": "code",
   "execution_count": 14,
   "id": "4ab0ae9c",
   "metadata": {},
   "outputs": [
    {
     "data": {
      "text/plain": [
       "15\r\n"
      ]
     },
     "execution_count": 14,
     "metadata": {},
     "output_type": "execute_result"
    },
    {
     "data": {
      "text/plain": [
       "5050\r\n"
      ]
     },
     "execution_count": 14,
     "metadata": {},
     "output_type": "execute_result"
    }
   ],
   "source": [
    "0 +/ 1 2 3 4 5\n",
    "0 +/ 1+til 100"
   ]
  },
  {
   "cell_type": "code",
   "execution_count": 16,
   "id": "437db57f",
   "metadata": {},
   "outputs": [
    {
     "data": {
      "text/plain": [
       "15\r\n"
      ]
     },
     "execution_count": 16,
     "metadata": {},
     "output_type": "execute_result"
    }
   ],
   "source": [
    "0 {x+y}/ 1 2 3 4 5"
   ]
  },
  {
   "cell_type": "code",
   "execution_count": 17,
   "id": "b4ad5af7",
   "metadata": {},
   "outputs": [
    {
     "data": {
      "text/plain": [
       "3628800\r\n"
      ]
     },
     "execution_count": 17,
     "metadata": {},
     "output_type": "execute_result"
    }
   ],
   "source": [
    "(*/) 1+til 10"
   ]
  },
  {
   "cell_type": "code",
   "execution_count": 18,
   "id": "ca8e2042",
   "metadata": {},
   "outputs": [
    {
     "data": {
      "text/plain": [
       "98\r\n"
      ]
     },
     "execution_count": 18,
     "metadata": {},
     "output_type": "execute_result"
    },
    {
     "data": {
      "text/plain": [
       "42\r\n"
      ]
     },
     "execution_count": 18,
     "metadata": {},
     "output_type": "execute_result"
    }
   ],
   "source": [
    "42|98\n",
    "42&98"
   ]
  },
  {
   "cell_type": "code",
   "execution_count": 20,
   "id": "741916ae",
   "metadata": {},
   "outputs": [
    {
     "data": {
      "text/plain": [
       "40\r\n"
      ]
     },
     "execution_count": 20,
     "metadata": {},
     "output_type": "execute_result"
    },
    {
     "data": {
      "text/plain": [
       "10\r\n"
      ]
     },
     "execution_count": 20,
     "metadata": {},
     "output_type": "execute_result"
    }
   ],
   "source": [
    "(|/) 20 10 40 30\n",
    "(&/) 20 10 40 30"
   ]
  },
  {
   "cell_type": "code",
   "execution_count": 21,
   "id": "a013aba3",
   "metadata": {},
   "outputs": [
    {
     "data": {
      "text/plain": [
       "2f\r\n"
      ]
     },
     "execution_count": 21,
     "metadata": {},
     "output_type": "execute_result"
    }
   ],
   "source": [
    "(*/) 2#1.4142135623730949"
   ]
  },
  {
   "cell_type": "code",
   "execution_count": 22,
   "id": "1c1e6622",
   "metadata": {},
   "outputs": [
    {
     "data": {
      "text/plain": [
       "100000\r\n"
      ]
     },
     "execution_count": 22,
     "metadata": {},
     "output_type": "execute_result"
    }
   ],
   "source": [
    "n:5\n",
    "(*/) n#10"
   ]
  },
  {
   "cell_type": "code",
   "execution_count": 23,
   "id": "5933a3c8",
   "metadata": {},
   "outputs": [
    {
     "data": {
      "text/plain": [
       "1 3 6 10 15 21 28 36 45 55\r\n"
      ]
     },
     "execution_count": 23,
     "metadata": {},
     "output_type": "execute_result"
    },
    {
     "data": {
      "text/plain": [
       "1 2 6 24 120 720 5040 40320 362880 3628800\r\n"
      ]
     },
     "execution_count": 23,
     "metadata": {},
     "output_type": "execute_result"
    }
   ],
   "source": [
    "(+\\) 1+til 10\n",
    "(*\\) 1+til 10"
   ]
  },
  {
   "cell_type": "code",
   "execution_count": 24,
   "id": "fb69c4ff",
   "metadata": {},
   "outputs": [
    {
     "data": {
      "text/plain": [
       "20 20 40 40\r\n"
      ]
     },
     "execution_count": 24,
     "metadata": {},
     "output_type": "execute_result"
    },
    {
     "data": {
      "text/plain": [
       "20 10 10 10\r\n"
      ]
     },
     "execution_count": 24,
     "metadata": {},
     "output_type": "execute_result"
    }
   ],
   "source": [
    "(|\\) 20 10 40 30\n",
    "(&\\) 20 10 40 30"
   ]
  },
  {
   "cell_type": "code",
   "execution_count": 2,
   "id": "3f522385",
   "metadata": {},
   "outputs": [
    {
     "data": {
      "text/plain": [
       "1 1\r\n"
      ]
     },
     "execution_count": 2,
     "metadata": {},
     "output_type": "execute_result"
    },
    {
     "data": {
      "text/plain": [
       "1 1 2\r\n"
      ]
     },
     "execution_count": 2,
     "metadata": {},
     "output_type": "execute_result"
    }
   ],
   "source": [
    "F0:1 1\n",
    "F0\n",
    "F0:F0,sum -2#F0\n",
    "F0"
   ]
  },
  {
   "cell_type": "code",
   "execution_count": 2,
   "id": "a8868d92",
   "metadata": {},
   "outputs": [
    {
     "data": {
      "text/plain": [
       "1 1 2\r\n"
      ]
     },
     "execution_count": 2,
     "metadata": {},
     "output_type": "execute_result"
    }
   ],
   "source": [
    "{x,sum -2#x}[1 1]"
   ]
  },
  {
   "cell_type": "code",
   "execution_count": 3,
   "id": "3c1e3f58",
   "metadata": {},
   "outputs": [
    {
     "data": {
      "text/plain": [
       "1 1 2 3\r\n"
      ]
     },
     "execution_count": 3,
     "metadata": {},
     "output_type": "execute_result"
    }
   ],
   "source": [
    "{x,sum -2#x}[1 1 2]"
   ]
  },
  {
   "cell_type": "code",
   "execution_count": 4,
   "id": "d06ee8bc",
   "metadata": {},
   "outputs": [
    {
     "data": {
      "text/plain": [
       "1 1 2 3 5 8 13 21 34 55 89 144\r\n"
      ]
     },
     "execution_count": 4,
     "metadata": {},
     "output_type": "execute_result"
    }
   ],
   "source": [
    "10 {x,sum -2#x}/ 1 1"
   ]
  },
  {
   "cell_type": "code",
   "execution_count": 5,
   "id": "361e6cd2",
   "metadata": {},
   "outputs": [
    {
     "data": {
      "text/plain": [
       "1.5\r\n"
      ]
     },
     "execution_count": 5,
     "metadata": {},
     "output_type": "execute_result"
    }
   ],
   "source": [
    "/ Newton Raphson\n",
    "\n",
    "x0:1.0\n",
    "x0-((x0*x0)-2)%2*x0\n"
   ]
  },
  {
   "cell_type": "code",
   "execution_count": 6,
   "id": "2344e64a",
   "metadata": {},
   "outputs": [
    {
     "data": {
      "text/plain": [
       "1.5\r\n"
      ]
     },
     "execution_count": 6,
     "metadata": {},
     "output_type": "execute_result"
    }
   ],
   "source": [
    "{[xn] xn-((xn*xn)-2)%2*xn}[1.0]"
   ]
  },
  {
   "cell_type": "code",
   "execution_count": 7,
   "id": "66b2c4bc",
   "metadata": {},
   "outputs": [
    {
     "data": {
      "text/plain": [
       "1.416667\r\n"
      ]
     },
     "execution_count": 7,
     "metadata": {},
     "output_type": "execute_result"
    }
   ],
   "source": [
    "{[xn] xn-((xn*xn)-2)%2*xn}[1.5]"
   ]
  },
  {
   "cell_type": "markdown",
   "id": "3877fa29",
   "metadata": {},
   "source": [
    "Wouldn't it be nice of q had a higher-order function to apply a function recursively, starting at the base case, \n",
    "until the output converges? You won't be surprised that there is another overload of our friend Over that does exactly this. \n",
    "Just specify the base case and q iterates until the result converges within the system comparison tolerance \n",
    "(as of this writing – Sep 2015 – that tolerance is 10-14)"
   ]
  },
  {
   "cell_type": "code",
   "execution_count": 8,
   "id": "f62dd4e1",
   "metadata": {},
   "outputs": [
    {
     "data": {
      "text/plain": [
       "1.414214\r\n"
      ]
     },
     "execution_count": 8,
     "metadata": {},
     "output_type": "execute_result"
    }
   ],
   "source": [
    "{[xn] xn-((xn*xn)-2)%2*xn}/[1.5]"
   ]
  },
  {
   "cell_type": "code",
   "execution_count": 9,
   "id": "f1f4feae",
   "metadata": {},
   "outputs": [
    {
     "data": {
      "text/plain": [
       "1 1.5 1.416667 1.414216 1.414214 1.414214\r\n"
      ]
     },
     "execution_count": 9,
     "metadata": {},
     "output_type": "execute_result"
    }
   ],
   "source": [
    "{[xn] xn-((xn*xn)-2)%2*xn}\\[1.0]"
   ]
  },
  {
   "cell_type": "code",
   "execution_count": 10,
   "id": "78f9cc7a",
   "metadata": {},
   "outputs": [
    {
     "data": {
      "text/plain": [
       "{[c; xn] xn-((xn*xn)-c)%2*xn}[2f;]\r\n"
      ]
     },
     "execution_count": 10,
     "metadata": {},
     "output_type": "execute_result"
    }
   ],
   "source": [
    "{[c; xn] xn-((xn*xn)-c)%2*xn}[2.0;]"
   ]
  },
  {
   "cell_type": "code",
   "execution_count": 12,
   "id": "cbf922a6",
   "metadata": {},
   "outputs": [
    {
     "data": {
      "text/plain": [
       "1 1.5 1.416667 1.414216 1.414214 1.414214\r\n"
      ]
     },
     "execution_count": 12,
     "metadata": {},
     "output_type": "execute_result"
    }
   ],
   "source": [
    "{[c; xn] xn-((xn*xn)-c)%2*xn}[2.0;]\\[1.0]"
   ]
  },
  {
   "cell_type": "code",
   "execution_count": 13,
   "id": "90fd22d5",
   "metadata": {},
   "outputs": [
    {
     "data": {
      "text/plain": [
       "1 2 1.75 1.732143 1.732051 1.732051\r\n"
      ]
     },
     "execution_count": 13,
     "metadata": {},
     "output_type": "execute_result"
    }
   ],
   "source": [
    "{[c; xn] xn-((xn*xn)-c)%2*xn}[3.0;]\\[1.0]"
   ]
  },
  {
   "cell_type": "code",
   "execution_count": 14,
   "id": "659fb8ac",
   "metadata": {},
   "outputs": [
    {
     "data": {
      "text/plain": [
       "{[p; c; xn] xn-(((*/)p#xn)-c)%p*(*/)(p-1)#xn}\r\n"
      ]
     },
     "execution_count": 14,
     "metadata": {},
     "output_type": "execute_result"
    }
   ],
   "source": [
    "{[p; c; xn] xn-(((*/)p#xn)-c)%p*(*/)(p-1)#xn}"
   ]
  },
  {
   "cell_type": "code",
   "execution_count": 15,
   "id": "930ca907",
   "metadata": {},
   "outputs": [
    {
     "data": {
      "text/plain": [
       "1 2 1.75 1.732143 1.732051 1.732051\r\n"
      ]
     },
     "execution_count": 15,
     "metadata": {},
     "output_type": "execute_result"
    }
   ],
   "source": [
    "{[p; c; xn] xn-(((*/)p#xn)-c)%p*(*/)(p-1)#xn}[2; 3.0;]\\[1.0]"
   ]
  },
  {
   "cell_type": "code",
   "execution_count": 16,
   "id": "d2f9f401",
   "metadata": {},
   "outputs": [
    {
     "data": {
      "text/plain": [
       "1 2.2 1.819764 1.583475 1.489461 1.476022 1.475773 1.475773\r\n"
      ]
     },
     "execution_count": 16,
     "metadata": {},
     "output_type": "execute_result"
    }
   ],
   "source": [
    "{[p; c; xn] xn-(((*/)p#xn)-c)%p*(*/)(p-1)#xn}[5; 7.0;]\\[1.0]"
   ]
  },
  {
   "cell_type": "code",
   "execution_count": 1,
   "id": "66310fad",
   "metadata": {},
   "outputs": [],
   "source": [
    "/ Fifo Allocation\n",
    "/ An example of some of the functions\n",
    "/ Fifo is just an example allocate those buys to sell which occured first."
   ]
  },
  {
   "cell_type": "code",
   "execution_count": 2,
   "id": "2383ebf2",
   "metadata": {},
   "outputs": [],
   "source": [
    "buys:2 1 4 3 5 4f\n",
    "sell:12f\n",
    "\n",
    "/ desired allocation - so that the sum of the alloc buys = the number of sells - 12\n",
    "allocation : 2 1 4 3 2 0"
   ]
  },
  {
   "cell_type": "code",
   "execution_count": 6,
   "id": "1de9af76",
   "metadata": {},
   "outputs": [
    {
     "data": {
      "text/plain": [
       "2 3 7 10 15 19f\r\n"
      ]
     },
     "execution_count": 6,
     "metadata": {},
     "output_type": "execute_result"
    },
    {
     "data": {
      "text/plain": [
       "2 3 7 10 12 12f\r\n"
      ]
     },
     "execution_count": 6,
     "metadata": {},
     "output_type": "execute_result"
    },
    {
     "data": {
      "text/plain": [
       "2 1 4 3 2 0f\r\n"
      ]
     },
     "execution_count": 6,
     "metadata": {},
     "output_type": "execute_result"
    }
   ],
   "source": [
    "sums buys\n",
    "sell&sums buys\n",
    "deltas sell&sums buys"
   ]
  },
  {
   "cell_type": "code",
   "execution_count": 5,
   "id": "500e86d2",
   "metadata": {},
   "outputs": [
    {
     "data": {
      "text/plain": [
       "1 1 1 1 1\r\n"
      ]
     },
     "execution_count": 5,
     "metadata": {},
     "output_type": "execute_result"
    },
    {
     "data": {
      "text/plain": [
       "10 5 5\r\n"
      ]
     },
     "execution_count": 5,
     "metadata": {},
     "output_type": "execute_result"
    }
   ],
   "source": [
    "deltas 1 2 3 4 5\n",
    "deltas 10 15 20"
   ]
  },
  {
   "cell_type": "markdown",
   "id": "66704308",
   "metadata": {},
   "source": [
    "After lists, the second basic data structure of q is the dictionary, which models key-value association. \n",
    "A dictionary is constructed from two lists of the same length using the ! operator. \n",
    "The left operand is the list of (presumably unique, though unenforced) keys and the right operand is the list of values. \n",
    "A dictionary is a first-class value, just like an integer or list and can be assigned to a variable."
   ]
  },
  {
   "cell_type": "code",
   "execution_count": 7,
   "id": "63131685",
   "metadata": {},
   "outputs": [
    {
     "data": {
      "text/plain": [
       "a| 10\r\n",
       "b| 20\r\n",
       "c| 30\r\n"
      ]
     },
     "execution_count": 7,
     "metadata": {},
     "output_type": "execute_result"
    }
   ],
   "source": [
    "`a`b`c!10 20 30"
   ]
  },
  {
   "cell_type": "code",
   "execution_count": 8,
   "id": "3fe17f6d",
   "metadata": {},
   "outputs": [
    {
     "data": {
      "text/plain": [
       "a| 10\r\n",
       "b| 20\r\n",
       "c| 30\r\n"
      ]
     },
     "execution_count": 8,
     "metadata": {},
     "output_type": "execute_result"
    }
   ],
   "source": [
    "d:`a`b`c!10 20 30\n",
    "d"
   ]
  },
  {
   "cell_type": "code",
   "execution_count": 9,
   "id": "c93dc56b",
   "metadata": {},
   "outputs": [
    {
     "data": {
      "text/plain": [
       "10\r\n"
      ]
     },
     "execution_count": 9,
     "metadata": {},
     "output_type": "execute_result"
    }
   ],
   "source": [
    "d[`a]"
   ]
  },
  {
   "cell_type": "markdown",
   "id": "4c2966a0",
   "metadata": {},
   "source": [
    "A useful class of dictionary has as keys a simple list of symbols and as values a list of lists of uniform length. We think of such a dictionary as a named collection of columns and call it a column dictionary."
   ]
  },
  {
   "cell_type": "code",
   "execution_count": 10,
   "id": "c95459e4",
   "metadata": {},
   "outputs": [
    {
     "data": {
      "text/plain": [
       "c1| 10  20  30 \r\n",
       "c2| 1.1 2.2 3.3\r\n"
      ]
     },
     "execution_count": 10,
     "metadata": {},
     "output_type": "execute_result"
    }
   ],
   "source": [
    "`c1`c2!(10 20 30; 1.1 2.2 3.3)"
   ]
  },
  {
   "cell_type": "code",
   "execution_count": 11,
   "id": "60228d59",
   "metadata": {},
   "outputs": [
    {
     "data": {
      "text/plain": [
       "c1| 10  20  30 \r\n",
       "c2| 1.1 2.2 3.3\r\n"
      ]
     },
     "execution_count": 11,
     "metadata": {},
     "output_type": "execute_result"
    }
   ],
   "source": [
    "dc:`c1`c2!(10 20 30; 1.1 2.2 3.3)\n",
    "dc"
   ]
  },
  {
   "cell_type": "code",
   "execution_count": 12,
   "id": "a9218e72",
   "metadata": {},
   "outputs": [
    {
     "data": {
      "text/plain": [
       "10\r\n"
      ]
     },
     "execution_count": 12,
     "metadata": {},
     "output_type": "execute_result"
    }
   ],
   "source": [
    "dc[`c1][0]"
   ]
  },
  {
   "cell_type": "code",
   "execution_count": 13,
   "id": "fbf7c93d",
   "metadata": {},
   "outputs": [
    {
     "data": {
      "text/plain": [
       "10\r\n"
      ]
     },
     "execution_count": 13,
     "metadata": {},
     "output_type": "execute_result"
    }
   ],
   "source": [
    "/ this is called indexing at depth\n",
    "dc[`c1; 0]"
   ]
  },
  {
   "cell_type": "code",
   "execution_count": 14,
   "id": "3ddc93c2",
   "metadata": {},
   "outputs": [
    {
     "data": {
      "text/plain": [
       "10 20 30\r\n"
      ]
     },
     "execution_count": 14,
     "metadata": {},
     "output_type": "execute_result"
    }
   ],
   "source": [
    "dc[`c1;]"
   ]
  },
  {
   "cell_type": "code",
   "execution_count": 15,
   "id": "a8a91bbe",
   "metadata": {},
   "outputs": [
    {
     "data": {
      "text/plain": [
       "c1| 10\r\n",
       "c2| 1.1\r\n"
      ]
     },
     "execution_count": 15,
     "metadata": {},
     "output_type": "execute_result"
    }
   ],
   "source": [
    "dc[;0]"
   ]
  },
  {
   "cell_type": "markdown",
   "id": "e11aa6eb",
   "metadata": {},
   "source": [
    "To summarize, we have an entity that retrieves columns in the first slot and section dictionaries in the second slot. The issue is that columns are conventionally accessed in the second slot of two-dimensional things. No problem. We apply the built-in operator flip (better called “transpose”) to reverse the order of indexing. We still have the same column dictionary but slot retrieval is reversed: columns are accessed in the second slot and section dictionaries are retrieved from the first slot."
   ]
  },
  {
   "cell_type": "code",
   "execution_count": 16,
   "id": "76642419",
   "metadata": {},
   "outputs": [],
   "source": [
    "t:flip `c1`c2!(10 20 30; 1.1 2.2 3.3)"
   ]
  },
  {
   "cell_type": "code",
   "execution_count": 17,
   "id": "ea22f412",
   "metadata": {},
   "outputs": [
    {
     "data": {
      "text/plain": [
       "c1 c2 \r\n",
       "------\r\n",
       "10 1.1\r\n",
       "20 2.2\r\n",
       "30 3.3\r\n"
      ]
     },
     "execution_count": 17,
     "metadata": {},
     "output_type": "execute_result"
    }
   ],
   "source": [
    "t"
   ]
  },
  {
   "cell_type": "code",
   "execution_count": 18,
   "id": "a8b7ac2f",
   "metadata": {},
   "outputs": [
    {
     "data": {
      "text/plain": [
       "1.1 2.2 3.3\r\n"
      ]
     },
     "execution_count": 18,
     "metadata": {},
     "output_type": "execute_result"
    }
   ],
   "source": [
    "t[`c2]"
   ]
  },
  {
   "cell_type": "code",
   "execution_count": 19,
   "id": "30bd600a",
   "metadata": {},
   "outputs": [
    {
     "data": {
      "text/plain": [
       "2.2\r\n"
      ]
     },
     "execution_count": 19,
     "metadata": {},
     "output_type": "execute_result"
    }
   ],
   "source": [
    "t[1;`c2]"
   ]
  },
  {
   "cell_type": "code",
   "execution_count": 20,
   "id": "de05f514",
   "metadata": {},
   "outputs": [
    {
     "data": {
      "text/plain": [
       "c1| 20\r\n",
       "c2| 2.2\r\n"
      ]
     },
     "execution_count": 20,
     "metadata": {},
     "output_type": "execute_result"
    }
   ],
   "source": [
    "t[1;]"
   ]
  },
  {
   "cell_type": "markdown",
   "id": "48a25c34",
   "metadata": {},
   "source": [
    "Observe that the console display of a flipped column dictionary is indeed the transpose of the column dictionary display and in fact looks like … a table.\n",
    "A flipped column dictionary, called a table, is a first-class entity in q."
   ]
  },
  {
   "cell_type": "code",
   "execution_count": 21,
   "id": "9161cdde",
   "metadata": {},
   "outputs": [
    {
     "data": {
      "text/plain": [
       "c1| 20\r\n",
       "c2| 2.2\r\n"
      ]
     },
     "execution_count": 21,
     "metadata": {},
     "output_type": "execute_result"
    }
   ],
   "source": [
    "t[1]"
   ]
  },
  {
   "cell_type": "markdown",
   "id": "c87e921d",
   "metadata": {},
   "source": [
    "Thus we have arrived at:\n",
    "\n",
    "A table is a flipped column dictionary.\n",
    "It is also a list of record dictionaries."
   ]
  },
  {
   "cell_type": "code",
   "execution_count": 22,
   "id": "471f44ed",
   "metadata": {},
   "outputs": [
    {
     "data": {
      "text/plain": [
       "c1 c2 \r\n",
       "------\r\n",
       "10 1.1\r\n",
       "20 2.2\r\n",
       "30 3.3\r\n"
      ]
     },
     "execution_count": 22,
     "metadata": {},
     "output_type": "execute_result"
    }
   ],
   "source": [
    "([] c1:10 20 30; c2:1.1 2.2 3.3)"
   ]
  },
  {
   "cell_type": "markdown",
   "id": "dc73b9ce",
   "metadata": {},
   "source": [
    "A few notes.\n",
    "\n",
    "The square brackets are necessary to differentiate a table from a list\n",
    "The occurrence of : is not assignment. It is merely a syntactic marker separating the name from the column values\n",
    "The column names in table definition are not symbols, although they are converted to symbols under the covers."
   ]
  },
  {
   "cell_type": "code",
   "execution_count": 23,
   "id": "05cb01c5",
   "metadata": {},
   "outputs": [
    {
     "data": {
      "text/plain": [
       "c1   c2 c3\r\n",
       "----------\r\n",
       "1000 a  10\r\n",
       "1001 b  20\r\n",
       "1002 c  30\r\n",
       "1003 a  40\r\n",
       "1004 b  50\r\n",
       "1005 a  60\r\n"
      ]
     },
     "execution_count": 23,
     "metadata": {},
     "output_type": "execute_result"
    }
   ],
   "source": [
    "t:([] c1:1000+til 6; c2:`a`b`c`a`b`a; c3:10*1+til 6)\n",
    "t"
   ]
  },
  {
   "cell_type": "code",
   "execution_count": 24,
   "id": "8c27b8f7",
   "metadata": {},
   "outputs": [
    {
     "data": {
      "text/plain": [
       "c1   c2 c3\r\n",
       "----------\r\n",
       "1000 a  10\r\n",
       "1001 b  20\r\n",
       "1002 c  30\r\n",
       "1003 a  40\r\n",
       "1004 b  50\r\n",
       "1005 a  60\r\n"
      ]
     },
     "execution_count": 24,
     "metadata": {},
     "output_type": "execute_result"
    }
   ],
   "source": [
    "select from t"
   ]
  },
  {
   "cell_type": "code",
   "execution_count": 25,
   "id": "6b36b03e",
   "metadata": {},
   "outputs": [
    {
     "data": {
      "text/plain": [
       "c1   val\r\n",
       "--------\r\n",
       "1000 20 \r\n",
       "1001 40 \r\n",
       "1002 60 \r\n",
       "1003 80 \r\n",
       "1004 100\r\n",
       "1005 120\r\n"
      ]
     },
     "execution_count": 25,
     "metadata": {},
     "output_type": "execute_result"
    }
   ],
   "source": [
    "select c1, val:2*c3 from t"
   ]
  },
  {
   "cell_type": "code",
   "execution_count": 26,
   "id": "a67aee11",
   "metadata": {},
   "outputs": [
    {
     "data": {
      "text/plain": [
       "c2| c1 c3 \r\n",
       "--| ------\r\n",
       "a | 3  110\r\n",
       "b | 2  70 \r\n",
       "c | 1  30 \r\n"
      ]
     },
     "execution_count": 26,
     "metadata": {},
     "output_type": "execute_result"
    }
   ],
   "source": [
    "select count c1, sum c3 by c2 from t"
   ]
  },
  {
   "cell_type": "code",
   "execution_count": 27,
   "id": "1c773c4c",
   "metadata": {},
   "outputs": [],
   "source": [
    "/ An advantage of q-sql by is that you can group on a computed column."
   ]
  },
  {
   "cell_type": "code",
   "execution_count": 29,
   "id": "0303805b",
   "metadata": {},
   "outputs": [
    {
     "data": {
      "text/plain": [
       "ovrund| c2\r\n",
       "------| --\r\n",
       "0     | 2 \r\n",
       "1     | 4 \r\n"
      ]
     },
     "execution_count": 29,
     "metadata": {},
     "output_type": "execute_result"
    }
   ],
   "source": [
    "/ grouped based on values of c3, c3<40 - group 0, c3>=40 - group 1 \n",
    "select count c2 by ovrund:c3<=40 from t"
   ]
  },
  {
   "cell_type": "code",
   "execution_count": 30,
   "id": "0fa2c9ba",
   "metadata": {},
   "outputs": [
    {
     "data": {
      "text/plain": [
       "c1   c2 c3 \r\n",
       "-----------\r\n",
       "1000 a  100\r\n",
       "1001 b  20 \r\n",
       "1002 c  30 \r\n",
       "1003 a  400\r\n",
       "1004 b  50 \r\n",
       "1005 a  600\r\n"
      ]
     },
     "execution_count": 30,
     "metadata": {},
     "output_type": "execute_result"
    }
   ],
   "source": [
    "update c3:10*c3 from t where c2=`a"
   ]
  },
  {
   "cell_type": "code",
   "execution_count": 32,
   "id": "256cdb33",
   "metadata": {},
   "outputs": [
    {
     "data": {
      "text/plain": [
       "c1   c2 c3\r\n",
       "----------\r\n",
       "1000 a  10\r\n",
       "1003 a  40\r\n",
       "1005 a  60\r\n",
       "1001 b  20\r\n",
       "1004 b  50\r\n",
       "1002 c  30\r\n"
      ]
     },
     "execution_count": 32,
     "metadata": {},
     "output_type": "execute_result"
    }
   ],
   "source": [
    "/ sort table with c2\n",
    "`c2 xasc t"
   ]
  },
  {
   "cell_type": "code",
   "execution_count": 34,
   "id": "2e6d23bd",
   "metadata": {},
   "outputs": [
    {
     "data": {
      "text/plain": [
       "4 13 9 2 7 0 17 14 9 18\r\n"
      ]
     },
     "execution_count": 34,
     "metadata": {},
     "output_type": "execute_result"
    },
    {
     "data": {
      "text/plain": [
       "7.78112 7.83086 1.624709 18.73501 5.564243 4.784682 3.016266 3.134634 19.57 1..\r\n"
      ]
     },
     "execution_count": 34,
     "metadata": {},
     "output_type": "execute_result"
    }
   ],
   "source": [
    "/ generates 10 random integers between 0 and 20\n",
    "10?20\n",
    "/ generates 10 random integers between 0 and 20.0\n",
    "10?20.0"
   ]
  },
  {
   "cell_type": "code",
   "execution_count": 35,
   "id": "5ef2ea68",
   "metadata": {},
   "outputs": [
    {
     "data": {
      "text/plain": [
       "`aapl`aapl`aapl`ibm`aapl`aapl`aapl`aapl`aapl`aapl\r\n"
      ]
     },
     "execution_count": 35,
     "metadata": {},
     "output_type": "execute_result"
    }
   ],
   "source": [
    "10?`aapl`ibm"
   ]
  },
  {
   "cell_type": "code",
   "execution_count": 36,
   "id": "d31060c4",
   "metadata": {},
   "outputs": [
    {
     "data": {
      "text/plain": [
       "dt         tm                   sym  vol  px    \r\n",
       "------------------------------------------------\r\n",
       "2015.01.14 0D12:21:23.572398126 goog 5430 102.18\r\n",
       "2015.01.30 0D17:12:27.054561227 aapl 7220 103.5 \r\n",
       "2015.01.24 0D18:13:16.435531228 ibm  9400 98.14 \r\n",
       "2015.01.25 0D20:55:53.542938083 goog 4800 109.88\r\n",
       "2015.01.22 0D19:35:17.212843894 ibm  60   102.94\r\n"
      ]
     },
     "execution_count": 36,
     "metadata": {},
     "output_type": "execute_result"
    }
   ],
   "source": [
    "\n",
    "dts:2015.01.01+1000000?31\n",
    "tms:1000000?24:00:00.000000000\n",
    "syms:1000000?`aapl`goog`ibm\n",
    "vols:10*1+1000000?1000\n",
    "pxs:90.0+(1000000?2001)%100\n",
    "\n",
    "trades:([] dt:dts; tm:tms; sym:syms; vol:vols; px:pxs)\n",
    "5#trades"
   ]
  },
  {
   "cell_type": "code",
   "execution_count": 37,
   "id": "8f91445a",
   "metadata": {},
   "outputs": [
    {
     "data": {
      "text/plain": [
       "dt         tm                   sym  vol  px    \r\n",
       "------------------------------------------------\r\n",
       "2015.01.01 0D00:00:07.004971057 aapl 9200 103.22\r\n",
       "2015.01.01 0D00:00:09.415197372 goog 1230 97.25 \r\n",
       "2015.01.01 0D00:00:13.514088839 aapl 7670 103.86\r\n",
       "2015.01.01 0D00:00:14.056894183 aapl 8860 105.49\r\n",
       "2015.01.01 0D00:00:15.205892175 aapl 8420 108.68\r\n"
      ]
     },
     "execution_count": 37,
     "metadata": {},
     "output_type": "execute_result"
    }
   ],
   "source": [
    "trades:`dt`tm xasc trades\n",
    "5#trades"
   ]
  },
  {
   "cell_type": "code",
   "execution_count": 38,
   "id": "29b8b73c",
   "metadata": {},
   "outputs": [
    {
     "data": {
      "text/plain": [
       "dt         tm                   sym  vol  px    \r\n",
       "------------------------------------------------\r\n",
       "2015.01.01 0D00:00:07.004971057 aapl 9200 103.22\r\n",
       "2015.01.01 0D00:00:09.415197372 goog 1230 583.5 \r\n",
       "2015.01.01 0D00:00:13.514088839 aapl 7670 103.86\r\n",
       "2015.01.01 0D00:00:14.056894183 aapl 8860 105.49\r\n",
       "2015.01.01 0D00:00:15.205892175 aapl 8420 108.68\r\n"
      ]
     },
     "execution_count": 38,
     "metadata": {},
     "output_type": "execute_result"
    }
   ],
   "source": [
    "trades:update px:6*px from trades where sym=`goog\n",
    "trades:update px:2*px from trades where sym=`ibm\n",
    "5#trades"
   ]
  },
  {
   "cell_type": "code",
   "execution_count": 39,
   "id": "0b5e2888",
   "metadata": {},
   "outputs": [
    {
     "data": {
      "text/plain": [
       "sym | px       vol     \r\n",
       "----| -----------------\r\n",
       "aapl| 100.0113 5007.817\r\n",
       "goog| 599.974  5010.486\r\n",
       "ibm | 200.0099 5001.844\r\n"
      ]
     },
     "execution_count": 39,
     "metadata": {},
     "output_type": "execute_result"
    }
   ],
   "source": [
    "select avg px, avg vol by sym from trades"
   ]
  },
  {
   "cell_type": "code",
   "execution_count": 41,
   "id": "587c309c",
   "metadata": {},
   "outputs": [
    {
     "data": {
      "text/plain": [
       "sym | px  px1\r\n",
       "----| -------\r\n",
       "aapl| 90  110\r\n",
       "goog| 540 660\r\n",
       "ibm | 180 220\r\n"
      ]
     },
     "execution_count": 41,
     "metadata": {},
     "output_type": "execute_result"
    }
   ],
   "source": [
    "q)select min px, max px by sym from trades"
   ]
  },
  {
   "cell_type": "markdown",
   "id": "eb7d1920",
   "metadata": {},
   "source": [
    "Our first non-trivial query computes the 100-millisecond bucketed volume-weighted average price (VWAP). This uses the built-in binary function xbar. The left operand of xbar is an interval width, and the right operand is a list of numeric values. The effect of xbar is to shove each input to the left-hand end point of the interval of specified width in which it falls. For example,"
   ]
  },
  {
   "cell_type": "code",
   "execution_count": 45,
   "id": "1bb8399a",
   "metadata": {},
   "outputs": [
    {
     "data": {
      "text/plain": [
       "0 1 2 3 4 5 6 7 8 9 10 11 12 13 14\r\n"
      ]
     },
     "execution_count": 45,
     "metadata": {},
     "output_type": "execute_result"
    },
    {
     "data": {
      "text/plain": [
       "0 0 0 0 0 5 5 5 5 5 10 10 10 10 10\r\n"
      ]
     },
     "execution_count": 45,
     "metadata": {},
     "output_type": "execute_result"
    }
   ],
   "source": [
    "til 15\n",
    "5 xbar til 15"
   ]
  },
  {
   "cell_type": "code",
   "execution_count": 44,
   "id": "f9334c3c",
   "metadata": {},
   "outputs": [
    {
     "data": {
      "text/plain": [
       "0 1 2 3 4 5 6 7 8 9 10 11 12 13 14\r\n"
      ]
     },
     "execution_count": 44,
     "metadata": {},
     "output_type": "execute_result"
    },
    {
     "data": {
      "text/plain": [
       "0 0 0 3 3 3 6 6 6 9 9 9 12 12 12\r\n"
      ]
     },
     "execution_count": 44,
     "metadata": {},
     "output_type": "execute_result"
    }
   ],
   "source": [
    "til 15\n",
    "3 xbar til 15"
   ]
  },
  {
   "cell_type": "code",
   "execution_count": 46,
   "id": "93bc4cd6",
   "metadata": {},
   "outputs": [
    {
     "data": {
      "text/plain": [
       "0 1 2 3 4 5 6 7 8 9 10 11 12 13 14\r\n"
      ]
     },
     "execution_count": 46,
     "metadata": {},
     "output_type": "execute_result"
    },
    {
     "data": {
      "text/plain": [
       "0 0 0 0 0 0 0 0 0 0 10 10 10 10 10\r\n"
      ]
     },
     "execution_count": 46,
     "metadata": {},
     "output_type": "execute_result"
    }
   ],
   "source": [
    "til 15\n",
    "10 xbar til 15"
   ]
  },
  {
   "cell_type": "code",
   "execution_count": 47,
   "id": "412f9158",
   "metadata": {},
   "outputs": [
    {
     "data": {
      "text/plain": [
       "63.33333\r\n"
      ]
     },
     "execution_count": 47,
     "metadata": {},
     "output_type": "execute_result"
    }
   ],
   "source": [
    "1 2 3 wavg 50 60 70"
   ]
  },
  {
   "cell_type": "code",
   "execution_count": 48,
   "id": "304b5e31",
   "metadata": {},
   "outputs": [
    {
     "data": {
      "text/plain": [
       "sym  bkt                 | vwap    \r\n",
       "-------------------------| --------\r\n",
       "aapl 0D00:00:00.100000000| 104.6185\r\n",
       "aapl 0D00:00:00.500000000| 93.76   \r\n",
       "aapl 0D00:00:00.600000000| 107.04  \r\n",
       "aapl 0D00:00:00.900000000| 103.06  \r\n",
       "aapl 0D00:00:01.200000000| 96.12448\r\n",
       "aapl 0D00:00:02.200000000| 103.51  \r\n",
       "aapl 0D00:00:02.300000000| 105.73  \r\n",
       "aapl 0D00:00:02.400000000| 92.91845\r\n",
       "aapl 0D00:00:02.800000000| 105.553 \r\n",
       "aapl 0D00:00:03.000000000| 106.1294\r\n",
       "aapl 0D00:00:03.300000000| 101     \r\n",
       "aapl 0D00:00:03.800000000| 100     \r\n",
       "aapl 0D00:00:04.300000000| 106.28  \r\n",
       "aapl 0D00:00:05.000000000| 106.02  \r\n",
       "aapl 0D00:00:05.400000000| 104.13  \r\n",
       "aapl 0D00:00:06.100000000| 107.46  \r\n",
       "aapl 0D00:00:06.300000000| 92.66423\r\n",
       "aapl 0D00:00:06.600000000| 102.7   \r\n",
       "aapl 0D00:00:06.700000000| 94.78597\r\n",
       "aapl 0D00:00:06.900000000| 102.33  \r\n",
       "..\r\n"
      ]
     },
     "execution_count": 48,
     "metadata": {},
     "output_type": "execute_result"
    }
   ],
   "source": [
    "select vwap:vol wavg px by sym,bkt:100000000 xbar tm from trades"
   ]
  },
  {
   "cell_type": "code",
   "execution_count": 49,
   "id": "50e6fefe",
   "metadata": {},
   "outputs": [
    {
     "data": {
      "text/plain": [
       "px\r\n",
       "--\r\n",
       "20\r\n"
      ]
     },
     "execution_count": 49,
     "metadata": {},
     "output_type": "execute_result"
    }
   ],
   "source": [
    "select max px-mins px from trades where sym=`aapl"
   ]
  },
  {
   "cell_type": "code",
   "execution_count": null,
   "id": "55be7f9a",
   "metadata": {},
   "outputs": [],
   "source": []
  }
 ],
 "metadata": {
  "kernelspec": {
   "display_name": "Q (kdb+)",
   "language": "q",
   "name": "qpk"
  },
  "language_info": {
   "file_extension": ".q",
   "mimetype": "text/x-q",
   "name": "q",
   "version": "4.0"
  }
 },
 "nbformat": 4,
 "nbformat_minor": 5
}
