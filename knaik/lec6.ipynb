{
 "cells": [
  {
   "cell_type": "markdown",
   "id": "01bde4f0",
   "metadata": {},
   "source": [
    "### Functions"
   ]
  },
  {
   "cell_type": "code",
   "execution_count": 2,
   "id": "7649e40b",
   "metadata": {},
   "outputs": [],
   "source": [
    "def even_odd(num):\n",
    "    if num%2 == 0:\n",
    "        print(\"The number is even\")\n",
    "    else:\n",
    "        print(\"The number is odd\")"
   ]
  },
  {
   "cell_type": "code",
   "execution_count": 3,
   "id": "d925b05f",
   "metadata": {},
   "outputs": [
    {
     "name": "stdout",
     "output_type": "stream",
     "text": [
      "The number is odd\n"
     ]
    }
   ],
   "source": [
    "even_odd(15)"
   ]
  },
  {
   "cell_type": "code",
   "execution_count": 4,
   "id": "b03e07ff",
   "metadata": {},
   "outputs": [
    {
     "name": "stdout",
     "output_type": "stream",
     "text": [
      "The number is even\n"
     ]
    }
   ],
   "source": [
    "even_odd(30)"
   ]
  },
  {
   "cell_type": "code",
   "execution_count": 5,
   "id": "6185c3d3",
   "metadata": {},
   "outputs": [],
   "source": [
    "def hello_world():\n",
    "    print(\"Hello World\")"
   ]
  },
  {
   "cell_type": "code",
   "execution_count": 6,
   "id": "75b82394",
   "metadata": {},
   "outputs": [
    {
     "name": "stdout",
     "output_type": "stream",
     "text": [
      "Hello World\n"
     ]
    }
   ],
   "source": [
    "hello_world()"
   ]
  },
  {
   "cell_type": "code",
   "execution_count": 7,
   "id": "a9f400e7",
   "metadata": {},
   "outputs": [
    {
     "name": "stdout",
     "output_type": "stream",
     "text": [
      "Hello World\n",
      "None\n"
     ]
    }
   ],
   "source": [
    "val = hello_world()\n",
    "print(val)"
   ]
  },
  {
   "cell_type": "code",
   "execution_count": 8,
   "id": "7e8cd2b8",
   "metadata": {},
   "outputs": [],
   "source": [
    "def hello_world():\n",
    "    return(\"Hello World\")"
   ]
  },
  {
   "cell_type": "code",
   "execution_count": 9,
   "id": "ca558d6c",
   "metadata": {},
   "outputs": [
    {
     "name": "stdout",
     "output_type": "stream",
     "text": [
      "Hello World\n"
     ]
    }
   ],
   "source": [
    "val = hello_world()\n",
    "print(val)"
   ]
  },
  {
   "cell_type": "code",
   "execution_count": 10,
   "id": "a15e5ea8",
   "metadata": {},
   "outputs": [],
   "source": [
    "def hello(name,age=29):\n",
    "    print(\"My name is {} and age is {}\".format(name,age))"
   ]
  },
  {
   "cell_type": "code",
   "execution_count": 11,
   "id": "4fa646d0",
   "metadata": {},
   "outputs": [
    {
     "name": "stdout",
     "output_type": "stream",
     "text": [
      "My name is Satyajit and age is 32\n"
     ]
    }
   ],
   "source": [
    "hello(\"Satyajit\",32)"
   ]
  },
  {
   "cell_type": "code",
   "execution_count": 12,
   "id": "055699e4",
   "metadata": {},
   "outputs": [
    {
     "name": "stdout",
     "output_type": "stream",
     "text": [
      "My name is Satyajit and age is 29\n"
     ]
    }
   ],
   "source": [
    "hello(\"Satyajit\")"
   ]
  },
  {
   "cell_type": "code",
   "execution_count": 13,
   "id": "678e8ca1",
   "metadata": {},
   "outputs": [],
   "source": [
    "# name is positional argument as no default value has been provided\n",
    "# age is keyword argument as a default value has been provided."
   ]
  },
  {
   "cell_type": "code",
   "execution_count": 14,
   "id": "73b3abc3",
   "metadata": {},
   "outputs": [],
   "source": [
    "def hello(name,age):\n",
    "    print(\"My name is {} and age is {}\".format(name,age))"
   ]
  },
  {
   "cell_type": "code",
   "execution_count": 15,
   "id": "55d14ea7",
   "metadata": {},
   "outputs": [
    {
     "ename": "TypeError",
     "evalue": "hello() missing 1 required positional argument: 'age'",
     "output_type": "error",
     "traceback": [
      "\u001b[1;31m---------------------------------------------------------------------------\u001b[0m",
      "\u001b[1;31mTypeError\u001b[0m                                 Traceback (most recent call last)",
      "\u001b[1;32m~\\AppData\\Local\\Temp/ipykernel_7424/1232237163.py\u001b[0m in \u001b[0;36m<module>\u001b[1;34m\u001b[0m\n\u001b[1;32m----> 1\u001b[1;33m \u001b[0mhello\u001b[0m\u001b[1;33m(\u001b[0m\u001b[1;34m\"Satyajit\"\u001b[0m\u001b[1;33m)\u001b[0m\u001b[1;33m\u001b[0m\u001b[1;33m\u001b[0m\u001b[0m\n\u001b[0m",
      "\u001b[1;31mTypeError\u001b[0m: hello() missing 1 required positional argument: 'age'"
     ]
    }
   ],
   "source": [
    "# Expected error\n",
    "hello(\"Satyajit\")"
   ]
  },
  {
   "cell_type": "markdown",
   "id": "be9cac19",
   "metadata": {},
   "source": [
    "## IMPORTANT"
   ]
  },
  {
   "cell_type": "code",
   "execution_count": 16,
   "id": "65a8a523",
   "metadata": {},
   "outputs": [],
   "source": [
    "def hello(*args,**kwargs):\n",
    "    print(args)\n",
    "    print(kwargs)"
   ]
  },
  {
   "cell_type": "code",
   "execution_count": 17,
   "id": "86092dd6",
   "metadata": {},
   "outputs": [
    {
     "name": "stdout",
     "output_type": "stream",
     "text": [
      "('Satyajit', 'Ghosh')\n",
      "{'age': 29, 'dob': 1990}\n"
     ]
    }
   ],
   "source": [
    "hello('Satyajit','Ghosh',age=29,dob=1990)"
   ]
  },
  {
   "cell_type": "code",
   "execution_count": 19,
   "id": "0a7ccff5",
   "metadata": {},
   "outputs": [],
   "source": [
    "lst = ['Satyajit','Ghosh']\n",
    "dct = {'age':29,'dob':1990}"
   ]
  },
  {
   "cell_type": "code",
   "execution_count": 20,
   "id": "81d2876b",
   "metadata": {},
   "outputs": [
    {
     "name": "stdout",
     "output_type": "stream",
     "text": [
      "(['Satyajit', 'Ghosh'], {'age': 29, 'dob': 1990})\n",
      "{}\n"
     ]
    }
   ],
   "source": [
    "hello(lst,dct)"
   ]
  },
  {
   "cell_type": "code",
   "execution_count": 21,
   "id": "da56dc94",
   "metadata": {},
   "outputs": [
    {
     "name": "stdout",
     "output_type": "stream",
     "text": [
      "('Satyajit', 'Ghosh')\n",
      "{'age': 29, 'dob': 1990}\n"
     ]
    }
   ],
   "source": [
    "hello(*lst,**dct)"
   ]
  },
  {
   "cell_type": "markdown",
   "id": "e0bc328c",
   "metadata": {},
   "source": [
    "### Returning Multiple Values"
   ]
  },
  {
   "cell_type": "code",
   "execution_count": 23,
   "id": "549b5971",
   "metadata": {},
   "outputs": [],
   "source": [
    "def evenoddsum(lst):\n",
    "    \n",
    "    evensum = 0\n",
    "    oddsum = 0\n",
    "    \n",
    "    for num in lst:\n",
    "        if num%2 == 0:\n",
    "            evensum += num\n",
    "        else:\n",
    "            oddsum += num\n",
    "    \n",
    "    return evensum,oddsum"
   ]
  },
  {
   "cell_type": "code",
   "execution_count": 24,
   "id": "b4b42085",
   "metadata": {},
   "outputs": [
    {
     "data": {
      "text/plain": [
       "(12, 16)"
      ]
     },
     "execution_count": 24,
     "metadata": {},
     "output_type": "execute_result"
    }
   ],
   "source": [
    "lst = [1,2,3,4,5,6,7]\n",
    "evenoddsum(lst)"
   ]
  },
  {
   "cell_type": "code",
   "execution_count": 25,
   "id": "72c358d6",
   "metadata": {},
   "outputs": [],
   "source": [
    "esum,osum = evenoddsum(lst)"
   ]
  },
  {
   "cell_type": "code",
   "execution_count": 26,
   "id": "59d8411d",
   "metadata": {},
   "outputs": [
    {
     "name": "stdout",
     "output_type": "stream",
     "text": [
      "12\n",
      "16\n"
     ]
    }
   ],
   "source": [
    "print(esum)\n",
    "print(osum)"
   ]
  },
  {
   "cell_type": "markdown",
   "id": "68116ea2",
   "metadata": {},
   "source": [
    "### Lambda Function"
   ]
  },
  {
   "cell_type": "code",
   "execution_count": 27,
   "id": "42316cf7",
   "metadata": {},
   "outputs": [],
   "source": [
    "## Anonymus function - function with no name\n",
    "def addition(a,b):\n",
    "    return(a+b)"
   ]
  },
  {
   "cell_type": "code",
   "execution_count": 28,
   "id": "cc5991c8",
   "metadata": {},
   "outputs": [
    {
     "data": {
      "text/plain": [
       "9"
      ]
     },
     "execution_count": 28,
     "metadata": {},
     "output_type": "execute_result"
    }
   ],
   "source": [
    "addition(4,5)"
   ]
  },
  {
   "cell_type": "code",
   "execution_count": 29,
   "id": "7e03da33",
   "metadata": {},
   "outputs": [],
   "source": [
    "## Converting to lambda function\n",
    "# Possible only if we have a single expression\n",
    "addition=lambda a,b:a+b"
   ]
  },
  {
   "cell_type": "code",
   "execution_count": 30,
   "id": "c0f8ca5f",
   "metadata": {},
   "outputs": [
    {
     "data": {
      "text/plain": [
       "26"
      ]
     },
     "execution_count": 30,
     "metadata": {},
     "output_type": "execute_result"
    }
   ],
   "source": [
    "addition(12,14)"
   ]
  },
  {
   "cell_type": "code",
   "execution_count": 31,
   "id": "c7227e4a",
   "metadata": {},
   "outputs": [],
   "source": [
    "def even(num):\n",
    "    if num%2 == 0:\n",
    "        return True"
   ]
  },
  {
   "cell_type": "code",
   "execution_count": 32,
   "id": "7eff2279",
   "metadata": {},
   "outputs": [
    {
     "data": {
      "text/plain": [
       "True"
      ]
     },
     "execution_count": 32,
     "metadata": {},
     "output_type": "execute_result"
    }
   ],
   "source": [
    "even(10)"
   ]
  },
  {
   "cell_type": "code",
   "execution_count": 33,
   "id": "30de1d39",
   "metadata": {},
   "outputs": [],
   "source": [
    "even(5)"
   ]
  },
  {
   "cell_type": "code",
   "execution_count": 34,
   "id": "95e1cbcd",
   "metadata": {},
   "outputs": [],
   "source": [
    "even1 = lambda num: num%2 == 0"
   ]
  },
  {
   "cell_type": "code",
   "execution_count": 35,
   "id": "9e3f1b4b",
   "metadata": {},
   "outputs": [
    {
     "data": {
      "text/plain": [
       "True"
      ]
     },
     "execution_count": 35,
     "metadata": {},
     "output_type": "execute_result"
    }
   ],
   "source": [
    "even1(10)"
   ]
  },
  {
   "cell_type": "code",
   "execution_count": 36,
   "id": "1b7526da",
   "metadata": {},
   "outputs": [
    {
     "data": {
      "text/plain": [
       "False"
      ]
     },
     "execution_count": 36,
     "metadata": {},
     "output_type": "execute_result"
    }
   ],
   "source": [
    "even1(5)"
   ]
  },
  {
   "cell_type": "markdown",
   "id": "d41f2446",
   "metadata": {},
   "source": [
    "### Map Function in Python"
   ]
  },
  {
   "cell_type": "code",
   "execution_count": 41,
   "id": "3ba95a87",
   "metadata": {},
   "outputs": [],
   "source": [
    "def even_or_odd(num):\n",
    "    if num%2 == 0:\n",
    "        return \"The number {} is Even\".format(num)\n",
    "    else:\n",
    "        return \"The number {} is Odd\".format(num)"
   ]
  },
  {
   "cell_type": "code",
   "execution_count": 43,
   "id": "d7e9f50e",
   "metadata": {},
   "outputs": [
    {
     "data": {
      "text/plain": [
       "'The number 24 is Even'"
      ]
     },
     "execution_count": 43,
     "metadata": {},
     "output_type": "execute_result"
    }
   ],
   "source": [
    "even_or_odd(24)"
   ]
  },
  {
   "cell_type": "code",
   "execution_count": 44,
   "id": "3e2e489c",
   "metadata": {},
   "outputs": [
    {
     "data": {
      "text/plain": [
       "'The number 13 is Odd'"
      ]
     },
     "execution_count": 44,
     "metadata": {},
     "output_type": "execute_result"
    }
   ],
   "source": [
    "even_or_odd(13)"
   ]
  },
  {
   "cell_type": "code",
   "execution_count": 45,
   "id": "fb3bc400",
   "metadata": {},
   "outputs": [],
   "source": [
    "lst = [1,2,3,4,5,6,7,8,9,24,56,78]"
   ]
  },
  {
   "cell_type": "code",
   "execution_count": 46,
   "id": "f6f5582b",
   "metadata": {},
   "outputs": [
    {
     "data": {
      "text/plain": [
       "<map at 0x1f15ebf4940>"
      ]
     },
     "execution_count": 46,
     "metadata": {},
     "output_type": "execute_result"
    }
   ],
   "source": [
    "# map function - arguument 1 - function name, argument 2 - iterables\n",
    "map(even_or_odd,lst)"
   ]
  },
  {
   "cell_type": "code",
   "execution_count": 47,
   "id": "5715b14f",
   "metadata": {},
   "outputs": [
    {
     "data": {
      "text/plain": [
       "['The number 1 is Odd',\n",
       " 'The number 2 is Even',\n",
       " 'The number 3 is Odd',\n",
       " 'The number 4 is Even',\n",
       " 'The number 5 is Odd',\n",
       " 'The number 6 is Even',\n",
       " 'The number 7 is Odd',\n",
       " 'The number 8 is Even',\n",
       " 'The number 9 is Odd',\n",
       " 'The number 24 is Even',\n",
       " 'The number 56 is Even',\n",
       " 'The number 78 is Even']"
      ]
     },
     "execution_count": 47,
     "metadata": {},
     "output_type": "execute_result"
    }
   ],
   "source": [
    "list(map(even_or_odd,lst))"
   ]
  },
  {
   "cell_type": "markdown",
   "id": "555ad242",
   "metadata": {},
   "source": [
    "### Filter function in Python"
   ]
  },
  {
   "cell_type": "code",
   "execution_count": 50,
   "id": "5f1dddd9",
   "metadata": {},
   "outputs": [],
   "source": [
    "def even(num):\n",
    "    if num%2 == 0:\n",
    "        return True"
   ]
  },
  {
   "cell_type": "code",
   "execution_count": 53,
   "id": "45b127c6",
   "metadata": {},
   "outputs": [],
   "source": [
    "lst = [1,2,3,4,5,6,7,8,9,10]"
   ]
  },
  {
   "cell_type": "code",
   "execution_count": 54,
   "id": "177311dc",
   "metadata": {},
   "outputs": [
    {
     "data": {
      "text/plain": [
       "[2, 4, 6, 8, 10]"
      ]
     },
     "execution_count": 54,
     "metadata": {},
     "output_type": "execute_result"
    }
   ],
   "source": [
    "list(filter(even,lst))"
   ]
  },
  {
   "cell_type": "code",
   "execution_count": 57,
   "id": "002a0e0b",
   "metadata": {},
   "outputs": [
    {
     "data": {
      "text/plain": [
       "[2, 4, 6, 8, 10]"
      ]
     },
     "execution_count": 57,
     "metadata": {},
     "output_type": "execute_result"
    }
   ],
   "source": [
    "list(filter(lambda num:num%2==0,lst))"
   ]
  },
  {
   "cell_type": "code",
   "execution_count": 58,
   "id": "bb560e79",
   "metadata": {},
   "outputs": [
    {
     "data": {
      "text/plain": [
       "[False, True, False, True, False, True, False, True, False, True]"
      ]
     },
     "execution_count": 58,
     "metadata": {},
     "output_type": "execute_result"
    }
   ],
   "source": [
    "list(map(lambda num:num%2==0,lst))"
   ]
  },
  {
   "cell_type": "markdown",
   "id": "768e9097",
   "metadata": {},
   "source": [
    "### List Comrehension\n",
    "\n",
    "List Comprehension provides a concise way to create lists."
   ]
  },
  {
   "cell_type": "code",
   "execution_count": 60,
   "id": "b4ece1b4",
   "metadata": {},
   "outputs": [],
   "source": [
    "def lst_square(lst):\n",
    "    lst1 = []\n",
    "    for item in lst:\n",
    "        lst1.append(item*item)\n",
    "    return(lst1)"
   ]
  },
  {
   "cell_type": "code",
   "execution_count": 61,
   "id": "7350d14b",
   "metadata": {},
   "outputs": [
    {
     "data": {
      "text/plain": [
       "[1, 4, 9, 16, 25, 36, 49]"
      ]
     },
     "execution_count": 61,
     "metadata": {},
     "output_type": "execute_result"
    }
   ],
   "source": [
    "lst_square([1,2,3,4,5,6,7])"
   ]
  },
  {
   "cell_type": "code",
   "execution_count": 63,
   "id": "c10ebf12",
   "metadata": {},
   "outputs": [],
   "source": [
    "lst = [1,2,3,4,5,6,7]"
   ]
  },
  {
   "cell_type": "code",
   "execution_count": 65,
   "id": "32fdc88e",
   "metadata": {},
   "outputs": [],
   "source": [
    "lst1 = [i*i for i in lst]"
   ]
  },
  {
   "cell_type": "code",
   "execution_count": 66,
   "id": "339f38c1",
   "metadata": {},
   "outputs": [
    {
     "name": "stdout",
     "output_type": "stream",
     "text": [
      "[1, 4, 9, 16, 25, 36, 49]\n"
     ]
    }
   ],
   "source": [
    "print(lst1)"
   ]
  },
  {
   "cell_type": "code",
   "execution_count": 67,
   "id": "80c3c8fb",
   "metadata": {},
   "outputs": [],
   "source": [
    "### Square only even numbers\n",
    "lst1 = [i*i for i in lst if i%2 == 0]"
   ]
  },
  {
   "cell_type": "code",
   "execution_count": 68,
   "id": "31af34dc",
   "metadata": {},
   "outputs": [
    {
     "name": "stdout",
     "output_type": "stream",
     "text": [
      "[4, 16, 36]\n"
     ]
    }
   ],
   "source": [
    "print(lst1)"
   ]
  },
  {
   "cell_type": "markdown",
   "id": "b675528b",
   "metadata": {},
   "source": [
    "### String formatting in Python"
   ]
  },
  {
   "cell_type": "code",
   "execution_count": 70,
   "id": "f8fa64fe",
   "metadata": {},
   "outputs": [],
   "source": [
    "def greeting(name):\n",
    "    return \"Hello {}. Welcome to the community.\".format(name)"
   ]
  },
  {
   "cell_type": "code",
   "execution_count": 71,
   "id": "f233b126",
   "metadata": {},
   "outputs": [
    {
     "data": {
      "text/plain": [
       "'Hello Satyajit. Welcome to the community.'"
      ]
     },
     "execution_count": 71,
     "metadata": {},
     "output_type": "execute_result"
    }
   ],
   "source": [
    "greeting('Satyajit')"
   ]
  },
  {
   "cell_type": "code",
   "execution_count": 72,
   "id": "fc04cc3e",
   "metadata": {},
   "outputs": [],
   "source": [
    "def welcome_email(name,age):\n",
    "    return \"Welcome {}. Your age is {}\".format(name,age)"
   ]
  },
  {
   "cell_type": "code",
   "execution_count": 73,
   "id": "1deaf442",
   "metadata": {},
   "outputs": [
    {
     "data": {
      "text/plain": [
       "'Welcome Satyajit. Your age is 32'"
      ]
     },
     "execution_count": 73,
     "metadata": {},
     "output_type": "execute_result"
    }
   ],
   "source": [
    "welcome_email('Satyajit',32)"
   ]
  },
  {
   "cell_type": "code",
   "execution_count": 74,
   "id": "3f3e7b3c",
   "metadata": {},
   "outputs": [
    {
     "data": {
      "text/plain": [
       "'Welcome 32. Your age is Satyajit'"
      ]
     },
     "execution_count": 74,
     "metadata": {},
     "output_type": "execute_result"
    }
   ],
   "source": [
    "## Ordering is important.\n",
    "welcome_email(32,'Satyajit')"
   ]
  },
  {
   "cell_type": "code",
   "execution_count": 77,
   "id": "eefa3451",
   "metadata": {},
   "outputs": [],
   "source": [
    "def welcome_email(name,age):\n",
    "    return \"Welcome {name}. Your age is {age}\".format(age=age,name=name)"
   ]
  },
  {
   "cell_type": "code",
   "execution_count": 78,
   "id": "ffcc8945",
   "metadata": {},
   "outputs": [
    {
     "data": {
      "text/plain": [
       "'Welcome Satyajit. Your age is 32'"
      ]
     },
     "execution_count": 78,
     "metadata": {},
     "output_type": "execute_result"
    }
   ],
   "source": [
    "welcome_email('Satyajit',32)"
   ]
  },
  {
   "cell_type": "code",
   "execution_count": null,
   "id": "27001ca8",
   "metadata": {},
   "outputs": [],
   "source": []
  }
 ],
 "metadata": {
  "kernelspec": {
   "display_name": "Python 3 (ipykernel)",
   "language": "python",
   "name": "python3"
  },
  "language_info": {
   "codemirror_mode": {
    "name": "ipython",
    "version": 3
   },
   "file_extension": ".py",
   "mimetype": "text/x-python",
   "name": "python",
   "nbconvert_exporter": "python",
   "pygments_lexer": "ipython3",
   "version": "3.9.1"
  }
 },
 "nbformat": 4,
 "nbformat_minor": 5
}
