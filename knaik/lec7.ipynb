{
 "cells": [
  {
   "cell_type": "markdown",
   "id": "cb6947a9",
   "metadata": {},
   "source": [
    "### Iterables, Iterators and Generators"
   ]
  },
  {
   "cell_type": "code",
   "execution_count": 10,
   "id": "dfceabb4",
   "metadata": {},
   "outputs": [
    {
     "name": "stdout",
     "output_type": "stream",
     "text": [
      "1\n",
      "2\n",
      "3\n",
      "4\n",
      "5\n",
      "6\n",
      "7\n"
     ]
    }
   ],
   "source": [
    "lst = [1,2,3,4,5,6,7]\n",
    "for i in lst:\n",
    "    print(i)"
   ]
  },
  {
   "cell_type": "code",
   "execution_count": 11,
   "id": "8e673a46",
   "metadata": {},
   "outputs": [],
   "source": [
    "# When an iterable list is initialized, all the values are loaded into the memory at once.\n",
    "# However, in case of an iterator, the values are loaded into the memory only when next() function is called."
   ]
  },
  {
   "cell_type": "code",
   "execution_count": 12,
   "id": "c68b0cc2",
   "metadata": {},
   "outputs": [],
   "source": [
    "## This is how an iterator is declared\n",
    "lst1 = iter(lst)"
   ]
  },
  {
   "cell_type": "code",
   "execution_count": 13,
   "id": "33f7a937",
   "metadata": {},
   "outputs": [
    {
     "name": "stdout",
     "output_type": "stream",
     "text": [
      "<list_iterator object at 0x0000024CAF76E370>\n"
     ]
    }
   ],
   "source": [
    "print(lst1)\n",
    "## Note - just the iterator object is printed, not the numbers."
   ]
  },
  {
   "cell_type": "code",
   "execution_count": 14,
   "id": "dd19f3b7",
   "metadata": {},
   "outputs": [
    {
     "name": "stdout",
     "output_type": "stream",
     "text": [
      "[1, 2, 3, 4, 5, 6, 7]\n"
     ]
    }
   ],
   "source": [
    "print(lst)"
   ]
  },
  {
   "cell_type": "code",
   "execution_count": 15,
   "id": "90282d15",
   "metadata": {},
   "outputs": [
    {
     "data": {
      "text/plain": [
       "1"
      ]
     },
     "execution_count": 15,
     "metadata": {},
     "output_type": "execute_result"
    }
   ],
   "source": [
    "next(lst1)"
   ]
  },
  {
   "cell_type": "code",
   "execution_count": 16,
   "id": "15d78b54",
   "metadata": {},
   "outputs": [
    {
     "data": {
      "text/plain": [
       "2"
      ]
     },
     "execution_count": 16,
     "metadata": {},
     "output_type": "execute_result"
    }
   ],
   "source": [
    "next(lst1)"
   ]
  },
  {
   "cell_type": "code",
   "execution_count": 17,
   "id": "4427f562",
   "metadata": {},
   "outputs": [
    {
     "name": "stdout",
     "output_type": "stream",
     "text": [
      "<list_iterator object at 0x0000024CAF76E370>\n"
     ]
    }
   ],
   "source": [
    "print(lst1)"
   ]
  },
  {
   "cell_type": "code",
   "execution_count": 19,
   "id": "6f412dce",
   "metadata": {},
   "outputs": [
    {
     "ename": "TypeError",
     "evalue": "object of type 'list_iterator' has no len()",
     "output_type": "error",
     "traceback": [
      "\u001b[1;31m---------------------------------------------------------------------------\u001b[0m",
      "\u001b[1;31mTypeError\u001b[0m                                 Traceback (most recent call last)",
      "\u001b[1;32m~\\AppData\\Local\\Temp/ipykernel_12888/584829450.py\u001b[0m in \u001b[0;36m<module>\u001b[1;34m\u001b[0m\n\u001b[0;32m      1\u001b[0m \u001b[1;31m#len doesnt work on iterator\u001b[0m\u001b[1;33m\u001b[0m\u001b[1;33m\u001b[0m\u001b[1;33m\u001b[0m\u001b[0m\n\u001b[1;32m----> 2\u001b[1;33m \u001b[0mlen\u001b[0m\u001b[1;33m(\u001b[0m\u001b[0mlst1\u001b[0m\u001b[1;33m)\u001b[0m\u001b[1;33m\u001b[0m\u001b[1;33m\u001b[0m\u001b[0m\n\u001b[0m",
      "\u001b[1;31mTypeError\u001b[0m: object of type 'list_iterator' has no len()"
     ]
    }
   ],
   "source": [
    "#len doesnt work on iterator\n",
    "len(lst1)"
   ]
  },
  {
   "cell_type": "code",
   "execution_count": null,
   "id": "066ce3e4",
   "metadata": {},
   "outputs": [],
   "source": [
    "next(lst1)"
   ]
  },
  {
   "cell_type": "code",
   "execution_count": null,
   "id": "500b4267",
   "metadata": {},
   "outputs": [],
   "source": [
    "next(lst1)"
   ]
  },
  {
   "cell_type": "code",
   "execution_count": null,
   "id": "935ed727",
   "metadata": {},
   "outputs": [],
   "source": [
    "next(lst1)"
   ]
  },
  {
   "cell_type": "code",
   "execution_count": 20,
   "id": "029262ba",
   "metadata": {},
   "outputs": [
    {
     "data": {
      "text/plain": [
       "3"
      ]
     },
     "execution_count": 20,
     "metadata": {},
     "output_type": "execute_result"
    }
   ],
   "source": [
    "next(lst1)"
   ]
  },
  {
   "cell_type": "code",
   "execution_count": 21,
   "id": "1d161ce7",
   "metadata": {},
   "outputs": [
    {
     "data": {
      "text/plain": [
       "4"
      ]
     },
     "execution_count": 21,
     "metadata": {},
     "output_type": "execute_result"
    }
   ],
   "source": [
    "next(lst1)"
   ]
  },
  {
   "cell_type": "code",
   "execution_count": 22,
   "id": "40d63d49",
   "metadata": {},
   "outputs": [
    {
     "data": {
      "text/plain": [
       "5"
      ]
     },
     "execution_count": 22,
     "metadata": {},
     "output_type": "execute_result"
    }
   ],
   "source": [
    "## When we reach the end we receive this error.\n",
    "next(lst1)"
   ]
  },
  {
   "cell_type": "code",
   "execution_count": 23,
   "id": "0e81edd2",
   "metadata": {},
   "outputs": [],
   "source": [
    "lst1 = iter(lst)"
   ]
  },
  {
   "cell_type": "code",
   "execution_count": 24,
   "id": "f4450d07",
   "metadata": {},
   "outputs": [
    {
     "name": "stdout",
     "output_type": "stream",
     "text": [
      "1\n",
      "2\n",
      "3\n",
      "4\n",
      "5\n",
      "6\n",
      "7\n"
     ]
    }
   ],
   "source": [
    "for i in lst1:\n",
    "    print(i)"
   ]
  },
  {
   "cell_type": "code",
   "execution_count": 25,
   "id": "8be852fe",
   "metadata": {},
   "outputs": [],
   "source": [
    "# This prints the complete set of values.\n",
    "# Internally, the for loop calls the next() function\n",
    "# Also, the loop doesnt fail with the Stop Iteration error at the end because this error is alreadyhandled within the for loop."
   ]
  },
  {
   "cell_type": "markdown",
   "id": "e8c9d25e",
   "metadata": {},
   "source": [
    "### Further reading from the Corey Schaffer Video on the topic"
   ]
  },
  {
   "cell_type": "code",
   "execution_count": 26,
   "id": "4f86a861",
   "metadata": {},
   "outputs": [
    {
     "data": {
      "text/plain": [
       "True"
      ]
     },
     "execution_count": 26,
     "metadata": {},
     "output_type": "execute_result"
    }
   ],
   "source": [
    "### The dir() function retusrns the list of functions avaliable in the class of the object.\n",
    "### __iter__ is returned  this implies that this object is iterable.\n",
    "### The for loop calls this function on the lst object, the function returns an iterator.\n",
    "\n",
    "'__iter__' in dir(lst)"
   ]
  },
  {
   "cell_type": "code",
   "execution_count": 27,
   "id": "648bc4b1",
   "metadata": {},
   "outputs": [
    {
     "data": {
      "text/plain": [
       "False"
      ]
     },
     "execution_count": 27,
     "metadata": {},
     "output_type": "execute_result"
    }
   ],
   "source": [
    "# Iterator is an object with a state so that it know where it is in during the iteration. \n",
    "# Iterator also knows how to get to the next item using next function. Iterable does not.\n",
    "'__next__' in dir(lst)"
   ]
  },
  {
   "cell_type": "code",
   "execution_count": 28,
   "id": "203ac8bb",
   "metadata": {},
   "outputs": [],
   "source": [
    "### Uses - we can add __iter__ to our own classes and make the objects iterable."
   ]
  },
  {
   "cell_type": "code",
   "execution_count": 29,
   "id": "e6c80535",
   "metadata": {},
   "outputs": [],
   "source": [
    "class MyRange:\n",
    "    \n",
    "    def __init__(self,start,end):\n",
    "        self.value = start\n",
    "        self.end = end\n",
    "        \n",
    "    def __iter__(self):\n",
    "        return self\n",
    "    \n",
    "    def __next__(self):\n",
    "        if self.value >= self.end:\n",
    "            raise StopIteration\n",
    "        current = self.value\n",
    "        self.value = self.value + 1\n",
    "        return current"
   ]
  },
  {
   "cell_type": "code",
   "execution_count": 30,
   "id": "bf1e10c4",
   "metadata": {},
   "outputs": [
    {
     "name": "stdout",
     "output_type": "stream",
     "text": [
      "1\n",
      "2\n",
      "3\n",
      "4\n",
      "5\n",
      "6\n",
      "7\n",
      "8\n",
      "9\n"
     ]
    }
   ],
   "source": [
    "nums = MyRange(1,10)\n",
    "for num in nums:\n",
    "    print(num)"
   ]
  },
  {
   "cell_type": "code",
   "execution_count": 31,
   "id": "300e50ae",
   "metadata": {},
   "outputs": [],
   "source": [
    "# nums here is both an iterable and an iterator.\n",
    "# It has the __next__ method."
   ]
  },
  {
   "cell_type": "code",
   "execution_count": 32,
   "id": "c8f24fd6",
   "metadata": {},
   "outputs": [
    {
     "name": "stdout",
     "output_type": "stream",
     "text": [
      "1\n"
     ]
    }
   ],
   "source": [
    "nums = MyRange(1,10)\n",
    "print(next(nums))"
   ]
  },
  {
   "cell_type": "code",
   "execution_count": 33,
   "id": "fb70a364",
   "metadata": {},
   "outputs": [
    {
     "name": "stdout",
     "output_type": "stream",
     "text": [
      "2\n"
     ]
    }
   ],
   "source": [
    "print(next(nums))"
   ]
  },
  {
   "cell_type": "markdown",
   "id": "09e5a1cb",
   "metadata": {},
   "source": [
    "### Generator Functions"
   ]
  },
  {
   "cell_type": "code",
   "execution_count": 40,
   "id": "029fc734",
   "metadata": {},
   "outputs": [],
   "source": [
    "## What does yield keyword do? \n",
    "## When the control reaches yield, the value of the variable after the yield keyword is returned, and the control is returned to main.\n",
    "## When the main invokes the next function, the contro is retuned to the function and execution resumes from the place it stopped at.\n",
    "## The state of the variables is preserved. \n",
    "## The use of yield makes the function a generator.\n",
    "## __iter__ and __next__ magic functions are automatically added.\n",
    "\n",
    "def my_range(start,end):\n",
    "    current = start\n",
    "    while current < 10:\n",
    "        yield current\n",
    "        current += 1"
   ]
  },
  {
   "cell_type": "code",
   "execution_count": 41,
   "id": "ad37d8a1",
   "metadata": {},
   "outputs": [],
   "source": [
    "nums = my_range(1,10)"
   ]
  },
  {
   "cell_type": "code",
   "execution_count": 42,
   "id": "44fd8ba1",
   "metadata": {},
   "outputs": [
    {
     "name": "stdout",
     "output_type": "stream",
     "text": [
      "<generator object my_range at 0x0000024CAF781970>\n"
     ]
    }
   ],
   "source": [
    "print(nums)"
   ]
  },
  {
   "cell_type": "code",
   "execution_count": 43,
   "id": "633aed5b",
   "metadata": {},
   "outputs": [
    {
     "data": {
      "text/plain": [
       "True"
      ]
     },
     "execution_count": 43,
     "metadata": {},
     "output_type": "execute_result"
    }
   ],
   "source": [
    "'__next__' in dir(nums)"
   ]
  },
  {
   "cell_type": "code",
   "execution_count": 45,
   "id": "99b46fce",
   "metadata": {},
   "outputs": [],
   "source": [
    "### Another example of a generator\n",
    "\n",
    "def squared_numbers(nums):\n",
    "    for num in nums:\n",
    "        yield num*num\n",
    "\n",
    "my_squared_nums = squared_numbers([1,2,3,4,5])"
   ]
  },
  {
   "cell_type": "code",
   "execution_count": 46,
   "id": "92fe02cb",
   "metadata": {},
   "outputs": [
    {
     "data": {
      "text/plain": [
       "<generator object squared_numbers at 0x0000024CAF781DD0>"
      ]
     },
     "execution_count": 46,
     "metadata": {},
     "output_type": "execute_result"
    }
   ],
   "source": [
    "my_squared_nums"
   ]
  },
  {
   "cell_type": "code",
   "execution_count": 48,
   "id": "26efa762",
   "metadata": {},
   "outputs": [
    {
     "name": "stdout",
     "output_type": "stream",
     "text": [
      "1\n",
      "4\n",
      "9\n",
      "16\n",
      "25\n"
     ]
    }
   ],
   "source": [
    "for num in my_squared_nums:\n",
    "    print(num)"
   ]
  },
  {
   "cell_type": "code",
   "execution_count": 51,
   "id": "f3f18eb3",
   "metadata": {},
   "outputs": [],
   "source": [
    "##Creating Generators the 'list comprehensin way' functions way\n",
    "## Below is an example of list comprehension.\n",
    "my_nums = [x*x for x in [1,2,3,4,5]]"
   ]
  },
  {
   "cell_type": "code",
   "execution_count": 52,
   "id": "a2150cbb",
   "metadata": {},
   "outputs": [
    {
     "name": "stdout",
     "output_type": "stream",
     "text": [
      "[1, 4, 9, 16, 25]\n"
     ]
    }
   ],
   "source": [
    "print(my_nums)"
   ]
  },
  {
   "cell_type": "code",
   "execution_count": 54,
   "id": "65d20bf4",
   "metadata": {},
   "outputs": [],
   "source": [
    "## Below is an example of a generator\n",
    "my_nums = (x*x for x in [1,2,3,4,5])"
   ]
  },
  {
   "cell_type": "code",
   "execution_count": 55,
   "id": "d4694ff5",
   "metadata": {},
   "outputs": [
    {
     "name": "stdout",
     "output_type": "stream",
     "text": [
      "<generator object <genexpr> at 0x0000024CAF781CF0>\n"
     ]
    }
   ],
   "source": [
    "print(my_nums)"
   ]
  },
  {
   "cell_type": "code",
   "execution_count": 56,
   "id": "5cc3a250",
   "metadata": {},
   "outputs": [
    {
     "name": "stdout",
     "output_type": "stream",
     "text": [
      "1\n",
      "4\n",
      "9\n",
      "16\n",
      "25\n"
     ]
    }
   ],
   "source": [
    "for num in my_nums:\n",
    "    print(num)"
   ]
  }
 ],
 "metadata": {
  "kernelspec": {
   "display_name": "Python 3 (ipykernel)",
   "language": "python",
   "name": "python3"
  },
  "language_info": {
   "codemirror_mode": {
    "name": "ipython",
    "version": 3
   },
   "file_extension": ".py",
   "mimetype": "text/x-python",
   "name": "python",
   "nbconvert_exporter": "python",
   "pygments_lexer": "ipython3",
   "version": "3.9.1"
  }
 },
 "nbformat": 4,
 "nbformat_minor": 5
}
