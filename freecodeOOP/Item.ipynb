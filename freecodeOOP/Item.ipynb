{
 "cells": [
  {
   "cell_type": "code",
   "execution_count": 1,
   "id": "4927c990",
   "metadata": {},
   "outputs": [],
   "source": [
    "class Item:\n",
    "    pass"
   ]
  },
  {
   "cell_type": "code",
   "execution_count": 2,
   "id": "b1cc408f",
   "metadata": {},
   "outputs": [],
   "source": [
    "item1 = Item()\n",
    "item1.name = \"Phone\"\n",
    "item1.price = 100\n",
    "item1.quantity = 5"
   ]
  },
  {
   "cell_type": "code",
   "execution_count": 3,
   "id": "cfdea5fa",
   "metadata": {},
   "outputs": [
    {
     "name": "stdout",
     "output_type": "stream",
     "text": [
      "<class '__main__.Item'>\n",
      "<class 'str'>\n",
      "<class 'int'>\n",
      "<class 'int'>\n"
     ]
    }
   ],
   "source": [
    "print(type(item1))\n",
    "print(type(item1.name))\n",
    "print(type(item1.price))\n",
    "print(type(item1.quantity))"
   ]
  },
  {
   "cell_type": "code",
   "execution_count": 8,
   "id": "f8548476",
   "metadata": {},
   "outputs": [
    {
     "name": "stdout",
     "output_type": "stream",
     "text": [
      "abc\n",
      "<class 'str'>\n"
     ]
    }
   ],
   "source": [
    "# This is similar to writing -> x = str(40)\n",
    "\n",
    "x = str('abc')\n",
    "print(x)\n",
    "print(type(x))"
   ]
  },
  {
   "cell_type": "code",
   "execution_count": 10,
   "id": "46dafc5f",
   "metadata": {},
   "outputs": [
    {
     "name": "stdout",
     "output_type": "stream",
     "text": [
      "ABC\n"
     ]
    }
   ],
   "source": [
    "# We can define some methods inside our class so that they can act on our instances. \n",
    "print(x.upper()); \n",
    "# to_upper is a function that is defined inside the str class and there for can be called with the object x and act on that."
   ]
  },
  {
   "cell_type": "markdown",
   "id": "6b12b954",
   "metadata": {},
   "source": [
    "### Self parameter"
   ]
  },
  {
   "cell_type": "markdown",
   "id": "6ffb7736",
   "metadata": {},
   "source": [
    "Python is designed to pass the data members of the class as one of the inputs to every method defined in the class.\n",
    "To receive this input we must add the self attribute in the method.\n",
    "If we don't, we will get an error.\n",
    "We can rename sel to some other name, but it is much better to follow convention."
   ]
  },
  {
   "cell_type": "code",
   "execution_count": 17,
   "id": "97b891bf",
   "metadata": {},
   "outputs": [
    {
     "name": "stdout",
     "output_type": "stream",
     "text": [
      "500\n",
      "3000\n"
     ]
    }
   ],
   "source": [
    "class Item:\n",
    "    def calculate_total_price(self,x,y):\n",
    "        return(x*y)\n",
    "\n",
    "item1 = Item()\n",
    "item1.name = \"Phone\"\n",
    "item1.price = 100\n",
    "item1.quantity = 5\n",
    "print(item1.calculate_total_price(item1.quantity,item1.price))\n",
    "\n",
    "item2 = Item()\n",
    "item2.name = \"Laptop\"\n",
    "item2.price = 1000\n",
    "item2.quantity = 3\n",
    "print(item2.calculate_total_price(item2.quantity,item2.price))"
   ]
  },
  {
   "cell_type": "markdown",
   "id": "6ee7330f",
   "metadata": {},
   "source": [
    "This is fine, but suppose we want the properties of the item (name,price,quantity) to be created as soon as we instantiate the object. We the special __init__ method for the same. It is also called the constructor. \n",
    "\n",
    "There are many other special methods(called Magic Methods) that are present in Python and used in OOP."
   ]
  },
  {
   "cell_type": "code",
   "execution_count": 18,
   "id": "95ada20a",
   "metadata": {},
   "outputs": [
    {
     "name": "stdout",
     "output_type": "stream",
     "text": [
      "I AM HERE\n",
      "500\n",
      "I AM HERE\n",
      "3000\n"
     ]
    }
   ],
   "source": [
    "class Item:\n",
    "    def __init__(self):\n",
    "        print(\"I AM HERE\")\n",
    "    def calculate_total_price(self,x,y):\n",
    "        return(x*y)\n",
    "\n",
    "item1 = Item()\n",
    "item1.name = \"Phone\"\n",
    "item1.price = 100\n",
    "item1.quantity = 5\n",
    "print(item1.calculate_total_price(item1.quantity,item1.price))\n",
    "\n",
    "item2 = Item()\n",
    "item2.name = \"Laptop\"\n",
    "item2.price = 1000\n",
    "item2.quantity = 3\n",
    "print(item2.calculate_total_price(item2.quantity,item2.price))"
   ]
  },
  {
   "cell_type": "markdown",
   "id": "3faf7d58",
   "metadata": {},
   "source": [
    "Now that we have init in place and we have seen that it is being called, we no longer need to hard code attributes. We can dynamically assign them while instantiating objects of the item class."
   ]
  },
  {
   "cell_type": "code",
   "execution_count": 20,
   "id": "59f0e2a9",
   "metadata": {},
   "outputs": [
    {
     "name": "stdout",
     "output_type": "stream",
     "text": [
      "Phone\n",
      "Laptop\n"
     ]
    }
   ],
   "source": [
    "class Item:\n",
    "    def __init__(self,name):\n",
    "        self.name = name\n",
    "    def calculate_total_price(self,x,y):\n",
    "        return(x*y)\n",
    "\n",
    "item1 = Item(\"Phone\")\n",
    "item1.price = 100\n",
    "item1.quantity = 5\n",
    "print(item1.name)\n",
    "\n",
    "item2 = Item(\"Laptop\")\n",
    "item2.price = 1000\n",
    "item2.quantity = 3\n",
    "print(item2.name)"
   ]
  },
  {
   "cell_type": "code",
   "execution_count": 22,
   "id": "d9abf9d3",
   "metadata": {},
   "outputs": [
    {
     "name": "stdout",
     "output_type": "stream",
     "text": [
      "Phone\n",
      "100\n",
      "5\n",
      "Laptop\n",
      "1000\n",
      "3\n"
     ]
    }
   ],
   "source": [
    "class Item:\n",
    "    def __init__(self,name,price,quantity):\n",
    "        self.name = name\n",
    "        self.price = price\n",
    "        self.quantity = quantity\n",
    "\n",
    "    def calculate_total_price(self,x,y):\n",
    "        return(x*y)\n",
    "\n",
    "item1 = Item(\"Phone\",100,5)\n",
    "print(item1.name)\n",
    "print(item1.price)\n",
    "print(item1.quantity)\n",
    "\n",
    "item2 = Item(\"Laptop\",1000,3)\n",
    "print(item2.name)\n",
    "print(item2.price)\n",
    "print(item2.quantity)"
   ]
  },
  {
   "cell_type": "code",
   "execution_count": 23,
   "id": "3a39d356",
   "metadata": {},
   "outputs": [
    {
     "name": "stdout",
     "output_type": "stream",
     "text": [
      "Phone\n",
      "100\n",
      "0\n",
      "Laptop\n",
      "1000\n",
      "3\n"
     ]
    }
   ],
   "source": [
    "### There could be non-mandatory variable, which if not passed, could be made to default to a given value.\n",
    "### Here the quantity of phones is not known, therefore defaults to 0 \n",
    "\n",
    "class Item:\n",
    "    def __init__(self,name,price,quantity=0):\n",
    "        self.name = name\n",
    "        self.price = price\n",
    "        self.quantity = quantity\n",
    "\n",
    "    def calculate_total_price(self,x,y):\n",
    "        return(x*y)\n",
    "\n",
    "item1 = Item(\"Phone\",100)\n",
    "print(item1.name)\n",
    "print(item1.price)\n",
    "print(item1.quantity)\n",
    "\n",
    "item2 = Item(\"Laptop\",1000,3)\n",
    "print(item2.name)\n",
    "print(item2.price)\n",
    "print(item2.quantity)"
   ]
  },
  {
   "cell_type": "code",
   "execution_count": 24,
   "id": "0368e757",
   "metadata": {},
   "outputs": [
    {
     "name": "stdout",
     "output_type": "stream",
     "text": [
      "0\n",
      "3000\n"
     ]
    }
   ],
   "source": [
    "## The calculate price function can now access the values internally and would not require values to be passed to it.\n",
    "\n",
    "class Item:\n",
    "    def __init__(self,name,price,quantity=0):\n",
    "        self.name = name\n",
    "        self.price = price\n",
    "        self.quantity = quantity\n",
    "\n",
    "    def calculate_total_price(self):\n",
    "        return(self.price*self.quantity)\n",
    "\n",
    "item1 = Item(\"Phone\",100)\n",
    "print(item1.calculate_total_price())\n",
    "item2 = Item(\"Laptop\",1000,3)\n",
    "print(item2.calculate_total_price())\n"
   ]
  },
  {
   "cell_type": "code",
   "execution_count": 25,
   "id": "2c673b30",
   "metadata": {},
   "outputs": [
    {
     "name": "stdout",
     "output_type": "stream",
     "text": [
      "True\n",
      "0\n",
      "3000\n"
     ]
    }
   ],
   "source": [
    "## In addition to the attributes defined inside the class, and object can be modified explicitly to have more properties.\n",
    "## Here the Phone has an additional attribute has_numpad, the laptop doesn't.\n",
    "\n",
    "class Item:\n",
    "    def __init__(self,name,price,quantity=0):\n",
    "        self.name = name\n",
    "        self.price = price\n",
    "        self.quantity = quantity\n",
    "\n",
    "    def calculate_total_price(self):\n",
    "        return(self.price*self.quantity)\n",
    "\n",
    "item1 = Item(\"Phone\",100)\n",
    "item1.has_numpad = True\n",
    "\n",
    "print(item1.has_numpad)\n",
    "print(item1.calculate_total_price())\n",
    "\n",
    "\n",
    "item2 = Item(\"Laptop\",1000,3)\n",
    "print(item2.calculate_total_price())"
   ]
  },
  {
   "cell_type": "code",
   "execution_count": 33,
   "id": "a9cc0d08",
   "metadata": {},
   "outputs": [
    {
     "name": "stdout",
     "output_type": "stream",
     "text": [
      "Phone\n",
      "100\n",
      "0\n",
      "500\n",
      "<class 'int'>\n",
      "1000\n",
      "3\n"
     ]
    }
   ],
   "source": [
    "## We might want to validate the values that are being passed to the constructor while instantiating.\n",
    "## Name will accept only str values, price will accept float or int. quantity = 0 indicates integer or float.\n",
    "## Quantity need not be explicitly qualified, the default value indicates acceptabele data type.\n",
    "## We deliberately pass a string to price in this example so that it fails.\n",
    "## Surprisingly, it still does not fail, the string is translated to float in item 1.\n",
    "## In Item 2 the integer is translated to string. NEED TO CHECK WHY\n",
    "\n",
    "class Item:\n",
    "    def __init__(self,name:str,price:float,quantity=0):\n",
    "        self.name = name\n",
    "        self.price = price\n",
    "        self.quantity = quantity\n",
    "\n",
    "    def calculate_total_price(self):\n",
    "        return(self.price*self.quantity)\n",
    "\n",
    "item1 = Item(\"Phone\",\"100\")\n",
    "print(item1.name)\n",
    "print(item1.price)\n",
    "print(item1.quantity)\n",
    "\n",
    "item2 = Item(500,1000,3) ## Surprising, this neither fails, nor converts 500 to string even though name is defined as str.\n",
    "print(item2.name)\n",
    "print(type(item2.name))## See this.\n",
    "print(item2.price)\n",
    "print(item2.quantity)"
   ]
  },
  {
   "cell_type": "code",
   "execution_count": 36,
   "id": "0e636f35",
   "metadata": {},
   "outputs": [
    {
     "name": "stdout",
     "output_type": "stream",
     "text": [
      "Phone\n",
      "100\n",
      "0\n"
     ]
    },
    {
     "ename": "AssertionError",
     "evalue": "",
     "output_type": "error",
     "traceback": [
      "\u001b[1;31m---------------------------------------------------------------------------\u001b[0m",
      "\u001b[1;31mAssertionError\u001b[0m                            Traceback (most recent call last)",
      "\u001b[1;32m~\\AppData\\Local\\Temp/ipykernel_2524/3750561080.py\u001b[0m in \u001b[0;36m<module>\u001b[1;34m\u001b[0m\n\u001b[0;32m     22\u001b[0m \u001b[0mprint\u001b[0m\u001b[1;33m(\u001b[0m\u001b[0mitem1\u001b[0m\u001b[1;33m.\u001b[0m\u001b[0mquantity\u001b[0m\u001b[1;33m)\u001b[0m\u001b[1;33m\u001b[0m\u001b[1;33m\u001b[0m\u001b[0m\n\u001b[0;32m     23\u001b[0m \u001b[1;33m\u001b[0m\u001b[0m\n\u001b[1;32m---> 24\u001b[1;33m \u001b[0mitem2\u001b[0m \u001b[1;33m=\u001b[0m \u001b[0mItem\u001b[0m\u001b[1;33m(\u001b[0m\u001b[1;34m\"Laptop\"\u001b[0m\u001b[1;33m,\u001b[0m\u001b[1;36m1000\u001b[0m\u001b[1;33m,\u001b[0m\u001b[1;33m-\u001b[0m\u001b[1;36m3\u001b[0m\u001b[1;33m)\u001b[0m\u001b[1;33m\u001b[0m\u001b[1;33m\u001b[0m\u001b[0m\n\u001b[0m\u001b[0;32m     25\u001b[0m \u001b[0mprint\u001b[0m\u001b[1;33m(\u001b[0m\u001b[0mitem2\u001b[0m\u001b[1;33m.\u001b[0m\u001b[0mname\u001b[0m\u001b[1;33m)\u001b[0m\u001b[1;33m\u001b[0m\u001b[1;33m\u001b[0m\u001b[0m\n\u001b[0;32m     26\u001b[0m \u001b[0mprint\u001b[0m\u001b[1;33m(\u001b[0m\u001b[0mitem2\u001b[0m\u001b[1;33m.\u001b[0m\u001b[0mprice\u001b[0m\u001b[1;33m)\u001b[0m\u001b[1;33m\u001b[0m\u001b[1;33m\u001b[0m\u001b[0m\n",
      "\u001b[1;32m~\\AppData\\Local\\Temp/ipykernel_2524/3750561080.py\u001b[0m in \u001b[0;36m__init__\u001b[1;34m(self, name, price, quantity)\u001b[0m\n\u001b[0;32m      7\u001b[0m         \u001b[1;31m##Run validations to received arguments\u001b[0m\u001b[1;33m\u001b[0m\u001b[1;33m\u001b[0m\u001b[1;33m\u001b[0m\u001b[0m\n\u001b[0;32m      8\u001b[0m         \u001b[1;32massert\u001b[0m \u001b[0mprice\u001b[0m \u001b[1;33m>=\u001b[0m\u001b[1;36m0\u001b[0m\u001b[1;33m\u001b[0m\u001b[1;33m\u001b[0m\u001b[0m\n\u001b[1;32m----> 9\u001b[1;33m         \u001b[1;32massert\u001b[0m \u001b[0mquantity\u001b[0m \u001b[1;33m>=\u001b[0m\u001b[1;36m0\u001b[0m\u001b[1;33m\u001b[0m\u001b[1;33m\u001b[0m\u001b[0m\n\u001b[0m\u001b[0;32m     10\u001b[0m \u001b[1;33m\u001b[0m\u001b[0m\n\u001b[0;32m     11\u001b[0m         \u001b[1;31m## Assign to self object\u001b[0m\u001b[1;33m\u001b[0m\u001b[1;33m\u001b[0m\u001b[1;33m\u001b[0m\u001b[0m\n",
      "\u001b[1;31mAssertionError\u001b[0m: "
     ]
    }
   ],
   "source": [
    "# Adding validations to the received values.\n",
    "# Fails because quantity is -3 for item2.\n",
    "\n",
    "class Item:\n",
    "    def __init__(self,name:str,price:float,quantity=0):\n",
    "        \n",
    "        ##Run validations to received arguments\n",
    "        assert price >=0\n",
    "        assert quantity >=0\n",
    "        \n",
    "        ## Assign to self object\n",
    "        self.name = name\n",
    "        self.price = price\n",
    "        self.quantity = quantity\n",
    "\n",
    "    def calculate_total_price(self):\n",
    "        return(self.price*self.quantity)\n",
    "\n",
    "item1 = Item(\"Phone\",100)\n",
    "print(item1.name)\n",
    "print(item1.price)\n",
    "print(item1.quantity)\n",
    "\n",
    "item2 = Item(\"Laptop\",1000,-3)\n",
    "print(item2.name)\n",
    "print(item2.price)\n",
    "print(item2.quantity)"
   ]
  },
  {
   "cell_type": "code",
   "execution_count": 37,
   "id": "f7eb87dc",
   "metadata": {},
   "outputs": [
    {
     "name": "stdout",
     "output_type": "stream",
     "text": [
      "Phone\n",
      "100\n",
      "0\n",
      "Laptop\n",
      "1000\n",
      "3\n"
     ]
    }
   ],
   "source": [
    "class Item:\n",
    "    def __init__(self,name:str,price:float,quantity=0):\n",
    "        \n",
    "        ##Run validations to received arguments\n",
    "        assert price >=0\n",
    "        assert quantity >=0\n",
    "        \n",
    "        ## Assign to self object\n",
    "        self.name = name\n",
    "        self.price = price\n",
    "        self.quantity = quantity\n",
    "\n",
    "    def calculate_total_price(self):\n",
    "        return(self.price*self.quantity)\n",
    "\n",
    "item1 = Item(\"Phone\",100)\n",
    "print(item1.name)\n",
    "print(item1.price)\n",
    "print(item1.quantity)\n",
    "\n",
    "item2 = Item(\"Laptop\",1000,3)\n",
    "print(item2.name)\n",
    "print(item2.price)\n",
    "print(item2.quantity)"
   ]
  },
  {
   "cell_type": "code",
   "execution_count": 40,
   "id": "36818054",
   "metadata": {},
   "outputs": [
    {
     "name": "stdout",
     "output_type": "stream",
     "text": [
      "Phone\n",
      "100\n",
      "0\n"
     ]
    },
    {
     "ename": "AssertionError",
     "evalue": "Quantity -3 is not greater than equal to zero.",
     "output_type": "error",
     "traceback": [
      "\u001b[1;31m---------------------------------------------------------------------------\u001b[0m",
      "\u001b[1;31mAssertionError\u001b[0m                            Traceback (most recent call last)",
      "\u001b[1;32m~\\AppData\\Local\\Temp/ipykernel_2524/987850846.py\u001b[0m in \u001b[0;36m<module>\u001b[1;34m\u001b[0m\n\u001b[0;32m     22\u001b[0m \u001b[0mprint\u001b[0m\u001b[1;33m(\u001b[0m\u001b[0mitem1\u001b[0m\u001b[1;33m.\u001b[0m\u001b[0mquantity\u001b[0m\u001b[1;33m)\u001b[0m\u001b[1;33m\u001b[0m\u001b[1;33m\u001b[0m\u001b[0m\n\u001b[0;32m     23\u001b[0m \u001b[1;33m\u001b[0m\u001b[0m\n\u001b[1;32m---> 24\u001b[1;33m \u001b[0mitem2\u001b[0m \u001b[1;33m=\u001b[0m \u001b[0mItem\u001b[0m\u001b[1;33m(\u001b[0m\u001b[1;34m\"Laptop\"\u001b[0m\u001b[1;33m,\u001b[0m\u001b[1;36m1000\u001b[0m\u001b[1;33m,\u001b[0m\u001b[1;33m-\u001b[0m\u001b[1;36m3\u001b[0m\u001b[1;33m)\u001b[0m\u001b[1;33m\u001b[0m\u001b[1;33m\u001b[0m\u001b[0m\n\u001b[0m\u001b[0;32m     25\u001b[0m \u001b[0mprint\u001b[0m\u001b[1;33m(\u001b[0m\u001b[0mitem2\u001b[0m\u001b[1;33m.\u001b[0m\u001b[0mname\u001b[0m\u001b[1;33m)\u001b[0m\u001b[1;33m\u001b[0m\u001b[1;33m\u001b[0m\u001b[0m\n\u001b[0;32m     26\u001b[0m \u001b[0mprint\u001b[0m\u001b[1;33m(\u001b[0m\u001b[0mitem2\u001b[0m\u001b[1;33m.\u001b[0m\u001b[0mprice\u001b[0m\u001b[1;33m)\u001b[0m\u001b[1;33m\u001b[0m\u001b[1;33m\u001b[0m\u001b[0m\n",
      "\u001b[1;32m~\\AppData\\Local\\Temp/ipykernel_2524/987850846.py\u001b[0m in \u001b[0;36m__init__\u001b[1;34m(self, name, price, quantity)\u001b[0m\n\u001b[0;32m      7\u001b[0m         \u001b[1;31m##Run validations to received arguments\u001b[0m\u001b[1;33m\u001b[0m\u001b[1;33m\u001b[0m\u001b[1;33m\u001b[0m\u001b[0m\n\u001b[0;32m      8\u001b[0m         \u001b[1;32massert\u001b[0m \u001b[0mprice\u001b[0m \u001b[1;33m>=\u001b[0m\u001b[1;36m0\u001b[0m\u001b[1;33m,\u001b[0m \u001b[1;34mf\"Price {price} is not greater than equal to zero.\"\u001b[0m\u001b[1;33m\u001b[0m\u001b[1;33m\u001b[0m\u001b[0m\n\u001b[1;32m----> 9\u001b[1;33m         \u001b[1;32massert\u001b[0m \u001b[0mquantity\u001b[0m \u001b[1;33m>=\u001b[0m\u001b[1;36m0\u001b[0m\u001b[1;33m,\u001b[0m \u001b[1;34mf\"Quantity {quantity} is not greater than equal to zero.\"\u001b[0m\u001b[1;33m\u001b[0m\u001b[1;33m\u001b[0m\u001b[0m\n\u001b[0m\u001b[0;32m     10\u001b[0m \u001b[1;33m\u001b[0m\u001b[0m\n\u001b[0;32m     11\u001b[0m         \u001b[1;31m## Assign to self object\u001b[0m\u001b[1;33m\u001b[0m\u001b[1;33m\u001b[0m\u001b[1;33m\u001b[0m\u001b[0m\n",
      "\u001b[1;31mAssertionError\u001b[0m: Quantity -3 is not greater than equal to zero."
     ]
    }
   ],
   "source": [
    "# Adding statements to assert validations.\n",
    "\n",
    "\n",
    "class Item:\n",
    "    def __init__(self,name:str,price:float,quantity=0):\n",
    "        \n",
    "        ##Run validations to received arguments\n",
    "        assert price >=0, f\"Price {price} is not greater than equal to zero.\"\n",
    "        assert quantity >=0, f\"Quantity {quantity} is not greater than equal to zero.\"\n",
    "        \n",
    "        ## Assign to self object\n",
    "        self.name = name\n",
    "        self.price = price\n",
    "        self.quantity = quantity\n",
    "\n",
    "    def calculate_total_price(self):\n",
    "        return(self.price*self.quantity)\n",
    "\n",
    "item1 = Item(\"Phone\",100)\n",
    "print(item1.name)\n",
    "print(item1.price)\n",
    "print(item1.quantity)\n",
    "\n",
    "item2 = Item(\"Laptop\",1000,-3)\n",
    "print(item2.name)\n",
    "print(item2.price)\n",
    "print(item2.quantity)"
   ]
  },
  {
   "cell_type": "code",
   "execution_count": 42,
   "id": "f7802392",
   "metadata": {},
   "outputs": [
    {
     "name": "stdout",
     "output_type": "stream",
     "text": [
      "Phone\n",
      "100\n",
      "0\n",
      "Laptop\n",
      "1000\n",
      "3\n"
     ]
    }
   ],
   "source": [
    "class Item:\n",
    "    def __init__(self,name:str,price:float,quantity=0):\n",
    "        \n",
    "        ##Run validations to received arguments\n",
    "        assert price >=0, f\"Price {price} is not greater than equal to zero.\"\n",
    "        assert quantity >=0, f\"Quantity {quantity} is not greater than equal to zero.\"\n",
    "        \n",
    "        ## Assign to self object\n",
    "        self.name = name\n",
    "        self.price = price\n",
    "        self.quantity = quantity\n",
    "\n",
    "    def calculate_total_price(self):\n",
    "        return(self.price*self.quantity)\n",
    "\n",
    "item1 = Item(\"Phone\",100)\n",
    "print(item1.name)\n",
    "print(item1.price)\n",
    "print(item1.quantity)\n",
    "\n",
    "item2 = Item(\"Laptop\",1000,3)\n",
    "print(item2.name)\n",
    "print(item2.price)\n",
    "print(item2.quantity)"
   ]
  },
  {
   "cell_type": "markdown",
   "id": "da6674f5",
   "metadata": {},
   "source": [
    "### Class Attributes\n",
    "\n",
    "Thus far, we have used attributes that are instance attributes, which are unique to each instance of the class. The class atrributes are common to all the instances of the class and are defined at the class level."
   ]
  },
  {
   "cell_type": "code",
   "execution_count": 45,
   "id": "1446a39e",
   "metadata": {},
   "outputs": [
    {
     "name": "stdout",
     "output_type": "stream",
     "text": [
      "0.8\n",
      "0.8\n",
      "0.8\n"
     ]
    }
   ],
   "source": [
    "class Item:\n",
    "    \n",
    "    pay_rate = 0.8 # the pay rate after 20% discount\n",
    "    \n",
    "    def __init__(self,name:str,price:float,quantity=0):\n",
    "        \n",
    "        ##Run validations to received arguments\n",
    "        assert price >=0, f\"Price {price} is not greater than equal to zero.\"\n",
    "        assert quantity >=0, f\"Quantity {quantity} is not greater than equal to zero.\"\n",
    "        \n",
    "        ## Assign to self object\n",
    "        self.name = name\n",
    "        self.price = price\n",
    "        self.quantity = quantity\n",
    "\n",
    "    def calculate_total_price(self):\n",
    "        return(self.price*self.quantity)\n",
    "\n",
    "## We can access this value even without creating an object of the Item class.\n",
    "print(Item.pay_rate)\n",
    "\n",
    "item1 = Item(\"Phone\",100)\n",
    "item2 = Item(\"Laptop\",1000,3)\n",
    "\n",
    "## We can access the same at the object level as well.\n",
    "print(item1.pay_rate)\n",
    "print(item2.pay_rate)\n",
    "\n",
    "## Note -Python first tries to search the attribute at the instance level. if it doent find the same, it searches at the class level."
   ]
  },
  {
   "cell_type": "code",
   "execution_count": 50,
   "id": "370c9a30",
   "metadata": {},
   "outputs": [],
   "source": [
    "## Printing the attributes at the class level and the instance level.\n",
    "\n",
    "class Item:\n",
    "    \n",
    "    pay_rate = 0.8 # the pay rate after 20% discount\n",
    "    \n",
    "    def __init__(self,name:str,price:float,quantity=0):\n",
    "        \n",
    "        ##Run validations to received arguments\n",
    "        assert price >=0, f\"Price {price} is not greater than equal to zero.\"\n",
    "        assert quantity >=0, f\"Quantity {quantity} is not greater than equal to zero.\"\n",
    "        \n",
    "        ## Assign to self object\n",
    "        self.name = name\n",
    "        self.price = price\n",
    "        self.quantity = quantity\n",
    "\n",
    "    def calculate_total_price(self):\n",
    "        return(self.price*self.quantity)\n",
    "\n",
    "item1 = Item(\"Phone\",100)"
   ]
  },
  {
   "cell_type": "code",
   "execution_count": 51,
   "id": "2c015f53",
   "metadata": {},
   "outputs": [
    {
     "name": "stdout",
     "output_type": "stream",
     "text": [
      "{'__module__': '__main__', 'pay_rate': 0.8, '__init__': <function Item.__init__ at 0x000002261F12FAF0>, 'calculate_total_price': <function Item.calculate_total_price at 0x000002261F224280>, '__dict__': <attribute '__dict__' of 'Item' objects>, '__weakref__': <attribute '__weakref__' of 'Item' objects>, '__doc__': None}\n"
     ]
    }
   ],
   "source": [
    "print(Item.__dict__) ## all attributes at class level."
   ]
  },
  {
   "cell_type": "code",
   "execution_count": 52,
   "id": "1fc003cd",
   "metadata": {},
   "outputs": [
    {
     "name": "stdout",
     "output_type": "stream",
     "text": [
      "{'name': 'Phone', 'price': 100, 'quantity': 0}\n"
     ]
    }
   ],
   "source": [
    "print(item1.__dict__) ## all attributes at instance level."
   ]
  },
  {
   "cell_type": "code",
   "execution_count": 54,
   "id": "3dc83df8",
   "metadata": {},
   "outputs": [
    {
     "name": "stdout",
     "output_type": "stream",
     "text": [
      "100\n",
      "80.0\n"
     ]
    }
   ],
   "source": [
    "## Using the class attribute inside the class.\n",
    "\n",
    "class Item:\n",
    "    \n",
    "    pay_rate = 0.8 # the pay rate after 20% discount\n",
    "    \n",
    "    def __init__(self,name:str,price:float,quantity=0):\n",
    "        \n",
    "        ##Run validations to received arguments\n",
    "        assert price >=0, f\"Price {price} is not greater than equal to zero.\"\n",
    "        assert quantity >=0, f\"Quantity {quantity} is not greater than equal to zero.\"\n",
    "        \n",
    "        ## Assign to self object\n",
    "        self.name = name\n",
    "        self.price = price\n",
    "        self.quantity = quantity\n",
    "\n",
    "    def calculate_total_price(self):\n",
    "        return(self.price*self.quantity)\n",
    "    \n",
    "    def apply_discount(self):\n",
    "        self.price = self.price * Item.pay_rate ## This is how we access the class level attribute.\n",
    "\n",
    "item1 = Item(\"Phone\",100,1)\n",
    "print(item1.price)\n",
    "item1.apply_discount()\n",
    "print(item1.price)"
   ]
  },
  {
   "cell_type": "code",
   "execution_count": 58,
   "id": "2aa7c3a1",
   "metadata": {},
   "outputs": [
    {
     "name": "stdout",
     "output_type": "stream",
     "text": [
      "80.0\n",
      "700.0\n"
     ]
    }
   ],
   "source": [
    "## We can also re-define the class attribute at the instance level for a particular instance.\n",
    "\n",
    "class Item:\n",
    "    \n",
    "    pay_rate = 0.8 # the pay rate after 20% discount\n",
    "    \n",
    "    def __init__(self,name:str,price:float,quantity=0):\n",
    "        \n",
    "        ##Run validations to received arguments\n",
    "        assert price >=0, f\"Price {price} is not greater than equal to zero.\"\n",
    "        assert quantity >=0, f\"Quantity {quantity} is not greater than equal to zero.\"\n",
    "        \n",
    "        ## Assign to self object\n",
    "        self.name = name\n",
    "        self.price = price\n",
    "        self.quantity = quantity\n",
    "\n",
    "    def calculate_total_price(self):\n",
    "        return(self.price*self.quantity)\n",
    "    \n",
    "    def apply_discount(self):\n",
    "        self.price = self.price * self.pay_rate ## Change Item.pay_rate -> self.pay_rate. This ensures we check for pay_rate at the instance level and use the class level value, if we dont find it. \n",
    "\n",
    "item1 = Item(\"Phone\",100,1)\n",
    "#print(item1.price)\n",
    "item1.apply_discount()\n",
    "print(item1.price) ## Expect class level discount\n",
    "\n",
    "item2 = Item(\"Laptop\",1000,3)\n",
    "item2.pay_rate = 0.7\n",
    "item2.apply_discount()\n",
    "print(item2.price) ## Expect instance level discount\n"
   ]
  },
  {
   "cell_type": "code",
   "execution_count": 59,
   "id": "8ef2a18c",
   "metadata": {},
   "outputs": [
    {
     "name": "stdout",
     "output_type": "stream",
     "text": [
      "[<__main__.Item object at 0x000002261F089AC0>, <__main__.Item object at 0x000002261F089DF0>, <__main__.Item object at 0x000002261F089A00>, <__main__.Item object at 0x000002261F23AA60>, <__main__.Item object at 0x000002261F23AFA0>]\n"
     ]
    }
   ],
   "source": [
    "## We can also re-define the class attribute at the instance level for a particular instance.\n",
    "\n",
    "class Item:\n",
    "    \n",
    "    pay_rate = 0.8 # the pay rate after 20% discount\n",
    "    all = []\n",
    "    \n",
    "    def __init__(self,name:str,price:float,quantity=0):\n",
    "        \n",
    "        ##Run validations to received arguments\n",
    "        assert price >=0, f\"Price {price} is not greater than equal to zero.\"\n",
    "        assert quantity >=0, f\"Quantity {quantity} is not greater than equal to zero.\"\n",
    "        \n",
    "        ## Assign to self object\n",
    "        self.name = name\n",
    "        self.price = price\n",
    "        self.quantity = quantity\n",
    "        \n",
    "        ## Append instance to list\n",
    "        Item.all.append(self)\n",
    "\n",
    "    def calculate_total_price(self):\n",
    "        return(self.price*self.quantity)\n",
    "    \n",
    "    def apply_discount(self):\n",
    "        self.price = self.price * self.pay_rate\n",
    "\n",
    "\n",
    "item1 = Item(\"Phone\", 100, 1)\n",
    "item2 = Item(\"Laptop\", 1000, 3)\n",
    "item3 = Item(\"Cable\", 10, 5)\n",
    "item4 = Item(\"Mouse\", 50, 5)\n",
    "item5 = Item(\"Keyboard\", 75, 5)\n",
    "\n",
    "print(Item.all)"
   ]
  },
  {
   "cell_type": "code",
   "execution_count": 60,
   "id": "b5118489",
   "metadata": {},
   "outputs": [
    {
     "name": "stdout",
     "output_type": "stream",
     "text": [
      "Phone\n",
      "Laptop\n",
      "Cable\n",
      "Mouse\n",
      "Keyboard\n"
     ]
    }
   ],
   "source": [
    "for instance in Item.all:\n",
    "    print(instance.name)"
   ]
  },
  {
   "cell_type": "code",
   "execution_count": 61,
   "id": "e9415bed",
   "metadata": {},
   "outputs": [
    {
     "name": "stdout",
     "output_type": "stream",
     "text": [
      "[Item('Phone',100,1), Item('Laptop',1000,3), Item('Cable',10,5), Item('Mouse',50,5), Item('Keyboard',75,5)]\n"
     ]
    }
   ],
   "source": [
    "## Using __repr__ - This returns the instances in a much better readable format.\n",
    "\n",
    "class Item:\n",
    "    \n",
    "    pay_rate = 0.8 # the pay rate after 20% discount\n",
    "    all = []\n",
    "    \n",
    "    def __init__(self,name:str,price:float,quantity=0):\n",
    "        \n",
    "        ##Run validations to received arguments\n",
    "        assert price >=0, f\"Price {price} is not greater than equal to zero.\"\n",
    "        assert quantity >=0, f\"Quantity {quantity} is not greater than equal to zero.\"\n",
    "        \n",
    "        ## Assign to self object\n",
    "        self.name = name\n",
    "        self.price = price\n",
    "        self.quantity = quantity\n",
    "        \n",
    "        ## Append instance to list\n",
    "        Item.all.append(self)\n",
    "\n",
    "    def calculate_total_price(self):\n",
    "        return(self.price*self.quantity)\n",
    "    \n",
    "    def apply_discount(self):\n",
    "        self.price = self.price * self.pay_rate\n",
    "    \n",
    "    def __repr__(self):\n",
    "        return f\"Item('{self.name}',{self.price},{self.quantity})\"\n",
    "\n",
    "\n",
    "item1 = Item(\"Phone\", 100, 1)\n",
    "item2 = Item(\"Laptop\", 1000, 3)\n",
    "item3 = Item(\"Cable\", 10, 5)\n",
    "item4 = Item(\"Mouse\", 50, 5)\n",
    "item5 = Item(\"Keyboard\", 75, 5)\n",
    "\n",
    "print(Item.all)"
   ]
  },
  {
   "cell_type": "code",
   "execution_count": 73,
   "id": "dce19555",
   "metadata": {},
   "outputs": [
    {
     "name": "stdout",
     "output_type": "stream",
     "text": [
      "[Item('Phone',100.0,1.0), Item('Laptop',1000.0,3.0), Item('Cable',10.0,5.0), Item('Mouse',50.0,5.0), Item('Keyboard',75.0,5.0)]\n"
     ]
    }
   ],
   "source": [
    "# Instantiate the objects from the CSV file.\n",
    "\n",
    "import csv\n",
    "\n",
    "class Item:\n",
    "    \n",
    "    pay_rate = 0.8 # the pay rate after 20% discount\n",
    "    all = []\n",
    "    \n",
    "    def __init__(self,name:str,price:float,quantity=0):\n",
    "        \n",
    "        ##Run validations to received arguments\n",
    "        assert price >=0, f\"Price {price} is not greater than equal to zero.\"\n",
    "        assert quantity >=0, f\"Quantity {quantity} is not greater than equal to zero.\"\n",
    "        \n",
    "        ## Assign to self object\n",
    "        self.name = name\n",
    "        self.price = price\n",
    "        self.quantity = quantity\n",
    "        \n",
    "        ## Append instance to list\n",
    "        Item.all.append(self)\n",
    "\n",
    "    def calculate_total_price(self):\n",
    "        return(self.price*self.quantity)\n",
    "    \n",
    "    def apply_discount(self):\n",
    "        self.price = self.price * self.pay_rate\n",
    "    \n",
    "    @classmethod\n",
    "    def instantiate_from_csv(cls):\n",
    "        \n",
    "        with open('data/items.csv','r') as f:\n",
    "            reader = csv.DictReader(f)\n",
    "            items = list(reader)\n",
    "        \n",
    "        for item in items:\n",
    "            #print(item)\n",
    "            Item(name=item.get('name'),price=float(item.get('price')),quantity=float(item.get('quantity')))\n",
    "    \n",
    "    def __repr__(self):\n",
    "        return f\"Item('{self.name}',{self.price},{self.quantity})\"\n",
    "\n",
    "Item.instantiate_from_csv()\n",
    "print(Item.all)"
   ]
  },
  {
   "cell_type": "markdown",
   "id": "dbb5ae34",
   "metadata": {},
   "source": [
    "### Static Methods"
   ]
  },
  {
   "cell_type": "code",
   "execution_count": 74,
   "id": "0eb52a76",
   "metadata": {},
   "outputs": [
    {
     "name": "stdout",
     "output_type": "stream",
     "text": [
      "[Item('Phone',100.0,1.0), Item('Laptop',1000.0,3.0), Item('Cable',10.0,5.0), Item('Mouse',50.0,5.0), Item('Keyboard',75.0,5.0)]\n",
      "False\n"
     ]
    }
   ],
   "source": [
    "import csv\n",
    "\n",
    "class Item:\n",
    "    \n",
    "    pay_rate = 0.8 # the pay rate after 20% discount\n",
    "    all = []\n",
    "    \n",
    "    def __init__(self,name:str,price:float,quantity=0):\n",
    "        \n",
    "        ##Run validations to received arguments\n",
    "        assert price >=0, f\"Price {price} is not greater than equal to zero.\"\n",
    "        assert quantity >=0, f\"Quantity {quantity} is not greater than equal to zero.\"\n",
    "        \n",
    "        ## Assign to self object\n",
    "        self.name = name\n",
    "        self.price = price\n",
    "        self.quantity = quantity\n",
    "        \n",
    "        ## Append instance to list\n",
    "        Item.all.append(self)\n",
    "\n",
    "    def calculate_total_price(self):\n",
    "        return(self.price*self.quantity)\n",
    "    \n",
    "    def apply_discount(self):\n",
    "        self.price = self.price * self.pay_rate\n",
    "    \n",
    "    @classmethod\n",
    "    def instantiate_from_csv(cls):\n",
    "        \n",
    "        with open('data/items.csv','r') as f:\n",
    "            reader = csv.DictReader(f)\n",
    "            items = list(reader)\n",
    "        \n",
    "        for item in items:\n",
    "            #print(item)\n",
    "            Item(name=item.get('name'),price=float(item.get('price')),quantity=float(item.get('quantity')))\n",
    "    \n",
    "    @staticmethod\n",
    "    def is_integer(num):\n",
    "        # We will count the floats that have .0 as integer.\n",
    "        # eg. 5.0 is integer\n",
    "        if isinstance(num,float):\n",
    "            # COunt out the number of floats that are .0\n",
    "            return num.is_integer()\n",
    "        elif isinstance(num,int):\n",
    "            return True\n",
    "        else:\n",
    "            return False\n",
    "    \n",
    "    def __repr__(self):\n",
    "        return f\"Item('{self.name}',{self.price},{self.quantity})\"\n",
    "\n",
    "Item.instantiate_from_csv()\n",
    "print(Item.all)\n",
    "print(Item.is_integer(7.5))"
   ]
  },
  {
   "cell_type": "markdown",
   "id": "cddd6180",
   "metadata": {},
   "source": [
    "What is the difference between class methods and static methods?\n",
    "\n",
    "Static Methods - This should do something that has a relationship with the class, but not something that must be unique per instance. Static methods do not receive the data members of the instance.\n",
    "\n",
    "Class Methods - This should also do something that has a relationship with the class, but usually those are used to manipulate different structures of data to instantiate objects, like we have done with CSV. Class methods are passed the class data members by default."
   ]
  },
  {
   "cell_type": "markdown",
   "id": "ca0f1b90",
   "metadata": {},
   "source": [
    "### Inheritance\n",
    "\n",
    "The child classses will be derived from the parent class, which means that it will have access to the attributes and functions of the parent class, and it will it's own additional attributes and functions."
   ]
  },
  {
   "cell_type": "code",
   "execution_count": 77,
   "id": "6ec83b53",
   "metadata": {},
   "outputs": [
    {
     "name": "stdout",
     "output_type": "stream",
     "text": [
      "2500\n",
      "[Phone('jscPhonev10',500,5), Phone('jscPhonev20',800,10)]\n"
     ]
    }
   ],
   "source": [
    "import csv\n",
    "\n",
    "class Item:\n",
    "    \n",
    "    pay_rate = 0.8 # the pay rate after 20% discount\n",
    "    all = []\n",
    "    \n",
    "    def __init__(self,name:str,price:float,quantity=0):\n",
    "        \n",
    "        ##Run validations to received arguments\n",
    "        assert price >=0, f\"Price {price} is not greater than equal to zero.\"\n",
    "        assert quantity >=0, f\"Quantity {quantity} is not greater than equal to zero.\"\n",
    "        \n",
    "        ## Assign to self object\n",
    "        self.name = name\n",
    "        self.price = price\n",
    "        self.quantity = quantity\n",
    "        \n",
    "        ## Append instance to list\n",
    "        Item.all.append(self)\n",
    "\n",
    "    def calculate_total_price(self):\n",
    "        return(self.price*self.quantity)\n",
    "    \n",
    "    def apply_discount(self):\n",
    "        self.price = self.price * self.pay_rate\n",
    "    \n",
    "    @classmethod\n",
    "    def instantiate_from_csv(cls):\n",
    "        \n",
    "        with open('data/items.csv','r') as f:\n",
    "            reader = csv.DictReader(f)\n",
    "            items = list(reader)\n",
    "        \n",
    "        for item in items:\n",
    "            #print(item)\n",
    "            Item(name=item.get('name'),price=float(item.get('price')),quantity=float(item.get('quantity')))\n",
    "    \n",
    "    @staticmethod\n",
    "    def is_integer(num):\n",
    "        # We will count the floats that have .0 as integer.\n",
    "        # eg. 5.0 is integer\n",
    "        if isinstance(num,float):\n",
    "            # COunt out the number of floats that are .0\n",
    "            return num.is_integer()\n",
    "        elif isinstance(num,int):\n",
    "            return True\n",
    "        else:\n",
    "            return False\n",
    "    \n",
    "    def __repr__(self):\n",
    "        return f\"{self.__class__.__name__}('{self.name}',{self.price},{self.quantity})\"\n",
    "\n",
    "class Phone(Item):\n",
    "    \n",
    "    def __init__(self,name:str,price:float,quantity=0,broken_phones=0):\n",
    "        \n",
    "        super().__init__(name,price,quantity)\n",
    "        \n",
    "        #Run validations\n",
    "        assert broken_phones >= 0, f\"Broken Phones {broken_phones} is not greater than equal to zero.\"\n",
    "        \n",
    "        #Assign to self\n",
    "        self.broken_phones = broken_phones\n",
    "\n",
    "phone1 = Phone('jscPhonev10',500,5,1)\n",
    "phone2 = Phone('jscPhonev20',800,10,1)\n",
    "print(phone1.calculate_total_price())\n",
    "print(Phone.all)"
   ]
  },
  {
   "cell_type": "markdown",
   "id": "8cd25320",
   "metadata": {},
   "source": [
    "#### Here we are saving the Item Class in Item.py and the Phone class in Phone.py. Then we will import them here and run the code."
   ]
  },
  {
   "cell_type": "code",
   "execution_count": 2,
   "id": "21f63ab3",
   "metadata": {},
   "outputs": [],
   "source": [
    "from item import Item\n",
    "from phone import Phone"
   ]
  },
  {
   "cell_type": "code",
   "execution_count": 3,
   "id": "b5a85ed4",
   "metadata": {},
   "outputs": [
    {
     "name": "stdout",
     "output_type": "stream",
     "text": [
      "[Item('Phone',100.0,1.0), Item('Laptop',1000.0,3.0), Item('Cable',10.0,5.0), Item('Mouse',50.0,5.0), Item('Keyboard',75.0,5.0)]\n"
     ]
    }
   ],
   "source": [
    "Item.instantiate_from_csv()\n",
    "print(Item.all)"
   ]
  },
  {
   "cell_type": "code",
   "execution_count": 4,
   "id": "ef0ae0f7",
   "metadata": {},
   "outputs": [
    {
     "name": "stdout",
     "output_type": "stream",
     "text": [
      "[Item('Phone',100.0,1.0), Item('Laptop',1000.0,3.0), Item('Cable',10.0,5.0), Item('Mouse',50.0,5.0), Item('Keyboard',75.0,5.0), Phone('jscPhonev10',500,5), Phone('jscPhonev20',800,10)]\n"
     ]
    }
   ],
   "source": [
    "phone1 = Phone('jscPhonev10',500,5,1)\n",
    "phone2 = Phone('jscPhonev20',800,10,1)\n",
    "print(Phone.all)"
   ]
  },
  {
   "cell_type": "markdown",
   "id": "583adb2e",
   "metadata": {},
   "source": [
    "### Access specifiers."
   ]
  },
  {
   "cell_type": "code",
   "execution_count": 5,
   "id": "1230f831",
   "metadata": {},
   "outputs": [
    {
     "name": "stdout",
     "output_type": "stream",
     "text": [
      "OtherItem\n"
     ]
    }
   ],
   "source": [
    "from item import Item\n",
    "item1 = Item(\"MyItem750\",100)\n",
    "item1.name = \"OtherItem\"\n",
    "print(item1.name)"
   ]
  },
  {
   "cell_type": "markdown",
   "id": "f77dc6c0",
   "metadata": {},
   "source": [
    "Note - Here we are able to edit the name attribute after instantiation. What if we wanted to have a system where the attribute cannot be aedited after it has been set during the instantiation? It is called encapsulation."
   ]
  },
  {
   "cell_type": "code",
   "execution_count": 7,
   "id": "8946c594",
   "metadata": {},
   "outputs": [],
   "source": [
    "class Item:\n",
    "    \n",
    "    pay_rate = 0.8 # the pay rate after 20% discount\n",
    "    all = []\n",
    "    \n",
    "    def __init__(self,name:str,price:float,quantity=0):\n",
    "        \n",
    "        ##Run validations to received arguments\n",
    "        assert price >=0, f\"Price {price} is not greater than equal to zero.\"\n",
    "        assert quantity >=0, f\"Quantity {quantity} is not greater than equal to zero.\"\n",
    "        \n",
    "        ## Assign to self object\n",
    "        self.name = name\n",
    "        self.price = price\n",
    "        self.quantity = quantity\n",
    "        \n",
    "        ## Append instance to list\n",
    "        Item.all.append(self)\n",
    "\n",
    "    def calculate_total_price(self):\n",
    "        return(self.price*self.quantity)\n",
    "    \n",
    "    def apply_discount(self):\n",
    "        self.price = self.price * self.pay_rate\n",
    "    \n",
    "    @classmethod\n",
    "    def instantiate_from_csv(cls):\n",
    "        \n",
    "        with open('data/items.csv','r') as f:\n",
    "            reader = csv.DictReader(f)\n",
    "            items = list(reader)\n",
    "        \n",
    "        for item in items:\n",
    "            #print(item)\n",
    "            Item(name=item.get('name'),price=float(item.get('price')),quantity=float(item.get('quantity')))\n",
    "    \n",
    "    @staticmethod\n",
    "    def is_integer(num):\n",
    "        if isinstance(num,float):\n",
    "            return num.is_integer()\n",
    "        elif isinstance(num,int):\n",
    "            return True\n",
    "        else:\n",
    "            return False\n",
    "    \n",
    "    def __repr__(self):\n",
    "        return f\"{self.__class__.__name__}('{self.name}',{self.price},{self.quantity})\"\n",
    "    \n",
    "    ## NOTE ----> Here we are creating an attribute - read_only_name. \n",
    "    \n",
    "    @property\n",
    "    def read_only_name(self):\n",
    "        return \"AAA\""
   ]
  },
  {
   "cell_type": "code",
   "execution_count": 8,
   "id": "08e2881e",
   "metadata": {},
   "outputs": [
    {
     "name": "stdout",
     "output_type": "stream",
     "text": [
      "AAA\n"
     ]
    }
   ],
   "source": [
    "item1 = Item(\"MyItem\",750)\n",
    "print(item1.read_only_name)"
   ]
  },
  {
   "cell_type": "code",
   "execution_count": 9,
   "id": "4d428ac5",
   "metadata": {},
   "outputs": [
    {
     "ename": "AttributeError",
     "evalue": "can't set attribute",
     "output_type": "error",
     "traceback": [
      "\u001b[1;31m---------------------------------------------------------------------------\u001b[0m",
      "\u001b[1;31mAttributeError\u001b[0m                            Traceback (most recent call last)",
      "\u001b[1;32m~\\AppData\\Local\\Temp/ipykernel_5076/1240468929.py\u001b[0m in \u001b[0;36m<module>\u001b[1;34m\u001b[0m\n\u001b[1;32m----> 1\u001b[1;33m \u001b[0mitem1\u001b[0m\u001b[1;33m.\u001b[0m\u001b[0mread_only_name\u001b[0m \u001b[1;33m=\u001b[0m \u001b[1;34m\"OtherItem\"\u001b[0m\u001b[1;33m\u001b[0m\u001b[1;33m\u001b[0m\u001b[0m\n\u001b[0m",
      "\u001b[1;31mAttributeError\u001b[0m: can't set attribute"
     ]
    }
   ],
   "source": [
    "item1.read_only_name = \"OtherItem\" "
   ]
  },
  {
   "cell_type": "code",
   "execution_count": 10,
   "id": "b8840312",
   "metadata": {},
   "outputs": [],
   "source": [
    "## Inthis version we create another variable _name, which is set when the object is instantiated.\n",
    "## The other property that is created is named name. \n",
    "## name returns the value of _name when it is called and throws an error when it is assigned a value.\n",
    "\n",
    "class Item:\n",
    "    \n",
    "    pay_rate = 0.8 # the pay rate after 20% discount\n",
    "    all = []\n",
    "    \n",
    "    def __init__(self,name:str,price:float,quantity=0):\n",
    "        \n",
    "        ##Run validations to received arguments\n",
    "        assert price >=0, f\"Price {price} is not greater than equal to zero.\"\n",
    "        assert quantity >=0, f\"Quantity {quantity} is not greater than equal to zero.\"\n",
    "        \n",
    "        ## Assign to self object\n",
    "        self._name = name\n",
    "        self.price = price\n",
    "        self.quantity = quantity\n",
    "        \n",
    "        ## Append instance to list\n",
    "        Item.all.append(self)\n",
    "    \n",
    "    @property\n",
    "    def name(self):\n",
    "        return self._name\n",
    "\n",
    "    def calculate_total_price(self):\n",
    "        return(self.price*self.quantity)\n",
    "    \n",
    "    def apply_discount(self):\n",
    "        self.price = self.price * self.pay_rate\n",
    "    \n",
    "    @classmethod\n",
    "    def instantiate_from_csv(cls):\n",
    "        \n",
    "        with open('data/items.csv','r') as f:\n",
    "            reader = csv.DictReader(f)\n",
    "            items = list(reader)\n",
    "        \n",
    "        for item in items:\n",
    "            #print(item)\n",
    "            Item(name=item.get('name'),price=float(item.get('price')),quantity=float(item.get('quantity')))\n",
    "    \n",
    "    @staticmethod\n",
    "    def is_integer(num):\n",
    "        if isinstance(num,float):\n",
    "            return num.is_integer()\n",
    "        elif isinstance(num,int):\n",
    "            return True\n",
    "        else:\n",
    "            return False\n",
    "    \n",
    "    def __repr__(self):\n",
    "        return f\"{self.__class__.__name__}('{self.name}',{self.price},{self.quantity})\""
   ]
  },
  {
   "cell_type": "code",
   "execution_count": 12,
   "id": "81b4a1fd",
   "metadata": {},
   "outputs": [
    {
     "name": "stdout",
     "output_type": "stream",
     "text": [
      "MyItem\n"
     ]
    },
    {
     "ename": "AttributeError",
     "evalue": "can't set attribute",
     "output_type": "error",
     "traceback": [
      "\u001b[1;31m---------------------------------------------------------------------------\u001b[0m",
      "\u001b[1;31mAttributeError\u001b[0m                            Traceback (most recent call last)",
      "\u001b[1;32m~\\AppData\\Local\\Temp/ipykernel_5076/3823638483.py\u001b[0m in \u001b[0;36m<module>\u001b[1;34m\u001b[0m\n\u001b[0;32m      1\u001b[0m \u001b[0mitem1\u001b[0m \u001b[1;33m=\u001b[0m \u001b[0mItem\u001b[0m\u001b[1;33m(\u001b[0m\u001b[1;34m\"MyItem\"\u001b[0m\u001b[1;33m,\u001b[0m\u001b[1;36m750\u001b[0m\u001b[1;33m)\u001b[0m\u001b[1;33m\u001b[0m\u001b[1;33m\u001b[0m\u001b[0m\n\u001b[0;32m      2\u001b[0m \u001b[0mprint\u001b[0m\u001b[1;33m(\u001b[0m\u001b[0mitem1\u001b[0m\u001b[1;33m.\u001b[0m\u001b[0mname\u001b[0m\u001b[1;33m)\u001b[0m\u001b[1;33m\u001b[0m\u001b[1;33m\u001b[0m\u001b[0m\n\u001b[1;32m----> 3\u001b[1;33m \u001b[0mitem1\u001b[0m\u001b[1;33m.\u001b[0m\u001b[0mname\u001b[0m \u001b[1;33m=\u001b[0m \u001b[1;34m\"OtherItem\"\u001b[0m\u001b[1;33m\u001b[0m\u001b[1;33m\u001b[0m\u001b[0m\n\u001b[0m",
      "\u001b[1;31mAttributeError\u001b[0m: can't set attribute"
     ]
    }
   ],
   "source": [
    "item1 = Item(\"MyItem\",750)\n",
    "print(item1.name)\n",
    "item1.name = \"OtherItem\" "
   ]
  },
  {
   "cell_type": "code",
   "execution_count": 13,
   "id": "36a09dd1",
   "metadata": {},
   "outputs": [
    {
     "name": "stdout",
     "output_type": "stream",
     "text": [
      "MyItem\n"
     ]
    }
   ],
   "source": [
    "print(item1._name)"
   ]
  },
  {
   "cell_type": "code",
   "execution_count": 14,
   "id": "1ea3047e",
   "metadata": {},
   "outputs": [],
   "source": [
    "item1._name = \"OtherItem\""
   ]
  },
  {
   "cell_type": "code",
   "execution_count": 15,
   "id": "4552339b",
   "metadata": {},
   "outputs": [
    {
     "name": "stdout",
     "output_type": "stream",
     "text": [
      "OtherItem\n"
     ]
    }
   ],
   "source": [
    "print(item1.name)"
   ]
  },
  {
   "cell_type": "markdown",
   "id": "a8bab5ce",
   "metadata": {},
   "source": [
    "See the problem here. \n",
    "\n",
    "Although item1.name = \"OtherItem\" fails, a backdoor entry is left as this statement - item1._name = \"OtherItem\" works.\n",
    "\n",
    "The same is fixed by using __name instead of _name."
   ]
  },
  {
   "cell_type": "code",
   "execution_count": 34,
   "id": "9328c6f7",
   "metadata": {},
   "outputs": [],
   "source": [
    "class Item:\n",
    "    \n",
    "    pay_rate = 0.8 # the pay rate after 20% discount\n",
    "    all = []\n",
    "    \n",
    "    def __init__(self,name:str,price:float,quantity=0):\n",
    "        \n",
    "        ##Run validations to received arguments\n",
    "        assert price >=0, f\"Price {price} is not greater than equal to zero.\"\n",
    "        assert quantity >=0, f\"Quantity {quantity} is not greater than equal to zero.\"\n",
    "        \n",
    "        ## Assign to self object\n",
    "        self.__name = name\n",
    "        self.price = price\n",
    "        self.quantity = quantity\n",
    "        \n",
    "        ## Append instance to list\n",
    "        Item.all.append(self)\n",
    "    \n",
    "    @property\n",
    "    def name(self):\n",
    "        return self.__name\n",
    "\n",
    "    def calculate_total_price(self):\n",
    "        return(self.price*self.quantity)\n",
    "    \n",
    "    def apply_discount(self):\n",
    "        self.price = self.price * self.pay_rate\n",
    "    \n",
    "    @classmethod\n",
    "    def instantiate_from_csv(cls):\n",
    "        \n",
    "        with open('data/items.csv','r') as f:\n",
    "            reader = csv.DictReader(f)\n",
    "            items = list(reader)\n",
    "        \n",
    "        for item in items:\n",
    "            #print(item)\n",
    "            Item(name=item.get('name'),price=float(item.get('price')),quantity=float(item.get('quantity')))\n",
    "    \n",
    "    @staticmethod\n",
    "    def is_integer(num):\n",
    "        if isinstance(num,float):\n",
    "            return num.is_integer()\n",
    "        elif isinstance(num,int):\n",
    "            return True\n",
    "        else:\n",
    "            return False\n",
    "    \n",
    "    def __repr__(self):\n",
    "        return f\"{self.__class__.__name__}('{self.name}',{self.price},{self.quantity})\""
   ]
  },
  {
   "cell_type": "code",
   "execution_count": 35,
   "id": "803b43bb",
   "metadata": {},
   "outputs": [
    {
     "name": "stdout",
     "output_type": "stream",
     "text": [
      "MyItem\n"
     ]
    }
   ],
   "source": [
    "item1 = Item(\"MyItem\",750)\n",
    "print(item1.name)"
   ]
  },
  {
   "cell_type": "code",
   "execution_count": 36,
   "id": "5ffdb5b4",
   "metadata": {},
   "outputs": [
    {
     "ename": "AttributeError",
     "evalue": "'Item' object has no attribute '__name'",
     "output_type": "error",
     "traceback": [
      "\u001b[1;31m---------------------------------------------------------------------------\u001b[0m",
      "\u001b[1;31mAttributeError\u001b[0m                            Traceback (most recent call last)",
      "\u001b[1;32m~\\AppData\\Local\\Temp/ipykernel_5076/1495332911.py\u001b[0m in \u001b[0;36m<module>\u001b[1;34m\u001b[0m\n\u001b[1;32m----> 1\u001b[1;33m \u001b[0mprint\u001b[0m\u001b[1;33m(\u001b[0m\u001b[0mitem1\u001b[0m\u001b[1;33m.\u001b[0m\u001b[0m__name\u001b[0m\u001b[1;33m)\u001b[0m\u001b[1;33m\u001b[0m\u001b[1;33m\u001b[0m\u001b[0m\n\u001b[0m",
      "\u001b[1;31mAttributeError\u001b[0m: 'Item' object has no attribute '__name'"
     ]
    }
   ],
   "source": [
    "print(item1.__name)"
   ]
  },
  {
   "cell_type": "code",
   "execution_count": 37,
   "id": "fc752cf9",
   "metadata": {},
   "outputs": [],
   "source": [
    "item1.__name = \"OtherItem\""
   ]
  },
  {
   "cell_type": "code",
   "execution_count": 38,
   "id": "e17a3b1f",
   "metadata": {},
   "outputs": [
    {
     "name": "stdout",
     "output_type": "stream",
     "text": [
      "MyItem\n"
     ]
    }
   ],
   "source": [
    "print(item1.name)"
   ]
  },
  {
   "cell_type": "markdown",
   "id": "f1dd9284",
   "metadata": {},
   "source": [
    "Although this doesnt throw an error, the value of item1.name remains unchanged."
   ]
  },
  {
   "cell_type": "code",
   "execution_count": 39,
   "id": "91e360c4",
   "metadata": {},
   "outputs": [
    {
     "ename": "AttributeError",
     "evalue": "can't set attribute",
     "output_type": "error",
     "traceback": [
      "\u001b[1;31m---------------------------------------------------------------------------\u001b[0m",
      "\u001b[1;31mAttributeError\u001b[0m                            Traceback (most recent call last)",
      "\u001b[1;32m~\\AppData\\Local\\Temp/ipykernel_5076/1124697389.py\u001b[0m in \u001b[0;36m<module>\u001b[1;34m\u001b[0m\n\u001b[1;32m----> 1\u001b[1;33m \u001b[0mitem1\u001b[0m\u001b[1;33m.\u001b[0m\u001b[0mname\u001b[0m \u001b[1;33m=\u001b[0m \u001b[1;34m\"OtherItem\"\u001b[0m\u001b[1;33m\u001b[0m\u001b[1;33m\u001b[0m\u001b[0m\n\u001b[0m",
      "\u001b[1;31mAttributeError\u001b[0m: can't set attribute"
     ]
    }
   ],
   "source": [
    "item1.name = \"OtherItem\""
   ]
  },
  {
   "cell_type": "code",
   "execution_count": 40,
   "id": "736c6ad6",
   "metadata": {},
   "outputs": [],
   "source": [
    "class Item:\n",
    "    \n",
    "    pay_rate = 0.8 # the pay rate after 20% discount\n",
    "    all = []\n",
    "    \n",
    "    def __init__(self,name:str,price:float,quantity=0):\n",
    "        \n",
    "        ##Run validations to received arguments\n",
    "        assert price >=0, f\"Price {price} is not greater than equal to zero.\"\n",
    "        assert quantity >=0, f\"Quantity {quantity} is not greater than equal to zero.\"\n",
    "        \n",
    "        ## Assign to self object\n",
    "        self.__name = name\n",
    "        self.price = price\n",
    "        self.quantity = quantity\n",
    "        \n",
    "        ## Append instance to list\n",
    "        Item.all.append(self)\n",
    "    \n",
    "    @property\n",
    "    def name(self):\n",
    "        return self.__name\n",
    "    @name.setter\n",
    "    def name(self,value):\n",
    "        self.__name = value\n",
    "\n",
    "    def calculate_total_price(self):\n",
    "        return(self.price*self.quantity)\n",
    "    \n",
    "    def apply_discount(self):\n",
    "        self.price = self.price * self.pay_rate\n",
    "    \n",
    "    @classmethod\n",
    "    def instantiate_from_csv(cls):\n",
    "        \n",
    "        with open('data/items.csv','r') as f:\n",
    "            reader = csv.DictReader(f)\n",
    "            items = list(reader)\n",
    "        \n",
    "        for item in items:\n",
    "            #print(item)\n",
    "            Item(name=item.get('name'),price=float(item.get('price')),quantity=float(item.get('quantity')))\n",
    "    \n",
    "    @staticmethod\n",
    "    def is_integer(num):\n",
    "        if isinstance(num,float):\n",
    "            return num.is_integer()\n",
    "        elif isinstance(num,int):\n",
    "            return True\n",
    "        else:\n",
    "            return False\n",
    "    \n",
    "    def __repr__(self):\n",
    "        return f\"{self.__class__.__name__}('{self.name}',{self.price},{self.quantity})\""
   ]
  },
  {
   "cell_type": "code",
   "execution_count": 41,
   "id": "07dbafab",
   "metadata": {},
   "outputs": [
    {
     "name": "stdout",
     "output_type": "stream",
     "text": [
      "MyItem\n",
      "OtherItem\n"
     ]
    }
   ],
   "source": [
    "item1 = Item(\"MyItem\",750)\n",
    "print(item1.name)\n",
    "item1.name = \"OtherItem\" \n",
    "print(item1.name)"
   ]
  },
  {
   "cell_type": "markdown",
   "id": "50507042",
   "metadata": {},
   "source": [
    "Getter and setter concepts are not very clear. Still need to go over a few other tutorials for the same."
   ]
  },
  {
   "cell_type": "code",
   "execution_count": 45,
   "id": "e00c6403",
   "metadata": {},
   "outputs": [],
   "source": [
    "class Item:\n",
    "    \n",
    "    pay_rate = 0.8 # the pay rate after 20% discount\n",
    "    all = []\n",
    "    \n",
    "    def __init__(self,name:str,price:float,quantity=0):\n",
    "        \n",
    "        ##Run validations to received arguments\n",
    "        assert price >=0, f\"Price {price} is not greater than equal to zero.\"\n",
    "        assert quantity >=0, f\"Quantity {quantity} is not greater than equal to zero.\"\n",
    "        \n",
    "        ## Assign to self object\n",
    "        self.__name = name\n",
    "        self.__price = price\n",
    "        self.quantity = quantity\n",
    "        \n",
    "        ## Append instance to list\n",
    "        Item.all.append(self)\n",
    "    \n",
    "    @property\n",
    "    def name(self):\n",
    "        return self.__name\n",
    "\n",
    "    @property\n",
    "    def price(self):\n",
    "        return self.__price\n",
    " \n",
    "    def apply_discount(self):\n",
    "        self.__price = self.__price * self.pay_rate\n",
    "    \n",
    "    def apply_increment(self,increment_value):\n",
    "        self.__price = self.__price  + self.__price * increment_value\n",
    "    \n",
    "    def calculate_total_price(self):\n",
    "        return(self.__price*self.quantity)\n",
    "    \n",
    "    @classmethod\n",
    "    def instantiate_from_csv(cls):\n",
    "        \n",
    "        with open('data/items.csv','r') as f:\n",
    "            reader = csv.DictReader(f)\n",
    "            items = list(reader)\n",
    "        \n",
    "        for item in items:\n",
    "            #print(item)\n",
    "            Item(name=item.get('name'),price=float(item.get('price')),quantity=float(item.get('quantity')))\n",
    "    \n",
    "    @staticmethod\n",
    "    def is_integer(num):\n",
    "        if isinstance(num,float):\n",
    "            return num.is_integer()\n",
    "        elif isinstance(num,int):\n",
    "            return True\n",
    "        else:\n",
    "            return False\n",
    "    \n",
    "    def __repr__(self):\n",
    "        return f\"{self.__class__.__name__}('{self.__name}',{self.__price},{self.quantity})\""
   ]
  },
  {
   "cell_type": "code",
   "execution_count": 46,
   "id": "97ee9aac",
   "metadata": {},
   "outputs": [
    {
     "name": "stdout",
     "output_type": "stream",
     "text": [
      "900.0\n"
     ]
    }
   ],
   "source": [
    "item1 = Item(\"MyItem\",750)\n",
    "item1.apply_increment(0.2)\n",
    "print(item1.price)"
   ]
  }
 ],
 "metadata": {
  "kernelspec": {
   "display_name": "Python 3 (ipykernel)",
   "language": "python",
   "name": "python3"
  },
  "language_info": {
   "codemirror_mode": {
    "name": "ipython",
    "version": 3
   },
   "file_extension": ".py",
   "mimetype": "text/x-python",
   "name": "python",
   "nbconvert_exporter": "python",
   "pygments_lexer": "ipython3",
   "version": "3.9.1"
  }
 },
 "nbformat": 4,
 "nbformat_minor": 5
}
