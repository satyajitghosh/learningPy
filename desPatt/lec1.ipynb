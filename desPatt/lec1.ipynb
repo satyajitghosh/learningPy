{
 "cells": [
  {
   "cell_type": "code",
   "execution_count": null,
   "id": "5cb974b3",
   "metadata": {},
   "outputs": [],
   "source": [
    "## Code learned using lectures of Neuralnine."
   ]
  },
  {
   "cell_type": "markdown",
   "id": "5ae234fc",
   "metadata": {},
   "source": [
    "### Magic functions"
   ]
  },
  {
   "cell_type": "code",
   "execution_count": 4,
   "id": "13bc244d",
   "metadata": {},
   "outputs": [],
   "source": [
    "class Person:\n",
    "    def __init__(self,name,age):\n",
    "        self.name = name\n",
    "        self.age = age\n",
    "    def __del__(self):\n",
    "        print(\"Object is being deconstructed.\")"
   ]
  },
  {
   "cell_type": "code",
   "execution_count": 5,
   "id": "696cefc1",
   "metadata": {},
   "outputs": [],
   "source": [
    "p = Person('Mike',25)"
   ]
  },
  {
   "cell_type": "code",
   "execution_count": 6,
   "id": "1507d192",
   "metadata": {},
   "outputs": [
    {
     "name": "stdout",
     "output_type": "stream",
     "text": [
      "Object is being deconstructed.\n"
     ]
    }
   ],
   "source": [
    "del p"
   ]
  },
  {
   "cell_type": "code",
   "execution_count": 7,
   "id": "b239dd26",
   "metadata": {},
   "outputs": [],
   "source": [
    "## init and del are both magic methods. \n",
    "## init is automatically called when the objedct is created.\n",
    "## del is called whenthe object is being deconstructed.\n",
    "## here we are deleting manually.\n",
    "## but when a python script is run and the execution completes, the object is removed automatically."
   ]
  },
  {
   "cell_type": "code",
   "execution_count": 8,
   "id": "90808851",
   "metadata": {},
   "outputs": [
    {
     "ename": "TypeError",
     "evalue": "unsupported operand type(s) for +: 'Vector' and 'Vector'",
     "output_type": "error",
     "traceback": [
      "\u001b[1;31m---------------------------------------------------------------------------\u001b[0m",
      "\u001b[1;31mTypeError\u001b[0m                                 Traceback (most recent call last)",
      "\u001b[1;32m~\\AppData\\Local\\Temp/ipykernel_12728/2001166740.py\u001b[0m in \u001b[0;36m<module>\u001b[1;34m\u001b[0m\n\u001b[0;32m      6\u001b[0m \u001b[0mv1\u001b[0m \u001b[1;33m=\u001b[0m \u001b[0mVector\u001b[0m\u001b[1;33m(\u001b[0m\u001b[1;36m10\u001b[0m\u001b[1;33m,\u001b[0m\u001b[1;36m20\u001b[0m\u001b[1;33m)\u001b[0m\u001b[1;33m\u001b[0m\u001b[1;33m\u001b[0m\u001b[0m\n\u001b[0;32m      7\u001b[0m \u001b[0mv2\u001b[0m \u001b[1;33m=\u001b[0m \u001b[0mVector\u001b[0m\u001b[1;33m(\u001b[0m\u001b[1;36m50\u001b[0m\u001b[1;33m,\u001b[0m\u001b[1;36m60\u001b[0m\u001b[1;33m)\u001b[0m\u001b[1;33m\u001b[0m\u001b[1;33m\u001b[0m\u001b[0m\n\u001b[1;32m----> 8\u001b[1;33m \u001b[0mv1\u001b[0m \u001b[1;33m+\u001b[0m \u001b[0mv2\u001b[0m\u001b[1;33m\u001b[0m\u001b[1;33m\u001b[0m\u001b[0m\n\u001b[0m",
      "\u001b[1;31mTypeError\u001b[0m: unsupported operand type(s) for +: 'Vector' and 'Vector'"
     ]
    }
   ],
   "source": [
    "class Vector:\n",
    "    def __init__(self,x,y):\n",
    "        self.x = x\n",
    "        self.y = y\n",
    "\n",
    "v1 = Vector(10,20)\n",
    "v2 = Vector(50,60)\n",
    "v1 + v2"
   ]
  },
  {
   "cell_type": "code",
   "execution_count": 9,
   "id": "d5510e2f",
   "metadata": {},
   "outputs": [],
   "source": [
    "## We exepected this error because our code does not know what to do with the + operation."
   ]
  },
  {
   "cell_type": "code",
   "execution_count": 12,
   "id": "d1663917",
   "metadata": {},
   "outputs": [
    {
     "name": "stdout",
     "output_type": "stream",
     "text": [
      "10\n",
      "50\n",
      "60\n",
      "80\n"
     ]
    }
   ],
   "source": [
    "class Vector:\n",
    "    def __init__(self,x,y):\n",
    "        self.x = x\n",
    "        self.y = y\n",
    "    def __add__(self,other):\n",
    "        print(self.x)\n",
    "        print(other.x)\n",
    "        return(Vector(self.x+other.x,self.y+other.y))\n",
    "\n",
    "v1 = Vector(10,20)\n",
    "v2 = Vector(50,60)\n",
    "v3 = v1 + v2\n",
    "print(v3.x)\n",
    "print(v3.y)"
   ]
  },
  {
   "cell_type": "code",
   "execution_count": 13,
   "id": "3b844348",
   "metadata": {},
   "outputs": [],
   "source": [
    "# As expected, add is defined, so this works now. \n",
    "# But, we see that v1 is being considered as self and v2 is being considered other. \n",
    "# May be that is the case because the order is specified in the function definition in that way --> __add__(self,other).\n",
    "# self comes first"
   ]
  },
  {
   "cell_type": "code",
   "execution_count": 14,
   "id": "5afd67a5",
   "metadata": {},
   "outputs": [
    {
     "name": "stdout",
     "output_type": "stream",
     "text": [
      "<__main__.Vector object at 0x00000226A0FF1460>\n"
     ]
    }
   ],
   "source": [
    "print(v3)"
   ]
  },
  {
   "cell_type": "code",
   "execution_count": 15,
   "id": "ed07b49e",
   "metadata": {},
   "outputs": [],
   "source": [
    "## Printcommand just displays the object and the memory location.\n",
    "## We can modify this using __repr__"
   ]
  },
  {
   "cell_type": "code",
   "execution_count": 18,
   "id": "774cfea9",
   "metadata": {},
   "outputs": [
    {
     "name": "stdout",
     "output_type": "stream",
     "text": [
      "x : 60, y : 80\n"
     ]
    }
   ],
   "source": [
    "class Vector:\n",
    "    def __init__(self,x,y):\n",
    "        self.x = x\n",
    "        self.y = y\n",
    "    def __add__(self,other):\n",
    "        return(Vector(self.x+other.x,self.y+other.y))\n",
    "    def __repr__(self):\n",
    "        return f\"x : {self.x}, y : {self.y}\"\n",
    "\n",
    "v1 = Vector(10,20)\n",
    "v2 = Vector(50,60)\n",
    "v3 = v1 + v2\n",
    "print(v3)"
   ]
  },
  {
   "cell_type": "code",
   "execution_count": 19,
   "id": "accb9002",
   "metadata": {},
   "outputs": [
    {
     "name": "stdout",
     "output_type": "stream",
     "text": [
      "I was called.\n"
     ]
    }
   ],
   "source": [
    "### Below we show a magic methoid for just calling the object.\n",
    "\n",
    "class Vector:\n",
    "    def __init__(self,x,y):\n",
    "        self.x = x\n",
    "        self.y = y\n",
    "    def __add__(self,other):\n",
    "        return(Vector(self.x+other.x,self.y+other.y))\n",
    "    def __repr__(self):\n",
    "        return f\"x : {self.x}, y : {self.y}\"\n",
    "    def __call__(self):\n",
    "        print(\"I was called.\")\n",
    "\n",
    "v1 = Vector(10,20)\n",
    "v2 = Vector(50,60)\n",
    "v3 = v1 + v2\n",
    "v3()"
   ]
  },
  {
   "cell_type": "markdown",
   "id": "5a965918",
   "metadata": {},
   "source": [
    "### Decorators"
   ]
  },
  {
   "cell_type": "code",
   "execution_count": 20,
   "id": "a6365cc8",
   "metadata": {},
   "outputs": [],
   "source": [
    "## They add a certain functionality to a function.\n",
    "## They surround or wrap the function with additional functionality."
   ]
  },
  {
   "cell_type": "code",
   "execution_count": 22,
   "id": "d33eacb0",
   "metadata": {},
   "outputs": [
    {
     "name": "stdout",
     "output_type": "stream",
     "text": [
      "Hello World!\n",
      "I am decorating your function\n"
     ]
    }
   ],
   "source": [
    "def mydecorator(function):\n",
    "    \n",
    "    def wrapper():\n",
    "        function()\n",
    "        print(\"I am decorating your function\")\n",
    "    \n",
    "    return(wrapper)\n",
    "\n",
    "def hello_world():\n",
    "    print(\"Hello World!\")\n",
    "\n",
    "mydecorator(hello_world)()"
   ]
  },
  {
   "cell_type": "code",
   "execution_count": 23,
   "id": "548c9048",
   "metadata": {},
   "outputs": [],
   "source": [
    "### This is not how it is done in python.\n",
    "### There is a more elegant way to do this."
   ]
  },
  {
   "cell_type": "code",
   "execution_count": 24,
   "id": "cc103f79",
   "metadata": {},
   "outputs": [],
   "source": [
    "def mydecorator(function):\n",
    "    \n",
    "    def wrapper():\n",
    "        function()\n",
    "        print(\"I am decorating your function\")\n",
    "    \n",
    "    return(wrapper)\n",
    "\n",
    "@mydecorator  \n",
    "def hello_world():\n",
    "    print(\"Hello World!\")"
   ]
  },
  {
   "cell_type": "code",
   "execution_count": 25,
   "id": "78b1d3ae",
   "metadata": {},
   "outputs": [],
   "source": [
    "## the below line indicates that when the function is called it should go through the decorator and not run directly."
   ]
  },
  {
   "cell_type": "code",
   "execution_count": 26,
   "id": "21806520",
   "metadata": {},
   "outputs": [
    {
     "name": "stdout",
     "output_type": "stream",
     "text": [
      "Hello World!\n",
      "I am decorating your function\n"
     ]
    }
   ],
   "source": [
    "hello_world()"
   ]
  },
  {
   "cell_type": "code",
   "execution_count": 28,
   "id": "77599716",
   "metadata": {},
   "outputs": [],
   "source": [
    "## What if we want to pass arguments?\n",
    "\n",
    "def mydecorator(function):\n",
    "    \n",
    "    def wrapper(*args,**kwargs):\n",
    "        function(*args,**kwargs)\n",
    "        print(\"I am decorating your function\")\n",
    "    \n",
    "    return(wrapper)\n",
    "\n",
    "@mydecorator  \n",
    "def hello(person):\n",
    "    print(f\"Hello, {person}!\")"
   ]
  },
  {
   "cell_type": "code",
   "execution_count": 29,
   "id": "9e00e877",
   "metadata": {},
   "outputs": [
    {
     "name": "stdout",
     "output_type": "stream",
     "text": [
      "Hello, Mike!\n",
      "I am decorating your function\n"
     ]
    }
   ],
   "source": [
    "hello(\"Mike\")"
   ]
  },
  {
   "cell_type": "code",
   "execution_count": 30,
   "id": "87a6bc17",
   "metadata": {},
   "outputs": [],
   "source": [
    "## What if we want our function to return values instead of just printing?\n",
    "\n",
    "def mydecorator(function):\n",
    "    \n",
    "    def wrapper(*args,**kwargs):\n",
    "        print(\"I am decorating your function\")\n",
    "        return function(*args,**kwargs)\n",
    "    \n",
    "    return(wrapper)\n",
    "\n",
    "@mydecorator  \n",
    "def hello(person):\n",
    "    return(f\"Hello, {person}!\")"
   ]
  },
  {
   "cell_type": "code",
   "execution_count": 31,
   "id": "82ca2dfa",
   "metadata": {},
   "outputs": [
    {
     "name": "stdout",
     "output_type": "stream",
     "text": [
      "I am decorating your function\n",
      "Hello, Mike!\n"
     ]
    }
   ],
   "source": [
    "print(hello(\"Mike\"))"
   ]
  },
  {
   "cell_type": "code",
   "execution_count": 36,
   "id": "a6f4e318",
   "metadata": {},
   "outputs": [],
   "source": [
    "## What if we want our function to return values instead of just printing?\n",
    "\n",
    "def mydecorator(function):\n",
    "    \n",
    "    def wrapper(*args,**kwargs):\n",
    "        # If we want to call the function first and then print the value.\n",
    "        ret_val = function(*args,**kwargs)\n",
    "        print(\"I am decorating your function\")\n",
    "        return(ret_val)\n",
    "    \n",
    "    return(wrapper)\n",
    "\n",
    "@mydecorator  \n",
    "def hello(person):\n",
    "    print(f\"Hello,{person}\")\n",
    "    return(f\"Hello, {person}!\")"
   ]
  },
  {
   "cell_type": "code",
   "execution_count": 38,
   "id": "36a438f6",
   "metadata": {},
   "outputs": [
    {
     "name": "stdout",
     "output_type": "stream",
     "text": [
      "Hello,Mike\n",
      "I am decorating your function\n"
     ]
    },
    {
     "data": {
      "text/plain": [
       "'Hello, Mike!'"
      ]
     },
     "execution_count": 38,
     "metadata": {},
     "output_type": "execute_result"
    }
   ],
   "source": [
    "hello(\"Mike\")"
   ]
  },
  {
   "cell_type": "markdown",
   "id": "556d45ee",
   "metadata": {},
   "source": [
    "### Decorators - Practical usage"
   ]
  },
  {
   "cell_type": "code",
   "execution_count": 40,
   "id": "f04ce4ee",
   "metadata": {},
   "outputs": [],
   "source": [
    "def logged(function):\n",
    "    def wrapper(*args,**kwargs):\n",
    "        value = function(*args,**kwargs)\n",
    "        print(f\"The function - {function.__name__} has returned this value - {value}\")\n",
    "        return value\n",
    "    return(wrapper)\n",
    "\n",
    "def add(x,y):\n",
    "    return(x+y)"
   ]
  },
  {
   "cell_type": "code",
   "execution_count": 41,
   "id": "18b50a10",
   "metadata": {},
   "outputs": [
    {
     "data": {
      "text/plain": [
       "30"
      ]
     },
     "execution_count": 41,
     "metadata": {},
     "output_type": "execute_result"
    }
   ],
   "source": [
    "add(10,20)"
   ]
  },
  {
   "cell_type": "code",
   "execution_count": 44,
   "id": "db86404a",
   "metadata": {},
   "outputs": [],
   "source": [
    "def logged(function):\n",
    "    def wrapper(*args,**kwargs):\n",
    "        value = function(*args,**kwargs)\n",
    "        print(f\"The function - {function.__name__}  - has returned this value - {value}\")\n",
    "        return value\n",
    "    return(wrapper)\n",
    "\n",
    "@logged\n",
    "def add(x,y):\n",
    "    return(x+y)"
   ]
  },
  {
   "cell_type": "code",
   "execution_count": 45,
   "id": "d38abdd5",
   "metadata": {},
   "outputs": [
    {
     "name": "stdout",
     "output_type": "stream",
     "text": [
      "The function - add  - has returned this value - 30\n"
     ]
    },
    {
     "data": {
      "text/plain": [
       "30"
      ]
     },
     "execution_count": 45,
     "metadata": {},
     "output_type": "execute_result"
    }
   ],
   "source": [
    "add(10,20)"
   ]
  },
  {
   "cell_type": "code",
   "execution_count": 53,
   "id": "08ed88d3",
   "metadata": {},
   "outputs": [],
   "source": [
    "import time\n",
    "\n",
    "def timed(function):\n",
    "    \n",
    "    def wrapper(*args,**kwargs):\n",
    "        before = time.time()\n",
    "        value = function(*args,**kwargs)\n",
    "        after = time.time()\n",
    "        fname = function.__name__\n",
    "        print(f\"The function {fname} took {after-before} seconds to execute.\")\n",
    "        return(value)\n",
    "        \n",
    "    return(wrapper)\n",
    "\n",
    "def myfunction(x):\n",
    "    \n",
    "    result = 1\n",
    "    for i in range(1,x):\n",
    "        result = result * i \n",
    "        \n",
    "    return(result)"
   ]
  },
  {
   "cell_type": "code",
   "execution_count": 56,
   "id": "00ac06ca",
   "metadata": {},
   "outputs": [
    {
     "name": "stdout",
     "output_type": "stream",
     "text": [
      "933262154439441526816992388562667004907159682643816214685929638952175999932299156089414639761565182862536979208272237582511852109168640000000000000000000000\n"
     ]
    }
   ],
   "source": [
    "print(myfunction(100))"
   ]
  },
  {
   "cell_type": "code",
   "execution_count": 57,
   "id": "30108dbc",
   "metadata": {},
   "outputs": [],
   "source": [
    "import time\n",
    "\n",
    "def timed(function):\n",
    "    \n",
    "    def wrapper(*args,**kwargs):\n",
    "        before = time.time()\n",
    "        value = function(*args,**kwargs)\n",
    "        after = time.time()\n",
    "        fname = function.__name__\n",
    "        print(f\"The function {fname} took {after-before} seconds to execute.\")\n",
    "        return(value)\n",
    "        \n",
    "    return(wrapper)\n",
    "\n",
    "@timed\n",
    "def myfunction(x):\n",
    "    \n",
    "    result = 1\n",
    "    for i in range(1,x):\n",
    "        result = result * i \n",
    "        \n",
    "    return(result)"
   ]
  },
  {
   "cell_type": "code",
   "execution_count": 63,
   "id": "b9eb21bd",
   "metadata": {},
   "outputs": [
    {
     "name": "stdout",
     "output_type": "stream",
     "text": [
      "The function myfunction took 0.0 seconds to execute.\n"
     ]
    },
    {
     "data": {
      "text/plain": [
       "933262154439441526816992388562667004907159682643816214685929638952175999932299156089414639761565182862536979208272237582511852109168640000000000000000000000"
      ]
     },
     "execution_count": 63,
     "metadata": {},
     "output_type": "execute_result"
    }
   ],
   "source": [
    "myfunction(100)"
   ]
  },
  {
   "cell_type": "markdown",
   "id": "ae7e8862",
   "metadata": {},
   "source": [
    "### Generators"
   ]
  },
  {
   "cell_type": "code",
   "execution_count": 64,
   "id": "dd40192e",
   "metadata": {},
   "outputs": [],
   "source": [
    "## one use case - \n",
    "## let us say we want to have a sequence of numbers.\n",
    "## The sequence rturns the next value whenever it is asked to.\n",
    "## one primitive way is to calculate the entire list of possible values ,a nd store it in order in a list.\n",
    "## bit that would require all the numbers to be stored in memory before hand.\n",
    "## another way is to use generators - which will return a value only when the next value is asked for.\n",
    "## nothing will be stored in the memory excepth perhaps the current state."
   ]
  },
  {
   "cell_type": "code",
   "execution_count": 65,
   "id": "d3cb04a1",
   "metadata": {},
   "outputs": [
    {
     "name": "stdout",
     "output_type": "stream",
     "text": [
      "1\n",
      "8\n",
      "27\n",
      "64\n",
      "125\n",
      "216\n",
      "343\n",
      "512\n",
      "729\n"
     ]
    }
   ],
   "source": [
    "for x in range(1,10):\n",
    "    print(x**3)"
   ]
  },
  {
   "cell_type": "code",
   "execution_count": 66,
   "id": "08b2c209",
   "metadata": {},
   "outputs": [],
   "source": [
    "def mygenerator(n):\n",
    "    for x in range(n):\n",
    "        yield x**3"
   ]
  },
  {
   "cell_type": "code",
   "execution_count": 67,
   "id": "ef40e045",
   "metadata": {},
   "outputs": [],
   "source": [
    "values = mygenerator(10000)"
   ]
  },
  {
   "cell_type": "code",
   "execution_count": 68,
   "id": "810d751e",
   "metadata": {},
   "outputs": [],
   "source": [
    "## this does not imply that the bvalues will hold, all the 10000 values right now.\n",
    "## bit the next value will be computed dynamically whenever required."
   ]
  },
  {
   "cell_type": "code",
   "execution_count": 69,
   "id": "057d0b9b",
   "metadata": {},
   "outputs": [
    {
     "name": "stdout",
     "output_type": "stream",
     "text": [
      "0\n",
      "1\n",
      "8\n",
      "27\n",
      "64\n",
      "125\n",
      "216\n",
      "343\n"
     ]
    }
   ],
   "source": [
    "print(next(values))\n",
    "print(next(values))\n",
    "print(next(values))\n",
    "print(next(values))\n",
    "print(next(values))\n",
    "print(next(values))\n",
    "print(next(values))\n",
    "print(next(values))"
   ]
  },
  {
   "cell_type": "code",
   "execution_count": 71,
   "id": "87059623",
   "metadata": {},
   "outputs": [
    {
     "data": {
      "text/plain": [
       "112"
      ]
     },
     "execution_count": 71,
     "metadata": {},
     "output_type": "execute_result"
    }
   ],
   "source": [
    "import sys\n",
    "sys.getsizeof(values)\n",
    "## 112 bytes"
   ]
  },
  {
   "cell_type": "code",
   "execution_count": 72,
   "id": "a23131e6",
   "metadata": {},
   "outputs": [
    {
     "name": "stdout",
     "output_type": "stream",
     "text": [
      "512\n",
      "729\n",
      "1000\n",
      "1331\n",
      "1728\n",
      "2197\n",
      "2744\n",
      "3375\n"
     ]
    }
   ],
   "source": [
    "print(next(values))\n",
    "print(next(values))\n",
    "print(next(values))\n",
    "print(next(values))\n",
    "print(next(values))\n",
    "print(next(values))\n",
    "print(next(values))\n",
    "print(next(values))"
   ]
  },
  {
   "cell_type": "code",
   "execution_count": 73,
   "id": "7e86c29f",
   "metadata": {},
   "outputs": [
    {
     "data": {
      "text/plain": [
       "112"
      ]
     },
     "execution_count": 73,
     "metadata": {},
     "output_type": "execute_result"
    }
   ],
   "source": [
    "## Size still stays the same\n",
    "sys.getsizeof(values)"
   ]
  },
  {
   "cell_type": "code",
   "execution_count": 74,
   "id": "ecd34c08",
   "metadata": {},
   "outputs": [],
   "source": [
    "## Creating an infinite sequence\n",
    "\n",
    "def infinite_sequence():\n",
    "    result = 1\n",
    "    while True:\n",
    "        yield result\n",
    "        result *= 5"
   ]
  },
  {
   "cell_type": "code",
   "execution_count": 75,
   "id": "76b6c7b4",
   "metadata": {},
   "outputs": [],
   "source": [
    "values = infinite_sequence()"
   ]
  },
  {
   "cell_type": "code",
   "execution_count": 76,
   "id": "a52404d3",
   "metadata": {},
   "outputs": [
    {
     "name": "stdout",
     "output_type": "stream",
     "text": [
      "1\n",
      "5\n",
      "25\n",
      "125\n",
      "625\n",
      "3125\n",
      "15625\n",
      "78125\n"
     ]
    }
   ],
   "source": [
    "print(next(values))\n",
    "print(next(values))\n",
    "print(next(values))\n",
    "print(next(values))\n",
    "print(next(values))\n",
    "print(next(values))\n",
    "print(next(values))\n",
    "print(next(values))"
   ]
  }
 ],
 "metadata": {
  "kernelspec": {
   "display_name": "Python 3 (ipykernel)",
   "language": "python",
   "name": "python3"
  },
  "language_info": {
   "codemirror_mode": {
    "name": "ipython",
    "version": 3
   },
   "file_extension": ".py",
   "mimetype": "text/x-python",
   "name": "python",
   "nbconvert_exporter": "python",
   "pygments_lexer": "ipython3",
   "version": "3.9.1"
  }
 },
 "nbformat": 4,
 "nbformat_minor": 5
}
