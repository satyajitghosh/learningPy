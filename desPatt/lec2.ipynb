{
 "cells": [
  {
   "cell_type": "markdown",
   "id": "498a9f16",
   "metadata": {},
   "source": [
    "### Argument Parsing"
   ]
  },
  {
   "cell_type": "code",
   "execution_count": 20,
   "id": "c59ab26c",
   "metadata": {},
   "outputs": [],
   "source": [
    "def myfunction(*args,**kwargs):\n",
    "    print(args[0])\n",
    "    print(args[1])\n",
    "    print(args[2])\n",
    "    print(args[3])\n",
    "    \n",
    "    #Cheking if key exists - \n",
    "    #print('KEY1' in kwargs.keys())\n",
    "    \n",
    "    print(kwargs['KEY1'])\n",
    "    print(kwargs['KEY2'])"
   ]
  },
  {
   "cell_type": "code",
   "execution_count": 21,
   "id": "e270ee09",
   "metadata": {},
   "outputs": [
    {
     "name": "stdout",
     "output_type": "stream",
     "text": [
      "hey\n",
      "True\n",
      "19\n",
      "Wow\n",
      "TEST\n",
      "7\n"
     ]
    }
   ],
   "source": [
    "myfunction('hey',True,19,'Wow',KEY1='TEST',KEY2=7)"
   ]
  },
  {
   "cell_type": "code",
   "execution_count": null,
   "id": "a0e30a5c",
   "metadata": {},
   "outputs": [],
   "source": []
  }
 ],
 "metadata": {
  "kernelspec": {
   "display_name": "Python 3 (ipykernel)",
   "language": "python",
   "name": "python3"
  },
  "language_info": {
   "codemirror_mode": {
    "name": "ipython",
    "version": 3
   },
   "file_extension": ".py",
   "mimetype": "text/x-python",
   "name": "python",
   "nbconvert_exporter": "python",
   "pygments_lexer": "ipython3",
   "version": "3.9.1"
  }
 },
 "nbformat": 4,
 "nbformat_minor": 5
}
