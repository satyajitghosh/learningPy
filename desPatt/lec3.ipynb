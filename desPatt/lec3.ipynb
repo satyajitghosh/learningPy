{
 "cells": [
  {
   "cell_type": "markdown",
   "id": "eb699fa3",
   "metadata": {},
   "source": [
    "### Abstract Classes"
   ]
  },
  {
   "cell_type": "code",
   "execution_count": 1,
   "id": "a00dda5a",
   "metadata": {},
   "outputs": [],
   "source": [
    "# What are they?# Why are they used?\n",
    "# Imagine that you want to create classes to represent Teachers and Students in a school.\n",
    "# You want both these classes to have a function display_unique_id, that diplays the unique id - roll number in case of student, employee number in case of teacher.\n",
    "# Also,you want to dynamically decide (during execution) whether you want to create a student class or a teacher class.\n",
    "# how do you enforce this?"
   ]
  },
  {
   "cell_type": "code",
   "execution_count": 2,
   "id": "fe549adf",
   "metadata": {},
   "outputs": [],
   "source": [
    "# You create an abstract class called Person, that has this abstract function display_unique_id.\n",
    "# This will make sure that the clases that inherit the abstract class must have this function.\n",
    "# Else, it will fail during object instantiation."
   ]
  },
  {
   "cell_type": "code",
   "execution_count": 3,
   "id": "659f2048",
   "metadata": {},
   "outputs": [],
   "source": [
    "## Note - you cannot create an object of Abstract class directly.\n",
    "## Seems logical - we want the abstract method to be overwritten by the derived classes.\n",
    "## Why?. Because the implementation of the method will be differentr in different derived classes.\n",
    "## Eg. for students we want the roll number, for teachers  the employee id."
   ]
  },
  {
   "cell_type": "code",
   "execution_count": 22,
   "id": "410456d8",
   "metadata": {},
   "outputs": [],
   "source": [
    "from abc import ABC,abstractmethod\n",
    "\n",
    "class Person(ABC):\n",
    "    \n",
    "    @abstractmethod\n",
    "    def display_unique_id(self):\n",
    "        pass\n",
    "    # normal method - also called concrete method\n",
    "    def display(self):\n",
    "        print(\"I am in abstract class - concrete method\")    "
   ]
  },
  {
   "cell_type": "code",
   "execution_count": 23,
   "id": "1cac38f6",
   "metadata": {},
   "outputs": [
    {
     "ename": "TypeError",
     "evalue": "Can't instantiate abstract class Person with abstract method display_unique_id",
     "output_type": "error",
     "traceback": [
      "\u001b[1;31m---------------------------------------------------------------------------\u001b[0m",
      "\u001b[1;31mTypeError\u001b[0m                                 Traceback (most recent call last)",
      "\u001b[1;32m~\\AppData\\Local\\Temp/ipykernel_11116/600587526.py\u001b[0m in \u001b[0;36m<module>\u001b[1;34m\u001b[0m\n\u001b[0;32m      1\u001b[0m \u001b[1;31m##Expected error\u001b[0m\u001b[1;33m\u001b[0m\u001b[1;33m\u001b[0m\u001b[1;33m\u001b[0m\u001b[0m\n\u001b[1;32m----> 2\u001b[1;33m \u001b[0mi\u001b[0m \u001b[1;33m=\u001b[0m \u001b[0mPerson\u001b[0m\u001b[1;33m(\u001b[0m\u001b[1;33m)\u001b[0m\u001b[1;33m\u001b[0m\u001b[1;33m\u001b[0m\u001b[0m\n\u001b[0m",
      "\u001b[1;31mTypeError\u001b[0m: Can't instantiate abstract class Person with abstract method display_unique_id"
     ]
    }
   ],
   "source": [
    "##Expected error\n",
    "i = Person()"
   ]
  },
  {
   "cell_type": "code",
   "execution_count": 24,
   "id": "deae85f3",
   "metadata": {},
   "outputs": [],
   "source": [
    "class Teacher(Person):\n",
    "    \n",
    "    def __init__(self,name,emp_id):\n",
    "        self.name = name\n",
    "        self.emp_id = emp_id\n",
    "    def display_unique_id(self):\n",
    "        print('Unique ID - {}'.format(self.emp_id))"
   ]
  },
  {
   "cell_type": "code",
   "execution_count": 28,
   "id": "5a163276",
   "metadata": {},
   "outputs": [],
   "source": [
    "class Student(Person):\n",
    "    \n",
    "    def __init__(self,name,rollno):\n",
    "        self.name = name\n",
    "        self.rollno = rollno\n",
    "    def display_unique_id(self):\n",
    "        print('Unique ID - {}'.format(self.rollno))"
   ]
  },
  {
   "cell_type": "code",
   "execution_count": 29,
   "id": "6497e910",
   "metadata": {},
   "outputs": [
    {
     "name": "stdout",
     "output_type": "stream",
     "text": [
      "Unique ID - 1\n",
      "I am in abstract class - concrete method\n"
     ]
    }
   ],
   "source": [
    "t1 = Teacher('Ram',1)\n",
    "t1.display_unique_id()\n",
    "t1.display()"
   ]
  },
  {
   "cell_type": "code",
   "execution_count": 30,
   "id": "5e9c0469",
   "metadata": {},
   "outputs": [
    {
     "name": "stdout",
     "output_type": "stream",
     "text": [
      "Unique ID - 1\n",
      "I am in abstract class - concrete method\n"
     ]
    }
   ],
   "source": [
    "s1 = Student('Ashish',1)\n",
    "s1.display_unique_id()\n",
    "s1.display()"
   ]
  },
  {
   "cell_type": "markdown",
   "id": "81282925",
   "metadata": {},
   "source": [
    "### Interfaces in Python "
   ]
  },
  {
   "cell_type": "code",
   "execution_count": 31,
   "id": "0496839e",
   "metadata": {},
   "outputs": [],
   "source": [
    "## No specific provision for an interface in Python.\n",
    "## Abstract classes which have only abstract methods but no concrete methods act as Interfaces.\n",
    "## All methods have to be abstrace.\n",
    "## Note - you won't get an error if above point is violated,\n",
    "## Just that abstract class with only abstract methods are called interfaces."
   ]
  },
  {
   "cell_type": "code",
   "execution_count": 32,
   "id": "77500dc6",
   "metadata": {},
   "outputs": [],
   "source": [
    "## When to use? When all the features have to be implemented in a different manner."
   ]
  },
  {
   "cell_type": "code",
   "execution_count": 33,
   "id": "4cb2c02f",
   "metadata": {},
   "outputs": [],
   "source": [
    "from abc import ABC, abstractmethod\n",
    "class Father(ABC):\n",
    "    @abstractmethod\n",
    "    def disp1(self):\n",
    "        pass\n",
    "    @abstractmethod\n",
    "    def disp2(self):\n",
    "        pass\n",
    "class Child(Father):\n",
    "    def disp1(self):\n",
    "        print(\"Child class - disp1 method\")"
   ]
  },
  {
   "cell_type": "code",
   "execution_count": 34,
   "id": "d3afe629",
   "metadata": {},
   "outputs": [
    {
     "ename": "TypeError",
     "evalue": "Can't instantiate abstract class Child with abstract method disp2",
     "output_type": "error",
     "traceback": [
      "\u001b[1;31m---------------------------------------------------------------------------\u001b[0m",
      "\u001b[1;31mTypeError\u001b[0m                                 Traceback (most recent call last)",
      "\u001b[1;32m~\\AppData\\Local\\Temp/ipykernel_11116/743912482.py\u001b[0m in \u001b[0;36m<module>\u001b[1;34m\u001b[0m\n\u001b[1;32m----> 1\u001b[1;33m \u001b[0mc1\u001b[0m \u001b[1;33m=\u001b[0m \u001b[0mChild\u001b[0m\u001b[1;33m(\u001b[0m\u001b[1;33m)\u001b[0m\u001b[1;33m\u001b[0m\u001b[1;33m\u001b[0m\u001b[0m\n\u001b[0m",
      "\u001b[1;31mTypeError\u001b[0m: Can't instantiate abstract class Child with abstract method disp2"
     ]
    }
   ],
   "source": [
    "c1 = Child()\n",
    "## Fails because disp2 hasnt been defined yet"
   ]
  },
  {
   "cell_type": "code",
   "execution_count": 35,
   "id": "eb0ae6c3",
   "metadata": {},
   "outputs": [],
   "source": [
    "from abc import ABC, abstractmethod\n",
    "class Father(ABC):\n",
    "    @abstractmethod\n",
    "    def disp1(self):\n",
    "        pass\n",
    "    @abstractmethod\n",
    "    def disp2(self):\n",
    "        pass\n",
    "class Child(Father):\n",
    "    def disp1(self):\n",
    "        print(\"Child class - disp1 method\")\n",
    "class GrandChild(Child):\n",
    "    def disp2(self):\n",
    "        print(\"Grandchild class - disp2 method\")"
   ]
  },
  {
   "cell_type": "code",
   "execution_count": 36,
   "id": "ba3ee8ef",
   "metadata": {},
   "outputs": [
    {
     "name": "stdout",
     "output_type": "stream",
     "text": [
      "Child class - disp1 method\n",
      "Grandchild class - disp2 method\n"
     ]
    }
   ],
   "source": [
    "gc1 = GrandChild()\n",
    "gc1.disp1()\n",
    "gc1.disp2()"
   ]
  },
  {
   "cell_type": "markdown",
   "id": "8f640a1c",
   "metadata": {},
   "source": [
    "### Factory Design pattern"
   ]
  },
  {
   "cell_type": "code",
   "execution_count": 41,
   "id": "2134c311",
   "metadata": {},
   "outputs": [],
   "source": [
    "from abc import ABCMeta,abstractstaticmethod\n",
    "\n",
    "class Iperson(metaclass=ABCMeta):\n",
    "    \n",
    "    @abstractstaticmethod\n",
    "    def person_method(self):\n",
    "        pass\n",
    "\n",
    "class Teacher(Iperson):\n",
    "    \n",
    "    def __init__(self):\n",
    "        self.name = \"Basic Teacher Name\"\n",
    "    \n",
    "    def person_method(self):\n",
    "        print(\"I am a Teacher.\")\n",
    "        \n",
    "class Student(Iperson):\n",
    "    \n",
    "    def __init__(self):\n",
    "        self.name = \"Basic Student Name\"\n",
    "    \n",
    "    def person_method(self):\n",
    "        print(\"I am a Student.\")"
   ]
  },
  {
   "cell_type": "code",
   "execution_count": 42,
   "id": "c1a69aa4",
   "metadata": {},
   "outputs": [
    {
     "name": "stdout",
     "output_type": "stream",
     "text": [
      "I am a Student.\n"
     ]
    }
   ],
   "source": [
    "s1 = Student()\n",
    "s1.person_method()"
   ]
  },
  {
   "cell_type": "code",
   "execution_count": 43,
   "id": "e3f4ebb2",
   "metadata": {},
   "outputs": [
    {
     "name": "stdout",
     "output_type": "stream",
     "text": [
      "I am a Teacher.\n"
     ]
    }
   ],
   "source": [
    "t1 = Teacher()\n",
    "t1.person_method()"
   ]
  },
  {
   "cell_type": "code",
   "execution_count": 46,
   "id": "09da64a5",
   "metadata": {},
   "outputs": [],
   "source": [
    "class PersonFactory:\n",
    "    @staticmethod\n",
    "    def build_person(person_type):\n",
    "        if person_type == \"Student\":\n",
    "            return Student()\n",
    "        if person_type == \"Teacher\":\n",
    "            return Teacher()\n",
    "        print(\"Invalid Type.\")\n",
    "        return -1"
   ]
  },
  {
   "cell_type": "code",
   "execution_count": 48,
   "id": "55964408",
   "metadata": {},
   "outputs": [
    {
     "name": "stdout",
     "output_type": "stream",
     "text": [
      "What typeof person dow you want to create?Student\n",
      "I am a Student.\n"
     ]
    }
   ],
   "source": [
    "choice = input(\"What typeof person dow you want to create?\")\n",
    "person = PersonFactory.build_person(choice)\n",
    "person.person_method()"
   ]
  },
  {
   "cell_type": "markdown",
   "id": "edb5ae4a",
   "metadata": {},
   "source": [
    "### Proxy Design Pattern"
   ]
  },
  {
   "cell_type": "code",
   "execution_count": 50,
   "id": "7b205665",
   "metadata": {},
   "outputs": [],
   "source": [
    "## Similar to the Decorator Design Pattern.\n",
    "## we are wrapping or surrounding functionality around the object creation.\n",
    "## provides additional layer of abstraction or protection."
   ]
  },
  {
   "cell_type": "code",
   "execution_count": 52,
   "id": "ed5ac2f7",
   "metadata": {},
   "outputs": [],
   "source": [
    "from abc import ABCMeta,abstractstaticmethod\n",
    "\n",
    "class IPerson(metaclass=ABCMeta):\n",
    "    \n",
    "    @abstractstaticmethod\n",
    "    def person_method(self):\n",
    "        \"\"\"Interface methid - to be defined later\"\"\"\n",
    "\n",
    "class Person(IPerson):\n",
    "    \n",
    "    def person_method(self):\n",
    "        print(\"I am a person\")\n",
    "\n",
    "class ProxyPerson(IPerson):\n",
    "    \n",
    "    def __init__(self):\n",
    "        self.person = Person()\n",
    "    \n",
    "    def person_method(self):\n",
    "        print(\"I am the proxy functionality.\")\n",
    "        self.person.person_method()"
   ]
  },
  {
   "cell_type": "code",
   "execution_count": 53,
   "id": "b24c4323",
   "metadata": {},
   "outputs": [
    {
     "name": "stdout",
     "output_type": "stream",
     "text": [
      "I am a person\n"
     ]
    }
   ],
   "source": [
    "p1 = Person()\n",
    "p1.person_method()"
   ]
  },
  {
   "cell_type": "code",
   "execution_count": 54,
   "id": "e4fdee4d",
   "metadata": {},
   "outputs": [
    {
     "name": "stdout",
     "output_type": "stream",
     "text": [
      "I am the proxy functionality.\n",
      "I am a person\n"
     ]
    }
   ],
   "source": [
    "p2 = ProxyPerson()\n",
    "p2.person_method()"
   ]
  },
  {
   "cell_type": "code",
   "execution_count": 56,
   "id": "f0e677c3",
   "metadata": {},
   "outputs": [],
   "source": [
    "## Adding Proxies can help us have additional functionality, logging etc."
   ]
  },
  {
   "cell_type": "markdown",
   "id": "d52d2488",
   "metadata": {},
   "source": [
    "### Singleton Pattern"
   ]
  },
  {
   "cell_type": "code",
   "execution_count": 57,
   "id": "e8f41ed2",
   "metadata": {},
   "outputs": [],
   "source": [
    "## The class can have only one instance.\n",
    "## Example - here we can have only one person."
   ]
  },
  {
   "cell_type": "code",
   "execution_count": 66,
   "id": "00f20396",
   "metadata": {},
   "outputs": [],
   "source": [
    "from abc import ABCMeta,abstractstaticmethod\n",
    "\n",
    "class IPerson(metaclass=ABCMeta):\n",
    "    \n",
    "    @abstractstaticmethod\n",
    "    def print_data():\n",
    "        \"\"\"Implement in Child Class\"\"\"\n",
    "\n",
    "class PersonSingleton(IPerson):\n",
    "    \n",
    "    __instance = None\n",
    "    \n",
    "    @staticmethod\n",
    "    def get_instance():\n",
    "        if PersonSingleton.__instance == None:\n",
    "            PersonSingleton(\"Deafult Name\",0)\n",
    "        return PersonSingleton.__instance\n",
    "    \n",
    "    def __init__(self,name,age):\n",
    "        if PersonSingleton.__instance != None:\n",
    "            raise Exception(\"Singleton cannot be instantiated more than once.\")\n",
    "        else:\n",
    "            self.name = name\n",
    "            self.age = age\n",
    "            PersonSingleton.__instance = self\n",
    "    \n",
    "    @staticmethod\n",
    "    def print_data():\n",
    "        print(f\"Name : {PersonSingleton.__instance.name}, Age : {PersonSingleton.__instance.age}\")"
   ]
  },
  {
   "cell_type": "code",
   "execution_count": 67,
   "id": "4a9ca513",
   "metadata": {},
   "outputs": [
    {
     "name": "stdout",
     "output_type": "stream",
     "text": [
      "<__main__.PersonSingleton object at 0x000001EA384A9820>\n",
      "Name : Mike, Age : 30\n"
     ]
    }
   ],
   "source": [
    "p = PersonSingleton(\"Mike\",30)\n",
    "print(p)\n",
    "p.print_data()"
   ]
  },
  {
   "cell_type": "code",
   "execution_count": 68,
   "id": "e5b55d11",
   "metadata": {},
   "outputs": [
    {
     "ename": "Exception",
     "evalue": "Singleton cannot be instantiated more than once.",
     "output_type": "error",
     "traceback": [
      "\u001b[1;31m---------------------------------------------------------------------------\u001b[0m",
      "\u001b[1;31mException\u001b[0m                                 Traceback (most recent call last)",
      "\u001b[1;32m~\\AppData\\Local\\Temp/ipykernel_11116/2722295453.py\u001b[0m in \u001b[0;36m<module>\u001b[1;34m\u001b[0m\n\u001b[1;32m----> 1\u001b[1;33m \u001b[0mp2\u001b[0m \u001b[1;33m=\u001b[0m \u001b[0mPersonSingleton\u001b[0m\u001b[1;33m(\u001b[0m\u001b[1;34m\"Bob\"\u001b[0m\u001b[1;33m,\u001b[0m\u001b[1;36m25\u001b[0m\u001b[1;33m)\u001b[0m\u001b[1;33m\u001b[0m\u001b[1;33m\u001b[0m\u001b[0m\n\u001b[0m",
      "\u001b[1;32m~\\AppData\\Local\\Temp/ipykernel_11116/2401655125.py\u001b[0m in \u001b[0;36m__init__\u001b[1;34m(self, name, age)\u001b[0m\n\u001b[0;32m     19\u001b[0m     \u001b[1;32mdef\u001b[0m \u001b[0m__init__\u001b[0m\u001b[1;33m(\u001b[0m\u001b[0mself\u001b[0m\u001b[1;33m,\u001b[0m\u001b[0mname\u001b[0m\u001b[1;33m,\u001b[0m\u001b[0mage\u001b[0m\u001b[1;33m)\u001b[0m\u001b[1;33m:\u001b[0m\u001b[1;33m\u001b[0m\u001b[1;33m\u001b[0m\u001b[0m\n\u001b[0;32m     20\u001b[0m         \u001b[1;32mif\u001b[0m \u001b[0mPersonSingleton\u001b[0m\u001b[1;33m.\u001b[0m\u001b[0m__instance\u001b[0m \u001b[1;33m!=\u001b[0m \u001b[1;32mNone\u001b[0m\u001b[1;33m:\u001b[0m\u001b[1;33m\u001b[0m\u001b[1;33m\u001b[0m\u001b[0m\n\u001b[1;32m---> 21\u001b[1;33m             \u001b[1;32mraise\u001b[0m \u001b[0mException\u001b[0m\u001b[1;33m(\u001b[0m\u001b[1;34m\"Singleton cannot be instantiated more than once.\"\u001b[0m\u001b[1;33m)\u001b[0m\u001b[1;33m\u001b[0m\u001b[1;33m\u001b[0m\u001b[0m\n\u001b[0m\u001b[0;32m     22\u001b[0m         \u001b[1;32melse\u001b[0m\u001b[1;33m:\u001b[0m\u001b[1;33m\u001b[0m\u001b[1;33m\u001b[0m\u001b[0m\n\u001b[0;32m     23\u001b[0m             \u001b[0mself\u001b[0m\u001b[1;33m.\u001b[0m\u001b[0mname\u001b[0m \u001b[1;33m=\u001b[0m \u001b[0mname\u001b[0m\u001b[1;33m\u001b[0m\u001b[1;33m\u001b[0m\u001b[0m\n",
      "\u001b[1;31mException\u001b[0m: Singleton cannot be instantiated more than once."
     ]
    }
   ],
   "source": [
    "## Expected to fail.\n",
    "p2 = PersonSingleton(\"Bob\",25)"
   ]
  },
  {
   "cell_type": "code",
   "execution_count": 69,
   "id": "02f9a51c",
   "metadata": {},
   "outputs": [
    {
     "name": "stdout",
     "output_type": "stream",
     "text": [
      "<__main__.PersonSingleton object at 0x000001EA384A9820>\n",
      "Name : Mike, Age : 30\n"
     ]
    }
   ],
   "source": [
    "p2 = PersonSingleton.get_instance()\n",
    "print(p2)\n",
    "p2.print_data()"
   ]
  },
  {
   "cell_type": "code",
   "execution_count": 70,
   "id": "02a80331",
   "metadata": {},
   "outputs": [],
   "source": [
    "## p2 is same as p"
   ]
  },
  {
   "cell_type": "markdown",
   "id": "d18d57f7",
   "metadata": {},
   "source": [
    "### Composite Pattern"
   ]
  },
  {
   "cell_type": "code",
   "execution_count": 71,
   "id": "00621a00",
   "metadata": {},
   "outputs": [],
   "source": [
    "# Multiple classes that inherit from same parent class.\n",
    "# Creates a hierarchy - tree like structure"
   ]
  },
  {
   "cell_type": "code",
   "execution_count": 74,
   "id": "53ebd73f",
   "metadata": {},
   "outputs": [],
   "source": [
    "from abc import ABCMeta,abstractmethod,abstractstaticmethod\n",
    "class IDepartment(metaclass=ABCMeta):\n",
    "    \n",
    "    @abstractmethod\n",
    "    def __init__(self,employees):\n",
    "        \"\"\"Implement in Child Class\"\"\"\n",
    "    \n",
    "    @abstractstaticmethod\n",
    "    def print_department():\n",
    "        \"\"\"Implement in Child Class\"\"\"\n",
    "\n",
    "class Accounting(IDepartment):\n",
    "    \n",
    "    def __init__(self,employees):\n",
    "        self.employees = employees\n",
    "    \n",
    "    def print_department(self):\n",
    "        print(f\"Accounting Department : {self.employees}\")\n",
    "\n",
    "class Development(IDepartment):\n",
    "    \n",
    "    def __init__(self,employees):\n",
    "        self.employees = employees\n",
    "    \n",
    "    def print_department(self):\n",
    "        print(f\"Development Department : {self.employees}\")\n",
    "        \n",
    "class ParentDepartment(IDepartment):\n",
    "    \n",
    "    def __init__(self,employees):\n",
    "        self.employees = employees\n",
    "        self.base_employees = employees\n",
    "        self.sub_depts = []\n",
    "    \n",
    "    def add(self,dept):\n",
    "        self.sub_depts.append(dept)\n",
    "        self.employees += dept.employees\n",
    "        \n",
    "    def print_department(self):\n",
    "        print(\"Parent Department\")\n",
    "        print(\"Parent Department Base Employees : {self.base_employees} \")\n",
    "        for dept in self.sub_depts:\n",
    "            dept.print_department()\n",
    "        print(f\"Total Numner of Employees : {self.employees}\")\n"
   ]
  },
  {
   "cell_type": "code",
   "execution_count": 75,
   "id": "7d5c3d04",
   "metadata": {},
   "outputs": [
    {
     "name": "stdout",
     "output_type": "stream",
     "text": [
      "Parent Department\n",
      "Parent Department Base Employees : {self.base_employees} \n",
      "Accounting Department : 200\n",
      "Development Department : 170\n",
      "Total Numner of Employees : 400\n"
     ]
    }
   ],
   "source": [
    "dept1 = Accounting(200)\n",
    "dept2 = Development(170)\n",
    "\n",
    "parent_dept = ParentDepartment(30)\n",
    "parent_dept.add(dept1)\n",
    "parent_dept.add(dept2)\n",
    "parent_dept.print_department()"
   ]
  }
 ],
 "metadata": {
  "kernelspec": {
   "display_name": "Python 3 (ipykernel)",
   "language": "python",
   "name": "python3"
  },
  "language_info": {
   "codemirror_mode": {
    "name": "ipython",
    "version": 3
   },
   "file_extension": ".py",
   "mimetype": "text/x-python",
   "name": "python",
   "nbconvert_exporter": "python",
   "pygments_lexer": "ipython3",
   "version": "3.9.1"
  }
 },
 "nbformat": 4,
 "nbformat_minor": 5
}
