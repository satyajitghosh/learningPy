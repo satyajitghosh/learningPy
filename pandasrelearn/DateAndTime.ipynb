{
 "cells": [
  {
   "cell_type": "code",
   "execution_count": 79,
   "id": "44384572",
   "metadata": {},
   "outputs": [],
   "source": [
    "# Main modules\n",
    "# datetime,time,calendar"
   ]
  },
  {
   "cell_type": "code",
   "execution_count": 80,
   "id": "ba35c9d4",
   "metadata": {},
   "outputs": [
    {
     "data": {
      "text/plain": [
       "datetime.datetime(2023, 8, 1, 0, 27, 4, 574672)"
      ]
     },
     "execution_count": 80,
     "metadata": {},
     "output_type": "execute_result"
    }
   ],
   "source": [
    "import pandas as pd\n",
    "import numpy as np\n",
    "from datetime import datetime,timedelta\n",
    "datetime.now()\n",
    "# this yields an object of type datetime.date that stores the time upto microsecond."
   ]
  },
  {
   "cell_type": "code",
   "execution_count": 81,
   "id": "a503e841",
   "metadata": {},
   "outputs": [
    {
     "name": "stdout",
     "output_type": "stream",
     "text": [
      "2023-08-01\n",
      "2023\n",
      "8\n",
      "1\n"
     ]
    }
   ],
   "source": [
    "# note that for date we have to call a function date(), but the day , month and year are attributes of the object.\n",
    "print(datetime.now().date())\n",
    "print(datetime.now().year)\n",
    "print(datetime.now().month)\n",
    "print(datetime.now().day)"
   ]
  },
  {
   "cell_type": "code",
   "execution_count": 82,
   "id": "d9a4f4c3",
   "metadata": {},
   "outputs": [
    {
     "name": "stdout",
     "output_type": "stream",
     "text": [
      "<class 'datetime.datetime'>\n"
     ]
    }
   ],
   "source": [
    "print(type(datetime.now()))"
   ]
  },
  {
   "cell_type": "code",
   "execution_count": 83,
   "id": "13ef17dc",
   "metadata": {},
   "outputs": [
    {
     "name": "stdout",
     "output_type": "stream",
     "text": [
      "<class 'datetime.timedelta'>\n",
      "926 days, 15:45:00\n",
      "926\n",
      "56700\n",
      "<built-in method total_seconds of datetime.timedelta object at 0x000001E1FC208690>\n",
      "['__abs__', '__add__', '__bool__', '__class__', '__delattr__', '__dir__', '__divmod__', '__doc__', '__eq__', '__floordiv__', '__format__', '__ge__', '__getattribute__', '__gt__', '__hash__', '__init__', '__init_subclass__', '__le__', '__lt__', '__mod__', '__mul__', '__ne__', '__neg__', '__new__', '__pos__', '__radd__', '__rdivmod__', '__reduce__', '__reduce_ex__', '__repr__', '__rfloordiv__', '__rmod__', '__rmul__', '__rsub__', '__rtruediv__', '__setattr__', '__sizeof__', '__str__', '__sub__', '__subclasshook__', '__truediv__', 'days', 'max', 'microseconds', 'min', 'resolution', 'seconds', 'total_seconds']\n"
     ]
    }
   ],
   "source": [
    "delta = datetime(2011, 1, 7) - datetime(2008, 6, 24, 8, 15)\n",
    "print(type(delta))\n",
    "print(delta)\n",
    "print(delta.days)\n",
    "print(delta.seconds)\n",
    "print(delta.total_seconds)\n",
    "print(dir(delta))"
   ]
  },
  {
   "cell_type": "code",
   "execution_count": 84,
   "id": "17b9e143",
   "metadata": {},
   "outputs": [
    {
     "name": "stdout",
     "output_type": "stream",
     "text": [
      "2008-06-05 08:15:00\n",
      "2008-06-15 08:15:00\n"
     ]
    }
   ],
   "source": [
    "## adding 10 days\n",
    "print(datetime(2008, 6, 5, 8, 15))\n",
    "print(datetime(2008, 6, 5, 8, 15) + timedelta(days=10))"
   ]
  },
  {
   "cell_type": "code",
   "execution_count": 85,
   "id": "b0732d32",
   "metadata": {},
   "outputs": [
    {
     "name": "stdout",
     "output_type": "stream",
     "text": [
      "2008-06-05 08:15:00\n",
      "2008-06-05 18:15:00\n",
      "2008-06-05 08:25:00\n"
     ]
    }
   ],
   "source": [
    "## timedelta takes the following arguments\n",
    "## days, seconds, minutes, hours, weeks, milliseconds, and microseconds\n",
    "print(datetime(2008, 6, 5, 8, 15))\n",
    "print(datetime(2008, 6, 5, 8, 15) + timedelta(hours=10))\n",
    "print(datetime(2008, 6, 5, 8, 15) + timedelta(minutes=10))"
   ]
  },
  {
   "cell_type": "code",
   "execution_count": 86,
   "id": "09b77965",
   "metadata": {},
   "outputs": [
    {
     "name": "stdout",
     "output_type": "stream",
     "text": [
      "<class 'datetime.datetime'>\n",
      "2011-01-03 00:00:00\n",
      "2011-01-03\n",
      "<class 'str'>\n"
     ]
    }
   ],
   "source": [
    "# Conversion between string and time\n",
    "stamp = datetime(2011, 1, 3)\n",
    "print(type(stamp))\n",
    "print(stamp)\n",
    "print(stamp.strftime('%Y-%m-%d')) # converts from datetime to string in the given format\n",
    "print(type(stamp.strftime('%Y-%m-%d')))"
   ]
  },
  {
   "cell_type": "code",
   "execution_count": 87,
   "id": "9164c1d7",
   "metadata": {},
   "outputs": [
    {
     "name": "stdout",
     "output_type": "stream",
     "text": [
      "2011-01-03 00:00:00\n"
     ]
    }
   ],
   "source": [
    "stamp = datetime(2011, 1, 3)\n",
    "print(str(stamp))"
   ]
  },
  {
   "cell_type": "code",
   "execution_count": 88,
   "id": "607fad85",
   "metadata": {},
   "outputs": [
    {
     "name": "stdout",
     "output_type": "stream",
     "text": [
      "2011-01-03 00:00:00\n",
      "<class 'datetime.datetime'>\n",
      "2011-01-03\n",
      "<class 'datetime.date'>\n"
     ]
    }
   ],
   "source": [
    "# To convert strings to dates, we use the strptime() functions.\n",
    "value = '2011-01-03'\n",
    "print(datetime.strptime(value, '%Y-%m-%d'))\n",
    "print(type(datetime.strptime(value, '%Y-%m-%d')))\n",
    "print(datetime.strptime(value, '%Y-%m-%d').date())\n",
    "print(type(datetime.strptime(value, '%Y-%m-%d').date()))"
   ]
  },
  {
   "cell_type": "code",
   "execution_count": 89,
   "id": "b2e0d02c",
   "metadata": {},
   "outputs": [
    {
     "name": "stdout",
     "output_type": "stream",
     "text": [
      "2011-01-03 00:00:00\n",
      "1997-01-31 22:45:00\n",
      "2011-12-06 00:00:00\n"
     ]
    }
   ],
   "source": [
    "# strptime is useful, but it will be undeniably annoying to write the exact format string every time.\n",
    "# therefore we have dateutils.parser\n",
    "from dateutil.parser import parse\n",
    "print(parse('2011-01-03'))\n",
    "print(parse('Jan 31, 1997 10:45 PM'))\n",
    "print(parse('6/12/2011', dayfirst=True))"
   ]
  },
  {
   "cell_type": "code",
   "execution_count": 90,
   "id": "a35aac57",
   "metadata": {},
   "outputs": [],
   "source": [
    "# pandas is generally oriented toward working with arrays of dates, whether used as an\n",
    "# axis index or a column in a DataFrame. The to_datetime method parses many different\n",
    "# kinds of date representations."
   ]
  },
  {
   "cell_type": "code",
   "execution_count": 91,
   "id": "3389ecb5",
   "metadata": {},
   "outputs": [
    {
     "data": {
      "text/plain": [
       "DatetimeIndex(['2011-07-06', '2011-08-06'], dtype='datetime64[ns]', freq=None)"
      ]
     },
     "execution_count": 91,
     "metadata": {},
     "output_type": "execute_result"
    }
   ],
   "source": [
    "datestrs = ['7/6/2011', '8/6/2011']\n",
    "pd.to_datetime(datestrs)"
   ]
  },
  {
   "cell_type": "code",
   "execution_count": 92,
   "id": "4c400d20",
   "metadata": {},
   "outputs": [
    {
     "data": {
      "text/plain": [
       "DatetimeIndex(['2011-07-06', '2011-08-06', 'NaT'], dtype='datetime64[ns]', freq=None)"
      ]
     },
     "execution_count": 92,
     "metadata": {},
     "output_type": "execute_result"
    }
   ],
   "source": [
    "#None is conerted to NaT - Not a time\n",
    "datestrs = ['7/6/2011', '8/6/2011', None]\n",
    "xx = pd.to_datetime(datestrs)\n",
    "xx"
   ]
  },
  {
   "cell_type": "code",
   "execution_count": 93,
   "id": "238a00be",
   "metadata": {},
   "outputs": [
    {
     "data": {
      "text/plain": [
       "array([False, False,  True], dtype=bool)"
      ]
     },
     "execution_count": 93,
     "metadata": {},
     "output_type": "execute_result"
    }
   ],
   "source": [
    "xx.isnull()"
   ]
  },
  {
   "cell_type": "code",
   "execution_count": 94,
   "id": "776088c1",
   "metadata": {},
   "outputs": [],
   "source": [
    "#The most basic kind of time series object in pandas is a Series indexed by timestamps,\n",
    "#which is often represented external to pandas as Python strings or datetime objects:"
   ]
  },
  {
   "cell_type": "code",
   "execution_count": 96,
   "id": "dd923378",
   "metadata": {},
   "outputs": [
    {
     "data": {
      "text/plain": [
       "2011-01-02   -1.810458\n",
       "2011-01-05   -0.162996\n",
       "2011-01-07    1.855821\n",
       "2011-01-08    0.068296\n",
       "2011-01-10    0.882927\n",
       "2011-01-12   -1.414050\n",
       "dtype: float64"
      ]
     },
     "execution_count": 96,
     "metadata": {},
     "output_type": "execute_result"
    }
   ],
   "source": [
    "dates = [datetime(2011, 1, 2), datetime(2011, 1, 5), datetime(2011, 1, 7),\n",
    "         datetime(2011, 1, 8), datetime(2011, 1, 10), datetime(2011, 1, 12)]\n",
    "ts = pd.Series(np.random.randn(6), index=dates)\n",
    "ts"
   ]
  },
  {
   "cell_type": "code",
   "execution_count": 97,
   "id": "277dfdcd",
   "metadata": {},
   "outputs": [
    {
     "name": "stdout",
     "output_type": "stream",
     "text": [
      "<class 'pandas.core.series.Series'>\n"
     ]
    }
   ],
   "source": [
    "#Under the hood, these datetime objects have been put in a DatetimeIndex, and the\n",
    "#variable ts is now of type TimeSeries\n",
    "print(type(ts))"
   ]
  },
  {
   "cell_type": "code",
   "execution_count": 98,
   "id": "ae205366",
   "metadata": {},
   "outputs": [
    {
     "data": {
      "text/plain": [
       "2011-01-02   -1.810458\n",
       "2011-01-05   -0.162996\n",
       "2011-01-07    1.855821\n",
       "2011-01-08    0.068296\n",
       "2011-01-10    0.882927\n",
       "2011-01-12   -1.414050\n",
       "dtype: float64"
      ]
     },
     "execution_count": 98,
     "metadata": {},
     "output_type": "execute_result"
    }
   ],
   "source": [
    "ts"
   ]
  },
  {
   "cell_type": "code",
   "execution_count": 100,
   "id": "a8db7aae",
   "metadata": {},
   "outputs": [
    {
     "data": {
      "text/plain": [
       "2011-01-02   -1.810458\n",
       "2011-01-07    1.855821\n",
       "2011-01-10    0.882927\n",
       "dtype: float64"
      ]
     },
     "execution_count": 100,
     "metadata": {},
     "output_type": "execute_result"
    }
   ],
   "source": [
    "ts[::2]"
   ]
  },
  {
   "cell_type": "code",
   "execution_count": 101,
   "id": "fae21768",
   "metadata": {},
   "outputs": [
    {
     "data": {
      "text/plain": [
       "2011-01-02   -3.620916\n",
       "2011-01-05         NaN\n",
       "2011-01-07    3.711643\n",
       "2011-01-08         NaN\n",
       "2011-01-10    1.765854\n",
       "2011-01-12         NaN\n",
       "dtype: float64"
      ]
     },
     "execution_count": 101,
     "metadata": {},
     "output_type": "execute_result"
    }
   ],
   "source": [
    "ts + ts[::2]"
   ]
  },
  {
   "cell_type": "code",
   "execution_count": 102,
   "id": "ea9f67f8",
   "metadata": {},
   "outputs": [
    {
     "data": {
      "text/plain": [
       "dtype('<M8[ns]')"
      ]
     },
     "execution_count": 102,
     "metadata": {},
     "output_type": "execute_result"
    }
   ],
   "source": [
    "ts.index.dtype"
   ]
  },
  {
   "cell_type": "code",
   "execution_count": 103,
   "id": "31767661",
   "metadata": {},
   "outputs": [
    {
     "data": {
      "text/plain": [
       "pandas.core.indexes.datetimes.DatetimeIndex"
      ]
     },
     "execution_count": 103,
     "metadata": {},
     "output_type": "execute_result"
    }
   ],
   "source": [
    "type(ts.index)"
   ]
  },
  {
   "cell_type": "code",
   "execution_count": 104,
   "id": "1ec71be4",
   "metadata": {},
   "outputs": [],
   "source": [
    "#Indexing, Selection, Subsetting\n",
    "#TimeSeries is a subclass of Series and thus behaves in the same way with regard to\n",
    "#indexing and selecting data based on label:"
   ]
  },
  {
   "cell_type": "code",
   "execution_count": 105,
   "id": "d5c5e65e",
   "metadata": {},
   "outputs": [
    {
     "data": {
      "text/plain": [
       "1.8558214857689199"
      ]
     },
     "execution_count": 105,
     "metadata": {},
     "output_type": "execute_result"
    }
   ],
   "source": [
    "stamp = ts.index[2]\n",
    "ts[stamp]"
   ]
  },
  {
   "cell_type": "code",
   "execution_count": 107,
   "id": "0e622736",
   "metadata": {},
   "outputs": [
    {
     "data": {
      "text/plain": [
       "2000-01-01    0.691350\n",
       "2000-01-02   -1.957556\n",
       "2000-01-03   -1.263478\n",
       "2000-01-04   -0.348497\n",
       "2000-01-05    0.691495\n",
       "                ...   \n",
       "2002-09-22    0.238083\n",
       "2002-09-23   -0.753457\n",
       "2002-09-24   -0.661316\n",
       "2002-09-25    0.121378\n",
       "2002-09-26    0.489679\n",
       "Freq: D, Length: 1000, dtype: float64"
      ]
     },
     "execution_count": 107,
     "metadata": {},
     "output_type": "execute_result"
    }
   ],
   "source": [
    "longer_ts = pd.Series(np.random.randn(1000),index=pd.date_range('1/1/2000', periods=1000))\n",
    "longer_ts"
   ]
  },
  {
   "cell_type": "code",
   "execution_count": 108,
   "id": "5c92b05d",
   "metadata": {},
   "outputs": [
    {
     "data": {
      "text/plain": [
       "2001-01-01    0.842757\n",
       "2001-01-02    0.576411\n",
       "2001-01-03   -0.115728\n",
       "2001-01-04   -0.122528\n",
       "2001-01-05    0.035114\n",
       "                ...   \n",
       "2001-12-27   -0.202316\n",
       "2001-12-28   -0.651019\n",
       "2001-12-29   -0.341205\n",
       "2001-12-30   -0.076366\n",
       "2001-12-31   -0.915568\n",
       "Freq: D, Length: 365, dtype: float64"
      ]
     },
     "execution_count": 108,
     "metadata": {},
     "output_type": "execute_result"
    }
   ],
   "source": [
    "longer_ts['2001']"
   ]
  },
  {
   "cell_type": "code",
   "execution_count": 110,
   "id": "23af50a2",
   "metadata": {},
   "outputs": [
    {
     "data": {
      "text/plain": [
       "31"
      ]
     },
     "execution_count": 110,
     "metadata": {},
     "output_type": "execute_result"
    }
   ],
   "source": [
    "len(longer_ts['2001-05'])"
   ]
  },
  {
   "cell_type": "code",
   "execution_count": 111,
   "id": "a217904c",
   "metadata": {},
   "outputs": [
    {
     "data": {
      "text/plain": [
       "2011-01-07    1.855821\n",
       "2011-01-08    0.068296\n",
       "2011-01-10    0.882927\n",
       "2011-01-12   -1.414050\n",
       "dtype: float64"
      ]
     },
     "execution_count": 111,
     "metadata": {},
     "output_type": "execute_result"
    }
   ],
   "source": [
    "ts[datetime(2011, 1, 7):]"
   ]
  },
  {
   "cell_type": "code",
   "execution_count": 112,
   "id": "154f0566",
   "metadata": {},
   "outputs": [
    {
     "data": {
      "text/plain": [
       "2011-01-07    1.855821\n",
       "2011-01-08    0.068296\n",
       "2011-01-10    0.882927\n",
       "dtype: float64"
      ]
     },
     "execution_count": 112,
     "metadata": {},
     "output_type": "execute_result"
    }
   ],
   "source": [
    "ts['1/6/2011':'1/11/2011']"
   ]
  },
  {
   "cell_type": "code",
   "execution_count": 114,
   "id": "d0935c17",
   "metadata": {},
   "outputs": [
    {
     "data": {
      "text/plain": [
       "2011-01-02   -1.810458\n",
       "2011-01-05   -0.162996\n",
       "2011-01-07    1.855821\n",
       "2011-01-08    0.068296\n",
       "2011-01-10    0.882927\n",
       "2011-01-12   -1.414050\n",
       "dtype: float64"
      ]
     },
     "execution_count": 114,
     "metadata": {},
     "output_type": "execute_result"
    }
   ],
   "source": [
    "#Date Ranges, Frequencies, and Shifting\n",
    "#Generic time series in pandas are assumed to be irregular; that is, they have no fixed\n",
    "#frequency. For many applications this is sufficient. However, it’s often desirable to work\n",
    "#relative to a fixed frequency, such as daily, monthly, or every 15 minutes, even if that\n",
    "#means introducing missing values into a time series. Fortunately pandas has a full suite\n",
    "#of standard time series frequencies and tools for resampling, inferring frequencies, and\n",
    "#generating fixed frequency date ranges. For example, in the example time series, converting\n",
    "#it to be fixed daily frequency can be accomplished by calling resample\n",
    "ts"
   ]
  },
  {
   "cell_type": "code",
   "execution_count": 118,
   "id": "ac6466ad",
   "metadata": {},
   "outputs": [
    {
     "data": {
      "text/plain": [
       "<pandas.core.resample.DatetimeIndexResampler object at 0x000001E1FC29F730>"
      ]
     },
     "execution_count": 118,
     "metadata": {},
     "output_type": "execute_result"
    }
   ],
   "source": [
    "ts.resample('D')"
   ]
  },
  {
   "cell_type": "code",
   "execution_count": 119,
   "id": "6570ba89",
   "metadata": {},
   "outputs": [
    {
     "data": {
      "text/plain": [
       "2000-01-01 00:00:00    0\n",
       "2000-01-01 00:01:00    1\n",
       "2000-01-01 00:02:00    2\n",
       "2000-01-01 00:03:00    3\n",
       "2000-01-01 00:04:00    4\n",
       "2000-01-01 00:05:00    5\n",
       "2000-01-01 00:06:00    6\n",
       "2000-01-01 00:07:00    7\n",
       "2000-01-01 00:08:00    8\n",
       "Freq: T, dtype: int64"
      ]
     },
     "execution_count": 119,
     "metadata": {},
     "output_type": "execute_result"
    }
   ],
   "source": [
    "index = pd.date_range('1/1/2000', periods=9, freq='T')\n",
    "series = pd.Series(range(9), index=index)\n",
    "series"
   ]
  },
  {
   "cell_type": "code",
   "execution_count": 120,
   "id": "ee1c6082",
   "metadata": {},
   "outputs": [
    {
     "data": {
      "text/plain": [
       "2000-01-01 00:00:00     3\n",
       "2000-01-01 00:03:00    12\n",
       "2000-01-01 00:06:00    21\n",
       "Freq: 3T, dtype: int64"
      ]
     },
     "execution_count": 120,
     "metadata": {},
     "output_type": "execute_result"
    }
   ],
   "source": [
    "series.resample('3T').sum()"
   ]
  },
  {
   "cell_type": "code",
   "execution_count": 122,
   "id": "82489853",
   "metadata": {},
   "outputs": [
    {
     "data": {
      "text/plain": [
       "2000-01-01 00:00:00    0.0\n",
       "2000-01-01 00:00:30    NaN\n",
       "2000-01-01 00:01:00    1.0\n",
       "2000-01-01 00:01:30    NaN\n",
       "2000-01-01 00:02:00    2.0\n",
       "2000-01-01 00:02:30    NaN\n",
       "2000-01-01 00:03:00    3.0\n",
       "2000-01-01 00:03:30    NaN\n",
       "2000-01-01 00:04:00    4.0\n",
       "2000-01-01 00:04:30    NaN\n",
       "2000-01-01 00:05:00    5.0\n",
       "2000-01-01 00:05:30    NaN\n",
       "2000-01-01 00:06:00    6.0\n",
       "2000-01-01 00:06:30    NaN\n",
       "2000-01-01 00:07:00    7.0\n",
       "2000-01-01 00:07:30    NaN\n",
       "2000-01-01 00:08:00    8.0\n",
       "Freq: 30S, dtype: float64"
      ]
     },
     "execution_count": 122,
     "metadata": {},
     "output_type": "execute_result"
    }
   ],
   "source": [
    "series.resample('30S').asfreq()"
   ]
  },
  {
   "cell_type": "code",
   "execution_count": 123,
   "id": "c72e083c",
   "metadata": {},
   "outputs": [
    {
     "data": {
      "text/plain": [
       "DatetimeIndex(['2012-04-01', '2012-04-02', '2012-04-03', '2012-04-04',\n",
       "               '2012-04-05', '2012-04-06', '2012-04-07', '2012-04-08',\n",
       "               '2012-04-09', '2012-04-10', '2012-04-11', '2012-04-12',\n",
       "               '2012-04-13', '2012-04-14', '2012-04-15', '2012-04-16',\n",
       "               '2012-04-17', '2012-04-18', '2012-04-19', '2012-04-20',\n",
       "               '2012-04-21', '2012-04-22', '2012-04-23', '2012-04-24',\n",
       "               '2012-04-25', '2012-04-26', '2012-04-27', '2012-04-28',\n",
       "               '2012-04-29', '2012-04-30', '2012-05-01', '2012-05-02',\n",
       "               '2012-05-03', '2012-05-04', '2012-05-05', '2012-05-06',\n",
       "               '2012-05-07', '2012-05-08', '2012-05-09', '2012-05-10',\n",
       "               '2012-05-11', '2012-05-12', '2012-05-13', '2012-05-14',\n",
       "               '2012-05-15', '2012-05-16', '2012-05-17', '2012-05-18',\n",
       "               '2012-05-19', '2012-05-20', '2012-05-21', '2012-05-22',\n",
       "               '2012-05-23', '2012-05-24', '2012-05-25', '2012-05-26',\n",
       "               '2012-05-27', '2012-05-28', '2012-05-29', '2012-05-30',\n",
       "               '2012-05-31', '2012-06-01'],\n",
       "              dtype='datetime64[ns]', freq='D')"
      ]
     },
     "execution_count": 123,
     "metadata": {},
     "output_type": "execute_result"
    }
   ],
   "source": [
    "index = pd.date_range('4/1/2012', '6/1/2012')\n",
    "index"
   ]
  },
  {
   "cell_type": "code",
   "execution_count": 124,
   "id": "40f27b0e",
   "metadata": {},
   "outputs": [
    {
     "data": {
      "text/plain": [
       "DatetimeIndex(['2012-04-01', '2012-04-02', '2012-04-03', '2012-04-04',\n",
       "               '2012-04-05', '2012-04-06', '2012-04-07', '2012-04-08',\n",
       "               '2012-04-09', '2012-04-10', '2012-04-11', '2012-04-12',\n",
       "               '2012-04-13', '2012-04-14', '2012-04-15', '2012-04-16',\n",
       "               '2012-04-17', '2012-04-18', '2012-04-19', '2012-04-20'],\n",
       "              dtype='datetime64[ns]', freq='D')"
      ]
     },
     "execution_count": 124,
     "metadata": {},
     "output_type": "execute_result"
    }
   ],
   "source": [
    "pd.date_range(start='4/1/2012', periods=20)"
   ]
  },
  {
   "cell_type": "code",
   "execution_count": 125,
   "id": "a75c5320",
   "metadata": {},
   "outputs": [
    {
     "data": {
      "text/plain": [
       "DatetimeIndex(['2012-05-13', '2012-05-14', '2012-05-15', '2012-05-16',\n",
       "               '2012-05-17', '2012-05-18', '2012-05-19', '2012-05-20',\n",
       "               '2012-05-21', '2012-05-22', '2012-05-23', '2012-05-24',\n",
       "               '2012-05-25', '2012-05-26', '2012-05-27', '2012-05-28',\n",
       "               '2012-05-29', '2012-05-30', '2012-05-31', '2012-06-01'],\n",
       "              dtype='datetime64[ns]', freq='D')"
      ]
     },
     "execution_count": 125,
     "metadata": {},
     "output_type": "execute_result"
    }
   ],
   "source": [
    "pd.date_range(end='6/1/2012', periods=20)"
   ]
  },
  {
   "cell_type": "code",
   "execution_count": 126,
   "id": "79eb9758",
   "metadata": {},
   "outputs": [
    {
     "data": {
      "text/plain": [
       "DatetimeIndex(['2000-01-31', '2000-02-29', '2000-03-31', '2000-04-28',\n",
       "               '2000-05-31', '2000-06-30', '2000-07-31', '2000-08-31',\n",
       "               '2000-09-29', '2000-10-31', '2000-11-30'],\n",
       "              dtype='datetime64[ns]', freq='BM')"
      ]
     },
     "execution_count": 126,
     "metadata": {},
     "output_type": "execute_result"
    }
   ],
   "source": [
    "pd.date_range('1/1/2000', '12/1/2000', freq='BM')"
   ]
  },
  {
   "cell_type": "code",
   "execution_count": 127,
   "id": "98e850a5",
   "metadata": {},
   "outputs": [
    {
     "data": {
      "text/plain": [
       "DatetimeIndex(['2012-05-02 12:56:31', '2012-05-03 12:56:31',\n",
       "               '2012-05-04 12:56:31', '2012-05-05 12:56:31',\n",
       "               '2012-05-06 12:56:31'],\n",
       "              dtype='datetime64[ns]', freq='D')"
      ]
     },
     "execution_count": 127,
     "metadata": {},
     "output_type": "execute_result"
    }
   ],
   "source": [
    "pd.date_range('5/2/2012 12:56:31', periods=5)"
   ]
  },
  {
   "cell_type": "code",
   "execution_count": 128,
   "id": "c8ba8cdc",
   "metadata": {},
   "outputs": [
    {
     "data": {
      "text/plain": [
       "DatetimeIndex(['2012-05-02', '2012-05-03', '2012-05-04', '2012-05-05',\n",
       "               '2012-05-06'],\n",
       "              dtype='datetime64[ns]', freq='D')"
      ]
     },
     "execution_count": 128,
     "metadata": {},
     "output_type": "execute_result"
    }
   ],
   "source": [
    "pd.date_range('5/2/2012 12:56:31', periods=5, normalize=True)"
   ]
  },
  {
   "cell_type": "code",
   "execution_count": 129,
   "id": "cd432c31",
   "metadata": {},
   "outputs": [
    {
     "data": {
      "text/plain": [
       "DatetimeIndex(['2000-01-01 00:00:00', '2000-01-01 04:00:00',\n",
       "               '2000-01-01 08:00:00', '2000-01-01 12:00:00',\n",
       "               '2000-01-01 16:00:00', '2000-01-01 20:00:00',\n",
       "               '2000-01-02 00:00:00', '2000-01-02 04:00:00',\n",
       "               '2000-01-02 08:00:00', '2000-01-02 12:00:00',\n",
       "               '2000-01-02 16:00:00', '2000-01-02 20:00:00',\n",
       "               '2000-01-03 00:00:00', '2000-01-03 04:00:00',\n",
       "               '2000-01-03 08:00:00', '2000-01-03 12:00:00',\n",
       "               '2000-01-03 16:00:00', '2000-01-03 20:00:00'],\n",
       "              dtype='datetime64[ns]', freq='4H')"
      ]
     },
     "execution_count": 129,
     "metadata": {},
     "output_type": "execute_result"
    }
   ],
   "source": [
    "pd.date_range('1/1/2000', '1/3/2000 23:59', freq='4h')"
   ]
  },
  {
   "cell_type": "code",
   "execution_count": 130,
   "id": "515da8e1",
   "metadata": {},
   "outputs": [
    {
     "data": {
      "text/plain": [
       "DatetimeIndex(['2000-01-01 00:00:00', '2000-01-01 01:30:00',\n",
       "               '2000-01-01 03:00:00', '2000-01-01 04:30:00',\n",
       "               '2000-01-01 06:00:00', '2000-01-01 07:30:00',\n",
       "               '2000-01-01 09:00:00', '2000-01-01 10:30:00',\n",
       "               '2000-01-01 12:00:00', '2000-01-01 13:30:00'],\n",
       "              dtype='datetime64[ns]', freq='90T')"
      ]
     },
     "execution_count": 130,
     "metadata": {},
     "output_type": "execute_result"
    }
   ],
   "source": [
    "pd.date_range('1/1/2000', periods=10, freq='1h30min')"
   ]
  },
  {
   "cell_type": "code",
   "execution_count": 209,
   "id": "51facf09",
   "metadata": {},
   "outputs": [
    {
     "name": "stdout",
     "output_type": "stream",
     "text": [
      "########################IMPORTANT################################\n",
      "DatetimeIndex(['2012-01-20', '2012-02-17', '2012-03-16', '2012-04-20',\n",
      "               '2012-05-18', '2012-06-15', '2012-07-20', '2012-08-17'],\n",
      "              dtype='datetime64[ns]', freq='WOM-3FRI')\n",
      "------------------------------------------------\n",
      "This extracts the values into an array of dtype - datetime64ns\n",
      "['2012-01-20T00:00:00.000000000' '2012-02-17T00:00:00.000000000'\n",
      " '2012-03-16T00:00:00.000000000' '2012-04-20T00:00:00.000000000'\n",
      " '2012-05-18T00:00:00.000000000' '2012-06-15T00:00:00.000000000'\n",
      " '2012-07-20T00:00:00.000000000' '2012-08-17T00:00:00.000000000']\n",
      "<class 'numpy.ndarray'>\n",
      "------------------------------------------------\n",
      "Convert values to Pandas series\n",
      "0   2012-01-20\n",
      "1   2012-02-17\n",
      "2   2012-03-16\n",
      "3   2012-04-20\n",
      "4   2012-05-18\n",
      "5   2012-06-15\n",
      "6   2012-07-20\n",
      "7   2012-08-17\n",
      "dtype: datetime64[ns]\n",
      "------------------------------------------------\n",
      "Convert values to Date columns from PD series\n",
      "0    2012-01-20\n",
      "1    2012-02-17\n",
      "2    2012-03-16\n",
      "3    2012-04-20\n",
      "4    2012-05-18\n",
      "5    2012-06-15\n",
      "6    2012-07-20\n",
      "7    2012-08-17\n",
      "dtype: object\n"
     ]
    }
   ],
   "source": [
    "print(\"########################IMPORTANT################################\")\n",
    "# third friday of every month - this gives a datetime index.\n",
    "print(pd.date_range('1/1/2012', '9/1/2012', freq='WOM-3FRI'))\n",
    "print(\"------------------------------------------------\")\n",
    "print(\"This extracts the values into an array of dtype - datetime64ns\")\n",
    "print(pd.date_range('1/1/2012', '9/1/2012', freq='WOM-3FRI').values)\n",
    "print(type(pd.date_range('1/1/2012', '9/1/2012', freq='WOM-3FRI').values))\n",
    "print(\"------------------------------------------------\")\n",
    "print(\"Convert values to Pandas series\")\n",
    "print(pd.Series(pd.date_range('1/1/2012', '9/1/2012', freq='WOM-3FRI').values))\n",
    "print(\"------------------------------------------------\")\n",
    "print(\"Convert values to Date columns from PD series\")\n",
    "print(pd.Series(pd.date_range('1/1/2012', '9/1/2012', freq='WOM-3FRI').values).dt.date)"
   ]
  },
  {
   "cell_type": "code",
   "execution_count": 210,
   "id": "f7b43462",
   "metadata": {},
   "outputs": [],
   "source": [
    "#Shifting (Leading and Lagging) Data\n",
    "#“Shifting” refers to moving data backward and forward through time. Both Series and\n",
    "#DataFrame have a shift method for doing naive shifts forward or backward, leaving\n",
    "#the index unmodified"
   ]
  },
  {
   "cell_type": "code",
   "execution_count": 215,
   "id": "89720363",
   "metadata": {},
   "outputs": [
    {
     "name": "stdout",
     "output_type": "stream",
     "text": [
      "2000-01-31   -0.023945\n",
      "2000-02-29   -0.257795\n",
      "2000-03-31   -2.220944\n",
      "2000-04-30   -1.761676\n",
      "Freq: M, dtype: float64\n",
      "---------------\n",
      "2000-01-31         NaN\n",
      "2000-02-29   -0.023945\n",
      "2000-03-31   -0.257795\n",
      "2000-04-30   -2.220944\n",
      "Freq: M, dtype: float64\n",
      "---------------\n",
      "2000-01-31         NaN\n",
      "2000-02-29         NaN\n",
      "2000-03-31   -0.023945\n",
      "2000-04-30   -0.257795\n",
      "Freq: M, dtype: float64\n",
      "---------------\n",
      "2000-01-31   -0.257795\n",
      "2000-02-29   -2.220944\n",
      "2000-03-31   -1.761676\n",
      "2000-04-30         NaN\n",
      "Freq: M, dtype: float64\n",
      "---------------\n",
      "2000-01-31   -2.220944\n",
      "2000-02-29   -1.761676\n",
      "2000-03-31         NaN\n",
      "2000-04-30         NaN\n",
      "Freq: M, dtype: float64\n"
     ]
    }
   ],
   "source": [
    "ts = pd.Series(np.random.randn(4),index=pd.date_range('1/1/2000', periods=4, freq='M'))\n",
    "print(ts)\n",
    "print(\"---------------\")\n",
    "print(ts.shift(1))\n",
    "print(\"---------------\")\n",
    "print(ts.shift(2))\n",
    "\n",
    "print(\"---------------\")\n",
    "print(ts.shift(-1))\n",
    "print(\"---------------\")\n",
    "print(ts.shift(-2))"
   ]
  },
  {
   "cell_type": "code",
   "execution_count": 216,
   "id": "127c3ba4",
   "metadata": {},
   "outputs": [
    {
     "data": {
      "text/plain": [
       "2000-01-31         NaN\n",
       "2000-02-29    9.765946\n",
       "2000-03-31    7.615160\n",
       "2000-04-30   -0.206789\n",
       "Freq: M, dtype: float64"
      ]
     },
     "execution_count": 216,
     "metadata": {},
     "output_type": "execute_result"
    }
   ],
   "source": [
    "ts / ts.shift(1) - 1"
   ]
  },
  {
   "cell_type": "code",
   "execution_count": 218,
   "id": "92d3323e",
   "metadata": {},
   "outputs": [
    {
     "name": "stdout",
     "output_type": "stream",
     "text": [
      "2000-01-31   -0.023945\n",
      "2000-02-29   -0.257795\n",
      "2000-03-31   -2.220944\n",
      "2000-04-30   -1.761676\n",
      "Freq: M, dtype: float64\n",
      "====================\n",
      "2000-03-31   -0.023945\n",
      "2000-04-30   -0.257795\n",
      "2000-05-31   -2.220944\n",
      "2000-06-30   -1.761676\n",
      "Freq: M, dtype: float64\n"
     ]
    }
   ],
   "source": [
    "#Because naive shifts leave the index unmodified, some data is discarded. Thus if the\n",
    "#frequency is known, it can be passed to shift to advance the timestamps instead of\n",
    "#simply the data:\n",
    "\n",
    "##### SIMPLY PUT - SHIFTS THE INDEX\n",
    "\n",
    "print(ts)\n",
    "print(\"====================\")\n",
    "print(ts.shift(2, freq='M'))"
   ]
  },
  {
   "cell_type": "code",
   "execution_count": 221,
   "id": "92bc2dec",
   "metadata": {},
   "outputs": [
    {
     "name": "stdout",
     "output_type": "stream",
     "text": [
      "2000-01-31   -0.023945\n",
      "2000-02-29   -0.257795\n",
      "2000-03-31   -2.220944\n",
      "2000-04-30   -1.761676\n",
      "Freq: M, dtype: float64\n",
      "====================\n",
      "2000-02-03   -0.023945\n",
      "2000-03-03   -0.257795\n",
      "2000-04-03   -2.220944\n",
      "2000-05-03   -1.761676\n",
      "dtype: float64\n",
      "====================\n",
      "2000-02-03   -0.023945\n",
      "2000-03-03   -0.257795\n",
      "2000-04-03   -2.220944\n",
      "2000-05-03   -1.761676\n",
      "dtype: float64\n",
      "====================\n",
      "2000-01-31 01:30:00   -0.023945\n",
      "2000-02-29 01:30:00   -0.257795\n",
      "2000-03-31 01:30:00   -2.220944\n",
      "2000-04-30 01:30:00   -1.761676\n",
      "Freq: M, dtype: float64\n"
     ]
    }
   ],
   "source": [
    "print(ts)\n",
    "print(\"====================\")\n",
    "print(ts.shift(3, freq='D'))\n",
    "print(\"====================\")\n",
    "print(ts.shift(1, freq='3D'))\n",
    "print(\"====================\")\n",
    "print(ts.shift(1, freq='90T'))"
   ]
  },
  {
   "cell_type": "code",
   "execution_count": 226,
   "id": "468ca507",
   "metadata": {},
   "outputs": [
    {
     "name": "stdout",
     "output_type": "stream",
     "text": [
      "2011-11-17 00:00:00\n",
      "2011-11-20 00:00:00\n"
     ]
    }
   ],
   "source": [
    "from pandas.tseries.offsets import Day, MonthEnd\n",
    "now = datetime(2011, 11, 17)\n",
    "print(now)\n",
    "print(now + 3 * Day())"
   ]
  },
  {
   "cell_type": "code",
   "execution_count": 227,
   "id": "bcd3db0a",
   "metadata": {},
   "outputs": [
    {
     "name": "stdout",
     "output_type": "stream",
     "text": [
      "2011-11-17 00:00:00\n",
      "2011-11-30 00:00:00\n",
      "2011-12-31 00:00:00\n"
     ]
    }
   ],
   "source": [
    "print(now)\n",
    "print(now + MonthEnd())\n",
    "print(now + MonthEnd(2))"
   ]
  },
  {
   "cell_type": "code",
   "execution_count": 229,
   "id": "2be8a072",
   "metadata": {},
   "outputs": [
    {
     "name": "stdout",
     "output_type": "stream",
     "text": [
      "2011-11-17 00:00:00\n",
      "2011-11-30 00:00:00\n",
      "2011-10-31 00:00:00\n"
     ]
    }
   ],
   "source": [
    "print(now)\n",
    "offset = MonthEnd()\n",
    "print(offset.rollforward(now))\n",
    "print(offset.rollback(now))"
   ]
  },
  {
   "cell_type": "code",
   "execution_count": 231,
   "id": "41f74de1",
   "metadata": {},
   "outputs": [
    {
     "name": "stdout",
     "output_type": "stream",
     "text": [
      "2000-01-15    0.792955\n",
      "2000-01-19    0.386846\n",
      "2000-01-23   -0.284974\n",
      "2000-01-27    0.648082\n",
      "2000-01-31   -0.029138\n",
      "2000-02-04    0.329887\n",
      "2000-02-08    0.926468\n",
      "2000-02-12    0.569785\n",
      "2000-02-16   -0.713923\n",
      "2000-02-20    0.257334\n",
      "2000-02-24    1.327570\n",
      "2000-02-28    0.268655\n",
      "2000-03-03   -0.804510\n",
      "2000-03-07    0.007731\n",
      "2000-03-11    1.279664\n",
      "2000-03-15   -0.232816\n",
      "2000-03-19   -0.984835\n",
      "2000-03-23    0.731133\n",
      "2000-03-27   -0.307859\n",
      "2000-03-31   -0.635264\n",
      "Freq: 4D, dtype: float64\n"
     ]
    }
   ],
   "source": [
    "ts = pd.Series(np.random.randn(20),index=pd.date_range('1/15/2000', periods=20, freq='4d'))\n",
    "print(ts)\n",
    "print(\"==============================\")\n"
   ]
  },
  {
   "cell_type": "code",
   "execution_count": 232,
   "id": "1678f8df",
   "metadata": {},
   "outputs": [
    {
     "data": {
      "text/plain": [
       "2000-01-31    0.302754\n",
       "2000-02-29    0.423682\n",
       "2000-03-31   -0.118344\n",
       "dtype: float64"
      ]
     },
     "execution_count": 232,
     "metadata": {},
     "output_type": "execute_result"
    }
   ],
   "source": [
    "ts.groupby(offset.rollforward).mean()"
   ]
  },
  {
   "cell_type": "code",
   "execution_count": 234,
   "id": "9d7f6cb3",
   "metadata": {},
   "outputs": [
    {
     "name": "stderr",
     "output_type": "stream",
     "text": [
      "<ipython-input-234-7c52530055fb>:2: FutureWarning: how in .resample() is deprecated\n",
      "the new syntax is .resample(...).mean()\n",
      "  ts.resample('M', how='mean')\n"
     ]
    },
    {
     "data": {
      "text/plain": [
       "2000-01-31    0.302754\n",
       "2000-02-29    0.423682\n",
       "2000-03-31   -0.118344\n",
       "Freq: M, dtype: float64"
      ]
     },
     "execution_count": 234,
     "metadata": {},
     "output_type": "execute_result"
    }
   ],
   "source": [
    "# Easier way to do the same thing.\n",
    "ts.resample('M', how='mean')"
   ]
  },
  {
   "cell_type": "code",
   "execution_count": 235,
   "id": "9693a3e2",
   "metadata": {},
   "outputs": [],
   "source": [
    "#In Python, time zone information comes from the 3rd party pytz library, which exposes\n",
    "#the Olson database, a compilation of world time zone information. This is especially\n",
    "#important for historical data because the DST transition dates (and even UTC offsets)\n",
    "#have been changed numerous times depending on the whims of local governments. In\n",
    "#the United States,the DST transition times have been changed many times since 1900!\n",
    "#For detailed information about pytz library, you’ll need to look at that library’s documentation.\n",
    "#As far as this book is concerned, pandas wraps pytz’s functionality so you\n",
    "#can ignore its API outside of the time zone names. Time zone names can be found\n",
    "#interactively and in the docs:"
   ]
  },
  {
   "cell_type": "code",
   "execution_count": 236,
   "id": "7701f10e",
   "metadata": {},
   "outputs": [
    {
     "data": {
      "text/plain": [
       "['US/Eastern', 'US/Hawaii', 'US/Mountain', 'US/Pacific', 'UTC']"
      ]
     },
     "execution_count": 236,
     "metadata": {},
     "output_type": "execute_result"
    }
   ],
   "source": [
    "import pytz\n",
    "pytz.common_timezones[-5:]"
   ]
  },
  {
   "cell_type": "code",
   "execution_count": 238,
   "id": "f55f6655",
   "metadata": {},
   "outputs": [
    {
     "data": {
      "text/plain": [
       "<DstTzInfo 'US/Eastern' LMT-1 day, 19:04:00 STD>"
      ]
     },
     "execution_count": 238,
     "metadata": {},
     "output_type": "execute_result"
    }
   ],
   "source": [
    "tz = pytz.timezone('US/Eastern')\n",
    "tz"
   ]
  },
  {
   "cell_type": "code",
   "execution_count": 239,
   "id": "70ee4b55",
   "metadata": {},
   "outputs": [
    {
     "data": {
      "text/plain": [
       "'\\nMethods in pandas will accept either time zone names or these objects. I recommend\\njust using the names\\n'"
      ]
     },
     "execution_count": 239,
     "metadata": {},
     "output_type": "execute_result"
    }
   ],
   "source": [
    "'''\n",
    "Methods in pandas will accept either time zone names or these objects. I recommend\n",
    "just using the names\n",
    "'''"
   ]
  },
  {
   "cell_type": "code",
   "execution_count": 240,
   "id": "76a2be17",
   "metadata": {},
   "outputs": [],
   "source": [
    "#Downsampling\n",
    "#Aggregating data to a regular, lower frequency is a pretty normal time series task. The\n",
    "#data you’re aggregating doesn’t need to be fixed frequently; the desired frequency defines\n",
    "#bin edges that are used to slice the time series into pieces to aggregate. For example,\n",
    "#to convert to monthly, 'M' or 'BM', the data need to be chopped up into one month\n",
    "#intervals. Each interval is said to be half-open; a data point can only belong to one\n",
    "#interval, and the union of the intervals must make up the whole time frame. There are\n",
    "#a couple things to think about when using resample to downsample data:"
   ]
  },
  {
   "cell_type": "code",
   "execution_count": 242,
   "id": "4472c241",
   "metadata": {},
   "outputs": [
    {
     "data": {
      "text/plain": [
       "2000-01-01 00:00:00     0\n",
       "2000-01-01 00:01:00     1\n",
       "2000-01-01 00:02:00     2\n",
       "2000-01-01 00:03:00     3\n",
       "2000-01-01 00:04:00     4\n",
       "2000-01-01 00:05:00     5\n",
       "2000-01-01 00:06:00     6\n",
       "2000-01-01 00:07:00     7\n",
       "2000-01-01 00:08:00     8\n",
       "2000-01-01 00:09:00     9\n",
       "2000-01-01 00:10:00    10\n",
       "2000-01-01 00:11:00    11\n",
       "Freq: T, dtype: int32"
      ]
     },
     "execution_count": 242,
     "metadata": {},
     "output_type": "execute_result"
    }
   ],
   "source": [
    "rng = pd.date_range('1/1/2000', periods=12, freq='T')\n",
    "ts = pd.Series(np.arange(12), index=rng)\n",
    "ts"
   ]
  },
  {
   "cell_type": "code",
   "execution_count": 244,
   "id": "1b3df6fb",
   "metadata": {},
   "outputs": [
    {
     "data": {
      "text/plain": [
       "2000-01-01 00:00:00    10\n",
       "2000-01-01 00:05:00    35\n",
       "2000-01-01 00:10:00    21\n",
       "Freq: 5T, dtype: int32"
      ]
     },
     "execution_count": 244,
     "metadata": {},
     "output_type": "execute_result"
    }
   ],
   "source": [
    "ts.resample('5min').sum()"
   ]
  },
  {
   "cell_type": "code",
   "execution_count": 245,
   "id": "b2f8525e",
   "metadata": {},
   "outputs": [
    {
     "data": {
      "text/plain": [
       "2000-01-01 00:00:00    10\n",
       "2000-01-01 00:05:00    35\n",
       "2000-01-01 00:10:00    21\n",
       "Freq: 5T, dtype: int32"
      ]
     },
     "execution_count": 245,
     "metadata": {},
     "output_type": "execute_result"
    }
   ],
   "source": [
    "ts.resample('5min',closed='left').sum()"
   ]
  },
  {
   "cell_type": "code",
   "execution_count": 246,
   "id": "2b89c83a",
   "metadata": {},
   "outputs": [
    {
     "data": {
      "text/plain": [
       "1999-12-31 23:55:00     0\n",
       "2000-01-01 00:00:00    15\n",
       "2000-01-01 00:05:00    40\n",
       "2000-01-01 00:10:00    11\n",
       "Freq: 5T, dtype: int32"
      ]
     },
     "execution_count": 246,
     "metadata": {},
     "output_type": "execute_result"
    }
   ],
   "source": [
    "ts.resample('5min',closed='right').sum()"
   ]
  },
  {
   "cell_type": "code",
   "execution_count": null,
   "id": "93b4ff1e",
   "metadata": {},
   "outputs": [],
   "source": [
    "#closed - which side of the window is open/close? ie. (5,10] or [5,10)] - determines the window in which 5 will be included\n",
    "#and the window from which 5 will be excluded.                                                      "
   ]
  },
  {
   "cell_type": "code",
   "execution_count": 248,
   "id": "c885a6b9",
   "metadata": {},
   "outputs": [
    {
     "data": {
      "text/plain": [
       "1999-12-31 23:55:00     0\n",
       "2000-01-01 00:00:00    15\n",
       "2000-01-01 00:05:00    40\n",
       "2000-01-01 00:10:00    11\n",
       "Freq: 5T, dtype: int32"
      ]
     },
     "execution_count": 248,
     "metadata": {},
     "output_type": "execute_result"
    }
   ],
   "source": [
    "ts.resample('5min',closed='right',label='left').sum()"
   ]
  },
  {
   "cell_type": "code",
   "execution_count": 249,
   "id": "6d87245a",
   "metadata": {},
   "outputs": [
    {
     "data": {
      "text/plain": [
       "2000-01-01 00:00:00     0\n",
       "2000-01-01 00:05:00    15\n",
       "2000-01-01 00:10:00    40\n",
       "2000-01-01 00:15:00    11\n",
       "Freq: 5T, dtype: int32"
      ]
     },
     "execution_count": 249,
     "metadata": {},
     "output_type": "execute_result"
    }
   ],
   "source": [
    "ts.resample('5min',closed='right',label='right').sum()"
   ]
  },
  {
   "cell_type": "code",
   "execution_count": 251,
   "id": "ff1cb942",
   "metadata": {},
   "outputs": [
    {
     "data": {
      "text/plain": [
       "1999-12-31 23:59:59    10\n",
       "2000-01-01 00:04:59    35\n",
       "2000-01-01 00:09:59    21\n",
       "Freq: 5T, dtype: int32"
      ]
     },
     "execution_count": 251,
     "metadata": {},
     "output_type": "execute_result"
    }
   ],
   "source": [
    "ts.resample('5min',loffset='-1s').sum()"
   ]
  },
  {
   "cell_type": "code",
   "execution_count": 253,
   "id": "7712df99",
   "metadata": {},
   "outputs": [
    {
     "data": {
      "text/html": [
       "<div>\n",
       "<style scoped>\n",
       "    .dataframe tbody tr th:only-of-type {\n",
       "        vertical-align: middle;\n",
       "    }\n",
       "\n",
       "    .dataframe tbody tr th {\n",
       "        vertical-align: top;\n",
       "    }\n",
       "\n",
       "    .dataframe thead th {\n",
       "        text-align: right;\n",
       "    }\n",
       "</style>\n",
       "<table border=\"1\" class=\"dataframe\">\n",
       "  <thead>\n",
       "    <tr style=\"text-align: right;\">\n",
       "      <th></th>\n",
       "      <th>open</th>\n",
       "      <th>high</th>\n",
       "      <th>low</th>\n",
       "      <th>close</th>\n",
       "    </tr>\n",
       "  </thead>\n",
       "  <tbody>\n",
       "    <tr>\n",
       "      <th>2000-01-01 00:00:00</th>\n",
       "      <td>0</td>\n",
       "      <td>4</td>\n",
       "      <td>0</td>\n",
       "      <td>4</td>\n",
       "    </tr>\n",
       "    <tr>\n",
       "      <th>2000-01-01 00:05:00</th>\n",
       "      <td>5</td>\n",
       "      <td>9</td>\n",
       "      <td>5</td>\n",
       "      <td>9</td>\n",
       "    </tr>\n",
       "    <tr>\n",
       "      <th>2000-01-01 00:10:00</th>\n",
       "      <td>10</td>\n",
       "      <td>11</td>\n",
       "      <td>10</td>\n",
       "      <td>11</td>\n",
       "    </tr>\n",
       "  </tbody>\n",
       "</table>\n",
       "</div>"
      ],
      "text/plain": [
       "                     open  high  low  close\n",
       "2000-01-01 00:00:00     0     4    0      4\n",
       "2000-01-01 00:05:00     5     9    5      9\n",
       "2000-01-01 00:10:00    10    11   10     11"
      ]
     },
     "execution_count": 253,
     "metadata": {},
     "output_type": "execute_result"
    }
   ],
   "source": [
    "ts.resample('5min').ohlc()"
   ]
  },
  {
   "cell_type": "code",
   "execution_count": 255,
   "id": "1e66c938",
   "metadata": {},
   "outputs": [
    {
     "data": {
      "text/plain": [
       "1    15\n",
       "2    45\n",
       "3    75\n",
       "4    95\n",
       "dtype: int32"
      ]
     },
     "execution_count": 255,
     "metadata": {},
     "output_type": "execute_result"
    }
   ],
   "source": [
    "rng = pd.date_range('1/1/2000', periods=100, freq='D')\n",
    "ts = pd.Series(np.arange(100), index=rng)\n",
    "ts.groupby(lambda x: x.month).mean()"
   ]
  },
  {
   "cell_type": "code",
   "execution_count": 256,
   "id": "7d827bc9",
   "metadata": {},
   "outputs": [
    {
     "data": {
      "text/plain": [
       "0    47.5\n",
       "1    48.5\n",
       "2    49.5\n",
       "3    50.5\n",
       "4    51.5\n",
       "5    49.0\n",
       "6    50.0\n",
       "dtype: float64"
      ]
     },
     "execution_count": 256,
     "metadata": {},
     "output_type": "execute_result"
    }
   ],
   "source": [
    "ts.groupby(lambda x: x.weekday).mean()"
   ]
  },
  {
   "cell_type": "code",
   "execution_count": 259,
   "id": "75b2e913",
   "metadata": {},
   "outputs": [
    {
     "data": {
      "text/html": [
       "<div>\n",
       "<style scoped>\n",
       "    .dataframe tbody tr th:only-of-type {\n",
       "        vertical-align: middle;\n",
       "    }\n",
       "\n",
       "    .dataframe tbody tr th {\n",
       "        vertical-align: top;\n",
       "    }\n",
       "\n",
       "    .dataframe thead th {\n",
       "        text-align: right;\n",
       "    }\n",
       "</style>\n",
       "<table border=\"1\" class=\"dataframe\">\n",
       "  <thead>\n",
       "    <tr style=\"text-align: right;\">\n",
       "      <th></th>\n",
       "      <th>Colorado</th>\n",
       "      <th>Texas</th>\n",
       "      <th>New York</th>\n",
       "      <th>Ohio</th>\n",
       "    </tr>\n",
       "  </thead>\n",
       "  <tbody>\n",
       "    <tr>\n",
       "      <th>2000-01-05</th>\n",
       "      <td>-0.649603</td>\n",
       "      <td>3.161744</td>\n",
       "      <td>0.417760</td>\n",
       "      <td>-0.741891</td>\n",
       "    </tr>\n",
       "    <tr>\n",
       "      <th>2000-01-12</th>\n",
       "      <td>0.245683</td>\n",
       "      <td>0.327590</td>\n",
       "      <td>-1.398279</td>\n",
       "      <td>-0.229521</td>\n",
       "    </tr>\n",
       "  </tbody>\n",
       "</table>\n",
       "</div>"
      ],
      "text/plain": [
       "            Colorado     Texas  New York      Ohio\n",
       "2000-01-05 -0.649603  3.161744  0.417760 -0.741891\n",
       "2000-01-12  0.245683  0.327590 -1.398279 -0.229521"
      ]
     },
     "execution_count": 259,
     "metadata": {},
     "output_type": "execute_result"
    }
   ],
   "source": [
    "### UPSAMPLING.\n",
    "frame = pd.DataFrame(np.random.randn(2, 4),index=pd.date_range('1/1/2000', periods=2, freq='W-WED'),columns=['Colorado', 'Texas', 'New York', 'Ohio'])\n",
    "frame"
   ]
  },
  {
   "cell_type": "code",
   "execution_count": 260,
   "id": "2c625363",
   "metadata": {},
   "outputs": [
    {
     "data": {
      "text/html": [
       "<div>\n",
       "<style scoped>\n",
       "    .dataframe tbody tr th:only-of-type {\n",
       "        vertical-align: middle;\n",
       "    }\n",
       "\n",
       "    .dataframe tbody tr th {\n",
       "        vertical-align: top;\n",
       "    }\n",
       "\n",
       "    .dataframe thead th {\n",
       "        text-align: right;\n",
       "    }\n",
       "</style>\n",
       "<table border=\"1\" class=\"dataframe\">\n",
       "  <thead>\n",
       "    <tr style=\"text-align: right;\">\n",
       "      <th></th>\n",
       "      <th>Colorado</th>\n",
       "      <th>Texas</th>\n",
       "      <th>New York</th>\n",
       "      <th>Ohio</th>\n",
       "    </tr>\n",
       "  </thead>\n",
       "  <tbody>\n",
       "    <tr>\n",
       "      <th>2000-01-05</th>\n",
       "      <td>-0.649603</td>\n",
       "      <td>3.161744</td>\n",
       "      <td>0.417760</td>\n",
       "      <td>-0.741891</td>\n",
       "    </tr>\n",
       "    <tr>\n",
       "      <th>2000-01-12</th>\n",
       "      <td>0.245683</td>\n",
       "      <td>0.327590</td>\n",
       "      <td>-1.398279</td>\n",
       "      <td>-0.229521</td>\n",
       "    </tr>\n",
       "  </tbody>\n",
       "</table>\n",
       "</div>"
      ],
      "text/plain": [
       "            Colorado     Texas  New York      Ohio\n",
       "2000-01-05 -0.649603  3.161744  0.417760 -0.741891\n",
       "2000-01-12  0.245683  0.327590 -1.398279 -0.229521"
      ]
     },
     "execution_count": 260,
     "metadata": {},
     "output_type": "execute_result"
    }
   ],
   "source": [
    "frame[:5]"
   ]
  },
  {
   "cell_type": "code",
   "execution_count": 265,
   "id": "4431170d",
   "metadata": {},
   "outputs": [
    {
     "data": {
      "text/html": [
       "<div>\n",
       "<style scoped>\n",
       "    .dataframe tbody tr th:only-of-type {\n",
       "        vertical-align: middle;\n",
       "    }\n",
       "\n",
       "    .dataframe tbody tr th {\n",
       "        vertical-align: top;\n",
       "    }\n",
       "\n",
       "    .dataframe thead th {\n",
       "        text-align: right;\n",
       "    }\n",
       "</style>\n",
       "<table border=\"1\" class=\"dataframe\">\n",
       "  <thead>\n",
       "    <tr style=\"text-align: right;\">\n",
       "      <th></th>\n",
       "      <th>Colorado</th>\n",
       "      <th>Texas</th>\n",
       "      <th>New York</th>\n",
       "      <th>Ohio</th>\n",
       "    </tr>\n",
       "  </thead>\n",
       "  <tbody>\n",
       "    <tr>\n",
       "      <th>2000-01-05</th>\n",
       "      <td>-0.649603</td>\n",
       "      <td>3.161744</td>\n",
       "      <td>0.417760</td>\n",
       "      <td>-0.741891</td>\n",
       "    </tr>\n",
       "    <tr>\n",
       "      <th>2000-01-06</th>\n",
       "      <td>-0.649603</td>\n",
       "      <td>3.161744</td>\n",
       "      <td>0.417760</td>\n",
       "      <td>-0.741891</td>\n",
       "    </tr>\n",
       "    <tr>\n",
       "      <th>2000-01-07</th>\n",
       "      <td>-0.649603</td>\n",
       "      <td>3.161744</td>\n",
       "      <td>0.417760</td>\n",
       "      <td>-0.741891</td>\n",
       "    </tr>\n",
       "    <tr>\n",
       "      <th>2000-01-08</th>\n",
       "      <td>-0.649603</td>\n",
       "      <td>3.161744</td>\n",
       "      <td>0.417760</td>\n",
       "      <td>-0.741891</td>\n",
       "    </tr>\n",
       "    <tr>\n",
       "      <th>2000-01-09</th>\n",
       "      <td>-0.649603</td>\n",
       "      <td>3.161744</td>\n",
       "      <td>0.417760</td>\n",
       "      <td>-0.741891</td>\n",
       "    </tr>\n",
       "    <tr>\n",
       "      <th>2000-01-10</th>\n",
       "      <td>-0.649603</td>\n",
       "      <td>3.161744</td>\n",
       "      <td>0.417760</td>\n",
       "      <td>-0.741891</td>\n",
       "    </tr>\n",
       "    <tr>\n",
       "      <th>2000-01-11</th>\n",
       "      <td>-0.649603</td>\n",
       "      <td>3.161744</td>\n",
       "      <td>0.417760</td>\n",
       "      <td>-0.741891</td>\n",
       "    </tr>\n",
       "    <tr>\n",
       "      <th>2000-01-12</th>\n",
       "      <td>0.245683</td>\n",
       "      <td>0.327590</td>\n",
       "      <td>-1.398279</td>\n",
       "      <td>-0.229521</td>\n",
       "    </tr>\n",
       "  </tbody>\n",
       "</table>\n",
       "</div>"
      ],
      "text/plain": [
       "            Colorado     Texas  New York      Ohio\n",
       "2000-01-05 -0.649603  3.161744  0.417760 -0.741891\n",
       "2000-01-06 -0.649603  3.161744  0.417760 -0.741891\n",
       "2000-01-07 -0.649603  3.161744  0.417760 -0.741891\n",
       "2000-01-08 -0.649603  3.161744  0.417760 -0.741891\n",
       "2000-01-09 -0.649603  3.161744  0.417760 -0.741891\n",
       "2000-01-10 -0.649603  3.161744  0.417760 -0.741891\n",
       "2000-01-11 -0.649603  3.161744  0.417760 -0.741891\n",
       "2000-01-12  0.245683  0.327590 -1.398279 -0.229521"
      ]
     },
     "execution_count": 265,
     "metadata": {},
     "output_type": "execute_result"
    }
   ],
   "source": [
    "df_daily = frame.resample('D').ffill()\n",
    "df_daily"
   ]
  },
  {
   "cell_type": "code",
   "execution_count": 268,
   "id": "58c400df",
   "metadata": {},
   "outputs": [
    {
     "data": {
      "text/html": [
       "<div>\n",
       "<style scoped>\n",
       "    .dataframe tbody tr th:only-of-type {\n",
       "        vertical-align: middle;\n",
       "    }\n",
       "\n",
       "    .dataframe tbody tr th {\n",
       "        vertical-align: top;\n",
       "    }\n",
       "\n",
       "    .dataframe thead th {\n",
       "        text-align: right;\n",
       "    }\n",
       "</style>\n",
       "<table border=\"1\" class=\"dataframe\">\n",
       "  <thead>\n",
       "    <tr style=\"text-align: right;\">\n",
       "      <th></th>\n",
       "      <th>Colorado</th>\n",
       "      <th>Texas</th>\n",
       "      <th>New York</th>\n",
       "      <th>Ohio</th>\n",
       "    </tr>\n",
       "  </thead>\n",
       "  <tbody>\n",
       "    <tr>\n",
       "      <th>2000-01-05</th>\n",
       "      <td>-0.649603</td>\n",
       "      <td>3.161744</td>\n",
       "      <td>0.417760</td>\n",
       "      <td>-0.741891</td>\n",
       "    </tr>\n",
       "    <tr>\n",
       "      <th>2000-01-06</th>\n",
       "      <td>-0.649603</td>\n",
       "      <td>3.161744</td>\n",
       "      <td>0.417760</td>\n",
       "      <td>-0.741891</td>\n",
       "    </tr>\n",
       "    <tr>\n",
       "      <th>2000-01-07</th>\n",
       "      <td>-0.649603</td>\n",
       "      <td>3.161744</td>\n",
       "      <td>0.417760</td>\n",
       "      <td>-0.741891</td>\n",
       "    </tr>\n",
       "    <tr>\n",
       "      <th>2000-01-08</th>\n",
       "      <td>NaN</td>\n",
       "      <td>NaN</td>\n",
       "      <td>NaN</td>\n",
       "      <td>NaN</td>\n",
       "    </tr>\n",
       "    <tr>\n",
       "      <th>2000-01-09</th>\n",
       "      <td>NaN</td>\n",
       "      <td>NaN</td>\n",
       "      <td>NaN</td>\n",
       "      <td>NaN</td>\n",
       "    </tr>\n",
       "    <tr>\n",
       "      <th>2000-01-10</th>\n",
       "      <td>NaN</td>\n",
       "      <td>NaN</td>\n",
       "      <td>NaN</td>\n",
       "      <td>NaN</td>\n",
       "    </tr>\n",
       "    <tr>\n",
       "      <th>2000-01-11</th>\n",
       "      <td>NaN</td>\n",
       "      <td>NaN</td>\n",
       "      <td>NaN</td>\n",
       "      <td>NaN</td>\n",
       "    </tr>\n",
       "    <tr>\n",
       "      <th>2000-01-12</th>\n",
       "      <td>0.245683</td>\n",
       "      <td>0.327590</td>\n",
       "      <td>-1.398279</td>\n",
       "      <td>-0.229521</td>\n",
       "    </tr>\n",
       "  </tbody>\n",
       "</table>\n",
       "</div>"
      ],
      "text/plain": [
       "            Colorado     Texas  New York      Ohio\n",
       "2000-01-05 -0.649603  3.161744  0.417760 -0.741891\n",
       "2000-01-06 -0.649603  3.161744  0.417760 -0.741891\n",
       "2000-01-07 -0.649603  3.161744  0.417760 -0.741891\n",
       "2000-01-08       NaN       NaN       NaN       NaN\n",
       "2000-01-09       NaN       NaN       NaN       NaN\n",
       "2000-01-10       NaN       NaN       NaN       NaN\n",
       "2000-01-11       NaN       NaN       NaN       NaN\n",
       "2000-01-12  0.245683  0.327590 -1.398279 -0.229521"
      ]
     },
     "execution_count": 268,
     "metadata": {},
     "output_type": "execute_result"
    }
   ],
   "source": [
    "df_daily = frame.resample('D').ffill(limit=2)\n",
    "df_daily"
   ]
  }
 ],
 "metadata": {
  "kernelspec": {
   "display_name": "Python 3",
   "language": "python",
   "name": "python3"
  },
  "language_info": {
   "codemirror_mode": {
    "name": "ipython",
    "version": 3
   },
   "file_extension": ".py",
   "mimetype": "text/x-python",
   "name": "python",
   "nbconvert_exporter": "python",
   "pygments_lexer": "ipython3",
   "version": "3.8.16"
  }
 },
 "nbformat": 4,
 "nbformat_minor": 5
}
