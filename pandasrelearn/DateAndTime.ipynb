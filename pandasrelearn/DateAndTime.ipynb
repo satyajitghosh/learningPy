{
 "cells": [
  {
   "cell_type": "code",
   "execution_count": 79,
   "id": "fe361c6f",
   "metadata": {},
   "outputs": [],
   "source": [
    "# Main modules\n",
    "# datetime,time,calendar"
   ]
  },
  {
   "cell_type": "code",
   "execution_count": 80,
   "id": "07ff054f",
   "metadata": {},
   "outputs": [
    {
     "data": {
      "text/plain": [
       "datetime.datetime(2023, 8, 1, 0, 27, 4, 574672)"
      ]
     },
     "execution_count": 80,
     "metadata": {},
     "output_type": "execute_result"
    }
   ],
   "source": [
    "import pandas as pd\n",
    "import numpy as np\n",
    "from datetime import datetime,timedelta\n",
    "datetime.now()\n",
    "# this yields an object of type datetime.date that stores the time upto microsecond."
   ]
  },
  {
   "cell_type": "code",
   "execution_count": 81,
   "id": "dededf57",
   "metadata": {},
   "outputs": [
    {
     "name": "stdout",
     "output_type": "stream",
     "text": [
      "2023-08-01\n",
      "2023\n",
      "8\n",
      "1\n"
     ]
    }
   ],
   "source": [
    "# note that for date we have to call a function date(), but the day , month and year are attributes of the object.\n",
    "print(datetime.now().date())\n",
    "print(datetime.now().year)\n",
    "print(datetime.now().month)\n",
    "print(datetime.now().day)"
   ]
  },
  {
   "cell_type": "code",
   "execution_count": 82,
   "id": "4e1a022d",
   "metadata": {},
   "outputs": [
    {
     "name": "stdout",
     "output_type": "stream",
     "text": [
      "<class 'datetime.datetime'>\n"
     ]
    }
   ],
   "source": [
    "print(type(datetime.now()))"
   ]
  },
  {
   "cell_type": "code",
   "execution_count": 83,
   "id": "efcebcd1",
   "metadata": {},
   "outputs": [
    {
     "name": "stdout",
     "output_type": "stream",
     "text": [
      "<class 'datetime.timedelta'>\n",
      "926 days, 15:45:00\n",
      "926\n",
      "56700\n",
      "<built-in method total_seconds of datetime.timedelta object at 0x000001E1FC208690>\n",
      "['__abs__', '__add__', '__bool__', '__class__', '__delattr__', '__dir__', '__divmod__', '__doc__', '__eq__', '__floordiv__', '__format__', '__ge__', '__getattribute__', '__gt__', '__hash__', '__init__', '__init_subclass__', '__le__', '__lt__', '__mod__', '__mul__', '__ne__', '__neg__', '__new__', '__pos__', '__radd__', '__rdivmod__', '__reduce__', '__reduce_ex__', '__repr__', '__rfloordiv__', '__rmod__', '__rmul__', '__rsub__', '__rtruediv__', '__setattr__', '__sizeof__', '__str__', '__sub__', '__subclasshook__', '__truediv__', 'days', 'max', 'microseconds', 'min', 'resolution', 'seconds', 'total_seconds']\n"
     ]
    }
   ],
   "source": [
    "delta = datetime(2011, 1, 7) - datetime(2008, 6, 24, 8, 15)\n",
    "print(type(delta))\n",
    "print(delta)\n",
    "print(delta.days)\n",
    "print(delta.seconds)\n",
    "print(delta.total_seconds)\n",
    "print(dir(delta))"
   ]
  },
  {
   "cell_type": "code",
   "execution_count": 84,
   "id": "3e2ed77f",
   "metadata": {},
   "outputs": [
    {
     "name": "stdout",
     "output_type": "stream",
     "text": [
      "2008-06-05 08:15:00\n",
      "2008-06-15 08:15:00\n"
     ]
    }
   ],
   "source": [
    "## adding 10 days\n",
    "print(datetime(2008, 6, 5, 8, 15))\n",
    "print(datetime(2008, 6, 5, 8, 15) + timedelta(days=10))"
   ]
  },
  {
   "cell_type": "code",
   "execution_count": 85,
   "id": "7e1925df",
   "metadata": {},
   "outputs": [
    {
     "name": "stdout",
     "output_type": "stream",
     "text": [
      "2008-06-05 08:15:00\n",
      "2008-06-05 18:15:00\n",
      "2008-06-05 08:25:00\n"
     ]
    }
   ],
   "source": [
    "## timedelta takes the following arguments\n",
    "## days, seconds, minutes, hours, weeks, milliseconds, and microseconds\n",
    "print(datetime(2008, 6, 5, 8, 15))\n",
    "print(datetime(2008, 6, 5, 8, 15) + timedelta(hours=10))\n",
    "print(datetime(2008, 6, 5, 8, 15) + timedelta(minutes=10))"
   ]
  },
  {
   "cell_type": "code",
   "execution_count": 86,
   "id": "d5d5682e",
   "metadata": {},
   "outputs": [
    {
     "name": "stdout",
     "output_type": "stream",
     "text": [
      "<class 'datetime.datetime'>\n",
      "2011-01-03 00:00:00\n",
      "2011-01-03\n",
      "<class 'str'>\n"
     ]
    }
   ],
   "source": [
    "# Conversion between string and time\n",
    "stamp = datetime(2011, 1, 3)\n",
    "print(type(stamp))\n",
    "print(stamp)\n",
    "print(stamp.strftime('%Y-%m-%d')) # converts from datetime to string in the given format\n",
    "print(type(stamp.strftime('%Y-%m-%d')))"
   ]
  },
  {
   "cell_type": "code",
   "execution_count": 87,
   "id": "fc009de4",
   "metadata": {},
   "outputs": [
    {
     "name": "stdout",
     "output_type": "stream",
     "text": [
      "2011-01-03 00:00:00\n"
     ]
    }
   ],
   "source": [
    "stamp = datetime(2011, 1, 3)\n",
    "print(str(stamp))"
   ]
  },
  {
   "cell_type": "code",
   "execution_count": 88,
   "id": "3d1fec06",
   "metadata": {},
   "outputs": [
    {
     "name": "stdout",
     "output_type": "stream",
     "text": [
      "2011-01-03 00:00:00\n",
      "<class 'datetime.datetime'>\n",
      "2011-01-03\n",
      "<class 'datetime.date'>\n"
     ]
    }
   ],
   "source": [
    "# To convert strings to dates, we use the strptime() functions.\n",
    "value = '2011-01-03'\n",
    "print(datetime.strptime(value, '%Y-%m-%d'))\n",
    "print(type(datetime.strptime(value, '%Y-%m-%d')))\n",
    "print(datetime.strptime(value, '%Y-%m-%d').date())\n",
    "print(type(datetime.strptime(value, '%Y-%m-%d').date()))"
   ]
  },
  {
   "cell_type": "code",
   "execution_count": 89,
   "id": "e6c833f9",
   "metadata": {},
   "outputs": [
    {
     "name": "stdout",
     "output_type": "stream",
     "text": [
      "2011-01-03 00:00:00\n",
      "1997-01-31 22:45:00\n",
      "2011-12-06 00:00:00\n"
     ]
    }
   ],
   "source": [
    "# strptime is useful, but it will be undeniably annoying to write the exact format string every time.\n",
    "# therefore we have dateutils.parser\n",
    "from dateutil.parser import parse\n",
    "print(parse('2011-01-03'))\n",
    "print(parse('Jan 31, 1997 10:45 PM'))\n",
    "print(parse('6/12/2011', dayfirst=True))"
   ]
  },
  {
   "cell_type": "code",
   "execution_count": 90,
   "id": "3c71a4a1",
   "metadata": {},
   "outputs": [],
   "source": [
    "# pandas is generally oriented toward working with arrays of dates, whether used as an\n",
    "# axis index or a column in a DataFrame. The to_datetime method parses many different\n",
    "# kinds of date representations."
   ]
  },
  {
   "cell_type": "code",
   "execution_count": 91,
   "id": "a7ccf46b",
   "metadata": {},
   "outputs": [
    {
     "data": {
      "text/plain": [
       "DatetimeIndex(['2011-07-06', '2011-08-06'], dtype='datetime64[ns]', freq=None)"
      ]
     },
     "execution_count": 91,
     "metadata": {},
     "output_type": "execute_result"
    }
   ],
   "source": [
    "datestrs = ['7/6/2011', '8/6/2011']\n",
    "pd.to_datetime(datestrs)"
   ]
  },
  {
   "cell_type": "code",
   "execution_count": 92,
   "id": "eeb8742b",
   "metadata": {},
   "outputs": [
    {
     "data": {
      "text/plain": [
       "DatetimeIndex(['2011-07-06', '2011-08-06', 'NaT'], dtype='datetime64[ns]', freq=None)"
      ]
     },
     "execution_count": 92,
     "metadata": {},
     "output_type": "execute_result"
    }
   ],
   "source": [
    "#None is conerted to NaT - Not a time\n",
    "datestrs = ['7/6/2011', '8/6/2011', None]\n",
    "xx = pd.to_datetime(datestrs)\n",
    "xx"
   ]
  },
  {
   "cell_type": "code",
   "execution_count": 93,
   "id": "27dd2e27",
   "metadata": {},
   "outputs": [
    {
     "data": {
      "text/plain": [
       "array([False, False,  True], dtype=bool)"
      ]
     },
     "execution_count": 93,
     "metadata": {},
     "output_type": "execute_result"
    }
   ],
   "source": [
    "xx.isnull()"
   ]
  },
  {
   "cell_type": "code",
   "execution_count": 94,
   "id": "d1c5489f",
   "metadata": {},
   "outputs": [],
   "source": [
    "#The most basic kind of time series object in pandas is a Series indexed by timestamps,\n",
    "#which is often represented external to pandas as Python strings or datetime objects:"
   ]
  },
  {
   "cell_type": "code",
   "execution_count": 96,
   "id": "d13b5b5d",
   "metadata": {},
   "outputs": [
    {
     "data": {
      "text/plain": [
       "2011-01-02   -1.810458\n",
       "2011-01-05   -0.162996\n",
       "2011-01-07    1.855821\n",
       "2011-01-08    0.068296\n",
       "2011-01-10    0.882927\n",
       "2011-01-12   -1.414050\n",
       "dtype: float64"
      ]
     },
     "execution_count": 96,
     "metadata": {},
     "output_type": "execute_result"
    }
   ],
   "source": [
    "dates = [datetime(2011, 1, 2), datetime(2011, 1, 5), datetime(2011, 1, 7),\n",
    "         datetime(2011, 1, 8), datetime(2011, 1, 10), datetime(2011, 1, 12)]\n",
    "ts = pd.Series(np.random.randn(6), index=dates)\n",
    "ts"
   ]
  },
  {
   "cell_type": "code",
   "execution_count": 97,
   "id": "379ca17b",
   "metadata": {},
   "outputs": [
    {
     "name": "stdout",
     "output_type": "stream",
     "text": [
      "<class 'pandas.core.series.Series'>\n"
     ]
    }
   ],
   "source": [
    "#Under the hood, these datetime objects have been put in a DatetimeIndex, and the\n",
    "#variable ts is now of type TimeSeries\n",
    "print(type(ts))"
   ]
  },
  {
   "cell_type": "code",
   "execution_count": 98,
   "id": "e498a118",
   "metadata": {},
   "outputs": [
    {
     "data": {
      "text/plain": [
       "2011-01-02   -1.810458\n",
       "2011-01-05   -0.162996\n",
       "2011-01-07    1.855821\n",
       "2011-01-08    0.068296\n",
       "2011-01-10    0.882927\n",
       "2011-01-12   -1.414050\n",
       "dtype: float64"
      ]
     },
     "execution_count": 98,
     "metadata": {},
     "output_type": "execute_result"
    }
   ],
   "source": [
    "ts"
   ]
  },
  {
   "cell_type": "code",
   "execution_count": 100,
   "id": "237357c1",
   "metadata": {},
   "outputs": [
    {
     "data": {
      "text/plain": [
       "2011-01-02   -1.810458\n",
       "2011-01-07    1.855821\n",
       "2011-01-10    0.882927\n",
       "dtype: float64"
      ]
     },
     "execution_count": 100,
     "metadata": {},
     "output_type": "execute_result"
    }
   ],
   "source": [
    "ts[::2]"
   ]
  },
  {
   "cell_type": "code",
   "execution_count": 101,
   "id": "b1be8821",
   "metadata": {},
   "outputs": [
    {
     "data": {
      "text/plain": [
       "2011-01-02   -3.620916\n",
       "2011-01-05         NaN\n",
       "2011-01-07    3.711643\n",
       "2011-01-08         NaN\n",
       "2011-01-10    1.765854\n",
       "2011-01-12         NaN\n",
       "dtype: float64"
      ]
     },
     "execution_count": 101,
     "metadata": {},
     "output_type": "execute_result"
    }
   ],
   "source": [
    "ts + ts[::2]"
   ]
  },
  {
   "cell_type": "code",
   "execution_count": 102,
   "id": "40edf074",
   "metadata": {},
   "outputs": [
    {
     "data": {
      "text/plain": [
       "dtype('<M8[ns]')"
      ]
     },
     "execution_count": 102,
     "metadata": {},
     "output_type": "execute_result"
    }
   ],
   "source": [
    "ts.index.dtype"
   ]
  },
  {
   "cell_type": "code",
   "execution_count": 103,
   "id": "e2e66d0b",
   "metadata": {},
   "outputs": [
    {
     "data": {
      "text/plain": [
       "pandas.core.indexes.datetimes.DatetimeIndex"
      ]
     },
     "execution_count": 103,
     "metadata": {},
     "output_type": "execute_result"
    }
   ],
   "source": [
    "type(ts.index)"
   ]
  },
  {
   "cell_type": "code",
   "execution_count": 104,
   "id": "8da0401a",
   "metadata": {},
   "outputs": [],
   "source": [
    "#Indexing, Selection, Subsetting\n",
    "#TimeSeries is a subclass of Series and thus behaves in the same way with regard to\n",
    "#indexing and selecting data based on label:"
   ]
  },
  {
   "cell_type": "code",
   "execution_count": 105,
   "id": "bf825b7c",
   "metadata": {},
   "outputs": [
    {
     "data": {
      "text/plain": [
       "1.8558214857689199"
      ]
     },
     "execution_count": 105,
     "metadata": {},
     "output_type": "execute_result"
    }
   ],
   "source": [
    "stamp = ts.index[2]\n",
    "ts[stamp]"
   ]
  },
  {
   "cell_type": "code",
   "execution_count": 107,
   "id": "8df3bfd9",
   "metadata": {},
   "outputs": [
    {
     "data": {
      "text/plain": [
       "2000-01-01    0.691350\n",
       "2000-01-02   -1.957556\n",
       "2000-01-03   -1.263478\n",
       "2000-01-04   -0.348497\n",
       "2000-01-05    0.691495\n",
       "                ...   \n",
       "2002-09-22    0.238083\n",
       "2002-09-23   -0.753457\n",
       "2002-09-24   -0.661316\n",
       "2002-09-25    0.121378\n",
       "2002-09-26    0.489679\n",
       "Freq: D, Length: 1000, dtype: float64"
      ]
     },
     "execution_count": 107,
     "metadata": {},
     "output_type": "execute_result"
    }
   ],
   "source": [
    "longer_ts = pd.Series(np.random.randn(1000),index=pd.date_range('1/1/2000', periods=1000))\n",
    "longer_ts"
   ]
  },
  {
   "cell_type": "code",
   "execution_count": 108,
   "id": "910e7b2f",
   "metadata": {},
   "outputs": [
    {
     "data": {
      "text/plain": [
       "2001-01-01    0.842757\n",
       "2001-01-02    0.576411\n",
       "2001-01-03   -0.115728\n",
       "2001-01-04   -0.122528\n",
       "2001-01-05    0.035114\n",
       "                ...   \n",
       "2001-12-27   -0.202316\n",
       "2001-12-28   -0.651019\n",
       "2001-12-29   -0.341205\n",
       "2001-12-30   -0.076366\n",
       "2001-12-31   -0.915568\n",
       "Freq: D, Length: 365, dtype: float64"
      ]
     },
     "execution_count": 108,
     "metadata": {},
     "output_type": "execute_result"
    }
   ],
   "source": [
    "longer_ts['2001']"
   ]
  },
  {
   "cell_type": "code",
   "execution_count": 110,
   "id": "702e9b09",
   "metadata": {},
   "outputs": [
    {
     "data": {
      "text/plain": [
       "31"
      ]
     },
     "execution_count": 110,
     "metadata": {},
     "output_type": "execute_result"
    }
   ],
   "source": [
    "len(longer_ts['2001-05'])"
   ]
  },
  {
   "cell_type": "code",
   "execution_count": 111,
   "id": "e7c2b546",
   "metadata": {},
   "outputs": [
    {
     "data": {
      "text/plain": [
       "2011-01-07    1.855821\n",
       "2011-01-08    0.068296\n",
       "2011-01-10    0.882927\n",
       "2011-01-12   -1.414050\n",
       "dtype: float64"
      ]
     },
     "execution_count": 111,
     "metadata": {},
     "output_type": "execute_result"
    }
   ],
   "source": [
    "ts[datetime(2011, 1, 7):]"
   ]
  },
  {
   "cell_type": "code",
   "execution_count": 112,
   "id": "de59474d",
   "metadata": {},
   "outputs": [
    {
     "data": {
      "text/plain": [
       "2011-01-07    1.855821\n",
       "2011-01-08    0.068296\n",
       "2011-01-10    0.882927\n",
       "dtype: float64"
      ]
     },
     "execution_count": 112,
     "metadata": {},
     "output_type": "execute_result"
    }
   ],
   "source": [
    "ts['1/6/2011':'1/11/2011']"
   ]
  },
  {
   "cell_type": "code",
   "execution_count": 114,
   "id": "e0dd6af1",
   "metadata": {},
   "outputs": [
    {
     "data": {
      "text/plain": [
       "2011-01-02   -1.810458\n",
       "2011-01-05   -0.162996\n",
       "2011-01-07    1.855821\n",
       "2011-01-08    0.068296\n",
       "2011-01-10    0.882927\n",
       "2011-01-12   -1.414050\n",
       "dtype: float64"
      ]
     },
     "execution_count": 114,
     "metadata": {},
     "output_type": "execute_result"
    }
   ],
   "source": [
    "#Date Ranges, Frequencies, and Shifting\n",
    "#Generic time series in pandas are assumed to be irregular; that is, they have no fixed\n",
    "#frequency. For many applications this is sufficient. However, it’s often desirable to work\n",
    "#relative to a fixed frequency, such as daily, monthly, or every 15 minutes, even if that\n",
    "#means introducing missing values into a time series. Fortunately pandas has a full suite\n",
    "#of standard time series frequencies and tools for resampling, inferring frequencies, and\n",
    "#generating fixed frequency date ranges. For example, in the example time series, converting\n",
    "#it to be fixed daily frequency can be accomplished by calling resample\n",
    "ts"
   ]
  },
  {
   "cell_type": "code",
   "execution_count": 118,
   "id": "4f4eaab6",
   "metadata": {},
   "outputs": [
    {
     "data": {
      "text/plain": [
       "<pandas.core.resample.DatetimeIndexResampler object at 0x000001E1FC29F730>"
      ]
     },
     "execution_count": 118,
     "metadata": {},
     "output_type": "execute_result"
    }
   ],
   "source": [
    "ts.resample('D')"
   ]
  },
  {
   "cell_type": "code",
   "execution_count": 119,
   "id": "baa9ff06",
   "metadata": {},
   "outputs": [
    {
     "data": {
      "text/plain": [
       "2000-01-01 00:00:00    0\n",
       "2000-01-01 00:01:00    1\n",
       "2000-01-01 00:02:00    2\n",
       "2000-01-01 00:03:00    3\n",
       "2000-01-01 00:04:00    4\n",
       "2000-01-01 00:05:00    5\n",
       "2000-01-01 00:06:00    6\n",
       "2000-01-01 00:07:00    7\n",
       "2000-01-01 00:08:00    8\n",
       "Freq: T, dtype: int64"
      ]
     },
     "execution_count": 119,
     "metadata": {},
     "output_type": "execute_result"
    }
   ],
   "source": [
    "index = pd.date_range('1/1/2000', periods=9, freq='T')\n",
    "series = pd.Series(range(9), index=index)\n",
    "series"
   ]
  },
  {
   "cell_type": "code",
   "execution_count": 120,
   "id": "17ee7346",
   "metadata": {},
   "outputs": [
    {
     "data": {
      "text/plain": [
       "2000-01-01 00:00:00     3\n",
       "2000-01-01 00:03:00    12\n",
       "2000-01-01 00:06:00    21\n",
       "Freq: 3T, dtype: int64"
      ]
     },
     "execution_count": 120,
     "metadata": {},
     "output_type": "execute_result"
    }
   ],
   "source": [
    "series.resample('3T').sum()"
   ]
  },
  {
   "cell_type": "code",
   "execution_count": 122,
   "id": "89f96693",
   "metadata": {},
   "outputs": [
    {
     "data": {
      "text/plain": [
       "2000-01-01 00:00:00    0.0\n",
       "2000-01-01 00:00:30    NaN\n",
       "2000-01-01 00:01:00    1.0\n",
       "2000-01-01 00:01:30    NaN\n",
       "2000-01-01 00:02:00    2.0\n",
       "2000-01-01 00:02:30    NaN\n",
       "2000-01-01 00:03:00    3.0\n",
       "2000-01-01 00:03:30    NaN\n",
       "2000-01-01 00:04:00    4.0\n",
       "2000-01-01 00:04:30    NaN\n",
       "2000-01-01 00:05:00    5.0\n",
       "2000-01-01 00:05:30    NaN\n",
       "2000-01-01 00:06:00    6.0\n",
       "2000-01-01 00:06:30    NaN\n",
       "2000-01-01 00:07:00    7.0\n",
       "2000-01-01 00:07:30    NaN\n",
       "2000-01-01 00:08:00    8.0\n",
       "Freq: 30S, dtype: float64"
      ]
     },
     "execution_count": 122,
     "metadata": {},
     "output_type": "execute_result"
    }
   ],
   "source": [
    "series.resample('30S').asfreq()"
   ]
  },
  {
   "cell_type": "code",
   "execution_count": 123,
   "id": "9bed47d1",
   "metadata": {},
   "outputs": [
    {
     "data": {
      "text/plain": [
       "DatetimeIndex(['2012-04-01', '2012-04-02', '2012-04-03', '2012-04-04',\n",
       "               '2012-04-05', '2012-04-06', '2012-04-07', '2012-04-08',\n",
       "               '2012-04-09', '2012-04-10', '2012-04-11', '2012-04-12',\n",
       "               '2012-04-13', '2012-04-14', '2012-04-15', '2012-04-16',\n",
       "               '2012-04-17', '2012-04-18', '2012-04-19', '2012-04-20',\n",
       "               '2012-04-21', '2012-04-22', '2012-04-23', '2012-04-24',\n",
       "               '2012-04-25', '2012-04-26', '2012-04-27', '2012-04-28',\n",
       "               '2012-04-29', '2012-04-30', '2012-05-01', '2012-05-02',\n",
       "               '2012-05-03', '2012-05-04', '2012-05-05', '2012-05-06',\n",
       "               '2012-05-07', '2012-05-08', '2012-05-09', '2012-05-10',\n",
       "               '2012-05-11', '2012-05-12', '2012-05-13', '2012-05-14',\n",
       "               '2012-05-15', '2012-05-16', '2012-05-17', '2012-05-18',\n",
       "               '2012-05-19', '2012-05-20', '2012-05-21', '2012-05-22',\n",
       "               '2012-05-23', '2012-05-24', '2012-05-25', '2012-05-26',\n",
       "               '2012-05-27', '2012-05-28', '2012-05-29', '2012-05-30',\n",
       "               '2012-05-31', '2012-06-01'],\n",
       "              dtype='datetime64[ns]', freq='D')"
      ]
     },
     "execution_count": 123,
     "metadata": {},
     "output_type": "execute_result"
    }
   ],
   "source": [
    "index = pd.date_range('4/1/2012', '6/1/2012')\n",
    "index"
   ]
  },
  {
   "cell_type": "code",
   "execution_count": 124,
   "id": "1f8a25fe",
   "metadata": {},
   "outputs": [
    {
     "data": {
      "text/plain": [
       "DatetimeIndex(['2012-04-01', '2012-04-02', '2012-04-03', '2012-04-04',\n",
       "               '2012-04-05', '2012-04-06', '2012-04-07', '2012-04-08',\n",
       "               '2012-04-09', '2012-04-10', '2012-04-11', '2012-04-12',\n",
       "               '2012-04-13', '2012-04-14', '2012-04-15', '2012-04-16',\n",
       "               '2012-04-17', '2012-04-18', '2012-04-19', '2012-04-20'],\n",
       "              dtype='datetime64[ns]', freq='D')"
      ]
     },
     "execution_count": 124,
     "metadata": {},
     "output_type": "execute_result"
    }
   ],
   "source": [
    "pd.date_range(start='4/1/2012', periods=20)"
   ]
  },
  {
   "cell_type": "code",
   "execution_count": 125,
   "id": "edfc5df5",
   "metadata": {},
   "outputs": [
    {
     "data": {
      "text/plain": [
       "DatetimeIndex(['2012-05-13', '2012-05-14', '2012-05-15', '2012-05-16',\n",
       "               '2012-05-17', '2012-05-18', '2012-05-19', '2012-05-20',\n",
       "               '2012-05-21', '2012-05-22', '2012-05-23', '2012-05-24',\n",
       "               '2012-05-25', '2012-05-26', '2012-05-27', '2012-05-28',\n",
       "               '2012-05-29', '2012-05-30', '2012-05-31', '2012-06-01'],\n",
       "              dtype='datetime64[ns]', freq='D')"
      ]
     },
     "execution_count": 125,
     "metadata": {},
     "output_type": "execute_result"
    }
   ],
   "source": [
    "pd.date_range(end='6/1/2012', periods=20)"
   ]
  },
  {
   "cell_type": "code",
   "execution_count": 126,
   "id": "25b43a60",
   "metadata": {},
   "outputs": [
    {
     "data": {
      "text/plain": [
       "DatetimeIndex(['2000-01-31', '2000-02-29', '2000-03-31', '2000-04-28',\n",
       "               '2000-05-31', '2000-06-30', '2000-07-31', '2000-08-31',\n",
       "               '2000-09-29', '2000-10-31', '2000-11-30'],\n",
       "              dtype='datetime64[ns]', freq='BM')"
      ]
     },
     "execution_count": 126,
     "metadata": {},
     "output_type": "execute_result"
    }
   ],
   "source": [
    "pd.date_range('1/1/2000', '12/1/2000', freq='BM')"
   ]
  },
  {
   "cell_type": "code",
   "execution_count": 127,
   "id": "cc69a330",
   "metadata": {},
   "outputs": [
    {
     "data": {
      "text/plain": [
       "DatetimeIndex(['2012-05-02 12:56:31', '2012-05-03 12:56:31',\n",
       "               '2012-05-04 12:56:31', '2012-05-05 12:56:31',\n",
       "               '2012-05-06 12:56:31'],\n",
       "              dtype='datetime64[ns]', freq='D')"
      ]
     },
     "execution_count": 127,
     "metadata": {},
     "output_type": "execute_result"
    }
   ],
   "source": [
    "pd.date_range('5/2/2012 12:56:31', periods=5)"
   ]
  },
  {
   "cell_type": "code",
   "execution_count": 128,
   "id": "d7ed9979",
   "metadata": {},
   "outputs": [
    {
     "data": {
      "text/plain": [
       "DatetimeIndex(['2012-05-02', '2012-05-03', '2012-05-04', '2012-05-05',\n",
       "               '2012-05-06'],\n",
       "              dtype='datetime64[ns]', freq='D')"
      ]
     },
     "execution_count": 128,
     "metadata": {},
     "output_type": "execute_result"
    }
   ],
   "source": [
    "pd.date_range('5/2/2012 12:56:31', periods=5, normalize=True)"
   ]
  },
  {
   "cell_type": "code",
   "execution_count": 129,
   "id": "ef139c02",
   "metadata": {},
   "outputs": [
    {
     "data": {
      "text/plain": [
       "DatetimeIndex(['2000-01-01 00:00:00', '2000-01-01 04:00:00',\n",
       "               '2000-01-01 08:00:00', '2000-01-01 12:00:00',\n",
       "               '2000-01-01 16:00:00', '2000-01-01 20:00:00',\n",
       "               '2000-01-02 00:00:00', '2000-01-02 04:00:00',\n",
       "               '2000-01-02 08:00:00', '2000-01-02 12:00:00',\n",
       "               '2000-01-02 16:00:00', '2000-01-02 20:00:00',\n",
       "               '2000-01-03 00:00:00', '2000-01-03 04:00:00',\n",
       "               '2000-01-03 08:00:00', '2000-01-03 12:00:00',\n",
       "               '2000-01-03 16:00:00', '2000-01-03 20:00:00'],\n",
       "              dtype='datetime64[ns]', freq='4H')"
      ]
     },
     "execution_count": 129,
     "metadata": {},
     "output_type": "execute_result"
    }
   ],
   "source": [
    "pd.date_range('1/1/2000', '1/3/2000 23:59', freq='4h')"
   ]
  },
  {
   "cell_type": "code",
   "execution_count": 130,
   "id": "c97c1810",
   "metadata": {},
   "outputs": [
    {
     "data": {
      "text/plain": [
       "DatetimeIndex(['2000-01-01 00:00:00', '2000-01-01 01:30:00',\n",
       "               '2000-01-01 03:00:00', '2000-01-01 04:30:00',\n",
       "               '2000-01-01 06:00:00', '2000-01-01 07:30:00',\n",
       "               '2000-01-01 09:00:00', '2000-01-01 10:30:00',\n",
       "               '2000-01-01 12:00:00', '2000-01-01 13:30:00'],\n",
       "              dtype='datetime64[ns]', freq='90T')"
      ]
     },
     "execution_count": 130,
     "metadata": {},
     "output_type": "execute_result"
    }
   ],
   "source": [
    "pd.date_range('1/1/2000', periods=10, freq='1h30min')"
   ]
  },
  {
   "cell_type": "code",
   "execution_count": null,
   "id": "204be7fa",
   "metadata": {},
   "outputs": [],
   "source": []
  }
 ],
 "metadata": {
  "kernelspec": {
   "display_name": "Python 3",
   "language": "python",
   "name": "python3"
  },
  "language_info": {
   "codemirror_mode": {
    "name": "ipython",
    "version": 3
   },
   "file_extension": ".py",
   "mimetype": "text/x-python",
   "name": "python",
   "nbconvert_exporter": "python",
   "pygments_lexer": "ipython3",
   "version": "3.8.16"
  }
 },
 "nbformat": 4,
 "nbformat_minor": 5
}
