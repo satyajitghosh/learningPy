{
 "cells": [
  {
   "attachments": {},
   "cell_type": "markdown",
   "metadata": {},
   "source": [
    "### Kubernetes Tutorial"
   ]
  },
  {
   "attachments": {},
   "cell_type": "markdown",
   "metadata": {},
   "source": [
    "<img src='images/NodesAndPods.JPG' height=300 width=500>"
   ]
  },
  {
   "attachments": {},
   "cell_type": "markdown",
   "metadata": {},
   "source": [
    "Pod is an abstraction over the container. Probably arranged this way because, there could be different container technologies used - eg. docker. Pod provides an abstraction so that we need not worry about which tech is used for creating the container.\n",
    "\n",
    "Usually one container per pod."
   ]
  },
  {
   "attachments": {},
   "cell_type": "markdown",
   "metadata": {},
   "source": [
    "<img src='images/PodService.JPG' height=300 width=500>"
   ]
  },
  {
   "attachments": {},
   "cell_type": "markdown",
   "metadata": {},
   "source": [
    "Pods can communicate with each other using IP, but if a pod crashes it is restarted and receives a new IP, which is a problem because the IP addresses will have to be restated in the code.\n",
    "\n",
    "Better idea is to have aservice which sort of acts as a static pointer to the required pod. This probably works either by having a end point or static IP."
   ]
  },
  {
   "attachments": {},
   "cell_type": "markdown",
   "metadata": {},
   "source": [
    "<img src='images/ServiceIngress.JPG' height=300 width=500>"
   ]
  },
  {
   "attachments": {},
   "cell_type": "markdown",
   "metadata": {},
   "source": [
    "We might want to connect to ur ap from outside of the note, which requires the app pod's service to be external. This is managed by Ingress. External Request first reaches Ingress and is then forwared to the appropriate service. "
   ]
  },
  {
   "attachments": {},
   "cell_type": "markdown",
   "metadata": {},
   "source": [
    "<img src='images/ConfigMapAndSecret.JPG' height=300 width=500>"
   ]
  },
  {
   "attachments": {},
   "cell_type": "markdown",
   "metadata": {},
   "source": [
    "Configurations like ENV variables can be stored in a ConfigMap in the Node, to which the pods can refer to, otherwise these varibles will hae to be hardcoded inside the PODs, which means that to change something the relevant container's image will will have to be rebuilt and re-deployed.\n",
    "\n",
    "Secret also stores config data not in plain text but in base64 encoded format."
   ]
  },
  {
   "attachments": {},
   "cell_type": "markdown",
   "metadata": {},
   "source": [
    "<img src='images/DataVolumes.JPG' height=300 width=500>"
   ]
  },
  {
   "attachments": {},
   "cell_type": "markdown",
   "metadata": {},
   "source": [
    "When the DB container is restarted all the data in the pod will be lost, unless it is stored in a separete local or network drive that is mounted into the pod. That way,when the pod./container is restarted, the data still exists on the exernal storage."
   ]
  },
  {
   "attachments": {},
   "cell_type": "markdown",
   "metadata": {},
   "source": [
    "<img src='images/ServiceProp.JPG' height=300 width=500>"
   ]
  },
  {
   "attachments": {},
   "cell_type": "markdown",
   "metadata": {},
   "source": [
    "Note- Incase we want our pods have replicated, that is more than one instance of the pod running, the service not only acts as a static IP with a specified DNS, it also acts as a load balancer.\n",
    "\n",
    "We use something called Deployments in Kubernetes to specify how many pods of a given type we would like to have replicated."
   ]
  },
  {
   "attachments": {},
   "cell_type": "markdown",
   "metadata": {},
   "source": [
    "<img src='images/StateAndDeployment.JPG' height=300 width=500>"
   ]
  },
  {
   "attachments": {},
   "cell_type": "markdown",
   "metadata": {},
   "source": [
    "Stateless apps are deployed using the 'Deployment' feature.\n",
    "Stateful apps are deployed using 'StatefulSet' feature.\n",
    "\n",
    "A DB is an example of a stateful app. Why? If there are multiple instances of the DB app running, they are going to acces the same set of data, which means the transactions have to be managed. Multiple writes from different sources can not be allowed at the same time.\n",
    "\n",
    "StatefulSet ensures that DB writes are synchronised and that there are no inconsistencies."
   ]
  },
  {
   "attachments": {},
   "cell_type": "markdown",
   "metadata": {},
   "source": [
    "<img src='images/WorkerNode.JPG' height=300 width=500>"
   ]
  },
  {
   "attachments": {},
   "cell_type": "markdown",
   "metadata": {},
   "source": [
    "Tools that need to be present inside a worker node.\n",
    "\n",
    "Container-Runtime. \n",
    "\n",
    "* Eg. Docker. This is used to start/stop/work the container(s) in the pod(s).\n",
    "\n",
    "Kubelet \n",
    "\n",
    "* ineteracts with both the container and the node.\n",
    "* starts the pod with a container inside.\n",
    "* assigns resources (such as CPU/RAM) from the node to the pod.\n",
    "\n",
    "KubeProxy\n",
    "* Ensures that the request from one pod to another are efficiently managed from a performance standpoint.\n",
    "* Usually sends the request to the instance of the pod on thesame node,to reduce network overhead.\n"
   ]
  },
  {
   "attachments": {},
   "cell_type": "markdown",
   "metadata": {},
   "source": [
    "<img src='images/InteractWithWorkerNode.JPG' height=300 width=500>"
   ]
  },
  {
   "attachments": {},
   "cell_type": "markdown",
   "metadata": {},
   "source": [
    "<img src='images/MasterProcess.JPG' height=300 width=500>"
   ]
  },
  {
   "attachments": {},
   "cell_type": "markdown",
   "metadata": {},
   "source": [
    "Processes on Master Node.\n",
    "\n",
    "API Server \n",
    "* Acts as a cluster gateway. \n",
    "* Gets the initial request for any updates/querys into the cluster.\n",
    "* Responsible for authentication.\n",
    "* Request forwarded to other processes after validation.\n",
    "\n",
    "Scheduler\n",
    "* Request for creating a new pod is handled by scheduler, after the request has been validated by API server and forwarded to it.\n",
    "* Scheduler decides where to pod the pod, ie.which worker node will be suitable, based on CPU/Memory/other requirements.\n",
    "* Note that scheduler just decides which node the pod will be placed in. Actual scheduling of the pod is done by Kubelet of that particular node.\n",
    "\n",
    "Controller Manager\n",
    "* This monitors thehealth of the pods in various nodes. If a pod goes down, then it tries to recover the state of that pod and sends a request to scheduler to re-start a new pod. Scheduler then decides the node and sends the appropriate request to kubelet of that node.\n",
    "\n",
    "etcd\n",
    "* This is the cluster brain.\n",
    "* All information about the state of the pods across various nodes is stored in etcd.\n",
    "* Informtaion is stored in key-value format.\n",
    "* The informtaion stored here helps for example\n",
    "    * Controller manager to know if any pod has died.\n",
    "    * Scheduler now how much resources are available on a particular node.\n",
    "* If there are more than one master nodes, then etcd has distributed storage across master nodes.    \n",
    "* Note - Any application data is not stored in etcd.\n",
    "\n",
    "\n"
   ]
  },
  {
   "attachments": {},
   "cell_type": "markdown",
   "metadata": {},
   "source": []
  }
 ],
 "metadata": {
  "language_info": {
   "name": "python"
  },
  "orig_nbformat": 4
 },
 "nbformat": 4,
 "nbformat_minor": 2
}
